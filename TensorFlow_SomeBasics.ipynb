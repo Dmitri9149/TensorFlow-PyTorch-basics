{
  "nbformat": 4,
  "nbformat_minor": 0,
  "metadata": {
    "colab": {
      "name": "TensorFlow_SomeBasics.ipynb",
      "provenance": [],
      "collapsed_sections": [],
      "authorship_tag": "ABX9TyPReOKNq8qOb5XxOUO7MxxF",
      "include_colab_link": true
    },
    "kernelspec": {
      "name": "python3",
      "display_name": "Python 3"
    }
  },
  "cells": [
    {
      "cell_type": "markdown",
      "metadata": {
        "id": "view-in-github",
        "colab_type": "text"
      },
      "source": [
        "<a href=\"https://colab.research.google.com/github/Dmitri9149/TensorFlow-PyTorch-basics/blob/master/TensorFlow_SomeBasics.ipynb\" target=\"_parent\"><img src=\"https://colab.research.google.com/assets/colab-badge.svg\" alt=\"Open In Colab\"/></a>"
      ]
    },
    {
      "cell_type": "markdown",
      "metadata": {
        "id": "BUt0PSk965sp"
      },
      "source": [
        "The work is for Tensorflow lerning, it is based ob the https://www.tensorflow.org/tutorials/quickstart/beginner\n",
        "\n"
      ]
    },
    {
      "cell_type": "code",
      "metadata": {
        "id": "FWftFooH7LY_"
      },
      "source": [
        "import tensorflow as tf"
      ],
      "execution_count": 1,
      "outputs": []
    },
    {
      "cell_type": "code",
      "metadata": {
        "colab": {
          "base_uri": "https://localhost:8080/"
        },
        "id": "5pk-sfWT7uz_",
        "outputId": "5458faec-b272-437a-bdb7-0d741ee51903"
      },
      "source": [
        "mnist = tf.keras.datasets.mnist\n",
        "\n",
        "(x_train, y_train), (x_test, y_test) = mnist.load_data()\n",
        "x_train, x_test = x_train / 255.0, x_test / 255.0"
      ],
      "execution_count": 2,
      "outputs": [
        {
          "output_type": "stream",
          "text": [
            "Downloading data from https://storage.googleapis.com/tensorflow/tf-keras-datasets/mnist.npz\n",
            "11493376/11490434 [==============================] - 0s 0us/step\n"
          ],
          "name": "stdout"
        }
      ]
    },
    {
      "cell_type": "code",
      "metadata": {
        "colab": {
          "base_uri": "https://localhost:8080/"
        },
        "id": "l1deaEYo8ktN",
        "outputId": "8d017572-dc84-43e8-9e25-dd4cd6a220c4"
      },
      "source": [
        "x_train.shape"
      ],
      "execution_count": 3,
      "outputs": [
        {
          "output_type": "execute_result",
          "data": {
            "text/plain": [
              "(60000, 28, 28)"
            ]
          },
          "metadata": {
            "tags": []
          },
          "execution_count": 3
        }
      ]
    },
    {
      "cell_type": "code",
      "metadata": {
        "colab": {
          "base_uri": "https://localhost:8080/"
        },
        "id": "FdMp1i7z8sTd",
        "outputId": "aff92929-eccf-4152-de0a-cf8a3693010a"
      },
      "source": [
        "### the code return float satatype, the tupling is ignored ?\n",
        "x_train.dtype"
      ],
      "execution_count": 4,
      "outputs": [
        {
          "output_type": "execute_result",
          "data": {
            "text/plain": [
              "dtype('float64')"
            ]
          },
          "metadata": {
            "tags": []
          },
          "execution_count": 4
        }
      ]
    },
    {
      "cell_type": "code",
      "metadata": {
        "colab": {
          "base_uri": "https://localhost:8080/",
          "height": 70
        },
        "id": "_OjXo5Qj9EXu",
        "outputId": "4670c7f2-5562-4587-8bd5-6b9ce105a454"
      },
      "source": [
        "### yes, the code returns the error\n",
        "#(x_train, y_train).dtype\n",
        "'''\n",
        "---------------------------------------------------------------------------\n",
        "AttributeError                            Traceback (most recent call last)\n",
        "<ipython-input-6-654ba661b51d> in <module>()\n",
        "----> 1 (x_train, y_train).dtype\n",
        "\n",
        "AttributeError: 'tuple' object has no attribute 'dtype'\n",
        "'''\n",
        "\n"
      ],
      "execution_count": 5,
      "outputs": [
        {
          "output_type": "execute_result",
          "data": {
            "application/vnd.google.colaboratory.intrinsic+json": {
              "type": "string"
            },
            "text/plain": [
              "\"\\n---------------------------------------------------------------------------\\nAttributeError                            Traceback (most recent call last)\\n<ipython-input-6-654ba661b51d> in <module>()\\n----> 1 (x_train, y_train).dtype\\n\\nAttributeError: 'tuple' object has no attribute 'dtype'\\n\""
            ]
          },
          "metadata": {
            "tags": []
          },
          "execution_count": 5
        }
      ]
    },
    {
      "cell_type": "code",
      "metadata": {
        "id": "Pv4XAdfr9sL0"
      },
      "source": [
        "### Stacking layers, the model will return vector of 'logits'\n",
        "model = tf.keras.models.Sequential([\n",
        "### will transform 2D Tensor to 1D tensor  of size 28*28                              \n",
        "  tf.keras.layers.Flatten(input_shape=(28, 28)),\n",
        "  tf.keras.layers.Dense(128, activation='relu'),\n",
        "  tf.keras.layers.Dropout(0.2),\n",
        "  tf.keras.layers.Dense(10)\n",
        "])\n"
      ],
      "execution_count": 6,
      "outputs": []
    },
    {
      "cell_type": "code",
      "metadata": {
        "colab": {
          "base_uri": "https://localhost:8080/"
        },
        "id": "ajrZyvzf_nnq",
        "outputId": "f3faf751-2399-40be-80d6-b82bcab52c97"
      },
      "source": [
        "### get logits , be carefulll have to supply slices \n",
        "### predictions = model(x_train[0]).numpy() will not work \n",
        "predictions = model(x_train[:1]).numpy()\n",
        "predictions"
      ],
      "execution_count": 7,
      "outputs": [
        {
          "output_type": "execute_result",
          "data": {
            "text/plain": [
              "array([[ 0.46375996,  0.34251824,  0.37452003, -0.44380432,  0.23354006,\n",
              "        -0.14779092,  0.5893418 ,  0.55467516,  0.09166841,  0.45557582]],\n",
              "      dtype=float32)"
            ]
          },
          "metadata": {
            "tags": []
          },
          "execution_count": 7
        }
      ]
    },
    {
      "cell_type": "code",
      "metadata": {
        "colab": {
          "base_uri": "https://localhost:8080/"
        },
        "id": "Q2UKFy_D_5Qz",
        "outputId": "988a2a53-517f-4349-d560-862a0fb86c1a"
      },
      "source": [
        "x_train[:1].shape"
      ],
      "execution_count": 8,
      "outputs": [
        {
          "output_type": "execute_result",
          "data": {
            "text/plain": [
              "(1, 28, 28)"
            ]
          },
          "metadata": {
            "tags": []
          },
          "execution_count": 8
        }
      ]
    },
    {
      "cell_type": "code",
      "metadata": {
        "colab": {
          "base_uri": "https://localhost:8080/"
        },
        "id": "n0kRUvejEgLd",
        "outputId": "be3727c4-ab1c-4b8e-e89f-269bfcc245df"
      },
      "source": [
        "x_train[0].shape "
      ],
      "execution_count": 9,
      "outputs": [
        {
          "output_type": "execute_result",
          "data": {
            "text/plain": [
              "(28, 28)"
            ]
          },
          "metadata": {
            "tags": []
          },
          "execution_count": 9
        }
      ]
    },
    {
      "cell_type": "code",
      "metadata": {
        "colab": {
          "base_uri": "https://localhost:8080/"
        },
        "id": "khZ0EYXpEl31",
        "outputId": "83652166-b211-40b5-d66f-e72f1eddd7d9"
      },
      "source": [
        "a = [1, 2, 3]\n",
        "print(a[0], \" is not \", a[:1])"
      ],
      "execution_count": 10,
      "outputs": [
        {
          "output_type": "stream",
          "text": [
            "1  is not  [1]\n"
          ],
          "name": "stdout"
        }
      ]
    },
    {
      "cell_type": "code",
      "metadata": {
        "colab": {
          "base_uri": "https://localhost:8080/"
        },
        "id": "Mp6RjPG7Fo61",
        "outputId": "088b1010-7d79-4948-9252-a2f4add95d3f"
      },
      "source": [
        "### with .numpy()\n",
        "predictions = model(x_train[:1]).numpy()\n",
        "print(\"dtype = \",predictions.dtype)\n",
        "print(\"shape = \",predictions.shape)"
      ],
      "execution_count": 11,
      "outputs": [
        {
          "output_type": "stream",
          "text": [
            "dtype =  float32\n",
            "shape =  (1, 10)\n"
          ],
          "name": "stdout"
        }
      ]
    },
    {
      "cell_type": "code",
      "metadata": {
        "colab": {
          "base_uri": "https://localhost:8080/"
        },
        "id": "tLPPr2-DE5RU",
        "outputId": "b8a105fe-a2e0-4bcc-bef9-cba82b944e3e"
      },
      "source": [
        "### without .numpy()\n",
        "predictions_a = model(x_train[:1])\n",
        "print(\"dtype = \",predictions_a.dtype)\n",
        "print(\"shape = \",predictions_a.shape)"
      ],
      "execution_count": 12,
      "outputs": [
        {
          "output_type": "stream",
          "text": [
            "dtype =  <dtype: 'float32'>\n",
            "shape =  (1, 10)\n"
          ],
          "name": "stdout"
        }
      ]
    },
    {
      "cell_type": "code",
      "metadata": {
        "colab": {
          "base_uri": "https://localhost:8080/"
        },
        "id": "bSUFFhB7F-9r",
        "outputId": "a23ae982-8b27-4e7e-fcaf-295b2c38aee7"
      },
      "source": [
        "### convert the output from linear layers to 'probabilities'\n",
        "### take logits as input, return probabilities\n",
        "tf.nn.softmax(predictions).numpy()"
      ],
      "execution_count": 13,
      "outputs": [
        {
          "output_type": "execute_result",
          "data": {
            "text/plain": [
              "array([[0.11832996, 0.10481902, 0.10822768, 0.04774683, 0.09399646,\n",
              "        0.06419505, 0.13416345, 0.12959215, 0.08156379, 0.11736548]],\n",
              "      dtype=float32)"
            ]
          },
          "metadata": {
            "tags": []
          },
          "execution_count": 13
        }
      ]
    },
    {
      "cell_type": "code",
      "metadata": {
        "id": "6LniASYbG_fj"
      },
      "source": [
        "### construct loss function , \n",
        "### The losses.SparseCategoricalCrossentropy loss takes a vector of logits \n",
        "### and a True index and returns a scalar loss for each example.\n",
        "loss_fn = tf.keras.losses.SparseCategoricalCrossentropy(from_logits=True)"
      ],
      "execution_count": 14,
      "outputs": []
    },
    {
      "cell_type": "code",
      "metadata": {
        "colab": {
          "base_uri": "https://localhost:8080/"
        },
        "id": "dNql408-HK8R",
        "outputId": "8c7ea0bd-fead-4739-d473-7b3833eef255"
      },
      "source": [
        "y_train[:1].shape"
      ],
      "execution_count": 15,
      "outputs": [
        {
          "output_type": "execute_result",
          "data": {
            "text/plain": [
              "(1,)"
            ]
          },
          "metadata": {
            "tags": []
          },
          "execution_count": 15
        }
      ]
    },
    {
      "cell_type": "code",
      "metadata": {
        "colab": {
          "base_uri": "https://localhost:8080/"
        },
        "id": "pxUeeWnsHTrp",
        "outputId": "666b09ea-0009-4172-f784-2c98b9ac00a8"
      },
      "source": [
        "y_train[:1].dtype"
      ],
      "execution_count": 16,
      "outputs": [
        {
          "output_type": "execute_result",
          "data": {
            "text/plain": [
              "dtype('uint8')"
            ]
          },
          "metadata": {
            "tags": []
          },
          "execution_count": 16
        }
      ]
    },
    {
      "cell_type": "code",
      "metadata": {
        "colab": {
          "base_uri": "https://localhost:8080/"
        },
        "id": "1Eok-P6UHYYN",
        "outputId": "a75568a6-6dd7-4c99-cf3f-43038697792e"
      },
      "source": [
        "### estimate the loss for the first example, untrained model\n",
        "### without .numpy returns just a Tensor wrapper\n",
        "loss_fn(y_train[:1], predictions)"
      ],
      "execution_count": 17,
      "outputs": [
        {
          "output_type": "execute_result",
          "data": {
            "text/plain": [
              "<tf.Tensor: shape=(), dtype=float32, numpy=2.745829>"
            ]
          },
          "metadata": {
            "tags": []
          },
          "execution_count": 17
        }
      ]
    },
    {
      "cell_type": "code",
      "metadata": {
        "colab": {
          "base_uri": "https://localhost:8080/"
        },
        "id": "D9HuZzLOHyPa",
        "outputId": "816abd01-b1c2-4164-cf83-9a9ccc598480"
      },
      "source": [
        "### with .numpy returns just digit\n",
        "loss_fn(y_train[:1], predictions).numpy()"
      ],
      "execution_count": 18,
      "outputs": [
        {
          "output_type": "execute_result",
          "data": {
            "text/plain": [
              "2.745829"
            ]
          },
          "metadata": {
            "tags": []
          },
          "execution_count": 18
        }
      ]
    },
    {
      "cell_type": "code",
      "metadata": {
        "id": "WRgm6zBWH66x"
      },
      "source": [
        "model.compile(optimizer='adam',\n",
        "              loss=loss_fn,\n",
        "              metrics=['accuracy'])"
      ],
      "execution_count": 19,
      "outputs": []
    },
    {
      "cell_type": "code",
      "metadata": {
        "colab": {
          "base_uri": "https://localhost:8080/"
        },
        "id": "8V4ki1lwKlgh",
        "outputId": "6c88e611-11bf-431b-e47d-d4ae7ccc7c01"
      },
      "source": [
        "model.fit(x_train, y_train, epochs=5)"
      ],
      "execution_count": 20,
      "outputs": [
        {
          "output_type": "stream",
          "text": [
            "Epoch 1/5\n",
            "1875/1875 [==============================] - 3s 2ms/step - loss: 0.2935 - accuracy: 0.9150\n",
            "Epoch 2/5\n",
            "1875/1875 [==============================] - 3s 2ms/step - loss: 0.1434 - accuracy: 0.9560\n",
            "Epoch 3/5\n",
            "1875/1875 [==============================] - 3s 2ms/step - loss: 0.1071 - accuracy: 0.9672\n",
            "Epoch 4/5\n",
            "1875/1875 [==============================] - 3s 2ms/step - loss: 0.0874 - accuracy: 0.9728\n",
            "Epoch 5/5\n",
            "1875/1875 [==============================] - 3s 2ms/step - loss: 0.0758 - accuracy: 0.9761\n"
          ],
          "name": "stdout"
        },
        {
          "output_type": "execute_result",
          "data": {
            "text/plain": [
              "<tensorflow.python.keras.callbacks.History at 0x7f732a4ce518>"
            ]
          },
          "metadata": {
            "tags": []
          },
          "execution_count": 20
        }
      ]
    },
    {
      "cell_type": "code",
      "metadata": {
        "colab": {
          "base_uri": "https://localhost:8080/"
        },
        "id": "MVOBXTjvLO2i",
        "outputId": "e8979e4f-8723-46f2-b18e-d9b8f6e68664"
      },
      "source": [
        "model.evaluate(x_test,  y_test, verbose=2)"
      ],
      "execution_count": 21,
      "outputs": [
        {
          "output_type": "stream",
          "text": [
            "313/313 - 0s - loss: 0.0781 - accuracy: 0.9766\n"
          ],
          "name": "stdout"
        },
        {
          "output_type": "execute_result",
          "data": {
            "text/plain": [
              "[0.07806429266929626, 0.9765999913215637]"
            ]
          },
          "metadata": {
            "tags": []
          },
          "execution_count": 21
        }
      ]
    },
    {
      "cell_type": "code",
      "metadata": {
        "id": "0gNV8yinNoPU"
      },
      "source": [
        "### we can add Softmax Layer and return probabilities from our model\n",
        "probability_model = tf.keras.Sequential([\n",
        "  model,\n",
        "  tf.keras.layers.Softmax()\n",
        "])"
      ],
      "execution_count": 22,
      "outputs": []
    },
    {
      "cell_type": "code",
      "metadata": {
        "colab": {
          "base_uri": "https://localhost:8080/"
        },
        "id": "K4HBg-_jN-BG",
        "outputId": "b983e9af-a3c6-40f2-d60c-c4461f3f1cf4"
      },
      "source": [
        "probability_model(x_test[:1])"
      ],
      "execution_count": 23,
      "outputs": [
        {
          "output_type": "execute_result",
          "data": {
            "text/plain": [
              "<tf.Tensor: shape=(1, 10), dtype=float32, numpy=\n",
              "array([[2.1809930e-07, 1.1843574e-08, 2.3107884e-06, 7.6896773e-05,\n",
              "        6.9249472e-12, 2.6909129e-07, 5.4253412e-13, 9.9991381e-01,\n",
              "        4.0772591e-07, 6.1934452e-06]], dtype=float32)>"
            ]
          },
          "metadata": {
            "tags": []
          },
          "execution_count": 23
        }
      ]
    }
  ]
}