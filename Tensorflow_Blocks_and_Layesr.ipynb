{
  "nbformat": 4,
  "nbformat_minor": 0,
  "metadata": {
    "colab": {
      "name": "Tensorflow_Blocks_and_Layesr.ipynb",
      "provenance": [],
      "collapsed_sections": [],
      "authorship_tag": "ABX9TyMx8FO+2Czt485wDKqOr6ZE",
      "include_colab_link": true
    },
    "kernelspec": {
      "name": "python3",
      "display_name": "Python 3"
    }
  },
  "cells": [
    {
      "cell_type": "markdown",
      "metadata": {
        "id": "view-in-github",
        "colab_type": "text"
      },
      "source": [
        "<a href=\"https://colab.research.google.com/github/Dmitri9149/TensorFlow-PyTorch-basics/blob/master/Tensorflow_Blocks_and_Layesr.ipynb\" target=\"_parent\"><img src=\"https://colab.research.google.com/assets/colab-badge.svg\" alt=\"Open In Colab\"/></a>"
      ]
    },
    {
      "cell_type": "code",
      "metadata": {
        "id": "46ijud10VqoX"
      },
      "source": [
        "import tensorflow as tf"
      ],
      "execution_count": 1,
      "outputs": []
    },
    {
      "cell_type": "markdown",
      "metadata": {
        "id": "5gjeDxwD3hTg"
      },
      "source": [
        "The code is based on the d2l.ai book http://d2l.ai/"
      ]
    },
    {
      "cell_type": "code",
      "metadata": {
        "id": "FbspDGOOU-iN"
      },
      "source": [
        "### the code is based on d2l.ai book "
      ],
      "execution_count": 2,
      "outputs": []
    },
    {
      "cell_type": "code",
      "metadata": {
        "colab": {
          "base_uri": "https://localhost:8080/"
        },
        "id": "VZ-VVwTfWskj",
        "outputId": "42d88444-e714-4527-9b5a-386f840aff62"
      },
      "source": [
        "### sequence of models , Dense with relu is the first in the chain\n",
        "net = tf.keras.models.Sequential([\n",
        "  tf.keras.layers.Dense(256,activation=tf.nn.relu),\n",
        "  tf.keras.layers.Dense(10)\n",
        "])\n",
        "\n",
        "X=tf.random.uniform((2,20))\n",
        "net(X)"
      ],
      "execution_count": 3,
      "outputs": [
        {
          "output_type": "execute_result",
          "data": {
            "text/plain": [
              "<tf.Tensor: shape=(2, 10), dtype=float32, numpy=\n",
              "array([[-0.04931409, -0.08198217,  0.282879  ,  0.2841699 , -0.0088197 ,\n",
              "        -0.4251966 ,  0.27759126, -0.09480061,  0.23644048,  0.3943337 ],\n",
              "       [ 0.12069568,  0.02676927,  0.21037538,  0.17428683, -0.09368664,\n",
              "        -0.2026636 ,  0.0821211 , -0.26064616,  0.13454805,  0.06034918]],\n",
              "      dtype=float32)>"
            ]
          },
          "metadata": {
            "tags": []
          },
          "execution_count": 3
        }
      ]
    },
    {
      "cell_type": "code",
      "metadata": {
        "colab": {
          "base_uri": "https://localhost:8080/"
        },
        "id": "W9JqpdcWYkq3",
        "outputId": "d376cd1b-e588-48b6-fd78-b3d1db3c45d5"
      },
      "source": [
        "net.call(X)"
      ],
      "execution_count": 4,
      "outputs": [
        {
          "output_type": "execute_result",
          "data": {
            "text/plain": [
              "<tf.Tensor: shape=(2, 10), dtype=float32, numpy=\n",
              "array([[-0.04931409, -0.08198217,  0.282879  ,  0.2841699 , -0.0088197 ,\n",
              "        -0.4251966 ,  0.27759126, -0.09480061,  0.23644048,  0.3943337 ],\n",
              "       [ 0.12069568,  0.02676927,  0.21037538,  0.17428683, -0.09368664,\n",
              "        -0.2026636 ,  0.0821211 , -0.26064616,  0.13454805,  0.06034918]],\n",
              "      dtype=float32)>"
            ]
          },
          "metadata": {
            "tags": []
          },
          "execution_count": 4
        }
      ]
    },
    {
      "cell_type": "code",
      "metadata": {
        "id": "qLSzxDFKVK-k"
      },
      "source": [
        "### Custom Block"
      ],
      "execution_count": 5,
      "outputs": []
    },
    {
      "cell_type": "code",
      "metadata": {
        "id": "7zvVfoKSVRS0"
      },
      "source": [
        "class MLP(tf.keras.Model):\n",
        "  def __init__(self):\n",
        "    super().__init__()\n",
        "\n",
        "    self.hidden=tf.keras.layers.Dense(units=256,activation=tf.nn.relu)\n",
        "    self.out = tf.keras.layers.Dense(units=10)\n",
        "\n",
        "  def call(self, X):\n",
        "    return self.out(self.hidden((X)))"
      ],
      "execution_count": 6,
      "outputs": []
    },
    {
      "cell_type": "code",
      "metadata": {
        "colab": {
          "base_uri": "https://localhost:8080/"
        },
        "id": "M03aou37WIxc",
        "outputId": "190b0fca-9c76-4014-db17-99805862a9f1"
      },
      "source": [
        "net=MLP()\n",
        "net(X)"
      ],
      "execution_count": 7,
      "outputs": [
        {
          "output_type": "execute_result",
          "data": {
            "text/plain": [
              "<tf.Tensor: shape=(2, 10), dtype=float32, numpy=\n",
              "array([[ 0.29268128,  0.26970774, -0.53997064, -0.2227497 ,  0.00782839,\n",
              "         0.0568753 ,  0.06693274,  0.10750372,  0.03331758, -0.44387406],\n",
              "       [ 0.2952827 ,  0.04087556, -0.29475218, -0.09809808,  0.02343569,\n",
              "         0.13902044, -0.10059637, -0.02503465, -0.12724064, -0.3097494 ]],\n",
              "      dtype=float32)>"
            ]
          },
          "metadata": {
            "tags": []
          },
          "execution_count": 7
        }
      ]
    },
    {
      "cell_type": "code",
      "metadata": {
        "id": "IN6R0b4bmsD_"
      },
      "source": [
        "class MySequential(tf.keras.Model):\n",
        "  def __init__(self, *args):\n",
        "    super().__init__()\n",
        "    self.modules = []\n",
        "    for block in args:\n",
        "      self.modules.append(block)\n",
        "\n",
        "  def call(self,X):\n",
        "    for module in self.modules:\n",
        "      X=module(X)\n",
        "    return(X)\n"
      ],
      "execution_count": 8,
      "outputs": []
    },
    {
      "cell_type": "code",
      "metadata": {
        "colab": {
          "base_uri": "https://localhost:8080/"
        },
        "id": "K5f364x5oLPu",
        "outputId": "a6437187-a14d-4e05-f221-f5e7fc381c70"
      },
      "source": [
        "net = MySequential(\n",
        "    tf.keras.layers.Dense(units=256, activation=tf.nn.relu),\n",
        "    tf.keras.layers.Dense(10))\n",
        "net(X)"
      ],
      "execution_count": 9,
      "outputs": [
        {
          "output_type": "execute_result",
          "data": {
            "text/plain": [
              "<tf.Tensor: shape=(2, 10), dtype=float32, numpy=\n",
              "array([[ 0.34945226,  0.09425004, -0.44992548, -0.14354521, -0.05716934,\n",
              "         0.26188537,  0.5844754 ,  0.2377574 , -0.33320907,  0.27498013],\n",
              "       [ 0.32028604,  0.02710316, -0.4054122 , -0.337573  , -0.05772184,\n",
              "         0.05528935,  0.27435178,  0.25756633,  0.08833437,  0.2230866 ]],\n",
              "      dtype=float32)>"
            ]
          },
          "metadata": {
            "tags": []
          },
          "execution_count": 9
        }
      ]
    },
    {
      "cell_type": "markdown",
      "metadata": {
        "id": "v965wwvi4vMh"
      },
      "source": [
        "Below the Module is constructed where several models are applied in parallel on the same input data and the results are concatenated. It is intended to use the code in multihead attention in Transformers."
      ]
    },
    {
      "cell_type": "code",
      "metadata": {
        "id": "kKhqLfYO5GcP"
      },
      "source": [
        "#initialize the list of n models which is constructed from the same model\n",
        "#\n",
        "def list_of_models(model, n):\n",
        "  return [model]*n\n"
      ],
      "execution_count": 10,
      "outputs": []
    },
    {
      "cell_type": "code",
      "metadata": {
        "id": "h_jo2m73zZnD"
      },
      "source": [
        "list_models = [tf.keras.layers.Dense(10)]*3\n",
        "arg_list = list_of_models(tf.keras.layers.Dense(10),3)"
      ],
      "execution_count": 11,
      "outputs": []
    },
    {
      "cell_type": "code",
      "metadata": {
        "id": "nkQXTMh3og87"
      },
      "source": [
        "### use *args to supply a list of models of variable length \n",
        "class MyParallel(tf.keras.Model):\n",
        "  def __init__(self, *args):\n",
        "    super().__init__()\n",
        "    self.modules = []\n",
        "    for block in args:\n",
        "      self.modules.append(block)\n",
        "\n",
        "  def call(self,X):\n",
        "    list_res= []\n",
        "    for module in self.modules:\n",
        "      list_res.append(module(X))\n",
        "      print(len(list_res))\n",
        "    print(list_res)\n",
        "    concat_final= tf.concat(list_res, -1)\n",
        "    return(concat_final)"
      ],
      "execution_count": 12,
      "outputs": []
    },
    {
      "cell_type": "code",
      "metadata": {
        "colab": {
          "base_uri": "https://localhost:8080/"
        },
        "id": "9qVuatMBqKpE",
        "outputId": "8611efa7-b15a-426a-a490-dbda177ad8e8"
      },
      "source": [
        "net = MyParallel(tf.keras.layers.Dense(10), tf.keras.layers.Dense(10), tf.keras.layers.Dense(10))\n",
        "X = tf.random.uniform((2,10))\n",
        "net(X)"
      ],
      "execution_count": 13,
      "outputs": [
        {
          "output_type": "stream",
          "text": [
            "1\n",
            "2\n",
            "3\n",
            "[<tf.Tensor: shape=(2, 10), dtype=float32, numpy=\n",
            "array([[ 0.2513558 , -0.27768958,  0.5101268 ,  0.03177354, -0.46417987,\n",
            "         0.29007128, -0.2668992 , -0.8697561 ,  1.575279  , -0.13892499],\n",
            "       [-0.5528356 , -0.67307687,  0.31287616,  0.2512623 , -0.66248894,\n",
            "         0.9035158 , -0.7156859 , -0.8134246 ,  1.3020751 ,  0.4307332 ]],\n",
            "      dtype=float32)>, <tf.Tensor: shape=(2, 10), dtype=float32, numpy=\n",
            "array([[ 0.36709428,  0.40895742, -0.74394673, -1.2246717 , -0.13279912,\n",
            "        -0.8551988 ,  0.44884032,  0.04543832, -0.6631161 ,  0.644754  ],\n",
            "       [ 0.18755849,  0.61731833, -0.8863526 , -0.7644035 , -0.3548014 ,\n",
            "        -0.39990374,  0.3656888 ,  0.4633091 , -0.6807189 ,  0.04607466]],\n",
            "      dtype=float32)>, <tf.Tensor: shape=(2, 10), dtype=float32, numpy=\n",
            "array([[-0.9445234 ,  0.3418597 ,  0.40121087, -0.69413507, -0.00871749,\n",
            "         0.8893925 , -0.24391532, -0.36893445, -0.6856817 , -0.05989665],\n",
            "       [-0.6726131 ,  0.33770025,  0.13621056, -0.15839985,  0.37523422,\n",
            "         0.670637  ,  0.34844506, -0.09180941, -0.92587626, -0.3934785 ]],\n",
            "      dtype=float32)>]\n"
          ],
          "name": "stdout"
        },
        {
          "output_type": "execute_result",
          "data": {
            "text/plain": [
              "<tf.Tensor: shape=(2, 30), dtype=float32, numpy=\n",
              "array([[ 0.2513558 , -0.27768958,  0.5101268 ,  0.03177354, -0.46417987,\n",
              "         0.29007128, -0.2668992 , -0.8697561 ,  1.575279  , -0.13892499,\n",
              "         0.36709428,  0.40895742, -0.74394673, -1.2246717 , -0.13279912,\n",
              "        -0.8551988 ,  0.44884032,  0.04543832, -0.6631161 ,  0.644754  ,\n",
              "        -0.9445234 ,  0.3418597 ,  0.40121087, -0.69413507, -0.00871749,\n",
              "         0.8893925 , -0.24391532, -0.36893445, -0.6856817 , -0.05989665],\n",
              "       [-0.5528356 , -0.67307687,  0.31287616,  0.2512623 , -0.66248894,\n",
              "         0.9035158 , -0.7156859 , -0.8134246 ,  1.3020751 ,  0.4307332 ,\n",
              "         0.18755849,  0.61731833, -0.8863526 , -0.7644035 , -0.3548014 ,\n",
              "        -0.39990374,  0.3656888 ,  0.4633091 , -0.6807189 ,  0.04607466,\n",
              "        -0.6726131 ,  0.33770025,  0.13621056, -0.15839985,  0.37523422,\n",
              "         0.670637  ,  0.34844506, -0.09180941, -0.92587626, -0.3934785 ]],\n",
              "      dtype=float32)>"
            ]
          },
          "metadata": {
            "tags": []
          },
          "execution_count": 13
        }
      ]
    },
    {
      "cell_type": "code",
      "metadata": {
        "colab": {
          "base_uri": "https://localhost:8080/"
        },
        "id": "WN6a5o0TzqzN",
        "outputId": "f5df6e08-50fb-484f-81bb-09a0b8150c27"
      },
      "source": [
        "### to use the list_models (which is a list) we have to unpack it\n",
        "net = MyParallel(*list_models)\n",
        "X = tf.random.uniform((2,10))\n",
        "net(X)"
      ],
      "execution_count": 14,
      "outputs": [
        {
          "output_type": "stream",
          "text": [
            "1\n",
            "2\n",
            "3\n",
            "[<tf.Tensor: shape=(2, 10), dtype=float32, numpy=\n",
            "array([[ 0.6369225 ,  0.23359372,  0.1602743 , -0.31942943, -0.40882462,\n",
            "        -0.02672926, -0.44032443,  0.01279652, -0.63664097, -0.445827  ],\n",
            "       [ 0.1844315 ,  0.4043808 ,  0.3806227 , -0.5626929 , -0.5221994 ,\n",
            "         0.25772053, -0.07888096, -0.03687203, -0.5237836 , -0.27514204]],\n",
            "      dtype=float32)>, <tf.Tensor: shape=(2, 10), dtype=float32, numpy=\n",
            "array([[ 0.6369225 ,  0.23359372,  0.1602743 , -0.31942943, -0.40882462,\n",
            "        -0.02672926, -0.44032443,  0.01279652, -0.63664097, -0.445827  ],\n",
            "       [ 0.1844315 ,  0.4043808 ,  0.3806227 , -0.5626929 , -0.5221994 ,\n",
            "         0.25772053, -0.07888096, -0.03687203, -0.5237836 , -0.27514204]],\n",
            "      dtype=float32)>, <tf.Tensor: shape=(2, 10), dtype=float32, numpy=\n",
            "array([[ 0.6369225 ,  0.23359372,  0.1602743 , -0.31942943, -0.40882462,\n",
            "        -0.02672926, -0.44032443,  0.01279652, -0.63664097, -0.445827  ],\n",
            "       [ 0.1844315 ,  0.4043808 ,  0.3806227 , -0.5626929 , -0.5221994 ,\n",
            "         0.25772053, -0.07888096, -0.03687203, -0.5237836 , -0.27514204]],\n",
            "      dtype=float32)>]\n"
          ],
          "name": "stdout"
        },
        {
          "output_type": "execute_result",
          "data": {
            "text/plain": [
              "<tf.Tensor: shape=(2, 30), dtype=float32, numpy=\n",
              "array([[ 0.6369225 ,  0.23359372,  0.1602743 , -0.31942943, -0.40882462,\n",
              "        -0.02672926, -0.44032443,  0.01279652, -0.63664097, -0.445827  ,\n",
              "         0.6369225 ,  0.23359372,  0.1602743 , -0.31942943, -0.40882462,\n",
              "        -0.02672926, -0.44032443,  0.01279652, -0.63664097, -0.445827  ,\n",
              "         0.6369225 ,  0.23359372,  0.1602743 , -0.31942943, -0.40882462,\n",
              "        -0.02672926, -0.44032443,  0.01279652, -0.63664097, -0.445827  ],\n",
              "       [ 0.1844315 ,  0.4043808 ,  0.3806227 , -0.5626929 , -0.5221994 ,\n",
              "         0.25772053, -0.07888096, -0.03687203, -0.5237836 , -0.27514204,\n",
              "         0.1844315 ,  0.4043808 ,  0.3806227 , -0.5626929 , -0.5221994 ,\n",
              "         0.25772053, -0.07888096, -0.03687203, -0.5237836 , -0.27514204,\n",
              "         0.1844315 ,  0.4043808 ,  0.3806227 , -0.5626929 , -0.5221994 ,\n",
              "         0.25772053, -0.07888096, -0.03687203, -0.5237836 , -0.27514204]],\n",
              "      dtype=float32)>"
            ]
          },
          "metadata": {
            "tags": []
          },
          "execution_count": 14
        }
      ]
    },
    {
      "cell_type": "code",
      "metadata": {
        "colab": {
          "base_uri": "https://localhost:8080/"
        },
        "id": "jxCVpOA36QnL",
        "outputId": "7d6824f7-7c83-4d54-e2f4-98fa1137bf2c"
      },
      "source": [
        "net = MyParallel(*arg_list)\n",
        "X = tf.random.uniform((2,10))\n",
        "net(X)"
      ],
      "execution_count": 15,
      "outputs": [
        {
          "output_type": "stream",
          "text": [
            "1\n",
            "2\n",
            "3\n",
            "[<tf.Tensor: shape=(2, 10), dtype=float32, numpy=\n",
            "array([[-0.53765035,  0.6969004 , -0.0586617 , -0.5094317 , -0.06634474,\n",
            "         0.21278669,  0.1946829 ,  0.34302768,  0.60614115,  0.6390437 ],\n",
            "       [ 0.65262216,  0.8320782 , -0.01154299, -0.28898478, -0.12834722,\n",
            "         0.08020669,  0.09392177,  0.6357094 ,  0.3128935 , -0.17434597]],\n",
            "      dtype=float32)>, <tf.Tensor: shape=(2, 10), dtype=float32, numpy=\n",
            "array([[-0.53765035,  0.6969004 , -0.0586617 , -0.5094317 , -0.06634474,\n",
            "         0.21278669,  0.1946829 ,  0.34302768,  0.60614115,  0.6390437 ],\n",
            "       [ 0.65262216,  0.8320782 , -0.01154299, -0.28898478, -0.12834722,\n",
            "         0.08020669,  0.09392177,  0.6357094 ,  0.3128935 , -0.17434597]],\n",
            "      dtype=float32)>, <tf.Tensor: shape=(2, 10), dtype=float32, numpy=\n",
            "array([[-0.53765035,  0.6969004 , -0.0586617 , -0.5094317 , -0.06634474,\n",
            "         0.21278669,  0.1946829 ,  0.34302768,  0.60614115,  0.6390437 ],\n",
            "       [ 0.65262216,  0.8320782 , -0.01154299, -0.28898478, -0.12834722,\n",
            "         0.08020669,  0.09392177,  0.6357094 ,  0.3128935 , -0.17434597]],\n",
            "      dtype=float32)>]\n"
          ],
          "name": "stdout"
        },
        {
          "output_type": "execute_result",
          "data": {
            "text/plain": [
              "<tf.Tensor: shape=(2, 30), dtype=float32, numpy=\n",
              "array([[-0.53765035,  0.6969004 , -0.0586617 , -0.5094317 , -0.06634474,\n",
              "         0.21278669,  0.1946829 ,  0.34302768,  0.60614115,  0.6390437 ,\n",
              "        -0.53765035,  0.6969004 , -0.0586617 , -0.5094317 , -0.06634474,\n",
              "         0.21278669,  0.1946829 ,  0.34302768,  0.60614115,  0.6390437 ,\n",
              "        -0.53765035,  0.6969004 , -0.0586617 , -0.5094317 , -0.06634474,\n",
              "         0.21278669,  0.1946829 ,  0.34302768,  0.60614115,  0.6390437 ],\n",
              "       [ 0.65262216,  0.8320782 , -0.01154299, -0.28898478, -0.12834722,\n",
              "         0.08020669,  0.09392177,  0.6357094 ,  0.3128935 , -0.17434597,\n",
              "         0.65262216,  0.8320782 , -0.01154299, -0.28898478, -0.12834722,\n",
              "         0.08020669,  0.09392177,  0.6357094 ,  0.3128935 , -0.17434597,\n",
              "         0.65262216,  0.8320782 , -0.01154299, -0.28898478, -0.12834722,\n",
              "         0.08020669,  0.09392177,  0.6357094 ,  0.3128935 , -0.17434597]],\n",
              "      dtype=float32)>"
            ]
          },
          "metadata": {
            "tags": []
          },
          "execution_count": 15
        }
      ]
    }
  ]
}