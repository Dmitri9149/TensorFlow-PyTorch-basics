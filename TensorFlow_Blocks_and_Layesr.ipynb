{
  "nbformat": 4,
  "nbformat_minor": 0,
  "metadata": {
    "colab": {
      "name": "TensorFlow_Blocks_and_Layesr.ipynb",
      "provenance": [],
      "collapsed_sections": [],
      "authorship_tag": "ABX9TyO+uiF/mD7YbPzqWIwkXcdK",
      "include_colab_link": true
    },
    "kernelspec": {
      "name": "python3",
      "display_name": "Python 3"
    }
  },
  "cells": [
    {
      "cell_type": "markdown",
      "metadata": {
        "id": "view-in-github",
        "colab_type": "text"
      },
      "source": [
        "<a href=\"https://colab.research.google.com/github/Dmitri9149/TensorFlow-PyTorch-basics/blob/master/TensorFlow_Blocks_and_Layesr.ipynb\" target=\"_parent\"><img src=\"https://colab.research.google.com/assets/colab-badge.svg\" alt=\"Open In Colab\"/></a>"
      ]
    },
    {
      "cell_type": "code",
      "metadata": {
        "id": "46ijud10VqoX"
      },
      "source": [
        "import tensorflow as tf"
      ],
      "execution_count": 60,
      "outputs": []
    },
    {
      "cell_type": "markdown",
      "metadata": {
        "id": "5gjeDxwD3hTg"
      },
      "source": [
        "The code is based on the d2l.ai book http://d2l.ai/"
      ]
    },
    {
      "cell_type": "code",
      "metadata": {
        "id": "FbspDGOOU-iN"
      },
      "source": [
        "### the code is based on d2l.ai book "
      ],
      "execution_count": 61,
      "outputs": []
    },
    {
      "cell_type": "code",
      "metadata": {
        "colab": {
          "base_uri": "https://localhost:8080/"
        },
        "id": "VZ-VVwTfWskj",
        "outputId": "0980d12a-71e3-4239-cbe6-65d66578cd0a"
      },
      "source": [
        "### sequence of models , Dense with relu is the first in the chain\n",
        "net = tf.keras.models.Sequential([\n",
        "  tf.keras.layers.Dense(256,activation=tf.nn.relu),\n",
        "  tf.keras.layers.Dense(10)\n",
        "])\n",
        "\n",
        "X=tf.random.uniform((2,20))\n",
        "net(X)"
      ],
      "execution_count": 62,
      "outputs": [
        {
          "output_type": "execute_result",
          "data": {
            "text/plain": [
              "<tf.Tensor: shape=(2, 10), dtype=float32, numpy=\n",
              "array([[ 0.21564007,  0.05415054, -0.278714  , -0.37844148,  0.02863857,\n",
              "         0.4003118 , -0.25837454,  0.1031395 ,  0.39180988,  0.04940575],\n",
              "       [ 0.13303626, -0.02318302, -0.3375541 , -0.31313676,  0.25510907,\n",
              "         0.33553824, -0.30773073,  0.20651837,  0.15203333, -0.00993244]],\n",
              "      dtype=float32)>"
            ]
          },
          "metadata": {
            "tags": []
          },
          "execution_count": 62
        }
      ]
    },
    {
      "cell_type": "code",
      "metadata": {
        "colab": {
          "base_uri": "https://localhost:8080/"
        },
        "id": "W9JqpdcWYkq3",
        "outputId": "e75eb060-e105-477c-fb1d-0a1b450f56b4"
      },
      "source": [
        "net.call(X)"
      ],
      "execution_count": 63,
      "outputs": [
        {
          "output_type": "execute_result",
          "data": {
            "text/plain": [
              "<tf.Tensor: shape=(2, 10), dtype=float32, numpy=\n",
              "array([[ 0.21564007,  0.05415054, -0.278714  , -0.37844148,  0.02863857,\n",
              "         0.4003118 , -0.25837454,  0.1031395 ,  0.39180988,  0.04940575],\n",
              "       [ 0.13303626, -0.02318302, -0.3375541 , -0.31313676,  0.25510907,\n",
              "         0.33553824, -0.30773073,  0.20651837,  0.15203333, -0.00993244]],\n",
              "      dtype=float32)>"
            ]
          },
          "metadata": {
            "tags": []
          },
          "execution_count": 63
        }
      ]
    },
    {
      "cell_type": "code",
      "metadata": {
        "id": "qLSzxDFKVK-k"
      },
      "source": [
        "### Custom Block"
      ],
      "execution_count": 64,
      "outputs": []
    },
    {
      "cell_type": "code",
      "metadata": {
        "id": "7zvVfoKSVRS0"
      },
      "source": [
        "class MLP(tf.keras.Model):\n",
        "  def __init__(self):\n",
        "    super().__init__()\n",
        "\n",
        "    self.hidden=tf.keras.layers.Dense(units=256,activation=tf.nn.relu)\n",
        "    self.out = tf.keras.layers.Dense(units=10)\n",
        "\n",
        "  def call(self, X):\n",
        "    return self.out(self.hidden((X)))"
      ],
      "execution_count": 65,
      "outputs": []
    },
    {
      "cell_type": "code",
      "metadata": {
        "colab": {
          "base_uri": "https://localhost:8080/"
        },
        "id": "M03aou37WIxc",
        "outputId": "1ac389c8-89a5-48e7-fb02-a594409f93ed"
      },
      "source": [
        "net=MLP()\n",
        "net(X)"
      ],
      "execution_count": 66,
      "outputs": [
        {
          "output_type": "execute_result",
          "data": {
            "text/plain": [
              "<tf.Tensor: shape=(2, 10), dtype=float32, numpy=\n",
              "array([[-0.15297523, -0.20632286, -0.01411107,  0.12822513, -0.00420676,\n",
              "         0.24261248, -0.02192844, -0.08237635, -0.1282405 ,  0.08238801],\n",
              "       [-0.1820739 , -0.26961586, -0.26356012,  0.06556813, -0.03396446,\n",
              "         0.13208559,  0.09168363,  0.01189797, -0.22588858,  0.02007841]],\n",
              "      dtype=float32)>"
            ]
          },
          "metadata": {
            "tags": []
          },
          "execution_count": 66
        }
      ]
    },
    {
      "cell_type": "code",
      "metadata": {
        "id": "IN6R0b4bmsD_"
      },
      "source": [
        "class MySequential(tf.keras.Model):\n",
        "  def __init__(self, *args):\n",
        "    super().__init__()\n",
        "    self.modules = []\n",
        "    for block in args:\n",
        "      self.modules.append(block)\n",
        "\n",
        "  def call(self,X):\n",
        "    for module in self.modules:\n",
        "      X=module(X)\n",
        "    return(X)\n"
      ],
      "execution_count": 67,
      "outputs": []
    },
    {
      "cell_type": "code",
      "metadata": {
        "colab": {
          "base_uri": "https://localhost:8080/"
        },
        "id": "K5f364x5oLPu",
        "outputId": "9859dd67-4f9e-4da9-fab3-715f5cc50b87"
      },
      "source": [
        "net = MySequential(\n",
        "    tf.keras.layers.Dense(units=256, activation=tf.nn.relu),\n",
        "    tf.keras.layers.Dense(10))\n",
        "net(X)"
      ],
      "execution_count": 68,
      "outputs": [
        {
          "output_type": "execute_result",
          "data": {
            "text/plain": [
              "<tf.Tensor: shape=(2, 10), dtype=float32, numpy=\n",
              "array([[-0.18045768, -0.24001627, -0.02914331, -0.12118715,  0.43571126,\n",
              "        -0.22025573, -0.2112957 ,  0.08513686, -0.21573651, -0.1174707 ],\n",
              "       [-0.17298569,  0.02587445, -0.0734382 , -0.11674695,  0.23802555,\n",
              "        -0.08251433, -0.14702988,  0.00745137, -0.19311321, -0.32896122]],\n",
              "      dtype=float32)>"
            ]
          },
          "metadata": {
            "tags": []
          },
          "execution_count": 68
        }
      ]
    },
    {
      "cell_type": "markdown",
      "metadata": {
        "id": "v965wwvi4vMh"
      },
      "source": [
        "Below the Module is constructed where several models are applied in parallel on the same input data and the results are concatenated. It is intended to use the code in multihead attention in Transformers."
      ]
    },
    {
      "cell_type": "code",
      "metadata": {
        "id": "kKhqLfYO5GcP"
      },
      "source": [
        "#initialize the list of n models which is constructed from the same model\n",
        "#\n",
        "def list_of_models(model, n):\n",
        "  return [model]*n\n"
      ],
      "execution_count": 69,
      "outputs": []
    },
    {
      "cell_type": "code",
      "metadata": {
        "id": "h_jo2m73zZnD"
      },
      "source": [
        "list_models = [tf.keras.layers.Dense(10)]*3\n",
        "arg_list = list_of_models(tf.keras.layers.Dense(10),3)"
      ],
      "execution_count": 70,
      "outputs": []
    },
    {
      "cell_type": "code",
      "metadata": {
        "id": "nkQXTMh3og87"
      },
      "source": [
        "### use *args to supply a list of models of variable length \n",
        "class MyParallel(tf.keras.Model):\n",
        "  def __init__(self, *args):\n",
        "    super().__init__()\n",
        "    self.modules = []\n",
        "    for block in args:\n",
        "      self.modules.append(block)\n",
        "\n",
        "  def call(self,X):\n",
        "    list_res= []\n",
        "    for module in self.modules:\n",
        "      list_res.append(module(X))\n",
        "#      print(len(list_res))\n",
        "#    print(list_res)\n",
        "    concat_final= tf.concat(list_res, -1)\n",
        "    return(concat_final)"
      ],
      "execution_count": 71,
      "outputs": []
    },
    {
      "cell_type": "code",
      "metadata": {
        "colab": {
          "base_uri": "https://localhost:8080/"
        },
        "id": "9qVuatMBqKpE",
        "outputId": "893bdf75-c44d-4b25-dafc-9104f87b3d4c"
      },
      "source": [
        "net = MyParallel(tf.keras.layers.Dense(10), tf.keras.layers.Dense(10), tf.keras.layers.Dense(10))\n",
        "X = tf.random.uniform((2,10))\n",
        "net(X)"
      ],
      "execution_count": 72,
      "outputs": [
        {
          "output_type": "execute_result",
          "data": {
            "text/plain": [
              "<tf.Tensor: shape=(2, 30), dtype=float32, numpy=\n",
              "array([[ 4.7484942e-02,  4.0127447e-01, -2.2112520e-01,  1.1814804e+00,\n",
              "         2.6646987e-01,  3.0479261e-01,  9.9809527e-02,  5.0731495e-02,\n",
              "         9.9835509e-01, -8.2024097e-01, -1.1623694e+00, -2.7716348e-01,\n",
              "        -5.6563544e-01, -6.0920459e-01, -1.0762718e-01, -4.5033857e-02,\n",
              "         9.0275824e-02,  3.3290938e-02,  1.2171481e+00, -2.1732390e-01,\n",
              "        -4.6934563e-01,  4.6418119e-02,  8.5590407e-02, -2.1490039e-01,\n",
              "         6.4405555e-01,  5.1473141e-01, -2.9251280e-01,  1.6549149e-01,\n",
              "         3.0643564e-01, -4.6193600e-04],\n",
              "       [ 1.6319886e-01,  2.6040310e-01, -1.4335337e-01,  1.0089786e+00,\n",
              "        -1.2905097e-01, -7.3949531e-02, -1.4967038e-01, -3.7156228e-02,\n",
              "         9.2384446e-01, -6.4996088e-01, -8.5700262e-01, -2.6844144e-02,\n",
              "        -2.1538615e-01, -2.7402422e-01,  4.2066836e-01,  2.8480405e-02,\n",
              "         1.4840490e-01,  3.8418028e-01,  1.1269141e+00,  2.9616454e-01,\n",
              "        -3.6861593e-01,  1.7643309e-01, -1.8952966e-02, -2.0719123e-01,\n",
              "         1.2629122e-01,  4.0468779e-01, -5.9627372e-01,  3.2262149e-01,\n",
              "         3.5616302e-01,  9.7484365e-02]], dtype=float32)>"
            ]
          },
          "metadata": {
            "tags": []
          },
          "execution_count": 72
        }
      ]
    },
    {
      "cell_type": "code",
      "metadata": {
        "colab": {
          "base_uri": "https://localhost:8080/"
        },
        "id": "WN6a5o0TzqzN",
        "outputId": "9f8e62da-22a9-4442-8471-6f20e4b88b26"
      },
      "source": [
        "### to use the list_models (which is a list) we have to unpack it\n",
        "net = MyParallel(*list_models)\n",
        "X = tf.random.uniform((2,10))\n",
        "net(X)"
      ],
      "execution_count": 73,
      "outputs": [
        {
          "output_type": "execute_result",
          "data": {
            "text/plain": [
              "<tf.Tensor: shape=(2, 30), dtype=float32, numpy=\n",
              "array([[ 0.3830338 , -0.05342612, -1.1095171 , -0.06789342, -0.03647626,\n",
              "        -0.67386496, -0.07015014,  0.94926023,  0.14623871,  0.2723172 ,\n",
              "         0.3830338 , -0.05342612, -1.1095171 , -0.06789342, -0.03647626,\n",
              "        -0.67386496, -0.07015014,  0.94926023,  0.14623871,  0.2723172 ,\n",
              "         0.3830338 , -0.05342612, -1.1095171 , -0.06789342, -0.03647626,\n",
              "        -0.67386496, -0.07015014,  0.94926023,  0.14623871,  0.2723172 ],\n",
              "       [ 0.13784315, -0.18813266, -1.0821737 , -0.6241869 , -0.16280086,\n",
              "        -0.9862208 , -0.09638233,  0.8489892 ,  0.82189274,  0.8500967 ,\n",
              "         0.13784315, -0.18813266, -1.0821737 , -0.6241869 , -0.16280086,\n",
              "        -0.9862208 , -0.09638233,  0.8489892 ,  0.82189274,  0.8500967 ,\n",
              "         0.13784315, -0.18813266, -1.0821737 , -0.6241869 , -0.16280086,\n",
              "        -0.9862208 , -0.09638233,  0.8489892 ,  0.82189274,  0.8500967 ]],\n",
              "      dtype=float32)>"
            ]
          },
          "metadata": {
            "tags": []
          },
          "execution_count": 73
        }
      ]
    },
    {
      "cell_type": "code",
      "metadata": {
        "colab": {
          "base_uri": "https://localhost:8080/"
        },
        "id": "jxCVpOA36QnL",
        "outputId": "9a6ed19d-530d-40ca-b39a-cb9f19a27767"
      },
      "source": [
        "net = MyParallel(*arg_list)\n",
        "X = tf.random.uniform((2,10))\n",
        "net(X)"
      ],
      "execution_count": 74,
      "outputs": [
        {
          "output_type": "execute_result",
          "data": {
            "text/plain": [
              "<tf.Tensor: shape=(2, 30), dtype=float32, numpy=\n",
              "array([[-0.4385905 , -0.04031485, -0.32234856, -0.02818382, -0.42702287,\n",
              "         1.5153399 , -0.5282389 , -0.0982194 ,  0.1974664 , -0.9258027 ,\n",
              "        -0.4385905 , -0.04031485, -0.32234856, -0.02818382, -0.42702287,\n",
              "         1.5153399 , -0.5282389 , -0.0982194 ,  0.1974664 , -0.9258027 ,\n",
              "        -0.4385905 , -0.04031485, -0.32234856, -0.02818382, -0.42702287,\n",
              "         1.5153399 , -0.5282389 , -0.0982194 ,  0.1974664 , -0.9258027 ],\n",
              "       [-0.44829634,  0.11966628, -0.4454378 ,  0.03178519, -0.05969727,\n",
              "         1.3988982 , -0.3383227 , -0.18196534,  0.38020462, -0.02946788,\n",
              "        -0.44829634,  0.11966628, -0.4454378 ,  0.03178519, -0.05969727,\n",
              "         1.3988982 , -0.3383227 , -0.18196534,  0.38020462, -0.02946788,\n",
              "        -0.44829634,  0.11966628, -0.4454378 ,  0.03178519, -0.05969727,\n",
              "         1.3988982 , -0.3383227 , -0.18196534,  0.38020462, -0.02946788]],\n",
              "      dtype=float32)>"
            ]
          },
          "metadata": {
            "tags": []
          },
          "execution_count": 74
        }
      ]
    },
    {
      "cell_type": "code",
      "metadata": {
        "id": "LwZ-JbDvUJuj"
      },
      "source": [
        "### Nested Models \n",
        "class NestedBlocks(tf.keras.Model):\n",
        "  def __init__(self):\n",
        "    super().__init__()\n",
        "    self.net=tf.keras.Sequential()\n",
        "    self.net.add(tf.keras.layers.Dense(20,activation = tf.nn.relu))\n",
        "    self.net.add(tf.keras.layers.Dense(20,activation = tf.nn.relu))\n",
        "    self.dense = tf.keras.layers.Dense(20,activation = tf.nn.relu)\n",
        "\n",
        "  def call(self, inputs):\n",
        "    return self.dense(self.net(inputs))\n",
        "\n"
      ],
      "execution_count": 75,
      "outputs": []
    },
    {
      "cell_type": "code",
      "metadata": {
        "colab": {
          "base_uri": "https://localhost:8080/"
        },
        "id": "biCwieTmWYEi",
        "outputId": "44366899-6e7c-4894-ac54-fbe7ce7016d4"
      },
      "source": [
        "net = NestedBlocks()\n",
        "X = tf.random.uniform((2, 20))\n",
        "net(X)"
      ],
      "execution_count": 76,
      "outputs": [
        {
          "output_type": "execute_result",
          "data": {
            "text/plain": [
              "<tf.Tensor: shape=(2, 20), dtype=float32, numpy=\n",
              "array([[0.08824383, 0.        , 0.251317  , 0.10667011, 0.13481522,\n",
              "        0.        , 0.        , 0.        , 0.        , 0.24866459,\n",
              "        0.        , 0.01884621, 0.12187549, 0.0675218 , 0.22904147,\n",
              "        0.        , 0.        , 0.17180899, 0.08450582, 0.        ],\n",
              "       [0.02093283, 0.        , 0.20381552, 0.        , 0.20379037,\n",
              "        0.        , 0.20165554, 0.        , 0.11114582, 0.        ,\n",
              "        0.        , 0.        , 0.        , 0.        , 0.        ,\n",
              "        0.        , 0.        , 0.        , 0.49453607, 0.12784421]],\n",
              "      dtype=float32)>"
            ]
          },
          "metadata": {
            "tags": []
          },
          "execution_count": 76
        }
      ]
    },
    {
      "cell_type": "markdown",
      "metadata": {
        "id": "323VZoHSWU1P"
      },
      "source": [
        "Parameter access"
      ]
    },
    {
      "cell_type": "code",
      "metadata": {
        "colab": {
          "base_uri": "https://localhost:8080/"
        },
        "id": "TY1f8fCoWnC9",
        "outputId": "354dcff0-b08c-425a-8603-0a588f75cde9"
      },
      "source": [
        "import numpy as np\n",
        "\n",
        "net = tf.keras.models.Sequential([\n",
        "    tf.keras.layers.Flatten(),\n",
        "    tf.keras.layers.Dense(4, activation=tf.nn.relu),\n",
        "    tf.keras.layers.Dense(1)\n",
        "])\n",
        "\n",
        "X = tf.random.uniform((2, 4))\n",
        "net(X)"
      ],
      "execution_count": 77,
      "outputs": [
        {
          "output_type": "execute_result",
          "data": {
            "text/plain": [
              "<tf.Tensor: shape=(2, 1), dtype=float32, numpy=\n",
              "array([[-0.6715543],\n",
              "       [-0.804057 ]], dtype=float32)>"
            ]
          },
          "metadata": {
            "tags": []
          },
          "execution_count": 77
        }
      ]
    },
    {
      "cell_type": "code",
      "metadata": {
        "colab": {
          "base_uri": "https://localhost:8080/"
        },
        "id": "I898wmQbX5yl",
        "outputId": "a7d180ed-72fc-46ad-c215-5a3508834fc0"
      },
      "source": [
        "print(net.layers[2].weights)"
      ],
      "execution_count": 78,
      "outputs": [
        {
          "output_type": "stream",
          "text": [
            "[<tf.Variable 'dense_66/kernel:0' shape=(4, 1) dtype=float32, numpy=\n",
            "array([[-0.90698975],\n",
            "       [ 1.0091729 ],\n",
            "       [-0.8561751 ],\n",
            "       [-0.934435  ]], dtype=float32)>, <tf.Variable 'dense_66/bias:0' shape=(1,) dtype=float32, numpy=array([0.], dtype=float32)>]\n"
          ],
          "name": "stdout"
        }
      ]
    },
    {
      "cell_type": "code",
      "metadata": {
        "colab": {
          "base_uri": "https://localhost:8080/"
        },
        "id": "JxjWkJDqZPUk",
        "outputId": "ad417b66-fed7-4c8f-8969-9fac34ccca63"
      },
      "source": [
        "print(type(net.layers[2].weights[1]))\n",
        "print(net.layers[2].weights[1])\n",
        "print(tf.convert_to_tensor(net.layers[2].weights[1]))"
      ],
      "execution_count": 79,
      "outputs": [
        {
          "output_type": "stream",
          "text": [
            "<class 'tensorflow.python.ops.resource_variable_ops.ResourceVariable'>\n",
            "<tf.Variable 'dense_66/bias:0' shape=(1,) dtype=float32, numpy=array([0.], dtype=float32)>\n",
            "tf.Tensor([0.], shape=(1,), dtype=float32)\n"
          ],
          "name": "stdout"
        }
      ]
    },
    {
      "cell_type": "code",
      "metadata": {
        "colab": {
          "base_uri": "https://localhost:8080/"
        },
        "id": "K2HY5chlacBf",
        "outputId": "3eb99f1c-6838-459a-cfd1-86f1b54ef739"
      },
      "source": [
        "print(net.layers[1].weights)\n",
        "print(net.get_weights())"
      ],
      "execution_count": 80,
      "outputs": [
        {
          "output_type": "stream",
          "text": [
            "[<tf.Variable 'dense_65/kernel:0' shape=(4, 4) dtype=float32, numpy=\n",
            "array([[ 0.6931675 , -0.3968479 , -0.7143742 ,  0.74970204],\n",
            "       [-0.83552754, -0.31706995,  0.00711459,  0.8453565 ],\n",
            "       [-0.57526433, -0.75424415,  0.33068687,  0.0733915 ],\n",
            "       [-0.21450806, -0.5957988 , -0.0084393 , -0.14078873]],\n",
            "      dtype=float32)>, <tf.Variable 'dense_65/bias:0' shape=(4,) dtype=float32, numpy=array([0., 0., 0., 0.], dtype=float32)>]\n",
            "[array([[ 0.6931675 , -0.3968479 , -0.7143742 ,  0.74970204],\n",
            "       [-0.83552754, -0.31706995,  0.00711459,  0.8453565 ],\n",
            "       [-0.57526433, -0.75424415,  0.33068687,  0.0733915 ],\n",
            "       [-0.21450806, -0.5957988 , -0.0084393 , -0.14078873]],\n",
            "      dtype=float32), array([0., 0., 0., 0.], dtype=float32), array([[-0.90698975],\n",
            "       [ 1.0091729 ],\n",
            "       [-0.8561751 ],\n",
            "       [-0.934435  ]], dtype=float32), array([0.], dtype=float32)]\n"
          ],
          "name": "stdout"
        }
      ]
    },
    {
      "cell_type": "code",
      "metadata": {
        "colab": {
          "base_uri": "https://localhost:8080/"
        },
        "id": "17aEY8l8ancj",
        "outputId": "2f37dc25-d403-4fce-b016-8c393d645015"
      },
      "source": [
        "net.get_weights()[1]"
      ],
      "execution_count": 81,
      "outputs": [
        {
          "output_type": "execute_result",
          "data": {
            "text/plain": [
              "array([0., 0., 0., 0.], dtype=float32)"
            ]
          },
          "metadata": {
            "tags": []
          },
          "execution_count": 81
        }
      ]
    },
    {
      "cell_type": "code",
      "metadata": {
        "colab": {
          "base_uri": "https://localhost:8080/"
        },
        "id": "bNGHRk_NcV-N",
        "outputId": "c8804cda-2f74-4b2e-a12c-a95062e39664"
      },
      "source": [
        "### collecting parameters from nested blocks\n",
        "def block1(name):\n",
        "    return tf.keras.Sequential([\n",
        "        tf.keras.layers.Flatten(),\n",
        "        tf.keras.layers.Dense(4, activation=tf.nn.relu)],\n",
        "        name=name)\n",
        "\n",
        "def block2():\n",
        "    net = tf.keras.Sequential()\n",
        "    for i in range(4):\n",
        "        # Nested here\n",
        "        net.add(block1(name=f'block-{i}'))\n",
        "    return net\n",
        "\n",
        "rgnet = tf.keras.Sequential()\n",
        "rgnet.add(block2())\n",
        "rgnet.add(tf.keras.layers.Dense(1))\n",
        "rgnet(X)"
      ],
      "execution_count": 82,
      "outputs": [
        {
          "output_type": "execute_result",
          "data": {
            "text/plain": [
              "<tf.Tensor: shape=(2, 1), dtype=float32, numpy=\n",
              "array([[0.00599643],\n",
              "       [0.00359134]], dtype=float32)>"
            ]
          },
          "metadata": {
            "tags": []
          },
          "execution_count": 82
        }
      ]
    },
    {
      "cell_type": "code",
      "metadata": {
        "colab": {
          "base_uri": "https://localhost:8080/"
        },
        "id": "A8XJIQ8Zfc2g",
        "outputId": "a70e2500-9feb-4ed1-d7aa-0377e86fb8f3"
      },
      "source": [
        "print(rgnet.summary())"
      ],
      "execution_count": 83,
      "outputs": [
        {
          "output_type": "stream",
          "text": [
            "Model: \"sequential_13\"\n",
            "_________________________________________________________________\n",
            "Layer (type)                 Output Shape              Param #   \n",
            "=================================================================\n",
            "sequential_14 (Sequential)   (2, 4)                    80        \n",
            "_________________________________________________________________\n",
            "dense_71 (Dense)             (2, 1)                    5         \n",
            "=================================================================\n",
            "Total params: 85\n",
            "Trainable params: 85\n",
            "Non-trainable params: 0\n",
            "_________________________________________________________________\n",
            "None\n"
          ],
          "name": "stdout"
        }
      ]
    },
    {
      "cell_type": "code",
      "metadata": {
        "colab": {
          "base_uri": "https://localhost:8080/"
        },
        "id": "YyuvTRMbj-l8",
        "outputId": "b33cc7bb-18cc-49e5-d096-07d951f8e503"
      },
      "source": [
        "rgnet.layers[0].layers[1].layers[1].weights[1]"
      ],
      "execution_count": 84,
      "outputs": [
        {
          "output_type": "execute_result",
          "data": {
            "text/plain": [
              "<tf.Variable 'sequential_14/block-1/dense_68/bias:0' shape=(4,) dtype=float32, numpy=array([0., 0., 0., 0.], dtype=float32)>"
            ]
          },
          "metadata": {
            "tags": []
          },
          "execution_count": 84
        }
      ]
    },
    {
      "cell_type": "code",
      "metadata": {
        "colab": {
          "base_uri": "https://localhost:8080/"
        },
        "id": "5doUcFSEtQVF",
        "outputId": "3fbe5dfa-17fc-4e24-e718-41333b35be99"
      },
      "source": [
        "net_prl = MyParallel(tf.keras.layers.Dense(4), tf.keras.layers.Dense(4), tf.keras.layers.Dense(4))\n",
        "X = tf.random.uniform((1,4))\n",
        "net_prl(X)"
      ],
      "execution_count": 85,
      "outputs": [
        {
          "output_type": "execute_result",
          "data": {
            "text/plain": [
              "<tf.Tensor: shape=(1, 12), dtype=float32, numpy=\n",
              "array([[ 0.6436592 , -0.06759639, -0.11064615,  0.15265562, -0.07731043,\n",
              "         0.6013583 , -0.03865418,  0.01184419,  0.43359563,  0.08102705,\n",
              "        -0.12206343, -0.4855148 ]], dtype=float32)>"
            ]
          },
          "metadata": {
            "tags": []
          },
          "execution_count": 85
        }
      ]
    },
    {
      "cell_type": "code",
      "metadata": {
        "colab": {
          "base_uri": "https://localhost:8080/"
        },
        "id": "vHbpoigVtZLZ",
        "outputId": "0b6775af-788b-4073-8bae-4c9503931ba1"
      },
      "source": [
        "print(net_prl.summary())"
      ],
      "execution_count": 86,
      "outputs": [
        {
          "output_type": "stream",
          "text": [
            "Model: \"my_parallel_12\"\n",
            "_________________________________________________________________\n",
            "Layer (type)                 Output Shape              Param #   \n",
            "=================================================================\n",
            "dense_72 (Dense)             multiple                  20        \n",
            "_________________________________________________________________\n",
            "dense_73 (Dense)             multiple                  20        \n",
            "_________________________________________________________________\n",
            "dense_74 (Dense)             multiple                  20        \n",
            "=================================================================\n",
            "Total params: 60\n",
            "Trainable params: 60\n",
            "Non-trainable params: 0\n",
            "_________________________________________________________________\n",
            "None\n"
          ],
          "name": "stdout"
        }
      ]
    }
  ]
}