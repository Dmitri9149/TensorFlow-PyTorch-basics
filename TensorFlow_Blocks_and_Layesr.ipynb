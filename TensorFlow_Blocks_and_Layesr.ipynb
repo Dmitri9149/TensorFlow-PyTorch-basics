{
  "nbformat": 4,
  "nbformat_minor": 0,
  "metadata": {
    "colab": {
      "name": "TensorFlow_Blocks_and_Layesr.ipynb",
      "provenance": [],
      "collapsed_sections": [],
      "authorship_tag": "ABX9TyNLR9YcKp8/sWQV6+t6eO6h",
      "include_colab_link": true
    },
    "kernelspec": {
      "name": "python3",
      "display_name": "Python 3"
    }
  },
  "cells": [
    {
      "cell_type": "markdown",
      "metadata": {
        "id": "view-in-github",
        "colab_type": "text"
      },
      "source": [
        "<a href=\"https://colab.research.google.com/github/Dmitri9149/TensorFlow-PyTorch-basics/blob/master/TensorFlow_Blocks_and_Layesr.ipynb\" target=\"_parent\"><img src=\"https://colab.research.google.com/assets/colab-badge.svg\" alt=\"Open In Colab\"/></a>"
      ]
    },
    {
      "cell_type": "code",
      "metadata": {
        "id": "46ijud10VqoX"
      },
      "source": [
        "import tensorflow as tf"
      ],
      "execution_count": 1,
      "outputs": []
    },
    {
      "cell_type": "markdown",
      "metadata": {
        "id": "5gjeDxwD3hTg"
      },
      "source": [
        "The code is based on the d2l.ai book http://d2l.ai/"
      ]
    },
    {
      "cell_type": "code",
      "metadata": {
        "id": "FbspDGOOU-iN"
      },
      "source": [
        "### the code is based on d2l.ai book "
      ],
      "execution_count": 2,
      "outputs": []
    },
    {
      "cell_type": "code",
      "metadata": {
        "colab": {
          "base_uri": "https://localhost:8080/"
        },
        "id": "VZ-VVwTfWskj",
        "outputId": "623b1f04-2e09-4f40-a2dd-371e6cac65a1"
      },
      "source": [
        "### sequence of models , Dense with relu is the first in the chain\n",
        "net = tf.keras.models.Sequential([\n",
        "  tf.keras.layers.Dense(256,activation=tf.nn.relu),\n",
        "  tf.keras.layers.Dense(10)\n",
        "])\n",
        "\n",
        "X=tf.random.uniform((2,20))\n",
        "net(X)"
      ],
      "execution_count": 3,
      "outputs": [
        {
          "output_type": "execute_result",
          "data": {
            "text/plain": [
              "<tf.Tensor: shape=(2, 10), dtype=float32, numpy=\n",
              "array([[ 1.7263012e-01,  2.1431643e-01,  6.1796736e-02, -4.4129044e-01,\n",
              "        -4.8060626e-01, -4.0500471e-01, -1.8431991e-04, -1.0192727e-01,\n",
              "        -9.7754672e-02,  5.1312929e-01],\n",
              "       [ 9.0565480e-02,  1.5937659e-01,  1.3637145e-01, -3.5661849e-01,\n",
              "        -3.2038417e-01, -3.0459233e-02,  1.4607387e-02, -2.3882218e-02,\n",
              "        -1.3652989e-01,  2.7688783e-01]], dtype=float32)>"
            ]
          },
          "metadata": {
            "tags": []
          },
          "execution_count": 3
        }
      ]
    },
    {
      "cell_type": "code",
      "metadata": {
        "colab": {
          "base_uri": "https://localhost:8080/"
        },
        "id": "W9JqpdcWYkq3",
        "outputId": "77ab8f17-be39-4cab-dcc4-4cc20de3e800"
      },
      "source": [
        "net.call(X)"
      ],
      "execution_count": 4,
      "outputs": [
        {
          "output_type": "execute_result",
          "data": {
            "text/plain": [
              "<tf.Tensor: shape=(2, 10), dtype=float32, numpy=\n",
              "array([[ 1.7263012e-01,  2.1431643e-01,  6.1796736e-02, -4.4129044e-01,\n",
              "        -4.8060626e-01, -4.0500471e-01, -1.8431991e-04, -1.0192727e-01,\n",
              "        -9.7754672e-02,  5.1312929e-01],\n",
              "       [ 9.0565480e-02,  1.5937659e-01,  1.3637145e-01, -3.5661849e-01,\n",
              "        -3.2038417e-01, -3.0459233e-02,  1.4607387e-02, -2.3882218e-02,\n",
              "        -1.3652989e-01,  2.7688783e-01]], dtype=float32)>"
            ]
          },
          "metadata": {
            "tags": []
          },
          "execution_count": 4
        }
      ]
    },
    {
      "cell_type": "code",
      "metadata": {
        "id": "qLSzxDFKVK-k"
      },
      "source": [
        "### Custom Block"
      ],
      "execution_count": 5,
      "outputs": []
    },
    {
      "cell_type": "code",
      "metadata": {
        "id": "7zvVfoKSVRS0"
      },
      "source": [
        "class MLP(tf.keras.Model):\n",
        "  def __init__(self):\n",
        "    super().__init__()\n",
        "\n",
        "    self.hidden=tf.keras.layers.Dense(units=256,activation=tf.nn.relu)\n",
        "    self.out = tf.keras.layers.Dense(units=10)\n",
        "\n",
        "  def call(self, X):\n",
        "    return self.out(self.hidden((X)))"
      ],
      "execution_count": 6,
      "outputs": []
    },
    {
      "cell_type": "code",
      "metadata": {
        "colab": {
          "base_uri": "https://localhost:8080/"
        },
        "id": "M03aou37WIxc",
        "outputId": "3875e51d-8422-445a-c9fe-128ccef5236c"
      },
      "source": [
        "net=MLP()\n",
        "net(X)"
      ],
      "execution_count": 7,
      "outputs": [
        {
          "output_type": "execute_result",
          "data": {
            "text/plain": [
              "<tf.Tensor: shape=(2, 10), dtype=float32, numpy=\n",
              "array([[-0.12769291, -0.25260958,  0.08343402,  0.20470409, -0.31387323,\n",
              "         0.15593192, -0.3788177 ,  0.20900992, -0.10961298,  0.0514426 ],\n",
              "       [ 0.06288157, -0.3623747 ,  0.18442152, -0.06001   , -0.3553054 ,\n",
              "         0.08356073, -0.18182823,  0.04251212,  0.12329391,  0.09134473]],\n",
              "      dtype=float32)>"
            ]
          },
          "metadata": {
            "tags": []
          },
          "execution_count": 7
        }
      ]
    },
    {
      "cell_type": "code",
      "metadata": {
        "id": "IN6R0b4bmsD_"
      },
      "source": [
        "class MySequential(tf.keras.Model):\n",
        "  def __init__(self, *args):\n",
        "    super().__init__()\n",
        "    self.modules = []\n",
        "    for block in args:\n",
        "      self.modules.append(block)\n",
        "\n",
        "  def call(self,X):\n",
        "    for module in self.modules:\n",
        "      X=module(X)\n",
        "    return(X)\n"
      ],
      "execution_count": 8,
      "outputs": []
    },
    {
      "cell_type": "code",
      "metadata": {
        "colab": {
          "base_uri": "https://localhost:8080/"
        },
        "id": "K5f364x5oLPu",
        "outputId": "b06843eb-4c98-48b6-fc38-518caebcdcf1"
      },
      "source": [
        "net = MySequential(\n",
        "    tf.keras.layers.Dense(units=256, activation=tf.nn.relu),\n",
        "    tf.keras.layers.Dense(10))\n",
        "net(X)"
      ],
      "execution_count": 9,
      "outputs": [
        {
          "output_type": "execute_result",
          "data": {
            "text/plain": [
              "<tf.Tensor: shape=(2, 10), dtype=float32, numpy=\n",
              "array([[ 0.08934961,  0.4987669 ,  0.21602273,  0.28155765, -0.14894572,\n",
              "        -0.41399235,  0.1760551 , -0.28952006, -0.17446782,  0.19280595],\n",
              "       [ 0.05327718,  0.46403652,  0.23126954,  0.17242783, -0.18567531,\n",
              "        -0.31692493,  0.41848895, -0.24408944, -0.04909487, -0.00834145]],\n",
              "      dtype=float32)>"
            ]
          },
          "metadata": {
            "tags": []
          },
          "execution_count": 9
        }
      ]
    },
    {
      "cell_type": "markdown",
      "metadata": {
        "id": "v965wwvi4vMh"
      },
      "source": [
        "Below the Module is constructed where several models are applied in parallel on the same input data and the results are concatenated. It is intended to use the code in multihead attention in Transformers."
      ]
    },
    {
      "cell_type": "code",
      "metadata": {
        "id": "kKhqLfYO5GcP"
      },
      "source": [
        "#initialize the list of n models which is constructed from the same model\n",
        "#\n",
        "def list_of_models(model, n):\n",
        "  return [model]*n\n"
      ],
      "execution_count": 10,
      "outputs": []
    },
    {
      "cell_type": "code",
      "metadata": {
        "id": "h_jo2m73zZnD"
      },
      "source": [
        "list_models = [tf.keras.layers.Dense(10)]*3\n",
        "arg_list = list_of_models(tf.keras.layers.Dense(10),3)"
      ],
      "execution_count": 11,
      "outputs": []
    },
    {
      "cell_type": "code",
      "metadata": {
        "id": "nkQXTMh3og87"
      },
      "source": [
        "### use *args to supply a list of models of variable length \n",
        "class MyParallel(tf.keras.Model):\n",
        "  def __init__(self, *args):\n",
        "    super().__init__()\n",
        "    self.modules = []\n",
        "    for block in args:\n",
        "      self.modules.append(block)\n",
        "\n",
        "  def call(self,X):\n",
        "    list_res= []\n",
        "    for module in self.modules:\n",
        "      list_res.append(module(X))\n",
        "#      print(len(list_res))\n",
        "#    print(list_res)\n",
        "    concat_final= tf.concat(list_res, -1)\n",
        "    return(concat_final)"
      ],
      "execution_count": 12,
      "outputs": []
    },
    {
      "cell_type": "code",
      "metadata": {
        "colab": {
          "base_uri": "https://localhost:8080/"
        },
        "id": "9qVuatMBqKpE",
        "outputId": "d4b1f86b-dab0-47bd-fd37-1875cba57294"
      },
      "source": [
        "net = MyParallel(tf.keras.layers.Dense(10), tf.keras.layers.Dense(10), tf.keras.layers.Dense(10))\n",
        "X = tf.random.uniform((2,10))\n",
        "net(X)"
      ],
      "execution_count": 13,
      "outputs": [
        {
          "output_type": "execute_result",
          "data": {
            "text/plain": [
              "<tf.Tensor: shape=(2, 30), dtype=float32, numpy=\n",
              "array([[-0.6265111 ,  0.03493553,  0.5463366 ,  0.09788583,  0.98766917,\n",
              "         0.86607236, -1.0141735 ,  0.38054252, -1.1048366 ,  0.48305997,\n",
              "        -0.32125568,  0.83885604, -0.4091549 ,  0.3872388 ,  0.13924542,\n",
              "        -0.24876627,  0.80291384,  0.42212495, -0.14296646, -0.3387097 ,\n",
              "         0.03151526,  0.7264527 ,  0.10984216, -0.9317466 , -0.4808729 ,\n",
              "         0.951396  ,  0.04512585,  0.7286407 , -0.5385448 , -0.8669783 ],\n",
              "       [ 0.6564251 , -0.19665673,  0.064319  , -0.33675522,  0.4889831 ,\n",
              "         0.8243855 , -0.81144124,  0.19182771, -1.2137411 ,  0.33441728,\n",
              "        -0.3233828 ,  0.21828537, -0.82481694,  0.2218912 , -0.22842976,\n",
              "        -0.46956187,  0.46885934,  0.9828911 , -0.36073273, -0.05411854,\n",
              "         0.3336642 ,  1.6485653 , -0.3277831 , -0.5855143 ,  0.07096586,\n",
              "         1.0356281 , -0.20889251,  0.71922135, -0.58901817, -0.5973939 ]],\n",
              "      dtype=float32)>"
            ]
          },
          "metadata": {
            "tags": []
          },
          "execution_count": 13
        }
      ]
    },
    {
      "cell_type": "code",
      "metadata": {
        "colab": {
          "base_uri": "https://localhost:8080/"
        },
        "id": "WN6a5o0TzqzN",
        "outputId": "ae630512-da01-43f6-8ea8-af64cdd1d305"
      },
      "source": [
        "### to use the list_models (which is a list) we have to unpack it\n",
        "net = MyParallel(*list_models)\n",
        "X = tf.random.uniform((2,10))\n",
        "net(X)"
      ],
      "execution_count": 14,
      "outputs": [
        {
          "output_type": "execute_result",
          "data": {
            "text/plain": [
              "<tf.Tensor: shape=(2, 30), dtype=float32, numpy=\n",
              "array([[ 0.43916833, -0.4916648 ,  0.12814364,  0.0731592 , -0.0019552 ,\n",
              "         0.28563952,  0.43955463, -0.82320714, -0.506758  , -1.2878426 ,\n",
              "         0.43916833, -0.4916648 ,  0.12814364,  0.0731592 , -0.0019552 ,\n",
              "         0.28563952,  0.43955463, -0.82320714, -0.506758  , -1.2878426 ,\n",
              "         0.43916833, -0.4916648 ,  0.12814364,  0.0731592 , -0.0019552 ,\n",
              "         0.28563952,  0.43955463, -0.82320714, -0.506758  , -1.2878426 ],\n",
              "       [ 0.5116131 , -0.18132922, -0.23721924,  0.24092817,  0.2930154 ,\n",
              "         0.27862704,  0.8339441 , -1.1740276 , -0.36932296, -1.548611  ,\n",
              "         0.5116131 , -0.18132922, -0.23721924,  0.24092817,  0.2930154 ,\n",
              "         0.27862704,  0.8339441 , -1.1740276 , -0.36932296, -1.548611  ,\n",
              "         0.5116131 , -0.18132922, -0.23721924,  0.24092817,  0.2930154 ,\n",
              "         0.27862704,  0.8339441 , -1.1740276 , -0.36932296, -1.548611  ]],\n",
              "      dtype=float32)>"
            ]
          },
          "metadata": {
            "tags": []
          },
          "execution_count": 14
        }
      ]
    },
    {
      "cell_type": "code",
      "metadata": {
        "colab": {
          "base_uri": "https://localhost:8080/"
        },
        "id": "jxCVpOA36QnL",
        "outputId": "3709361c-601d-4a5b-c34d-e711cf1aa9f0"
      },
      "source": [
        "net = MyParallel(*arg_list)\n",
        "X = tf.random.uniform((2,10))\n",
        "net(X)"
      ],
      "execution_count": 15,
      "outputs": [
        {
          "output_type": "execute_result",
          "data": {
            "text/plain": [
              "<tf.Tensor: shape=(2, 30), dtype=float32, numpy=\n",
              "array([[-0.22108719,  1.0575656 ,  0.4960766 , -0.89573157, -0.6078662 ,\n",
              "        -0.11182718, -0.21006355,  0.0503401 ,  0.8280648 ,  2.0990157 ,\n",
              "        -0.22108719,  1.0575656 ,  0.4960766 , -0.89573157, -0.6078662 ,\n",
              "        -0.11182718, -0.21006355,  0.0503401 ,  0.8280648 ,  2.0990157 ,\n",
              "        -0.22108719,  1.0575656 ,  0.4960766 , -0.89573157, -0.6078662 ,\n",
              "        -0.11182718, -0.21006355,  0.0503401 ,  0.8280648 ,  2.0990157 ],\n",
              "       [ 0.13306147,  0.9277452 ,  0.12003216, -0.1998664 ,  0.22129753,\n",
              "         0.39661455, -0.49635756,  0.34123522,  0.572397  ,  1.8829432 ,\n",
              "         0.13306147,  0.9277452 ,  0.12003216, -0.1998664 ,  0.22129753,\n",
              "         0.39661455, -0.49635756,  0.34123522,  0.572397  ,  1.8829432 ,\n",
              "         0.13306147,  0.9277452 ,  0.12003216, -0.1998664 ,  0.22129753,\n",
              "         0.39661455, -0.49635756,  0.34123522,  0.572397  ,  1.8829432 ]],\n",
              "      dtype=float32)>"
            ]
          },
          "metadata": {
            "tags": []
          },
          "execution_count": 15
        }
      ]
    },
    {
      "cell_type": "code",
      "metadata": {
        "id": "LwZ-JbDvUJuj"
      },
      "source": [
        "### Nested Models \n",
        "class NestedBlocks(tf.keras.Model):\n",
        "  def __init__(self):\n",
        "    super().__init__()\n",
        "    self.net=tf.keras.Sequential()\n",
        "    self.net.add(tf.keras.layers.Dense(20,activation = tf.nn.relu))\n",
        "    self.net.add(tf.keras.layers.Dense(20,activation = tf.nn.relu))\n",
        "    self.dense = tf.keras.layers.Dense(20,activation = tf.nn.relu)\n",
        "\n",
        "  def call(self, inputs):\n",
        "    return self.dense(self.net(inputs))\n",
        "\n"
      ],
      "execution_count": 16,
      "outputs": []
    },
    {
      "cell_type": "code",
      "metadata": {
        "colab": {
          "base_uri": "https://localhost:8080/"
        },
        "id": "biCwieTmWYEi",
        "outputId": "679c5a0c-bd6e-42d3-c5ab-b2e9d7184d49"
      },
      "source": [
        "net = NestedBlocks()\n",
        "X = tf.random.uniform((2, 20))\n",
        "net(X)"
      ],
      "execution_count": 17,
      "outputs": [
        {
          "output_type": "execute_result",
          "data": {
            "text/plain": [
              "<tf.Tensor: shape=(2, 20), dtype=float32, numpy=\n",
              "array([[0.        , 0.        , 0.1916143 , 0.5057243 , 0.21551774,\n",
              "        0.        , 0.        , 0.        , 0.17900959, 0.28334907,\n",
              "        0.        , 0.26462373, 0.        , 0.40603   , 0.        ,\n",
              "        0.34378237, 0.        , 0.        , 0.        , 0.        ],\n",
              "       [0.        , 0.        , 0.08558773, 0.40184224, 0.14577362,\n",
              "        0.        , 0.        , 0.        , 0.13933332, 0.15979218,\n",
              "        0.        , 0.16398239, 0.        , 0.3155504 , 0.        ,\n",
              "        0.2669871 , 0.        , 0.        , 0.        , 0.        ]],\n",
              "      dtype=float32)>"
            ]
          },
          "metadata": {
            "tags": []
          },
          "execution_count": 17
        }
      ]
    },
    {
      "cell_type": "markdown",
      "metadata": {
        "id": "323VZoHSWU1P"
      },
      "source": [
        "Parameter access"
      ]
    },
    {
      "cell_type": "code",
      "metadata": {
        "colab": {
          "base_uri": "https://localhost:8080/"
        },
        "id": "TY1f8fCoWnC9",
        "outputId": "cbfeea4a-de40-46ba-f48a-3e9697a90feb"
      },
      "source": [
        "import numpy as np\n",
        "\n",
        "net = tf.keras.models.Sequential([\n",
        "    tf.keras.layers.Flatten(),\n",
        "    tf.keras.layers.Dense(4, activation=tf.nn.relu),\n",
        "    tf.keras.layers.Dense(1)\n",
        "])\n",
        "\n",
        "X = tf.random.uniform((2, 4))\n",
        "net(X)"
      ],
      "execution_count": 18,
      "outputs": [
        {
          "output_type": "execute_result",
          "data": {
            "text/plain": [
              "<tf.Tensor: shape=(2, 1), dtype=float32, numpy=\n",
              "array([[0.3677348 ],\n",
              "       [0.11355917]], dtype=float32)>"
            ]
          },
          "metadata": {
            "tags": []
          },
          "execution_count": 18
        }
      ]
    },
    {
      "cell_type": "code",
      "metadata": {
        "colab": {
          "base_uri": "https://localhost:8080/"
        },
        "id": "I898wmQbX5yl",
        "outputId": "e3800665-ff0d-4f7c-dc81-4e0542b93bf7"
      },
      "source": [
        "print(net.layers[2].weights)"
      ],
      "execution_count": 19,
      "outputs": [
        {
          "output_type": "stream",
          "text": [
            "[<tf.Variable 'dense_15/kernel:0' shape=(4, 1) dtype=float32, numpy=\n",
            "array([[ 0.27844834],\n",
            "       [ 0.3181486 ],\n",
            "       [ 0.9125359 ],\n",
            "       [-0.9706087 ]], dtype=float32)>, <tf.Variable 'dense_15/bias:0' shape=(1,) dtype=float32, numpy=array([0.], dtype=float32)>]\n"
          ],
          "name": "stdout"
        }
      ]
    },
    {
      "cell_type": "code",
      "metadata": {
        "colab": {
          "base_uri": "https://localhost:8080/"
        },
        "id": "JxjWkJDqZPUk",
        "outputId": "02570fdf-4b4d-4993-88c4-ee16069b5c91"
      },
      "source": [
        "print(type(net.layers[2].weights[1]))\n",
        "print(net.layers[2].weights[1])\n",
        "print(tf.convert_to_tensor(net.layers[2].weights[1]))"
      ],
      "execution_count": 20,
      "outputs": [
        {
          "output_type": "stream",
          "text": [
            "<class 'tensorflow.python.ops.resource_variable_ops.ResourceVariable'>\n",
            "<tf.Variable 'dense_15/bias:0' shape=(1,) dtype=float32, numpy=array([0.], dtype=float32)>\n",
            "tf.Tensor([0.], shape=(1,), dtype=float32)\n"
          ],
          "name": "stdout"
        }
      ]
    },
    {
      "cell_type": "code",
      "metadata": {
        "colab": {
          "base_uri": "https://localhost:8080/"
        },
        "id": "K2HY5chlacBf",
        "outputId": "3a9387e5-8c11-4a97-af4b-cade17e388d7"
      },
      "source": [
        "print(net.layers[1].weights)\n",
        "print(net.get_weights())"
      ],
      "execution_count": 21,
      "outputs": [
        {
          "output_type": "stream",
          "text": [
            "[<tf.Variable 'dense_14/kernel:0' shape=(4, 4) dtype=float32, numpy=\n",
            "array([[-0.08881402, -0.32916284,  0.51527685, -0.7802759 ],\n",
            "       [ 0.59787554, -0.35355616,  0.30131763, -0.19972724],\n",
            "       [ 0.5504481 ,  0.824084  , -0.33000797,  0.7529492 ],\n",
            "       [-0.7628474 ,  0.31068665, -0.30919534, -0.01447111]],\n",
            "      dtype=float32)>, <tf.Variable 'dense_14/bias:0' shape=(4,) dtype=float32, numpy=array([0., 0., 0., 0.], dtype=float32)>]\n",
            "[array([[-0.08881402, -0.32916284,  0.51527685, -0.7802759 ],\n",
            "       [ 0.59787554, -0.35355616,  0.30131763, -0.19972724],\n",
            "       [ 0.5504481 ,  0.824084  , -0.33000797,  0.7529492 ],\n",
            "       [-0.7628474 ,  0.31068665, -0.30919534, -0.01447111]],\n",
            "      dtype=float32), array([0., 0., 0., 0.], dtype=float32), array([[ 0.27844834],\n",
            "       [ 0.3181486 ],\n",
            "       [ 0.9125359 ],\n",
            "       [-0.9706087 ]], dtype=float32), array([0.], dtype=float32)]\n"
          ],
          "name": "stdout"
        }
      ]
    },
    {
      "cell_type": "code",
      "metadata": {
        "colab": {
          "base_uri": "https://localhost:8080/"
        },
        "id": "17aEY8l8ancj",
        "outputId": "9e53e4f9-aed2-4eaf-90ac-aafdcc2635a8"
      },
      "source": [
        "net.get_weights()[1]"
      ],
      "execution_count": 22,
      "outputs": [
        {
          "output_type": "execute_result",
          "data": {
            "text/plain": [
              "array([0., 0., 0., 0.], dtype=float32)"
            ]
          },
          "metadata": {
            "tags": []
          },
          "execution_count": 22
        }
      ]
    },
    {
      "cell_type": "code",
      "metadata": {
        "colab": {
          "base_uri": "https://localhost:8080/"
        },
        "id": "bNGHRk_NcV-N",
        "outputId": "bac249e4-7fdb-4c8a-9778-43ec322af97d"
      },
      "source": [
        "### collecting parameters from nested blocks\n",
        "def block1(name):\n",
        "    return tf.keras.Sequential([\n",
        "        tf.keras.layers.Flatten(),\n",
        "        tf.keras.layers.Dense(4, activation=tf.nn.relu)],\n",
        "        name=name)\n",
        "\n",
        "def block2():\n",
        "    net = tf.keras.Sequential()\n",
        "    for i in range(4):\n",
        "        # Nested here\n",
        "        net.add(block1(name=f'block-{i}'))\n",
        "    return net\n",
        "\n",
        "rgnet = tf.keras.Sequential()\n",
        "rgnet.add(block2())\n",
        "rgnet.add(tf.keras.layers.Dense(1))\n",
        "rgnet(X)"
      ],
      "execution_count": 23,
      "outputs": [
        {
          "output_type": "execute_result",
          "data": {
            "text/plain": [
              "<tf.Tensor: shape=(2, 1), dtype=float32, numpy=\n",
              "array([[-0.01382869],\n",
              "       [-0.01077355]], dtype=float32)>"
            ]
          },
          "metadata": {
            "tags": []
          },
          "execution_count": 23
        }
      ]
    },
    {
      "cell_type": "code",
      "metadata": {
        "colab": {
          "base_uri": "https://localhost:8080/"
        },
        "id": "A8XJIQ8Zfc2g",
        "outputId": "73fefd04-c9af-4f44-b1b7-854d4311d2d1"
      },
      "source": [
        "print(rgnet.summary())"
      ],
      "execution_count": 24,
      "outputs": [
        {
          "output_type": "stream",
          "text": [
            "Model: \"sequential_3\"\n",
            "_________________________________________________________________\n",
            "Layer (type)                 Output Shape              Param #   \n",
            "=================================================================\n",
            "sequential_4 (Sequential)    (2, 4)                    80        \n",
            "_________________________________________________________________\n",
            "dense_20 (Dense)             (2, 1)                    5         \n",
            "=================================================================\n",
            "Total params: 85\n",
            "Trainable params: 85\n",
            "Non-trainable params: 0\n",
            "_________________________________________________________________\n",
            "None\n"
          ],
          "name": "stdout"
        }
      ]
    },
    {
      "cell_type": "code",
      "metadata": {
        "colab": {
          "base_uri": "https://localhost:8080/"
        },
        "id": "YyuvTRMbj-l8",
        "outputId": "89e8e27d-c04d-4c4b-d2f4-1e7724695b0a"
      },
      "source": [
        "rgnet.layers[0].layers[1].layers[1].weights[1]"
      ],
      "execution_count": 25,
      "outputs": [
        {
          "output_type": "execute_result",
          "data": {
            "text/plain": [
              "<tf.Variable 'sequential_4/block-1/dense_17/bias:0' shape=(4,) dtype=float32, numpy=array([0., 0., 0., 0.], dtype=float32)>"
            ]
          },
          "metadata": {
            "tags": []
          },
          "execution_count": 25
        }
      ]
    },
    {
      "cell_type": "code",
      "metadata": {
        "colab": {
          "base_uri": "https://localhost:8080/"
        },
        "id": "5doUcFSEtQVF",
        "outputId": "7154a278-4dcf-4f3d-b681-1b0b69cbab64"
      },
      "source": [
        "net_prl = MyParallel(tf.keras.layers.Dense(4), tf.keras.layers.Dense(4), tf.keras.layers.Dense(4))\n",
        "X = tf.random.uniform((1,4))\n",
        "net_prl(X)"
      ],
      "execution_count": 26,
      "outputs": [
        {
          "output_type": "execute_result",
          "data": {
            "text/plain": [
              "<tf.Tensor: shape=(1, 12), dtype=float32, numpy=\n",
              "array([[ 0.73431635, -0.06339328,  0.17965657, -0.49208155,  0.46116024,\n",
              "        -0.02776731,  0.7598322 ,  0.6055757 ,  0.4468705 ,  1.3513756 ,\n",
              "         0.638832  , -0.7517152 ]], dtype=float32)>"
            ]
          },
          "metadata": {
            "tags": []
          },
          "execution_count": 26
        }
      ]
    },
    {
      "cell_type": "code",
      "metadata": {
        "colab": {
          "base_uri": "https://localhost:8080/"
        },
        "id": "vHbpoigVtZLZ",
        "outputId": "0c82d9bd-e242-4237-a512-e12804571976"
      },
      "source": [
        "print(net_prl.summary())"
      ],
      "execution_count": 27,
      "outputs": [
        {
          "output_type": "stream",
          "text": [
            "Model: \"my_parallel_3\"\n",
            "_________________________________________________________________\n",
            "Layer (type)                 Output Shape              Param #   \n",
            "=================================================================\n",
            "dense_21 (Dense)             multiple                  20        \n",
            "_________________________________________________________________\n",
            "dense_22 (Dense)             multiple                  20        \n",
            "_________________________________________________________________\n",
            "dense_23 (Dense)             multiple                  20        \n",
            "=================================================================\n",
            "Total params: 60\n",
            "Trainable params: 60\n",
            "Non-trainable params: 0\n",
            "_________________________________________________________________\n",
            "None\n"
          ],
          "name": "stdout"
        }
      ]
    },
    {
      "cell_type": "code",
      "metadata": {
        "colab": {
          "base_uri": "https://localhost:8080/"
        },
        "id": "oXccmjShyDDS",
        "outputId": "ab2b4613-d668-47a1-e28d-ec5be71b6e67"
      },
      "source": [
        "net = tf.keras.models.Sequential([\n",
        "  tf.keras.layers.Flatten(),\n",
        "  tf.keras.layers.Dense(\n",
        "      4, activation = tf.nn.relu, \n",
        "      kernel_initializer = tf.random_normal_initializer(mean=0, stddev=0.01),\n",
        "      bias_initializer=tf.zeros_initializer()\n",
        "  ),\n",
        "  tf.keras.layers.Dense(1)                                  \n",
        "])\n",
        "net(X)\n",
        "net.weights"
      ],
      "execution_count": 28,
      "outputs": [
        {
          "output_type": "execute_result",
          "data": {
            "text/plain": [
              "[<tf.Variable 'dense_24/kernel:0' shape=(4, 4) dtype=float32, numpy=\n",
              " array([[ 0.0028787 , -0.01225488,  0.0054406 ,  0.00692397],\n",
              "        [-0.00957665, -0.02282341,  0.0086571 ,  0.00398314],\n",
              "        [ 0.00377422,  0.00510709,  0.01372571,  0.00540433],\n",
              "        [-0.00198938,  0.01209311,  0.00795927, -0.00978171]],\n",
              "       dtype=float32)>,\n",
              " <tf.Variable 'dense_24/bias:0' shape=(4,) dtype=float32, numpy=array([0., 0., 0., 0.], dtype=float32)>,\n",
              " <tf.Variable 'dense_25/kernel:0' shape=(4, 1) dtype=float32, numpy=\n",
              " array([[ 0.26730108],\n",
              "        [-0.1912573 ],\n",
              "        [-0.28552192],\n",
              "        [-0.2977556 ]], dtype=float32)>,\n",
              " <tf.Variable 'dense_25/bias:0' shape=(1,) dtype=float32, numpy=array([0.], dtype=float32)>]"
            ]
          },
          "metadata": {
            "tags": []
          },
          "execution_count": 28
        }
      ]
    },
    {
      "cell_type": "code",
      "metadata": {
        "colab": {
          "base_uri": "https://localhost:8080/"
        },
        "id": "EzQSa9JezlrH",
        "outputId": "c0ed9b96-a65e-4355-9380-ed304b516f24"
      },
      "source": [
        "net = tf.keras.models.Sequential([\n",
        "    tf.keras.layers.Flatten(),\n",
        "    tf.keras.layers.Dense(\n",
        "        4, activation=tf.nn.relu,\n",
        "        kernel_initializer=tf.keras.initializers.Constant(1),\n",
        "        bias_initializer=tf.zeros_initializer()),\n",
        "    tf.keras.layers.Dense(1),\n",
        "])\n",
        "\n",
        "net(X)\n",
        "net.weights[0], net.weights[1]"
      ],
      "execution_count": 29,
      "outputs": [
        {
          "output_type": "execute_result",
          "data": {
            "text/plain": [
              "(<tf.Variable 'dense_26/kernel:0' shape=(4, 4) dtype=float32, numpy=\n",
              " array([[1., 1., 1., 1.],\n",
              "        [1., 1., 1., 1.],\n",
              "        [1., 1., 1., 1.],\n",
              "        [1., 1., 1., 1.]], dtype=float32)>,\n",
              " <tf.Variable 'dense_26/bias:0' shape=(4,) dtype=float32, numpy=array([0., 0., 0., 0.], dtype=float32)>)"
            ]
          },
          "metadata": {
            "tags": []
          },
          "execution_count": 29
        }
      ]
    },
    {
      "cell_type": "code",
      "metadata": {
        "colab": {
          "base_uri": "https://localhost:8080/"
        },
        "id": "rI815Psbz3cl",
        "outputId": "574c0346-97ea-455b-d434-3850b7abd1ec"
      },
      "source": [
        "net = tf.keras.models.Sequential([\n",
        "    tf.keras.layers.Flatten(),\n",
        "    tf.keras.layers.Dense(\n",
        "        4,\n",
        "        activation=tf.nn.relu,\n",
        "        kernel_initializer=tf.keras.initializers.GlorotUniform()),\n",
        "    tf.keras.layers.Dense(\n",
        "        1, kernel_initializer=tf.keras.initializers.Constant(1)),\n",
        "])\n",
        "\n",
        "net(X)\n",
        "print(net.layers[1].weights[0])\n",
        "print(net.layers[2].weights[0])"
      ],
      "execution_count": 30,
      "outputs": [
        {
          "output_type": "stream",
          "text": [
            "<tf.Variable 'dense_28/kernel:0' shape=(4, 4) dtype=float32, numpy=\n",
            "array([[-0.47673595,  0.06076294, -0.28465432, -0.8403269 ],\n",
            "       [ 0.5425888 ,  0.79675084, -0.82446146,  0.02563405],\n",
            "       [-0.6462988 ,  0.8172081 , -0.07403815,  0.15194541],\n",
            "       [ 0.526377  ,  0.8342189 , -0.6945702 , -0.23790413]],\n",
            "      dtype=float32)>\n",
            "<tf.Variable 'dense_29/kernel:0' shape=(4, 1) dtype=float32, numpy=\n",
            "array([[1.],\n",
            "       [1.],\n",
            "       [1.],\n",
            "       [1.]], dtype=float32)>\n"
          ],
          "name": "stdout"
        }
      ]
    },
    {
      "cell_type": "code",
      "metadata": {
        "colab": {
          "base_uri": "https://localhost:8080/"
        },
        "id": "--vXHGAs1B59",
        "outputId": "cb166d58-8f38-4f81-ea4f-2c20d7fb4c6f"
      },
      "source": [
        "class MyInit(tf.keras.initializers.Initializer):\n",
        "  def __init__(self,shape, dtype=None):\n",
        "    data = tf.random.uniform(shape, -10,10,dtype=dtype)\n",
        "    factor=(tf.abs.data >=5)\n",
        "    factor=tf.cast(factor, tf.float32)\n",
        "    return factor*data\n",
        "\n",
        "net(X)\n",
        "net.layers[1].weights"
      ],
      "execution_count": 31,
      "outputs": [
        {
          "output_type": "execute_result",
          "data": {
            "text/plain": [
              "[<tf.Variable 'dense_28/kernel:0' shape=(4, 4) dtype=float32, numpy=\n",
              " array([[-0.47673595,  0.06076294, -0.28465432, -0.8403269 ],\n",
              "        [ 0.5425888 ,  0.79675084, -0.82446146,  0.02563405],\n",
              "        [-0.6462988 ,  0.8172081 , -0.07403815,  0.15194541],\n",
              "        [ 0.526377  ,  0.8342189 , -0.6945702 , -0.23790413]],\n",
              "       dtype=float32)>,\n",
              " <tf.Variable 'dense_28/bias:0' shape=(4,) dtype=float32, numpy=array([0., 0., 0., 0.], dtype=float32)>]"
            ]
          },
          "metadata": {
            "tags": []
          },
          "execution_count": 31
        }
      ]
    },
    {
      "cell_type": "code",
      "metadata": {
        "colab": {
          "base_uri": "https://localhost:8080/"
        },
        "id": "NjfUeMnA22Ex",
        "outputId": "27600dd1-5795-4b1e-9b59-42bfd04d3b5b"
      },
      "source": [
        "### assign parameters\n",
        "net.layers[1].weights[0][:].assign(net.layers[1].weights[0] + 1)\n",
        "net.layers[1].weights[0][0, 0].assign(42)\n",
        "net.layers[1].weights[0]"
      ],
      "execution_count": 32,
      "outputs": [
        {
          "output_type": "execute_result",
          "data": {
            "text/plain": [
              "<tf.Variable 'dense_28/kernel:0' shape=(4, 4) dtype=float32, numpy=\n",
              "array([[42.        ,  1.0607629 ,  0.7153457 ,  0.1596731 ],\n",
              "       [ 1.5425887 ,  1.7967508 ,  0.17553854,  1.025634  ],\n",
              "       [ 0.35370117,  1.817208  ,  0.92596185,  1.1519454 ],\n",
              "       [ 1.526377  ,  1.834219  ,  0.30542982,  0.76209587]],\n",
              "      dtype=float32)>"
            ]
          },
          "metadata": {
            "tags": []
          },
          "execution_count": 32
        }
      ]
    },
    {
      "cell_type": "code",
      "metadata": {
        "id": "ptVWzwzt3EuU",
        "colab": {
          "base_uri": "https://localhost:8080/"
        },
        "outputId": "00dd0da6-380f-4f0d-fbdf-b3cb72cf5b38"
      },
      "source": [
        "# tf.keras behaves a bit differently. It removes the duplicate layer\n",
        "# automatically\n",
        "shared = tf.keras.layers.Dense(4, activation=tf.nn.relu)\n",
        "net = tf.keras.models.Sequential([\n",
        "    tf.keras.layers.Flatten(),\n",
        "    shared,\n",
        "    shared,\n",
        "    tf.keras.layers.Dense(1),\n",
        "])\n",
        "\n",
        "net(X)\n",
        "# Check whether the parameters are different\n",
        "print(len(net.layers) == 3)"
      ],
      "execution_count": 33,
      "outputs": [
        {
          "output_type": "stream",
          "text": [
            "True\n"
          ],
          "name": "stdout"
        }
      ]
    },
    {
      "cell_type": "code",
      "metadata": {
        "id": "gCCFVC3ehxZW"
      },
      "source": [
        "### Deffered Initialization\n",
        "net = tf.keras.models.Sequential([\n",
        "  tf.keras.layers.Dense(256, activation=tf.nn.relu),\n",
        "  tf.keras.layers.Dense(10)                                  \n",
        "])"
      ],
      "execution_count": 34,
      "outputs": []
    },
    {
      "cell_type": "code",
      "metadata": {
        "colab": {
          "base_uri": "https://localhost:8080/"
        },
        "id": "t7jgZWZbjNMD",
        "outputId": "725c90b8-f8bd-4b6f-dfdb-a609ba3aec22"
      },
      "source": [
        "### layers are empty\n",
        "[net.layers[i].get_weights() for i in range(len(net.layers))]"
      ],
      "execution_count": 35,
      "outputs": [
        {
          "output_type": "execute_result",
          "data": {
            "text/plain": [
              "[[], []]"
            ]
          },
          "metadata": {
            "tags": []
          },
          "execution_count": 35
        }
      ]
    },
    {
      "cell_type": "code",
      "metadata": {
        "id": "uGRKdsQBjYxY"
      },
      "source": [
        "### this code gives error because net the weights are not initilized yet\n",
        "# net.get_weights()"
      ],
      "execution_count": 36,
      "outputs": []
    },
    {
      "cell_type": "code",
      "metadata": {
        "colab": {
          "base_uri": "https://localhost:8080/"
        },
        "id": "L7zdzIErj3sH",
        "outputId": "129f3da1-8803-4dc9-9ee4-96e825c416aa"
      },
      "source": [
        "X = tf.random.uniform((2,20))\n",
        "net(X)\n",
        "[w.shape for w in net.get_weights()]"
      ],
      "execution_count": 37,
      "outputs": [
        {
          "output_type": "execute_result",
          "data": {
            "text/plain": [
              "[(20, 256), (256,), (256, 10), (10,)]"
            ]
          },
          "metadata": {
            "tags": []
          },
          "execution_count": 37
        }
      ]
    },
    {
      "cell_type": "code",
      "metadata": {
        "id": "YdyN3Lr6DdsK"
      },
      "source": [
        "### Custom Layers\n",
        "class CenteredLayer(tf.keras.Model):\n",
        "    def __init__(self):\n",
        "        super().__init__()\n",
        "\n",
        "    def call(self, inputs):\n",
        "        return inputs - tf.reduce_mean(inputs)"
      ],
      "execution_count": 38,
      "outputs": []
    },
    {
      "cell_type": "code",
      "metadata": {
        "colab": {
          "base_uri": "https://localhost:8080/"
        },
        "id": "8caLfqJzESKT",
        "outputId": "384a6ee9-16d7-4175-aac4-75f99ae532bb"
      },
      "source": [
        "layer = CenteredLayer()\n",
        "layer(tf.constant([1,2,3,4]))"
      ],
      "execution_count": 39,
      "outputs": [
        {
          "output_type": "execute_result",
          "data": {
            "text/plain": [
              "<tf.Tensor: shape=(4,), dtype=int32, numpy=array([-1,  0,  1,  2], dtype=int32)>"
            ]
          },
          "metadata": {
            "tags": []
          },
          "execution_count": 39
        }
      ]
    },
    {
      "cell_type": "code",
      "metadata": {
        "id": "KCSD2NYSFVsr"
      },
      "source": [
        "net = tf.keras.Sequential([tf.keras.layers.Dense(10), CenteredLayer()])"
      ],
      "execution_count": 40,
      "outputs": []
    },
    {
      "cell_type": "code",
      "metadata": {
        "colab": {
          "base_uri": "https://localhost:8080/"
        },
        "id": "S82_p5XKF82f",
        "outputId": "c7924c43-c52f-42bb-912e-2fff024e503c"
      },
      "source": [
        "Y = net(tf.random.uniform((4,20)))\n",
        "tf.reduce_mean(Y)"
      ],
      "execution_count": 41,
      "outputs": [
        {
          "output_type": "execute_result",
          "data": {
            "text/plain": [
              "<tf.Tensor: shape=(), dtype=float32, numpy=7.450581e-09>"
            ]
          },
          "metadata": {
            "tags": []
          },
          "execution_count": 41
        }
      ]
    },
    {
      "cell_type": "code",
      "metadata": {
        "id": "KLg0PhG7G08e"
      },
      "source": [
        "### Linear layer from scratch\n",
        "class MyDense(tf.keras.Model):\n",
        "    def __init__(self, out_units):\n",
        "        super().__init__()\n",
        "        self.out_units = out_units\n",
        "\n",
        "    def build(self, X_shape):\n",
        "        self.weight = self.add_weight(name='weight',\n",
        "            shape=[X_shape[-1], self.out_units],\n",
        "            initializer=tf.random_normal_initializer())\n",
        "        self.bias = self.add_weight(\n",
        "            name='bias', shape=[self.out_units],\n",
        "            initializer=tf.zeros_initializer())\n",
        "\n",
        "    def call(self, X):\n",
        "        linear = tf.matmul(X, self.weight) + self.bias\n",
        "        return tf.nn.relu(linear)"
      ],
      "execution_count": 42,
      "outputs": []
    },
    {
      "cell_type": "code",
      "metadata": {
        "colab": {
          "base_uri": "https://localhost:8080/"
        },
        "id": "y8f_4yzeal6G",
        "outputId": "cca49aa5-764e-488c-f943-ffe2f2400e53"
      },
      "source": [
        "dense = MyDense(3)\n",
        "dense(tf.random.uniform((2, 5)))\n",
        "dense.get_weights()"
      ],
      "execution_count": 43,
      "outputs": [
        {
          "output_type": "execute_result",
          "data": {
            "text/plain": [
              "[array([[-0.04220176, -0.03584058, -0.08537377],\n",
              "        [ 0.05188091, -0.01124211,  0.002456  ],\n",
              "        [ 0.09618523, -0.03220281,  0.02665074],\n",
              "        [-0.01385284,  0.02855311,  0.01566815],\n",
              "        [-0.03256511, -0.05471463,  0.00390545]], dtype=float32),\n",
              " array([0., 0., 0.], dtype=float32)]"
            ]
          },
          "metadata": {
            "tags": []
          },
          "execution_count": 43
        }
      ]
    },
    {
      "cell_type": "code",
      "metadata": {
        "colab": {
          "base_uri": "https://localhost:8080/"
        },
        "id": "ix66IpJmbylG",
        "outputId": "9dbae4f2-6353-4519-b3ed-bf2d09af0835"
      },
      "source": [
        "dense(tf.random.uniform((2, 5)))"
      ],
      "execution_count": 44,
      "outputs": [
        {
          "output_type": "execute_result",
          "data": {
            "text/plain": [
              "<tf.Tensor: shape=(2, 3), dtype=float32, numpy=\n",
              "array([[0.05333288, 0.        , 0.02426157],\n",
              "       [0.        , 0.        , 0.        ]], dtype=float32)>"
            ]
          },
          "metadata": {
            "tags": []
          },
          "execution_count": 44
        }
      ]
    },
    {
      "cell_type": "code",
      "metadata": {
        "id": "SGL7bRCRb26i",
        "colab": {
          "base_uri": "https://localhost:8080/"
        },
        "outputId": "ca374f26-41bb-4433-8233-016179d42777"
      },
      "source": [
        "net = tf.keras.models.Sequential([MyDense(8), MyDense(1)])\n",
        "net(tf.random.uniform((2, 64)))"
      ],
      "execution_count": 45,
      "outputs": [
        {
          "output_type": "execute_result",
          "data": {
            "text/plain": [
              "<tf.Tensor: shape=(2, 1), dtype=float32, numpy=\n",
              "array([[0.],\n",
              "       [0.]], dtype=float32)>"
            ]
          },
          "metadata": {
            "tags": []
          },
          "execution_count": 45
        }
      ]
    },
    {
      "cell_type": "code",
      "metadata": {
        "id": "LVTJoqAw5sTg"
      },
      "source": [
        "### loading and saving tensors\n",
        "x= tf.range(4)\n",
        "np.save('x-file.npy',x)"
      ],
      "execution_count": 46,
      "outputs": []
    },
    {
      "cell_type": "code",
      "metadata": {
        "colab": {
          "base_uri": "https://localhost:8080/"
        },
        "id": "5oFTtxvS6jfr",
        "outputId": "abb655ae-405a-4017-9a5b-544e3f5f6ee8"
      },
      "source": [
        "x2 = np.load('x-file.npy', allow_pickle = True)\n",
        "x2"
      ],
      "execution_count": 47,
      "outputs": [
        {
          "output_type": "execute_result",
          "data": {
            "text/plain": [
              "array([0, 1, 2, 3], dtype=int32)"
            ]
          },
          "metadata": {
            "tags": []
          },
          "execution_count": 47
        }
      ]
    },
    {
      "cell_type": "code",
      "metadata": {
        "id": "F8hqrBt163Ch"
      },
      "source": [
        "### save array of files\n",
        "y = tf.zeros(4)\n",
        "np.save('x-file.npy',[x,y])"
      ],
      "execution_count": 48,
      "outputs": []
    },
    {
      "cell_type": "code",
      "metadata": {
        "id": "3KVGXqkp7M4B"
      },
      "source": [
        "x2, y2 = np.load('x-file.npy', allow_pickle=True)"
      ],
      "execution_count": 49,
      "outputs": []
    },
    {
      "cell_type": "code",
      "metadata": {
        "colab": {
          "base_uri": "https://localhost:8080/"
        },
        "id": "_2IxU5CX7chL",
        "outputId": "cc479a56-48c3-4255-958c-3fa77078f0f1"
      },
      "source": [
        "### dictionary\n",
        "mydic = {'x':x, 'y':y}\n",
        "np.save('x-file.npy', mydic)\n",
        "mydic = np.load('x-file.npy', allow_pickle=True)\n",
        "mydic"
      ],
      "execution_count": 50,
      "outputs": [
        {
          "output_type": "execute_result",
          "data": {
            "text/plain": [
              "array({'x': <tf.Tensor: shape=(4,), dtype=int32, numpy=array([0, 1, 2, 3], dtype=int32)>, 'y': <tf.Tensor: shape=(4,), dtype=float32, numpy=array([0., 0., 0., 0.], dtype=float32)>},\n",
              "      dtype=object)"
            ]
          },
          "metadata": {
            "tags": []
          },
          "execution_count": 50
        }
      ]
    },
    {
      "cell_type": "code",
      "metadata": {
        "id": "FBNkJMIA1nVQ"
      },
      "source": [
        "class MLP(tf.keras.Model):\n",
        "    def __init__(self):\n",
        "        super().__init__()\n",
        "        self.flatten = tf.keras.layers.Flatten()\n",
        "        self.hidden = tf.keras.layers.Dense(units=256, activation=tf.nn.relu)\n",
        "        self.out = tf.keras.layers.Dense(units=10)\n",
        "\n",
        "    def call(self, inputs):\n",
        "        x = self.flatten(inputs)\n",
        "        x = self.hidden(x)\n",
        "        return self.out(x)\n",
        "\n",
        "net = MLP()\n",
        "X = tf.random.uniform((2, 20))\n",
        "Y = net(X)\n"
      ],
      "execution_count": 51,
      "outputs": []
    },
    {
      "cell_type": "code",
      "metadata": {
        "colab": {
          "base_uri": "https://localhost:8080/"
        },
        "id": "YkeLq3Tq2aNX",
        "outputId": "777ec3d2-92b4-430a-966a-dbb0489ca207"
      },
      "source": [
        "net.save_weights('mlp.params')\n",
        "clone = MLP()\n",
        "clone.load_weights('mlp.params')"
      ],
      "execution_count": 52,
      "outputs": [
        {
          "output_type": "execute_result",
          "data": {
            "text/plain": [
              "<tensorflow.python.training.tracking.util.CheckpointLoadStatus at 0x7f4320041f60>"
            ]
          },
          "metadata": {
            "tags": []
          },
          "execution_count": 52
        }
      ]
    },
    {
      "cell_type": "code",
      "metadata": {
        "colab": {
          "base_uri": "https://localhost:8080/"
        },
        "id": "vZVSNy5d2uWt",
        "outputId": "1495d5fe-a5f4-4971-b4ec-ecc965eba675"
      },
      "source": [
        "Y_clone = clone(X)\n",
        "Y_clone == Y"
      ],
      "execution_count": 53,
      "outputs": [
        {
          "output_type": "execute_result",
          "data": {
            "text/plain": [
              "<tf.Tensor: shape=(2, 10), dtype=bool, numpy=\n",
              "array([[ True,  True,  True,  True,  True,  True,  True,  True,  True,\n",
              "         True],\n",
              "       [ True,  True,  True,  True,  True,  True,  True,  True,  True,\n",
              "         True]])>"
            ]
          },
          "metadata": {
            "tags": []
          },
          "execution_count": 53
        }
      ]
    },
    {
      "cell_type": "code",
      "metadata": {
        "colab": {
          "base_uri": "https://localhost:8080/"
        },
        "id": "LEX60gOL3IRj",
        "outputId": "5867dda5-f8a7-472d-cbc7-827695d27576"
      },
      "source": [
        "!nvidia-smi"
      ],
      "execution_count": 54,
      "outputs": [
        {
          "output_type": "stream",
          "text": [
            "Fri Dec  4 13:07:16 2020       \n",
            "+-----------------------------------------------------------------------------+\n",
            "| NVIDIA-SMI 455.38       Driver Version: 418.67       CUDA Version: 10.1     |\n",
            "|-------------------------------+----------------------+----------------------+\n",
            "| GPU  Name        Persistence-M| Bus-Id        Disp.A | Volatile Uncorr. ECC |\n",
            "| Fan  Temp  Perf  Pwr:Usage/Cap|         Memory-Usage | GPU-Util  Compute M. |\n",
            "|                               |                      |               MIG M. |\n",
            "|===============================+======================+======================|\n",
            "|   0  Tesla T4            Off  | 00000000:00:04.0 Off |                    0 |\n",
            "| N/A   51C    P0    28W /  70W |    289MiB / 15079MiB |      0%      Default |\n",
            "|                               |                      |                 ERR! |\n",
            "+-------------------------------+----------------------+----------------------+\n",
            "                                                                               \n",
            "+-----------------------------------------------------------------------------+\n",
            "| Processes:                                                                  |\n",
            "|  GPU   GI   CI        PID   Type   Process name                  GPU Memory |\n",
            "|        ID   ID                                                   Usage      |\n",
            "|=============================================================================|\n",
            "|  No running processes found                                                 |\n",
            "+-----------------------------------------------------------------------------+\n"
          ],
          "name": "stdout"
        }
      ]
    },
    {
      "cell_type": "code",
      "metadata": {
        "colab": {
          "base_uri": "https://localhost:8080/"
        },
        "id": "LxvUx5Ty3eiQ",
        "outputId": "35221e61-c921-47a1-974f-2ff34ae29153"
      },
      "source": [
        "tf.device('/CPU:0'), tf.device('/GPU:0'), tf.device('/GPU:1')"
      ],
      "execution_count": 55,
      "outputs": [
        {
          "output_type": "execute_result",
          "data": {
            "text/plain": [
              "(<tensorflow.python.eager.context._EagerDeviceContext at 0x7f4320041b00>,\n",
              " <tensorflow.python.eager.context._EagerDeviceContext at 0x7f42d0186c88>,\n",
              " <tensorflow.python.eager.context._EagerDeviceContext at 0x7f42d0186b00>)"
            ]
          },
          "metadata": {
            "tags": []
          },
          "execution_count": 55
        }
      ]
    },
    {
      "cell_type": "code",
      "metadata": {
        "colab": {
          "base_uri": "https://localhost:8080/"
        },
        "id": "o-0Sdy-U3pU0",
        "outputId": "1e6008a3-14ff-4d4e-a320-ba3c00a094d1"
      },
      "source": [
        "len(tf.config.experimental.list_physical_devices('GPU'))"
      ],
      "execution_count": 57,
      "outputs": [
        {
          "output_type": "execute_result",
          "data": {
            "text/plain": [
              "1"
            ]
          },
          "metadata": {
            "tags": []
          },
          "execution_count": 57
        }
      ]
    },
    {
      "cell_type": "code",
      "metadata": {
        "colab": {
          "base_uri": "https://localhost:8080/"
        },
        "id": "4ZSGCJGE4YeL",
        "outputId": "f8fca8ac-a53e-4d94-a637-0f45e66d7c22"
      },
      "source": [
        "def try_gpu(i=0):\n",
        "    \"\"\"Return gpu(i) if exists, otherwise return cpu().\"\"\"\n",
        "    if len(tf.config.experimental.list_physical_devices('GPU')) >= i + 1:\n",
        "        return tf.device(f'/GPU:{i}')\n",
        "    return tf.device('/CPU:0')\n",
        "\n",
        "def try_all_gpus():\n",
        "    \"\"\"Return all available GPUs, or [cpu(),] if no GPU exists.\"\"\"\n",
        "    num_gpus = len(tf.config.experimental.list_physical_devices('GPU'))\n",
        "    devices = [tf.device(f'/GPU:{i}') for i in range(num_gpus)]\n",
        "    return devices if devices else [tf.device('/CPU:0')]\n",
        "\n",
        "try_gpu(), try_gpu(10), try_all_gpus()"
      ],
      "execution_count": 58,
      "outputs": [
        {
          "output_type": "execute_result",
          "data": {
            "text/plain": [
              "(<tensorflow.python.eager.context._EagerDeviceContext at 0x7f42c09e5208>,\n",
              " <tensorflow.python.eager.context._EagerDeviceContext at 0x7f42c09e52b0>,\n",
              " [<tensorflow.python.eager.context._EagerDeviceContext at 0x7f42c09e52e8>])"
            ]
          },
          "metadata": {
            "tags": []
          },
          "execution_count": 58
        }
      ]
    },
    {
      "cell_type": "code",
      "metadata": {
        "colab": {
          "base_uri": "https://localhost:8080/"
        },
        "id": "yVX3DtDE9bQ0",
        "outputId": "2d926313-bfb5-4c3d-a59f-9a70666472ea"
      },
      "source": [
        "with try_gpu(1):\n",
        "    Z = X\n",
        "print(X)\n",
        "print(Z)"
      ],
      "execution_count": 59,
      "outputs": [
        {
          "output_type": "stream",
          "text": [
            "tf.Tensor(\n",
            "[[0.6307615  0.34837544 0.74484813 0.47429764 0.5553783  0.65340877\n",
            "  0.37899852 0.95533526 0.86073875 0.5689478  0.83481157 0.37412727\n",
            "  0.8626672  0.56218326 0.18310201 0.992628   0.13638139 0.5509567\n",
            "  0.7868961  0.6950313 ]\n",
            " [0.47944427 0.20026004 0.21430802 0.28957903 0.37979293 0.88332486\n",
            "  0.7723917  0.89428914 0.9870229  0.98848677 0.02067065 0.5172496\n",
            "  0.05523169 0.9378047  0.46118283 0.57336044 0.79074466 0.04564321\n",
            "  0.9285114  0.91544926]], shape=(2, 20), dtype=float32)\n",
            "tf.Tensor(\n",
            "[[0.6307615  0.34837544 0.74484813 0.47429764 0.5553783  0.65340877\n",
            "  0.37899852 0.95533526 0.86073875 0.5689478  0.83481157 0.37412727\n",
            "  0.8626672  0.56218326 0.18310201 0.992628   0.13638139 0.5509567\n",
            "  0.7868961  0.6950313 ]\n",
            " [0.47944427 0.20026004 0.21430802 0.28957903 0.37979293 0.88332486\n",
            "  0.7723917  0.89428914 0.9870229  0.98848677 0.02067065 0.5172496\n",
            "  0.05523169 0.9378047  0.46118283 0.57336044 0.79074466 0.04564321\n",
            "  0.9285114  0.91544926]], shape=(2, 20), dtype=float32)\n"
          ],
          "name": "stdout"
        }
      ]
    },
    {
      "cell_type": "code",
      "metadata": {
        "colab": {
          "base_uri": "https://localhost:8080/"
        },
        "id": "H53Dj-5i9kFA",
        "outputId": "805b6469-bc9a-4f90-eb2c-723687a44e91"
      },
      "source": [
        "X + Z"
      ],
      "execution_count": 61,
      "outputs": [
        {
          "output_type": "execute_result",
          "data": {
            "text/plain": [
              "<tf.Tensor: shape=(2, 20), dtype=float32, numpy=\n",
              "array([[1.261523  , 0.6967509 , 1.4896963 , 0.9485953 , 1.1107566 ,\n",
              "        1.3068175 , 0.75799704, 1.9106705 , 1.7214775 , 1.1378956 ,\n",
              "        1.6696231 , 0.74825454, 1.7253344 , 1.1243665 , 0.36620402,\n",
              "        1.985256  , 0.27276278, 1.1019135 , 1.5737922 , 1.3900626 ],\n",
              "       [0.95888853, 0.4005201 , 0.42861605, 0.57915807, 0.75958586,\n",
              "        1.7666497 , 1.5447834 , 1.7885783 , 1.9740458 , 1.9769735 ,\n",
              "        0.0413413 , 1.0344992 , 0.11046338, 1.8756094 , 0.92236567,\n",
              "        1.1467209 , 1.5814893 , 0.09128642, 1.8570228 , 1.8308985 ]],\n",
              "      dtype=float32)>"
            ]
          },
          "metadata": {
            "tags": []
          },
          "execution_count": 61
        }
      ]
    }
  ]
}