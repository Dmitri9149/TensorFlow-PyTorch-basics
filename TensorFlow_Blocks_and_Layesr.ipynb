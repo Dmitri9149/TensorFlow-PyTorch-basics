{
  "nbformat": 4,
  "nbformat_minor": 0,
  "metadata": {
    "colab": {
      "name": "TensorFlow_Blocks_and_Layesr.ipynb",
      "provenance": [],
      "collapsed_sections": [],
      "authorship_tag": "ABX9TyPsP+TPXpZHbRTTDfQbiMQN",
      "include_colab_link": true
    },
    "kernelspec": {
      "name": "python3",
      "display_name": "Python 3"
    }
  },
  "cells": [
    {
      "cell_type": "markdown",
      "metadata": {
        "id": "view-in-github",
        "colab_type": "text"
      },
      "source": [
        "<a href=\"https://colab.research.google.com/github/Dmitri9149/TensorFlow-PyTorch-basics/blob/master/TensorFlow_Blocks_and_Layesr.ipynb\" target=\"_parent\"><img src=\"https://colab.research.google.com/assets/colab-badge.svg\" alt=\"Open In Colab\"/></a>"
      ]
    },
    {
      "cell_type": "code",
      "metadata": {
        "id": "46ijud10VqoX"
      },
      "source": [
        "import tensorflow as tf"
      ],
      "execution_count": 44,
      "outputs": []
    },
    {
      "cell_type": "markdown",
      "metadata": {
        "id": "5gjeDxwD3hTg"
      },
      "source": [
        "The code is based on the d2l.ai book http://d2l.ai/"
      ]
    },
    {
      "cell_type": "code",
      "metadata": {
        "id": "FbspDGOOU-iN"
      },
      "source": [
        "### the code is based on d2l.ai book "
      ],
      "execution_count": 45,
      "outputs": []
    },
    {
      "cell_type": "code",
      "metadata": {
        "colab": {
          "base_uri": "https://localhost:8080/"
        },
        "id": "VZ-VVwTfWskj",
        "outputId": "570bc990-7464-40c7-ee1f-0e7913c5e168"
      },
      "source": [
        "### sequence of models , Dense with relu is the first in the chain\n",
        "net = tf.keras.models.Sequential([\n",
        "  tf.keras.layers.Dense(256,activation=tf.nn.relu),\n",
        "  tf.keras.layers.Dense(10)\n",
        "])\n",
        "\n",
        "X=tf.random.uniform((2,20))\n",
        "net(X)"
      ],
      "execution_count": 46,
      "outputs": [
        {
          "output_type": "execute_result",
          "data": {
            "text/plain": [
              "<tf.Tensor: shape=(2, 10), dtype=float32, numpy=\n",
              "array([[ 4.6504039e-01, -3.7268549e-04,  1.4102507e-01,  1.6386609e-01,\n",
              "        -2.0623261e-01,  1.2028127e-01, -1.0512621e-01, -3.8767368e-01,\n",
              "        -8.6905032e-02,  2.8686002e-02],\n",
              "       [ 3.5178965e-01,  3.9137855e-02,  1.3240145e-01,  1.4432985e-01,\n",
              "        -1.9109491e-01, -5.9812516e-02, -1.4314066e-01, -6.3585567e-01,\n",
              "        -2.0194933e-01, -6.1389461e-02]], dtype=float32)>"
            ]
          },
          "metadata": {
            "tags": []
          },
          "execution_count": 46
        }
      ]
    },
    {
      "cell_type": "code",
      "metadata": {
        "colab": {
          "base_uri": "https://localhost:8080/"
        },
        "id": "W9JqpdcWYkq3",
        "outputId": "8b2b5a54-7e0d-44e4-a603-eaaa366151be"
      },
      "source": [
        "net.call(X)"
      ],
      "execution_count": 47,
      "outputs": [
        {
          "output_type": "execute_result",
          "data": {
            "text/plain": [
              "<tf.Tensor: shape=(2, 10), dtype=float32, numpy=\n",
              "array([[ 4.6504039e-01, -3.7268549e-04,  1.4102507e-01,  1.6386609e-01,\n",
              "        -2.0623261e-01,  1.2028127e-01, -1.0512621e-01, -3.8767368e-01,\n",
              "        -8.6905032e-02,  2.8686002e-02],\n",
              "       [ 3.5178965e-01,  3.9137855e-02,  1.3240145e-01,  1.4432985e-01,\n",
              "        -1.9109491e-01, -5.9812516e-02, -1.4314066e-01, -6.3585567e-01,\n",
              "        -2.0194933e-01, -6.1389461e-02]], dtype=float32)>"
            ]
          },
          "metadata": {
            "tags": []
          },
          "execution_count": 47
        }
      ]
    },
    {
      "cell_type": "code",
      "metadata": {
        "id": "qLSzxDFKVK-k"
      },
      "source": [
        "### Custom Block"
      ],
      "execution_count": 48,
      "outputs": []
    },
    {
      "cell_type": "code",
      "metadata": {
        "id": "7zvVfoKSVRS0"
      },
      "source": [
        "class MLP(tf.keras.Model):\n",
        "  def __init__(self):\n",
        "    super().__init__()\n",
        "\n",
        "    self.hidden=tf.keras.layers.Dense(units=256,activation=tf.nn.relu)\n",
        "    self.out = tf.keras.layers.Dense(units=10)\n",
        "\n",
        "  def call(self, X):\n",
        "    return self.out(self.hidden((X)))"
      ],
      "execution_count": 49,
      "outputs": []
    },
    {
      "cell_type": "code",
      "metadata": {
        "colab": {
          "base_uri": "https://localhost:8080/"
        },
        "id": "M03aou37WIxc",
        "outputId": "0cb1350b-67a3-45a8-b1fe-49688cfd36e3"
      },
      "source": [
        "net=MLP()\n",
        "net(X)"
      ],
      "execution_count": 50,
      "outputs": [
        {
          "output_type": "execute_result",
          "data": {
            "text/plain": [
              "<tf.Tensor: shape=(2, 10), dtype=float32, numpy=\n",
              "array([[-0.25184473, -0.10998718,  0.14494838, -0.05849118, -0.1139569 ,\n",
              "         0.08733304,  0.0009399 , -0.03739362, -0.09802802,  0.14406863],\n",
              "       [-0.10416563, -0.05021951,  0.14003393, -0.12758216, -0.15856056,\n",
              "         0.24084733, -0.14473459,  0.04739891,  0.02985316, -0.10704499]],\n",
              "      dtype=float32)>"
            ]
          },
          "metadata": {
            "tags": []
          },
          "execution_count": 50
        }
      ]
    },
    {
      "cell_type": "code",
      "metadata": {
        "id": "IN6R0b4bmsD_"
      },
      "source": [
        "class MySequential(tf.keras.Model):\n",
        "  def __init__(self, *args):\n",
        "    super().__init__()\n",
        "    self.modules = []\n",
        "    for block in args:\n",
        "      self.modules.append(block)\n",
        "\n",
        "  def call(self,X):\n",
        "    for module in self.modules:\n",
        "      X=module(X)\n",
        "    return(X)\n"
      ],
      "execution_count": 51,
      "outputs": []
    },
    {
      "cell_type": "code",
      "metadata": {
        "colab": {
          "base_uri": "https://localhost:8080/"
        },
        "id": "K5f364x5oLPu",
        "outputId": "3f97e7c6-fd9a-45f0-e6f0-d848ee633b55"
      },
      "source": [
        "net = MySequential(\n",
        "    tf.keras.layers.Dense(units=256, activation=tf.nn.relu),\n",
        "    tf.keras.layers.Dense(10))\n",
        "net(X)"
      ],
      "execution_count": 52,
      "outputs": [
        {
          "output_type": "execute_result",
          "data": {
            "text/plain": [
              "<tf.Tensor: shape=(2, 10), dtype=float32, numpy=\n",
              "array([[-0.00599586, -0.34658113, -0.1930099 , -0.06366614, -0.01871253,\n",
              "         0.08566913,  0.03153611, -0.5249379 , -0.04460344, -0.08116271],\n",
              "       [ 0.12927675, -0.36692274, -0.09881213, -0.15229964, -0.0207973 ,\n",
              "        -0.28241995, -0.0886751 , -0.3907442 ,  0.05780356, -0.29689184]],\n",
              "      dtype=float32)>"
            ]
          },
          "metadata": {
            "tags": []
          },
          "execution_count": 52
        }
      ]
    },
    {
      "cell_type": "markdown",
      "metadata": {
        "id": "v965wwvi4vMh"
      },
      "source": [
        "Below the Module is constructed where several models are applied in parallel on the same input data and the results are concatenated. It is intended to use the code in multihead attention in Transformers."
      ]
    },
    {
      "cell_type": "code",
      "metadata": {
        "id": "kKhqLfYO5GcP"
      },
      "source": [
        "#initialize the list of n models which is constructed from the same model\n",
        "#\n",
        "def list_of_models(model, n):\n",
        "  return [model]*n\n"
      ],
      "execution_count": 53,
      "outputs": []
    },
    {
      "cell_type": "code",
      "metadata": {
        "id": "h_jo2m73zZnD"
      },
      "source": [
        "list_models = [tf.keras.layers.Dense(10)]*3\n",
        "arg_list = list_of_models(tf.keras.layers.Dense(10),3)"
      ],
      "execution_count": 54,
      "outputs": []
    },
    {
      "cell_type": "code",
      "metadata": {
        "id": "nkQXTMh3og87"
      },
      "source": [
        "### use *args to supply a list of models of variable length \n",
        "class MyParallel(tf.keras.Model):\n",
        "  def __init__(self, *args):\n",
        "    super().__init__()\n",
        "    self.modules = []\n",
        "    for block in args:\n",
        "      self.modules.append(block)\n",
        "\n",
        "  def call(self,X):\n",
        "    list_res= []\n",
        "    for module in self.modules:\n",
        "      list_res.append(module(X))\n",
        "#      print(len(list_res))\n",
        "#    print(list_res)\n",
        "    concat_final= tf.concat(list_res, -1)\n",
        "    return(concat_final)"
      ],
      "execution_count": 55,
      "outputs": []
    },
    {
      "cell_type": "code",
      "metadata": {
        "colab": {
          "base_uri": "https://localhost:8080/"
        },
        "id": "9qVuatMBqKpE",
        "outputId": "1d341e96-2a95-4c28-f763-f20f546f7d78"
      },
      "source": [
        "net = MyParallel(tf.keras.layers.Dense(10), tf.keras.layers.Dense(10), tf.keras.layers.Dense(10))\n",
        "X = tf.random.uniform((2,10))\n",
        "net(X)"
      ],
      "execution_count": 56,
      "outputs": [
        {
          "output_type": "execute_result",
          "data": {
            "text/plain": [
              "<tf.Tensor: shape=(2, 30), dtype=float32, numpy=\n",
              "array([[-0.44144467,  0.7776139 ,  0.06102974,  0.23586884,  0.84543943,\n",
              "         0.5533298 , -0.23535815, -0.5041257 , -0.5208286 ,  0.38090858,\n",
              "        -0.00727139,  0.7871824 , -0.9414346 , -0.7505659 , -0.58737296,\n",
              "        -0.2943083 , -0.7011899 , -0.16126645,  0.00210738, -0.01336318,\n",
              "         0.64622176, -0.26863432,  0.06435853,  0.20532823, -0.05624871,\n",
              "         0.01881026,  0.5544808 , -0.21350528,  0.3308097 ,  0.06227104],\n",
              "       [-0.09562626,  1.2704567 , -0.42853633,  0.5992415 ,  0.9173841 ,\n",
              "         0.03431927, -0.00155487,  0.11077866, -0.5407151 , -0.03168237,\n",
              "        -0.3400291 ,  0.9909556 , -0.32529828, -0.08113459, -0.64991343,\n",
              "         0.01439545, -0.24554326, -0.10330348, -0.48539433, -0.22174594,\n",
              "        -0.15891206, -0.32211384, -0.01981609,  0.66583806, -0.78658736,\n",
              "         0.85270274,  0.34786147, -0.36356002,  1.1109309 , -0.24503922]],\n",
              "      dtype=float32)>"
            ]
          },
          "metadata": {
            "tags": []
          },
          "execution_count": 56
        }
      ]
    },
    {
      "cell_type": "code",
      "metadata": {
        "colab": {
          "base_uri": "https://localhost:8080/"
        },
        "id": "WN6a5o0TzqzN",
        "outputId": "bdf8ef4c-25c5-4f29-a7d7-407cc14e4514"
      },
      "source": [
        "### to use the list_models (which is a list) we have to unpack it\n",
        "net = MyParallel(*list_models)\n",
        "X = tf.random.uniform((2,10))\n",
        "net(X)"
      ],
      "execution_count": 57,
      "outputs": [
        {
          "output_type": "execute_result",
          "data": {
            "text/plain": [
              "<tf.Tensor: shape=(2, 30), dtype=float32, numpy=\n",
              "array([[-1.4360933 ,  0.40400538, -0.6643708 , -0.3959778 , -1.027022  ,\n",
              "         0.17897028,  1.1965098 , -0.18753713,  0.38946775,  1.169302  ,\n",
              "        -1.4360933 ,  0.40400538, -0.6643708 , -0.3959778 , -1.027022  ,\n",
              "         0.17897028,  1.1965098 , -0.18753713,  0.38946775,  1.169302  ,\n",
              "        -1.4360933 ,  0.40400538, -0.6643708 , -0.3959778 , -1.027022  ,\n",
              "         0.17897028,  1.1965098 , -0.18753713,  0.38946775,  1.169302  ],\n",
              "       [-1.4119146 ,  0.4496594 , -0.8920491 , -0.7407    , -0.8593414 ,\n",
              "        -0.20986453,  1.8871973 , -0.43030584,  0.31833243,  1.5371679 ,\n",
              "        -1.4119146 ,  0.4496594 , -0.8920491 , -0.7407    , -0.8593414 ,\n",
              "        -0.20986453,  1.8871973 , -0.43030584,  0.31833243,  1.5371679 ,\n",
              "        -1.4119146 ,  0.4496594 , -0.8920491 , -0.7407    , -0.8593414 ,\n",
              "        -0.20986453,  1.8871973 , -0.43030584,  0.31833243,  1.5371679 ]],\n",
              "      dtype=float32)>"
            ]
          },
          "metadata": {
            "tags": []
          },
          "execution_count": 57
        }
      ]
    },
    {
      "cell_type": "code",
      "metadata": {
        "colab": {
          "base_uri": "https://localhost:8080/"
        },
        "id": "jxCVpOA36QnL",
        "outputId": "adc915ec-0f10-4319-886e-1381f573ebb3"
      },
      "source": [
        "net = MyParallel(*arg_list)\n",
        "X = tf.random.uniform((2,10))\n",
        "net(X)"
      ],
      "execution_count": 58,
      "outputs": [
        {
          "output_type": "execute_result",
          "data": {
            "text/plain": [
              "<tf.Tensor: shape=(2, 30), dtype=float32, numpy=\n",
              "array([[-0.685372  , -0.20500517, -0.3766685 ,  0.76773334, -0.07041395,\n",
              "        -0.16667587, -0.36151233,  0.80915624, -0.24390078,  0.01573527,\n",
              "        -0.685372  , -0.20500517, -0.3766685 ,  0.76773334, -0.07041395,\n",
              "        -0.16667587, -0.36151233,  0.80915624, -0.24390078,  0.01573527,\n",
              "        -0.685372  , -0.20500517, -0.3766685 ,  0.76773334, -0.07041395,\n",
              "        -0.16667587, -0.36151233,  0.80915624, -0.24390078,  0.01573527],\n",
              "       [-1.2358997 , -0.21316257,  0.07162188,  0.843853  , -0.1167118 ,\n",
              "        -0.31461346, -0.93894285,  1.0720873 , -0.1310479 , -0.32373545,\n",
              "        -1.2358997 , -0.21316257,  0.07162188,  0.843853  , -0.1167118 ,\n",
              "        -0.31461346, -0.93894285,  1.0720873 , -0.1310479 , -0.32373545,\n",
              "        -1.2358997 , -0.21316257,  0.07162188,  0.843853  , -0.1167118 ,\n",
              "        -0.31461346, -0.93894285,  1.0720873 , -0.1310479 , -0.32373545]],\n",
              "      dtype=float32)>"
            ]
          },
          "metadata": {
            "tags": []
          },
          "execution_count": 58
        }
      ]
    },
    {
      "cell_type": "code",
      "metadata": {
        "id": "LwZ-JbDvUJuj"
      },
      "source": [
        "### Nested Models \n",
        "class NestedBlocks(tf.keras.Model):\n",
        "  def __init__(self):\n",
        "    super().__init__()\n",
        "    self.net=tf.keras.Sequential()\n",
        "    self.net.add(tf.keras.layers.Dense(20,activation = tf.nn.relu))\n",
        "    self.net.add(tf.keras.layers.Dense(20,activation = tf.nn.relu))\n",
        "    self.dense = tf.keras.layers.Dense(20,activation = tf.nn.relu)\n",
        "\n",
        "  def call(self, inputs):\n",
        "    return self.dense(self.net(inputs))\n",
        "\n"
      ],
      "execution_count": 59,
      "outputs": []
    },
    {
      "cell_type": "code",
      "metadata": {
        "colab": {
          "base_uri": "https://localhost:8080/"
        },
        "id": "biCwieTmWYEi",
        "outputId": "3c563ba9-9872-4464-ef73-b02d36f1f596"
      },
      "source": [
        "net = NestedBlocks()\n",
        "X = tf.random.uniform((2, 20))\n",
        "net(X)"
      ],
      "execution_count": 60,
      "outputs": [
        {
          "output_type": "execute_result",
          "data": {
            "text/plain": [
              "<tf.Tensor: shape=(2, 20), dtype=float32, numpy=\n",
              "array([[0.        , 0.107412  , 0.278081  , 0.        , 0.07245494,\n",
              "        0.        , 0.        , 0.        , 0.        , 0.20427996,\n",
              "        0.        , 0.01383293, 0.        , 0.2972421 , 0.11352599,\n",
              "        0.        , 0.        , 0.        , 0.        , 0.        ],\n",
              "       [0.        , 0.02782123, 0.05398005, 0.        , 0.        ,\n",
              "        0.05253005, 0.        , 0.10640791, 0.        , 0.11002039,\n",
              "        0.        , 0.00583928, 0.        , 0.33761588, 0.17971468,\n",
              "        0.        , 0.        , 0.        , 0.        , 0.        ]],\n",
              "      dtype=float32)>"
            ]
          },
          "metadata": {
            "tags": []
          },
          "execution_count": 60
        }
      ]
    },
    {
      "cell_type": "markdown",
      "metadata": {
        "id": "323VZoHSWU1P"
      },
      "source": [
        "Parameter access"
      ]
    },
    {
      "cell_type": "code",
      "metadata": {
        "colab": {
          "base_uri": "https://localhost:8080/"
        },
        "id": "TY1f8fCoWnC9",
        "outputId": "9b6d09b8-1d8d-41ad-a572-ce1a71759dfe"
      },
      "source": [
        "import numpy as np\n",
        "\n",
        "net = tf.keras.models.Sequential([\n",
        "    tf.keras.layers.Flatten(),\n",
        "    tf.keras.layers.Dense(4, activation=tf.nn.relu),\n",
        "    tf.keras.layers.Dense(1)\n",
        "])\n",
        "\n",
        "X = tf.random.uniform((2, 4))\n",
        "net(X)"
      ],
      "execution_count": 61,
      "outputs": [
        {
          "output_type": "execute_result",
          "data": {
            "text/plain": [
              "<tf.Tensor: shape=(2, 1), dtype=float32, numpy=\n",
              "array([[ 0.31627157],\n",
              "       [-0.01517489]], dtype=float32)>"
            ]
          },
          "metadata": {
            "tags": []
          },
          "execution_count": 61
        }
      ]
    },
    {
      "cell_type": "code",
      "metadata": {
        "colab": {
          "base_uri": "https://localhost:8080/"
        },
        "id": "I898wmQbX5yl",
        "outputId": "707b9d18-e139-48a9-d2f5-c036c8732c96"
      },
      "source": [
        "print(net.layers[2].weights)"
      ],
      "execution_count": 62,
      "outputs": [
        {
          "output_type": "stream",
          "text": [
            "[<tf.Variable 'dense_51/kernel:0' shape=(4, 1) dtype=float32, numpy=\n",
            "array([[-0.2893197 ],\n",
            "       [ 0.54835355],\n",
            "       [ 0.1897304 ],\n",
            "       [-0.03031921]], dtype=float32)>, <tf.Variable 'dense_51/bias:0' shape=(1,) dtype=float32, numpy=array([0.], dtype=float32)>]\n"
          ],
          "name": "stdout"
        }
      ]
    },
    {
      "cell_type": "code",
      "metadata": {
        "colab": {
          "base_uri": "https://localhost:8080/"
        },
        "id": "JxjWkJDqZPUk",
        "outputId": "4f190da8-4f68-4030-aec4-b55648934a74"
      },
      "source": [
        "print(type(net.layers[2].weights[1]))\n",
        "print(net.layers[2].weights[1])\n",
        "print(tf.convert_to_tensor(net.layers[2].weights[1]))"
      ],
      "execution_count": 63,
      "outputs": [
        {
          "output_type": "stream",
          "text": [
            "<class 'tensorflow.python.ops.resource_variable_ops.ResourceVariable'>\n",
            "<tf.Variable 'dense_51/bias:0' shape=(1,) dtype=float32, numpy=array([0.], dtype=float32)>\n",
            "tf.Tensor([0.], shape=(1,), dtype=float32)\n"
          ],
          "name": "stdout"
        }
      ]
    },
    {
      "cell_type": "code",
      "metadata": {
        "colab": {
          "base_uri": "https://localhost:8080/"
        },
        "id": "K2HY5chlacBf",
        "outputId": "b3e8cd2a-b396-4463-f0d8-9533f7be0e5f"
      },
      "source": [
        "print(net.layers[1].weights)\n",
        "print(net.get_weights())"
      ],
      "execution_count": 64,
      "outputs": [
        {
          "output_type": "stream",
          "text": [
            "[<tf.Variable 'dense_50/kernel:0' shape=(4, 4) dtype=float32, numpy=\n",
            "array([[-0.01635313, -0.21623337, -0.59352034,  0.8598476 ],\n",
            "       [-0.24274784,  0.8045687 ,  0.70814615,  0.19596893],\n",
            "       [ 0.82256955,  0.19033974,  0.19821459, -0.04185528],\n",
            "       [-0.3091538 , -0.4348423 ,  0.5587905 , -0.26054966]],\n",
            "      dtype=float32)>, <tf.Variable 'dense_50/bias:0' shape=(4,) dtype=float32, numpy=array([0., 0., 0., 0.], dtype=float32)>]\n",
            "[array([[-0.01635313, -0.21623337, -0.59352034,  0.8598476 ],\n",
            "       [-0.24274784,  0.8045687 ,  0.70814615,  0.19596893],\n",
            "       [ 0.82256955,  0.19033974,  0.19821459, -0.04185528],\n",
            "       [-0.3091538 , -0.4348423 ,  0.5587905 , -0.26054966]],\n",
            "      dtype=float32), array([0., 0., 0., 0.], dtype=float32), array([[-0.2893197 ],\n",
            "       [ 0.54835355],\n",
            "       [ 0.1897304 ],\n",
            "       [-0.03031921]], dtype=float32), array([0.], dtype=float32)]\n"
          ],
          "name": "stdout"
        }
      ]
    },
    {
      "cell_type": "code",
      "metadata": {
        "colab": {
          "base_uri": "https://localhost:8080/"
        },
        "id": "17aEY8l8ancj",
        "outputId": "726046a9-b035-4d21-e563-26ab431a1aaa"
      },
      "source": [
        "net.get_weights()[1]"
      ],
      "execution_count": 65,
      "outputs": [
        {
          "output_type": "execute_result",
          "data": {
            "text/plain": [
              "array([0., 0., 0., 0.], dtype=float32)"
            ]
          },
          "metadata": {
            "tags": []
          },
          "execution_count": 65
        }
      ]
    },
    {
      "cell_type": "code",
      "metadata": {
        "colab": {
          "base_uri": "https://localhost:8080/"
        },
        "id": "bNGHRk_NcV-N",
        "outputId": "58a97c29-0a9b-4cfc-f80e-f917c98bba7d"
      },
      "source": [
        "### collecting parameters from nested blocks\n",
        "def block1(name):\n",
        "    return tf.keras.Sequential([\n",
        "        tf.keras.layers.Flatten(),\n",
        "        tf.keras.layers.Dense(4, activation=tf.nn.relu)],\n",
        "        name=name)\n",
        "\n",
        "def block2():\n",
        "    net = tf.keras.Sequential()\n",
        "    for i in range(4):\n",
        "        # Nested here\n",
        "        net.add(block1(name=f'block-{i}'))\n",
        "    return net\n",
        "\n",
        "rgnet = tf.keras.Sequential()\n",
        "rgnet.add(block2())\n",
        "rgnet.add(tf.keras.layers.Dense(1))\n",
        "rgnet(X)"
      ],
      "execution_count": 66,
      "outputs": [
        {
          "output_type": "execute_result",
          "data": {
            "text/plain": [
              "<tf.Tensor: shape=(2, 1), dtype=float32, numpy=\n",
              "array([[0.00305007],\n",
              "       [0.00149557]], dtype=float32)>"
            ]
          },
          "metadata": {
            "tags": []
          },
          "execution_count": 66
        }
      ]
    },
    {
      "cell_type": "code",
      "metadata": {
        "colab": {
          "base_uri": "https://localhost:8080/"
        },
        "id": "A8XJIQ8Zfc2g",
        "outputId": "51e1d8cf-68ad-48b2-e14a-65048c64e868"
      },
      "source": [
        "print(rgnet.summary())"
      ],
      "execution_count": 67,
      "outputs": [
        {
          "output_type": "stream",
          "text": [
            "Model: \"sequential_14\"\n",
            "_________________________________________________________________\n",
            "Layer (type)                 Output Shape              Param #   \n",
            "=================================================================\n",
            "sequential_15 (Sequential)   (2, 4)                    80        \n",
            "_________________________________________________________________\n",
            "dense_56 (Dense)             (2, 1)                    5         \n",
            "=================================================================\n",
            "Total params: 85\n",
            "Trainable params: 85\n",
            "Non-trainable params: 0\n",
            "_________________________________________________________________\n",
            "None\n"
          ],
          "name": "stdout"
        }
      ]
    },
    {
      "cell_type": "code",
      "metadata": {
        "colab": {
          "base_uri": "https://localhost:8080/"
        },
        "id": "YyuvTRMbj-l8",
        "outputId": "ded4fc38-50dd-4c13-f7b6-564ef41582dd"
      },
      "source": [
        "rgnet.layers[0].layers[1].layers[1].weights[1]"
      ],
      "execution_count": 68,
      "outputs": [
        {
          "output_type": "execute_result",
          "data": {
            "text/plain": [
              "<tf.Variable 'sequential_15/block-1/dense_53/bias:0' shape=(4,) dtype=float32, numpy=array([0., 0., 0., 0.], dtype=float32)>"
            ]
          },
          "metadata": {
            "tags": []
          },
          "execution_count": 68
        }
      ]
    },
    {
      "cell_type": "code",
      "metadata": {
        "colab": {
          "base_uri": "https://localhost:8080/"
        },
        "id": "5doUcFSEtQVF",
        "outputId": "e63f9538-ca37-448e-b48b-5f6943630900"
      },
      "source": [
        "net_prl = MyParallel(tf.keras.layers.Dense(4), tf.keras.layers.Dense(4), tf.keras.layers.Dense(4))\n",
        "X = tf.random.uniform((1,4))\n",
        "net_prl(X)"
      ],
      "execution_count": 69,
      "outputs": [
        {
          "output_type": "execute_result",
          "data": {
            "text/plain": [
              "<tf.Tensor: shape=(1, 12), dtype=float32, numpy=\n",
              "array([[ 0.48810187, -0.4404224 ,  0.5570709 , -0.5339688 ,  0.94602567,\n",
              "         0.7709578 , -0.6777719 ,  0.45327234, -0.9039616 , -0.4505682 ,\n",
              "        -0.5535219 ,  1.1515251 ]], dtype=float32)>"
            ]
          },
          "metadata": {
            "tags": []
          },
          "execution_count": 69
        }
      ]
    },
    {
      "cell_type": "code",
      "metadata": {
        "colab": {
          "base_uri": "https://localhost:8080/"
        },
        "id": "vHbpoigVtZLZ",
        "outputId": "eac5e245-c140-430d-a3f2-e622b2104411"
      },
      "source": [
        "print(net_prl.summary())"
      ],
      "execution_count": 70,
      "outputs": [
        {
          "output_type": "stream",
          "text": [
            "Model: \"my_parallel_7\"\n",
            "_________________________________________________________________\n",
            "Layer (type)                 Output Shape              Param #   \n",
            "=================================================================\n",
            "dense_57 (Dense)             multiple                  20        \n",
            "_________________________________________________________________\n",
            "dense_58 (Dense)             multiple                  20        \n",
            "_________________________________________________________________\n",
            "dense_59 (Dense)             multiple                  20        \n",
            "=================================================================\n",
            "Total params: 60\n",
            "Trainable params: 60\n",
            "Non-trainable params: 0\n",
            "_________________________________________________________________\n",
            "None\n"
          ],
          "name": "stdout"
        }
      ]
    },
    {
      "cell_type": "code",
      "metadata": {
        "colab": {
          "base_uri": "https://localhost:8080/"
        },
        "id": "oXccmjShyDDS",
        "outputId": "1e296e06-ea6b-42e0-a782-1f1a5d4bde93"
      },
      "source": [
        "net = tf.keras.models.Sequential([\n",
        "  tf.keras.layers.Flatten(),\n",
        "  tf.keras.layers.Dense(\n",
        "      4, activation = tf.nn.relu, \n",
        "      kernel_initializer = tf.random_normal_initializer(mean=0, stddev=0.01),\n",
        "      bias_initializer=tf.zeros_initializer()\n",
        "  ),\n",
        "  tf.keras.layers.Dense(1)                                  \n",
        "])\n",
        "net(X)\n",
        "net.weights"
      ],
      "execution_count": 71,
      "outputs": [
        {
          "output_type": "execute_result",
          "data": {
            "text/plain": [
              "[<tf.Variable 'dense_60/kernel:0' shape=(4, 4) dtype=float32, numpy=\n",
              " array([[-0.00401406, -0.01121294, -0.00982633, -0.01760029],\n",
              "        [-0.01375725,  0.00803078, -0.01387203, -0.00121617],\n",
              "        [ 0.01031441, -0.00690931,  0.01110723,  0.00201837],\n",
              "        [-0.00087148, -0.01173297, -0.01783088, -0.00239353]],\n",
              "       dtype=float32)>,\n",
              " <tf.Variable 'dense_60/bias:0' shape=(4,) dtype=float32, numpy=array([0., 0., 0., 0.], dtype=float32)>,\n",
              " <tf.Variable 'dense_61/kernel:0' shape=(4, 1) dtype=float32, numpy=\n",
              " array([[-0.66132045],\n",
              "        [ 0.05364573],\n",
              "        [-0.8701498 ],\n",
              "        [ 0.23759663]], dtype=float32)>,\n",
              " <tf.Variable 'dense_61/bias:0' shape=(1,) dtype=float32, numpy=array([0.], dtype=float32)>]"
            ]
          },
          "metadata": {
            "tags": []
          },
          "execution_count": 71
        }
      ]
    },
    {
      "cell_type": "code",
      "metadata": {
        "colab": {
          "base_uri": "https://localhost:8080/"
        },
        "id": "EzQSa9JezlrH",
        "outputId": "4467dbfd-96d8-4ae0-aaa2-be77b87dfe4c"
      },
      "source": [
        "net = tf.keras.models.Sequential([\n",
        "    tf.keras.layers.Flatten(),\n",
        "    tf.keras.layers.Dense(\n",
        "        4, activation=tf.nn.relu,\n",
        "        kernel_initializer=tf.keras.initializers.Constant(1),\n",
        "        bias_initializer=tf.zeros_initializer()),\n",
        "    tf.keras.layers.Dense(1),\n",
        "])\n",
        "\n",
        "net(X)\n",
        "net.weights[0], net.weights[1]"
      ],
      "execution_count": 72,
      "outputs": [
        {
          "output_type": "execute_result",
          "data": {
            "text/plain": [
              "(<tf.Variable 'dense_62/kernel:0' shape=(4, 4) dtype=float32, numpy=\n",
              " array([[1., 1., 1., 1.],\n",
              "        [1., 1., 1., 1.],\n",
              "        [1., 1., 1., 1.],\n",
              "        [1., 1., 1., 1.]], dtype=float32)>,\n",
              " <tf.Variable 'dense_62/bias:0' shape=(4,) dtype=float32, numpy=array([0., 0., 0., 0.], dtype=float32)>)"
            ]
          },
          "metadata": {
            "tags": []
          },
          "execution_count": 72
        }
      ]
    },
    {
      "cell_type": "code",
      "metadata": {
        "colab": {
          "base_uri": "https://localhost:8080/"
        },
        "id": "rI815Psbz3cl",
        "outputId": "b1b8034e-4ae5-497f-d76a-daedcc7e20e8"
      },
      "source": [
        "net = tf.keras.models.Sequential([\n",
        "    tf.keras.layers.Flatten(),\n",
        "    tf.keras.layers.Dense(\n",
        "        4,\n",
        "        activation=tf.nn.relu,\n",
        "        kernel_initializer=tf.keras.initializers.GlorotUniform()),\n",
        "    tf.keras.layers.Dense(\n",
        "        1, kernel_initializer=tf.keras.initializers.Constant(1)),\n",
        "])\n",
        "\n",
        "net(X)\n",
        "print(net.layers[1].weights[0])\n",
        "print(net.layers[2].weights[0])"
      ],
      "execution_count": 73,
      "outputs": [
        {
          "output_type": "stream",
          "text": [
            "<tf.Variable 'dense_64/kernel:0' shape=(4, 4) dtype=float32, numpy=\n",
            "array([[-0.4967421 , -0.4775313 , -0.703524  ,  0.37484747],\n",
            "       [-0.6972176 ,  0.32043463, -0.5647408 , -0.8072155 ],\n",
            "       [-0.34709018, -0.5511613 , -0.19392627, -0.2540849 ],\n",
            "       [-0.09782797,  0.44074732,  0.5893937 ,  0.6423599 ]],\n",
            "      dtype=float32)>\n",
            "<tf.Variable 'dense_65/kernel:0' shape=(4, 1) dtype=float32, numpy=\n",
            "array([[1.],\n",
            "       [1.],\n",
            "       [1.],\n",
            "       [1.]], dtype=float32)>\n"
          ],
          "name": "stdout"
        }
      ]
    },
    {
      "cell_type": "code",
      "metadata": {
        "colab": {
          "base_uri": "https://localhost:8080/"
        },
        "id": "--vXHGAs1B59",
        "outputId": "034a1ed6-1f3d-420c-94ad-37d0c3406b36"
      },
      "source": [
        "class MyInit(tf.keras.initializers.Initializer):\n",
        "  def __init__(self,shape, dtype=None):\n",
        "    data = tf.random.uniform(shape, -10,10,dtype=dtype)\n",
        "    factor=(tf.abs.data >=5)\n",
        "    factor=tf.cast(factor, tf.float32)\n",
        "    return factor*data\n",
        "\n",
        "net(X)\n",
        "net.layers[1].weights"
      ],
      "execution_count": 74,
      "outputs": [
        {
          "output_type": "execute_result",
          "data": {
            "text/plain": [
              "[<tf.Variable 'dense_64/kernel:0' shape=(4, 4) dtype=float32, numpy=\n",
              " array([[-0.4967421 , -0.4775313 , -0.703524  ,  0.37484747],\n",
              "        [-0.6972176 ,  0.32043463, -0.5647408 , -0.8072155 ],\n",
              "        [-0.34709018, -0.5511613 , -0.19392627, -0.2540849 ],\n",
              "        [-0.09782797,  0.44074732,  0.5893937 ,  0.6423599 ]],\n",
              "       dtype=float32)>,\n",
              " <tf.Variable 'dense_64/bias:0' shape=(4,) dtype=float32, numpy=array([0., 0., 0., 0.], dtype=float32)>]"
            ]
          },
          "metadata": {
            "tags": []
          },
          "execution_count": 74
        }
      ]
    },
    {
      "cell_type": "code",
      "metadata": {
        "colab": {
          "base_uri": "https://localhost:8080/"
        },
        "id": "NjfUeMnA22Ex",
        "outputId": "dd151e2a-381b-4c94-d663-7e15c47f749a"
      },
      "source": [
        "### assign parameters\n",
        "net.layers[1].weights[0][:].assign(net.layers[1].weights[0] + 1)\n",
        "net.layers[1].weights[0][0, 0].assign(42)\n",
        "net.layers[1].weights[0]"
      ],
      "execution_count": 75,
      "outputs": [
        {
          "output_type": "execute_result",
          "data": {
            "text/plain": [
              "<tf.Variable 'dense_64/kernel:0' shape=(4, 4) dtype=float32, numpy=\n",
              "array([[42.        ,  0.5224687 ,  0.296476  ,  1.3748474 ],\n",
              "       [ 0.30278242,  1.3204346 ,  0.43525922,  0.19278449],\n",
              "       [ 0.6529098 ,  0.4488387 ,  0.8060737 ,  0.7459151 ],\n",
              "       [ 0.902172  ,  1.4407473 ,  1.5893936 ,  1.64236   ]],\n",
              "      dtype=float32)>"
            ]
          },
          "metadata": {
            "tags": []
          },
          "execution_count": 75
        }
      ]
    },
    {
      "cell_type": "code",
      "metadata": {
        "colab": {
          "base_uri": "https://localhost:8080/"
        },
        "id": "ptVWzwzt3EuU",
        "outputId": "7617d341-9f21-4451-efbc-2fd5c67bbdf0"
      },
      "source": [
        "# tf.keras behaves a bit differently. It removes the duplicate layer\n",
        "# automatically\n",
        "shared = tf.keras.layers.Dense(4, activation=tf.nn.relu)\n",
        "net = tf.keras.models.Sequential([\n",
        "    tf.keras.layers.Flatten(),\n",
        "    shared,\n",
        "    shared,\n",
        "    tf.keras.layers.Dense(1),\n",
        "])\n",
        "\n",
        "net(X)\n",
        "# Check whether the parameters are different\n",
        "print(len(net.layers) == 3)"
      ],
      "execution_count": 76,
      "outputs": [
        {
          "output_type": "stream",
          "text": [
            "True\n"
          ],
          "name": "stdout"
        }
      ]
    }
  ]
}