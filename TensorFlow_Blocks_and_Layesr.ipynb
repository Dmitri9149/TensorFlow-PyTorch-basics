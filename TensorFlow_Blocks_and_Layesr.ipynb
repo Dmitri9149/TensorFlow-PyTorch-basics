{
  "nbformat": 4,
  "nbformat_minor": 0,
  "metadata": {
    "colab": {
      "name": "TensorFlow_Blocks_and_Layesr.ipynb",
      "provenance": [],
      "collapsed_sections": [],
      "authorship_tag": "ABX9TyMJ0O9Feg7NMkkPfAgxSPhy",
      "include_colab_link": true
    },
    "kernelspec": {
      "name": "python3",
      "display_name": "Python 3"
    }
  },
  "cells": [
    {
      "cell_type": "markdown",
      "metadata": {
        "id": "view-in-github",
        "colab_type": "text"
      },
      "source": [
        "<a href=\"https://colab.research.google.com/github/Dmitri9149/TensorFlow-PyTorch-basics/blob/master/TensorFlow_Blocks_and_Layesr.ipynb\" target=\"_parent\"><img src=\"https://colab.research.google.com/assets/colab-badge.svg\" alt=\"Open In Colab\"/></a>"
      ]
    },
    {
      "cell_type": "code",
      "metadata": {
        "id": "46ijud10VqoX"
      },
      "source": [
        "import tensorflow as tf"
      ],
      "execution_count": 62,
      "outputs": []
    },
    {
      "cell_type": "markdown",
      "metadata": {
        "id": "5gjeDxwD3hTg"
      },
      "source": [
        "The code is based on the d2l.ai book http://d2l.ai/"
      ]
    },
    {
      "cell_type": "code",
      "metadata": {
        "id": "FbspDGOOU-iN"
      },
      "source": [
        "### the code is based on d2l.ai book "
      ],
      "execution_count": 63,
      "outputs": []
    },
    {
      "cell_type": "code",
      "metadata": {
        "colab": {
          "base_uri": "https://localhost:8080/"
        },
        "id": "VZ-VVwTfWskj",
        "outputId": "6a55147e-f7b9-4b52-8f2e-4efdfbd80669"
      },
      "source": [
        "### sequence of models , Dense with relu is the first in the chain\n",
        "net = tf.keras.models.Sequential([\n",
        "  tf.keras.layers.Dense(256,activation=tf.nn.relu),\n",
        "  tf.keras.layers.Dense(10)\n",
        "])\n",
        "\n",
        "X=tf.random.uniform((2,20))\n",
        "net(X)"
      ],
      "execution_count": 64,
      "outputs": [
        {
          "output_type": "execute_result",
          "data": {
            "text/plain": [
              "<tf.Tensor: shape=(2, 10), dtype=float32, numpy=\n",
              "array([[ 0.56546867,  0.01764693,  0.12848157,  0.2398602 ,  0.4043935 ,\n",
              "         0.4614098 , -0.22573483, -0.01341298, -0.07529312,  0.11078451],\n",
              "       [ 0.3556044 , -0.13035467,  0.07701491,  0.07666928,  0.18987787,\n",
              "         0.35594028, -0.03722225,  0.2919003 , -0.11589943,  0.26892406]],\n",
              "      dtype=float32)>"
            ]
          },
          "metadata": {
            "tags": []
          },
          "execution_count": 64
        }
      ]
    },
    {
      "cell_type": "code",
      "metadata": {
        "colab": {
          "base_uri": "https://localhost:8080/"
        },
        "id": "W9JqpdcWYkq3",
        "outputId": "c1751a03-cd08-4271-b029-d992d0e7d70d"
      },
      "source": [
        "net.call(X)"
      ],
      "execution_count": 65,
      "outputs": [
        {
          "output_type": "execute_result",
          "data": {
            "text/plain": [
              "<tf.Tensor: shape=(2, 10), dtype=float32, numpy=\n",
              "array([[ 0.56546867,  0.01764693,  0.12848157,  0.2398602 ,  0.4043935 ,\n",
              "         0.4614098 , -0.22573483, -0.01341298, -0.07529312,  0.11078451],\n",
              "       [ 0.3556044 , -0.13035467,  0.07701491,  0.07666928,  0.18987787,\n",
              "         0.35594028, -0.03722225,  0.2919003 , -0.11589943,  0.26892406]],\n",
              "      dtype=float32)>"
            ]
          },
          "metadata": {
            "tags": []
          },
          "execution_count": 65
        }
      ]
    },
    {
      "cell_type": "code",
      "metadata": {
        "id": "qLSzxDFKVK-k"
      },
      "source": [
        "### Custom Block"
      ],
      "execution_count": 66,
      "outputs": []
    },
    {
      "cell_type": "code",
      "metadata": {
        "id": "7zvVfoKSVRS0"
      },
      "source": [
        "class MLP(tf.keras.Model):\n",
        "  def __init__(self):\n",
        "    super().__init__()\n",
        "\n",
        "    self.hidden=tf.keras.layers.Dense(units=256,activation=tf.nn.relu)\n",
        "    self.out = tf.keras.layers.Dense(units=10)\n",
        "\n",
        "  def call(self, X):\n",
        "    return self.out(self.hidden((X)))"
      ],
      "execution_count": 67,
      "outputs": []
    },
    {
      "cell_type": "code",
      "metadata": {
        "colab": {
          "base_uri": "https://localhost:8080/"
        },
        "id": "M03aou37WIxc",
        "outputId": "46adcdd6-7b16-416f-c44a-21649b258b29"
      },
      "source": [
        "net=MLP()\n",
        "net(X)"
      ],
      "execution_count": 68,
      "outputs": [
        {
          "output_type": "execute_result",
          "data": {
            "text/plain": [
              "<tf.Tensor: shape=(2, 10), dtype=float32, numpy=\n",
              "array([[ 0.19470611,  0.21381626,  0.31052095,  0.21637839,  0.14698115,\n",
              "        -0.0906699 , -0.34867948,  0.35801703, -0.29697287,  0.37223473],\n",
              "       [ 0.39862064,  0.11056758,  0.55325747,  0.4088604 ,  0.06883898,\n",
              "        -0.13675705, -0.57990885,  0.30800873, -0.2364105 ,  0.08600396]],\n",
              "      dtype=float32)>"
            ]
          },
          "metadata": {
            "tags": []
          },
          "execution_count": 68
        }
      ]
    },
    {
      "cell_type": "code",
      "metadata": {
        "id": "IN6R0b4bmsD_"
      },
      "source": [
        "class MySequential(tf.keras.Model):\n",
        "  def __init__(self, *args):\n",
        "    super().__init__()\n",
        "    self.modules = []\n",
        "    for block in args:\n",
        "      self.modules.append(block)\n",
        "\n",
        "  def call(self,X):\n",
        "    for module in self.modules:\n",
        "      X=module(X)\n",
        "    return(X)\n"
      ],
      "execution_count": 69,
      "outputs": []
    },
    {
      "cell_type": "code",
      "metadata": {
        "colab": {
          "base_uri": "https://localhost:8080/"
        },
        "id": "K5f364x5oLPu",
        "outputId": "349cbba5-d8b8-4b00-a5c8-55e55ad534f5"
      },
      "source": [
        "net = MySequential(\n",
        "    tf.keras.layers.Dense(units=256, activation=tf.nn.relu),\n",
        "    tf.keras.layers.Dense(10))\n",
        "net(X)"
      ],
      "execution_count": 70,
      "outputs": [
        {
          "output_type": "execute_result",
          "data": {
            "text/plain": [
              "<tf.Tensor: shape=(2, 10), dtype=float32, numpy=\n",
              "array([[ 0.11087985,  0.05098328,  0.08411716,  0.3972369 , -0.2732113 ,\n",
              "         0.2544626 , -0.3475876 , -0.00500064, -0.21832229,  0.22245055],\n",
              "       [ 0.3452663 , -0.06318459, -0.08555375,  0.67091405, -0.1395563 ,\n",
              "         0.1741815 , -0.2779737 ,  0.1991906 , -0.21439165,  0.34139252]],\n",
              "      dtype=float32)>"
            ]
          },
          "metadata": {
            "tags": []
          },
          "execution_count": 70
        }
      ]
    },
    {
      "cell_type": "markdown",
      "metadata": {
        "id": "v965wwvi4vMh"
      },
      "source": [
        "Below the Module is constructed where several models are applied in parallel on the same input data and the results are concatenated. It is intended to use the code in multihead attention in Transformers."
      ]
    },
    {
      "cell_type": "code",
      "metadata": {
        "id": "kKhqLfYO5GcP"
      },
      "source": [
        "#initialize the list of n models which is constructed from the same model\n",
        "#\n",
        "def list_of_models(model, n):\n",
        "  return [model]*n\n"
      ],
      "execution_count": 71,
      "outputs": []
    },
    {
      "cell_type": "code",
      "metadata": {
        "id": "h_jo2m73zZnD"
      },
      "source": [
        "list_models = [tf.keras.layers.Dense(10)]*3\n",
        "arg_list = list_of_models(tf.keras.layers.Dense(10),3)"
      ],
      "execution_count": 72,
      "outputs": []
    },
    {
      "cell_type": "code",
      "metadata": {
        "id": "nkQXTMh3og87"
      },
      "source": [
        "### use *args to supply a list of models of variable length \n",
        "class MyParallel(tf.keras.Model):\n",
        "  def __init__(self, *args):\n",
        "    super().__init__()\n",
        "    self.modules = []\n",
        "    for block in args:\n",
        "      self.modules.append(block)\n",
        "\n",
        "  def call(self,X):\n",
        "    list_res= []\n",
        "    for module in self.modules:\n",
        "      list_res.append(module(X))\n",
        "#      print(len(list_res))\n",
        "#    print(list_res)\n",
        "    concat_final= tf.concat(list_res, -1)\n",
        "    return(concat_final)"
      ],
      "execution_count": 73,
      "outputs": []
    },
    {
      "cell_type": "code",
      "metadata": {
        "colab": {
          "base_uri": "https://localhost:8080/"
        },
        "id": "9qVuatMBqKpE",
        "outputId": "a8033e00-8172-41fb-944a-63f5551f50fb"
      },
      "source": [
        "net = MyParallel(tf.keras.layers.Dense(10), tf.keras.layers.Dense(10), tf.keras.layers.Dense(10))\n",
        "X = tf.random.uniform((2,10))\n",
        "net(X)"
      ],
      "execution_count": 74,
      "outputs": [
        {
          "output_type": "execute_result",
          "data": {
            "text/plain": [
              "<tf.Tensor: shape=(2, 30), dtype=float32, numpy=\n",
              "array([[-0.04144198,  0.13751586, -0.45440757, -0.42069888,  0.32351312,\n",
              "         0.09995229,  0.52204984, -0.8588798 ,  0.8909292 ,  0.27593744,\n",
              "         0.00318559,  0.7475995 , -0.5300903 ,  0.2302008 , -0.41739255,\n",
              "         0.5752885 ,  0.9930589 ,  0.6537688 ,  0.7941842 , -0.70428973,\n",
              "         0.02429855, -0.19240324,  0.2189645 ,  0.7190653 ,  0.15850393,\n",
              "         0.08497703,  0.15591794, -0.8616266 ,  0.3332233 , -1.3446494 ],\n",
              "       [ 0.48957825,  0.82538337, -0.28344512,  0.11973459,  0.6050488 ,\n",
              "         0.71347564,  0.1660837 , -0.93815887,  0.6253483 ,  0.2953052 ,\n",
              "        -1.1472697 ,  1.1694889 , -0.6445564 , -0.5370617 , -0.06383955,\n",
              "         0.87613976,  0.34548354,  0.4736285 ,  0.87099123, -1.7765149 ,\n",
              "         0.21711344, -0.29982686,  0.80154985,  0.9742272 ,  0.10242325,\n",
              "         1.2912749 ,  0.8196146 , -0.593518  ,  0.33576167, -0.78474534]],\n",
              "      dtype=float32)>"
            ]
          },
          "metadata": {
            "tags": []
          },
          "execution_count": 74
        }
      ]
    },
    {
      "cell_type": "code",
      "metadata": {
        "colab": {
          "base_uri": "https://localhost:8080/"
        },
        "id": "WN6a5o0TzqzN",
        "outputId": "0c3e3639-c610-4a9e-c736-74d531e8f9cf"
      },
      "source": [
        "### to use the list_models (which is a list) we have to unpack it\n",
        "net = MyParallel(*list_models)\n",
        "X = tf.random.uniform((2,10))\n",
        "net(X)"
      ],
      "execution_count": 75,
      "outputs": [
        {
          "output_type": "execute_result",
          "data": {
            "text/plain": [
              "<tf.Tensor: shape=(2, 30), dtype=float32, numpy=\n",
              "array([[-1.6343818 ,  0.43065274,  1.0249429 ,  1.4949062 ,  0.50572354,\n",
              "        -0.67563117, -0.53408897, -0.4234969 , -0.5841254 , -0.20707145,\n",
              "        -1.6343818 ,  0.43065274,  1.0249429 ,  1.4949062 ,  0.50572354,\n",
              "        -0.67563117, -0.53408897, -0.4234969 , -0.5841254 , -0.20707145,\n",
              "        -1.6343818 ,  0.43065274,  1.0249429 ,  1.4949062 ,  0.50572354,\n",
              "        -0.67563117, -0.53408897, -0.4234969 , -0.5841254 , -0.20707145],\n",
              "       [-1.4047246 ,  0.82266486,  0.6274249 ,  1.2966945 , -0.13676372,\n",
              "        -0.45226094,  0.32211983, -0.45091963,  0.26938742, -0.07669503,\n",
              "        -1.4047246 ,  0.82266486,  0.6274249 ,  1.2966945 , -0.13676372,\n",
              "        -0.45226094,  0.32211983, -0.45091963,  0.26938742, -0.07669503,\n",
              "        -1.4047246 ,  0.82266486,  0.6274249 ,  1.2966945 , -0.13676372,\n",
              "        -0.45226094,  0.32211983, -0.45091963,  0.26938742, -0.07669503]],\n",
              "      dtype=float32)>"
            ]
          },
          "metadata": {
            "tags": []
          },
          "execution_count": 75
        }
      ]
    },
    {
      "cell_type": "code",
      "metadata": {
        "colab": {
          "base_uri": "https://localhost:8080/"
        },
        "id": "jxCVpOA36QnL",
        "outputId": "238096db-2724-4d94-ddfe-5895dabaf947"
      },
      "source": [
        "net = MyParallel(*arg_list)\n",
        "X = tf.random.uniform((2,10))\n",
        "net(X)"
      ],
      "execution_count": 76,
      "outputs": [
        {
          "output_type": "execute_result",
          "data": {
            "text/plain": [
              "<tf.Tensor: shape=(2, 30), dtype=float32, numpy=\n",
              "array([[-0.2117552 , -1.0303696 ,  1.0284584 , -0.32443723,  1.4101036 ,\n",
              "         0.13429444,  0.2480225 ,  0.09467842,  0.5592507 ,  0.7357806 ,\n",
              "        -0.2117552 , -1.0303696 ,  1.0284584 , -0.32443723,  1.4101036 ,\n",
              "         0.13429444,  0.2480225 ,  0.09467842,  0.5592507 ,  0.7357806 ,\n",
              "        -0.2117552 , -1.0303696 ,  1.0284584 , -0.32443723,  1.4101036 ,\n",
              "         0.13429444,  0.2480225 ,  0.09467842,  0.5592507 ,  0.7357806 ],\n",
              "       [-0.21125972, -0.9290842 ,  0.65989983, -0.21173945,  1.0153315 ,\n",
              "         0.2947011 ,  0.5576079 ,  0.26292172, -0.12913175,  0.7654324 ,\n",
              "        -0.21125972, -0.9290842 ,  0.65989983, -0.21173945,  1.0153315 ,\n",
              "         0.2947011 ,  0.5576079 ,  0.26292172, -0.12913175,  0.7654324 ,\n",
              "        -0.21125972, -0.9290842 ,  0.65989983, -0.21173945,  1.0153315 ,\n",
              "         0.2947011 ,  0.5576079 ,  0.26292172, -0.12913175,  0.7654324 ]],\n",
              "      dtype=float32)>"
            ]
          },
          "metadata": {
            "tags": []
          },
          "execution_count": 76
        }
      ]
    },
    {
      "cell_type": "code",
      "metadata": {
        "id": "LwZ-JbDvUJuj"
      },
      "source": [
        "### Nested Models \n",
        "class NestedBlocks(tf.keras.Model):\n",
        "  def __init__(self):\n",
        "    super().__init__()\n",
        "    self.net=tf.keras.Sequential()\n",
        "    self.net.add(tf.keras.layers.Dense(20,activation = tf.nn.relu))\n",
        "    self.net.add(tf.keras.layers.Dense(20,activation = tf.nn.relu))\n",
        "    self.dense = tf.keras.layers.Dense(20,activation = tf.nn.relu)\n",
        "\n",
        "  def call(self, inputs):\n",
        "    return self.dense(self.net(inputs))\n",
        "\n"
      ],
      "execution_count": 77,
      "outputs": []
    },
    {
      "cell_type": "code",
      "metadata": {
        "colab": {
          "base_uri": "https://localhost:8080/"
        },
        "id": "biCwieTmWYEi",
        "outputId": "9a629ac6-e72d-4907-d65b-db26483a91a9"
      },
      "source": [
        "net = NestedBlocks()\n",
        "X = tf.random.uniform((2, 20))\n",
        "net(X)"
      ],
      "execution_count": 78,
      "outputs": [
        {
          "output_type": "execute_result",
          "data": {
            "text/plain": [
              "<tf.Tensor: shape=(2, 20), dtype=float32, numpy=\n",
              "array([[0.06964082, 0.        , 0.        , 0.        , 0.        ,\n",
              "        0.57986   , 0.        , 0.08175316, 0.        , 0.        ,\n",
              "        0.11153333, 0.14937934, 0.        , 0.33071035, 0.13170797,\n",
              "        0.        , 0.        , 0.        , 0.1404232 , 0.        ],\n",
              "       [0.32230416, 0.        , 0.        , 0.        , 0.        ,\n",
              "        0.21086219, 0.        , 0.169721  , 0.        , 0.        ,\n",
              "        0.28218508, 0.0095907 , 0.        , 0.        , 0.22259459,\n",
              "        0.        , 0.        , 0.        , 0.        , 0.        ]],\n",
              "      dtype=float32)>"
            ]
          },
          "metadata": {
            "tags": []
          },
          "execution_count": 78
        }
      ]
    },
    {
      "cell_type": "markdown",
      "metadata": {
        "id": "323VZoHSWU1P"
      },
      "source": [
        "Parameter access"
      ]
    },
    {
      "cell_type": "code",
      "metadata": {
        "colab": {
          "base_uri": "https://localhost:8080/"
        },
        "id": "TY1f8fCoWnC9",
        "outputId": "f49be342-90fe-4c2f-cefb-016acaf11429"
      },
      "source": [
        "import numpy as np\n",
        "\n",
        "net = tf.keras.models.Sequential([\n",
        "    tf.keras.layers.Flatten(),\n",
        "    tf.keras.layers.Dense(4, activation=tf.nn.relu),\n",
        "    tf.keras.layers.Dense(1)\n",
        "])\n",
        "\n",
        "X = tf.random.uniform((2, 4))\n",
        "net(X)"
      ],
      "execution_count": 79,
      "outputs": [
        {
          "output_type": "execute_result",
          "data": {
            "text/plain": [
              "<tf.Tensor: shape=(2, 1), dtype=float32, numpy=\n",
              "array([[0.2878107],\n",
              "       [0.5349996]], dtype=float32)>"
            ]
          },
          "metadata": {
            "tags": []
          },
          "execution_count": 79
        }
      ]
    },
    {
      "cell_type": "code",
      "metadata": {
        "colab": {
          "base_uri": "https://localhost:8080/"
        },
        "id": "I898wmQbX5yl",
        "outputId": "06c70961-8c0c-4a13-f4b1-06e20e3bf61e"
      },
      "source": [
        "print(net.layers[2].weights)"
      ],
      "execution_count": 80,
      "outputs": [
        {
          "output_type": "stream",
          "text": [
            "[<tf.Variable 'dense_50/kernel:0' shape=(4, 1) dtype=float32, numpy=\n",
            "array([[ 0.6473706 ],\n",
            "       [-0.49180436],\n",
            "       [-0.9194    ],\n",
            "       [ 0.45318627]], dtype=float32)>, <tf.Variable 'dense_50/bias:0' shape=(1,) dtype=float32, numpy=array([0.], dtype=float32)>]\n"
          ],
          "name": "stdout"
        }
      ]
    },
    {
      "cell_type": "code",
      "metadata": {
        "colab": {
          "base_uri": "https://localhost:8080/"
        },
        "id": "JxjWkJDqZPUk",
        "outputId": "4f226353-407a-4d6f-ffc6-3fb64f5c297b"
      },
      "source": [
        "print(type(net.layers[2].weights[1]))\n",
        "print(net.layers[2].weights[1])\n",
        "print(tf.convert_to_tensor(net.layers[2].weights[1]))"
      ],
      "execution_count": 81,
      "outputs": [
        {
          "output_type": "stream",
          "text": [
            "<class 'tensorflow.python.ops.resource_variable_ops.ResourceVariable'>\n",
            "<tf.Variable 'dense_50/bias:0' shape=(1,) dtype=float32, numpy=array([0.], dtype=float32)>\n",
            "tf.Tensor([0.], shape=(1,), dtype=float32)\n"
          ],
          "name": "stdout"
        }
      ]
    },
    {
      "cell_type": "code",
      "metadata": {
        "colab": {
          "base_uri": "https://localhost:8080/"
        },
        "id": "K2HY5chlacBf",
        "outputId": "4ab7a97a-f351-4372-d346-338ac76b2d78"
      },
      "source": [
        "print(net.layers[1].weights)\n",
        "print(net.get_weights())"
      ],
      "execution_count": 82,
      "outputs": [
        {
          "output_type": "stream",
          "text": [
            "[<tf.Variable 'dense_49/kernel:0' shape=(4, 4) dtype=float32, numpy=\n",
            "array([[-0.03430647, -0.06631202, -0.63923466, -0.14278638],\n",
            "       [ 0.40283448, -0.85904443,  0.8333606 ,  0.32834476],\n",
            "       [ 0.67538065,  0.7536586 , -0.25492835,  0.40667862],\n",
            "       [ 0.6236997 ,  0.70244664,  0.06181371,  0.4390474 ]],\n",
            "      dtype=float32)>, <tf.Variable 'dense_49/bias:0' shape=(4,) dtype=float32, numpy=array([0., 0., 0., 0.], dtype=float32)>]\n",
            "[array([[-0.03430647, -0.06631202, -0.63923466, -0.14278638],\n",
            "       [ 0.40283448, -0.85904443,  0.8333606 ,  0.32834476],\n",
            "       [ 0.67538065,  0.7536586 , -0.25492835,  0.40667862],\n",
            "       [ 0.6236997 ,  0.70244664,  0.06181371,  0.4390474 ]],\n",
            "      dtype=float32), array([0., 0., 0., 0.], dtype=float32), array([[ 0.6473706 ],\n",
            "       [-0.49180436],\n",
            "       [-0.9194    ],\n",
            "       [ 0.45318627]], dtype=float32), array([0.], dtype=float32)]\n"
          ],
          "name": "stdout"
        }
      ]
    },
    {
      "cell_type": "code",
      "metadata": {
        "colab": {
          "base_uri": "https://localhost:8080/"
        },
        "id": "17aEY8l8ancj",
        "outputId": "da571508-d509-460d-e297-f7ea9a943af0"
      },
      "source": [
        "net.get_weights()[1]"
      ],
      "execution_count": 83,
      "outputs": [
        {
          "output_type": "execute_result",
          "data": {
            "text/plain": [
              "array([0., 0., 0., 0.], dtype=float32)"
            ]
          },
          "metadata": {
            "tags": []
          },
          "execution_count": 83
        }
      ]
    },
    {
      "cell_type": "code",
      "metadata": {
        "colab": {
          "base_uri": "https://localhost:8080/"
        },
        "id": "bNGHRk_NcV-N",
        "outputId": "afcc84e9-93b2-4ae4-cd5e-e4ed355b30d0"
      },
      "source": [
        "### collecting parameters from nested blocks\n",
        "def block1(name):\n",
        "    return tf.keras.Sequential([\n",
        "        tf.keras.layers.Flatten(),\n",
        "        tf.keras.layers.Dense(4, activation=tf.nn.relu)],\n",
        "        name=name)\n",
        "\n",
        "def block2():\n",
        "    net = tf.keras.Sequential()\n",
        "    for i in range(4):\n",
        "        # Nested here\n",
        "        net.add(block1(name=f'block-{i}'))\n",
        "    return net\n",
        "\n",
        "rgnet = tf.keras.Sequential()\n",
        "rgnet.add(block2())\n",
        "rgnet.add(tf.keras.layers.Dense(1))\n",
        "rgnet(X)"
      ],
      "execution_count": 84,
      "outputs": [
        {
          "output_type": "execute_result",
          "data": {
            "text/plain": [
              "<tf.Tensor: shape=(2, 1), dtype=float32, numpy=\n",
              "array([[-0.02913161],\n",
              "       [-0.05884419]], dtype=float32)>"
            ]
          },
          "metadata": {
            "tags": []
          },
          "execution_count": 84
        }
      ]
    },
    {
      "cell_type": "code",
      "metadata": {
        "colab": {
          "base_uri": "https://localhost:8080/"
        },
        "id": "A8XJIQ8Zfc2g",
        "outputId": "a3d51c63-0d26-4e65-d5a1-58b72e0fe82d"
      },
      "source": [
        "print(rgnet.summary())"
      ],
      "execution_count": 85,
      "outputs": [
        {
          "output_type": "stream",
          "text": [
            "Model: \"sequential_14\"\n",
            "_________________________________________________________________\n",
            "Layer (type)                 Output Shape              Param #   \n",
            "=================================================================\n",
            "sequential_15 (Sequential)   (2, 4)                    80        \n",
            "_________________________________________________________________\n",
            "dense_55 (Dense)             (2, 1)                    5         \n",
            "=================================================================\n",
            "Total params: 85\n",
            "Trainable params: 85\n",
            "Non-trainable params: 0\n",
            "_________________________________________________________________\n",
            "None\n"
          ],
          "name": "stdout"
        }
      ]
    },
    {
      "cell_type": "code",
      "metadata": {
        "colab": {
          "base_uri": "https://localhost:8080/"
        },
        "id": "YyuvTRMbj-l8",
        "outputId": "4b8f6355-6ec9-46e3-9fce-6c492cef4b43"
      },
      "source": [
        "rgnet.layers[0].layers[1].layers[1].weights[1]"
      ],
      "execution_count": 86,
      "outputs": [
        {
          "output_type": "execute_result",
          "data": {
            "text/plain": [
              "<tf.Variable 'sequential_15/block-1/dense_52/bias:0' shape=(4,) dtype=float32, numpy=array([0., 0., 0., 0.], dtype=float32)>"
            ]
          },
          "metadata": {
            "tags": []
          },
          "execution_count": 86
        }
      ]
    },
    {
      "cell_type": "code",
      "metadata": {
        "colab": {
          "base_uri": "https://localhost:8080/"
        },
        "id": "5doUcFSEtQVF",
        "outputId": "a541b893-44d6-4750-9ef4-ccda316242d5"
      },
      "source": [
        "net_prl = MyParallel(tf.keras.layers.Dense(4), tf.keras.layers.Dense(4), tf.keras.layers.Dense(4))\n",
        "X = tf.random.uniform((1,4))\n",
        "net_prl(X)"
      ],
      "execution_count": 87,
      "outputs": [
        {
          "output_type": "execute_result",
          "data": {
            "text/plain": [
              "<tf.Tensor: shape=(1, 12), dtype=float32, numpy=\n",
              "array([[ 0.05302444,  0.20611267, -0.32832617,  0.2658228 , -0.31834635,\n",
              "         0.16720435,  0.15011795,  0.40936515,  0.51037914,  0.04175417,\n",
              "        -0.6982855 , -0.3057128 ]], dtype=float32)>"
            ]
          },
          "metadata": {
            "tags": []
          },
          "execution_count": 87
        }
      ]
    },
    {
      "cell_type": "code",
      "metadata": {
        "colab": {
          "base_uri": "https://localhost:8080/"
        },
        "id": "vHbpoigVtZLZ",
        "outputId": "bcebc457-8c21-4647-c946-784350da9b1e"
      },
      "source": [
        "print(net_prl.summary())"
      ],
      "execution_count": 88,
      "outputs": [
        {
          "output_type": "stream",
          "text": [
            "Model: \"my_parallel_7\"\n",
            "_________________________________________________________________\n",
            "Layer (type)                 Output Shape              Param #   \n",
            "=================================================================\n",
            "dense_56 (Dense)             multiple                  20        \n",
            "_________________________________________________________________\n",
            "dense_57 (Dense)             multiple                  20        \n",
            "_________________________________________________________________\n",
            "dense_58 (Dense)             multiple                  20        \n",
            "=================================================================\n",
            "Total params: 60\n",
            "Trainable params: 60\n",
            "Non-trainable params: 0\n",
            "_________________________________________________________________\n",
            "None\n"
          ],
          "name": "stdout"
        }
      ]
    },
    {
      "cell_type": "code",
      "metadata": {
        "colab": {
          "base_uri": "https://localhost:8080/"
        },
        "id": "oXccmjShyDDS",
        "outputId": "868f91ca-ee5c-4ce6-bd90-9c86003208d0"
      },
      "source": [
        "net = tf.keras.models.Sequential([\n",
        "  tf.keras.layers.Flatten(),\n",
        "  tf.keras.layers.Dense(\n",
        "      4, activation = tf.nn.relu, \n",
        "      kernel_initializer = tf.random_normal_initializer(mean=0, stddev=0.01),\n",
        "      bias_initializer=tf.zeros_initializer()\n",
        "  ),\n",
        "  tf.keras.layers.Dense(1)                                  \n",
        "])\n",
        "net(X)\n",
        "net.weights"
      ],
      "execution_count": 89,
      "outputs": [
        {
          "output_type": "execute_result",
          "data": {
            "text/plain": [
              "[<tf.Variable 'dense_59/kernel:0' shape=(4, 4) dtype=float32, numpy=\n",
              " array([[-2.0386739e-02,  3.1833693e-03, -4.8929360e-04,  9.0800244e-03],\n",
              "        [ 1.2955199e-03,  4.4713989e-03, -1.7108226e-02, -9.6423103e-04],\n",
              "        [ 6.0304701e-03,  3.4701421e-03,  4.8880634e-04,  3.0424586e-03],\n",
              "        [ 7.2907380e-05,  1.9009771e-03, -3.6511968e-03, -7.5835777e-03]],\n",
              "       dtype=float32)>,\n",
              " <tf.Variable 'dense_59/bias:0' shape=(4,) dtype=float32, numpy=array([0., 0., 0., 0.], dtype=float32)>,\n",
              " <tf.Variable 'dense_60/kernel:0' shape=(4, 1) dtype=float32, numpy=\n",
              " array([[ 0.5442349 ],\n",
              "        [-0.1171425 ],\n",
              "        [ 0.7243327 ],\n",
              "        [-0.65060705]], dtype=float32)>,\n",
              " <tf.Variable 'dense_60/bias:0' shape=(1,) dtype=float32, numpy=array([0.], dtype=float32)>]"
            ]
          },
          "metadata": {
            "tags": []
          },
          "execution_count": 89
        }
      ]
    },
    {
      "cell_type": "code",
      "metadata": {
        "colab": {
          "base_uri": "https://localhost:8080/"
        },
        "id": "EzQSa9JezlrH",
        "outputId": "ebc6486f-eb3c-42b1-b325-db96784c76c0"
      },
      "source": [
        "net = tf.keras.models.Sequential([\n",
        "    tf.keras.layers.Flatten(),\n",
        "    tf.keras.layers.Dense(\n",
        "        4, activation=tf.nn.relu,\n",
        "        kernel_initializer=tf.keras.initializers.Constant(1),\n",
        "        bias_initializer=tf.zeros_initializer()),\n",
        "    tf.keras.layers.Dense(1),\n",
        "])\n",
        "\n",
        "net(X)\n",
        "net.weights[0], net.weights[1]"
      ],
      "execution_count": 90,
      "outputs": [
        {
          "output_type": "execute_result",
          "data": {
            "text/plain": [
              "(<tf.Variable 'dense_61/kernel:0' shape=(4, 4) dtype=float32, numpy=\n",
              " array([[1., 1., 1., 1.],\n",
              "        [1., 1., 1., 1.],\n",
              "        [1., 1., 1., 1.],\n",
              "        [1., 1., 1., 1.]], dtype=float32)>,\n",
              " <tf.Variable 'dense_61/bias:0' shape=(4,) dtype=float32, numpy=array([0., 0., 0., 0.], dtype=float32)>)"
            ]
          },
          "metadata": {
            "tags": []
          },
          "execution_count": 90
        }
      ]
    },
    {
      "cell_type": "code",
      "metadata": {
        "colab": {
          "base_uri": "https://localhost:8080/"
        },
        "id": "rI815Psbz3cl",
        "outputId": "f33320e7-9854-4f9d-89ac-12c5caa0df06"
      },
      "source": [
        "net = tf.keras.models.Sequential([\n",
        "    tf.keras.layers.Flatten(),\n",
        "    tf.keras.layers.Dense(\n",
        "        4,\n",
        "        activation=tf.nn.relu,\n",
        "        kernel_initializer=tf.keras.initializers.GlorotUniform()),\n",
        "    tf.keras.layers.Dense(\n",
        "        1, kernel_initializer=tf.keras.initializers.Constant(1)),\n",
        "])\n",
        "\n",
        "net(X)\n",
        "print(net.layers[1].weights[0])\n",
        "print(net.layers[2].weights[0])"
      ],
      "execution_count": 91,
      "outputs": [
        {
          "output_type": "stream",
          "text": [
            "<tf.Variable 'dense_63/kernel:0' shape=(4, 4) dtype=float32, numpy=\n",
            "array([[ 0.40403908,  0.20973986, -0.40347582,  0.84569365],\n",
            "       [-0.41068926,  0.4895348 ,  0.45490128, -0.36813632],\n",
            "       [ 0.43737882,  0.44880754,  0.44345385, -0.2388019 ],\n",
            "       [ 0.4401378 , -0.18698454, -0.11230856, -0.8334196 ]],\n",
            "      dtype=float32)>\n",
            "<tf.Variable 'dense_64/kernel:0' shape=(4, 1) dtype=float32, numpy=\n",
            "array([[1.],\n",
            "       [1.],\n",
            "       [1.],\n",
            "       [1.]], dtype=float32)>\n"
          ],
          "name": "stdout"
        }
      ]
    },
    {
      "cell_type": "code",
      "metadata": {
        "colab": {
          "base_uri": "https://localhost:8080/"
        },
        "id": "--vXHGAs1B59",
        "outputId": "1ff2ad08-39e0-4505-e530-6e7801e503f3"
      },
      "source": [
        "class MyInit(tf.keras.initializers.Initializer):\n",
        "  def __init__(self,shape, dtype=None):\n",
        "    data = tf.random.uniform(shape, -10,10,dtype=dtype)\n",
        "    factor=(tf.abs.data >=5)\n",
        "    factor=tf.cast(factor, tf.float32)\n",
        "    return factor*data\n",
        "\n",
        "net(X)\n",
        "net.layers[1].weights"
      ],
      "execution_count": 92,
      "outputs": [
        {
          "output_type": "execute_result",
          "data": {
            "text/plain": [
              "[<tf.Variable 'dense_63/kernel:0' shape=(4, 4) dtype=float32, numpy=\n",
              " array([[ 0.40403908,  0.20973986, -0.40347582,  0.84569365],\n",
              "        [-0.41068926,  0.4895348 ,  0.45490128, -0.36813632],\n",
              "        [ 0.43737882,  0.44880754,  0.44345385, -0.2388019 ],\n",
              "        [ 0.4401378 , -0.18698454, -0.11230856, -0.8334196 ]],\n",
              "       dtype=float32)>,\n",
              " <tf.Variable 'dense_63/bias:0' shape=(4,) dtype=float32, numpy=array([0., 0., 0., 0.], dtype=float32)>]"
            ]
          },
          "metadata": {
            "tags": []
          },
          "execution_count": 92
        }
      ]
    },
    {
      "cell_type": "code",
      "metadata": {
        "colab": {
          "base_uri": "https://localhost:8080/"
        },
        "id": "NjfUeMnA22Ex",
        "outputId": "ae023195-0d76-4563-ce99-af391c3248bb"
      },
      "source": [
        "### assign parameters\n",
        "net.layers[1].weights[0][:].assign(net.layers[1].weights[0] + 1)\n",
        "net.layers[1].weights[0][0, 0].assign(42)\n",
        "net.layers[1].weights[0]"
      ],
      "execution_count": 93,
      "outputs": [
        {
          "output_type": "execute_result",
          "data": {
            "text/plain": [
              "<tf.Variable 'dense_63/kernel:0' shape=(4, 4) dtype=float32, numpy=\n",
              "array([[42.        ,  1.2097399 ,  0.5965242 ,  1.8456936 ],\n",
              "       [ 0.58931077,  1.4895349 ,  1.4549012 ,  0.6318637 ],\n",
              "       [ 1.4373789 ,  1.4488075 ,  1.4434538 ,  0.7611981 ],\n",
              "       [ 1.4401379 ,  0.81301546,  0.88769144,  0.16658038]],\n",
              "      dtype=float32)>"
            ]
          },
          "metadata": {
            "tags": []
          },
          "execution_count": 93
        }
      ]
    },
    {
      "cell_type": "code",
      "metadata": {
        "id": "ptVWzwzt3EuU",
        "colab": {
          "base_uri": "https://localhost:8080/"
        },
        "outputId": "08b7987f-2327-4111-eb84-06c1fed80646"
      },
      "source": [
        "# tf.keras behaves a bit differently. It removes the duplicate layer\n",
        "# automatically\n",
        "shared = tf.keras.layers.Dense(4, activation=tf.nn.relu)\n",
        "net = tf.keras.models.Sequential([\n",
        "    tf.keras.layers.Flatten(),\n",
        "    shared,\n",
        "    shared,\n",
        "    tf.keras.layers.Dense(1),\n",
        "])\n",
        "\n",
        "net(X)\n",
        "# Check whether the parameters are different\n",
        "print(len(net.layers) == 3)"
      ],
      "execution_count": 94,
      "outputs": [
        {
          "output_type": "stream",
          "text": [
            "True\n"
          ],
          "name": "stdout"
        }
      ]
    },
    {
      "cell_type": "code",
      "metadata": {
        "id": "gCCFVC3ehxZW"
      },
      "source": [
        "### Deffered Initialization\n",
        "net = tf.keras.models.Sequential([\n",
        "  tf.keras.layers.Dense(256, activation=tf.nn.relu),\n",
        "  tf.keras.layers.Dense(10)                                  \n",
        "])"
      ],
      "execution_count": 95,
      "outputs": []
    },
    {
      "cell_type": "code",
      "metadata": {
        "colab": {
          "base_uri": "https://localhost:8080/"
        },
        "id": "t7jgZWZbjNMD",
        "outputId": "7764389c-3152-44ed-bf0e-9357fd2d8533"
      },
      "source": [
        "### layers are empty\n",
        "[net.layers[i].get_weights() for i in range(len(net.layers))]"
      ],
      "execution_count": 96,
      "outputs": [
        {
          "output_type": "execute_result",
          "data": {
            "text/plain": [
              "[[], []]"
            ]
          },
          "metadata": {
            "tags": []
          },
          "execution_count": 96
        }
      ]
    },
    {
      "cell_type": "code",
      "metadata": {
        "id": "uGRKdsQBjYxY"
      },
      "source": [
        "### this code gives error because net the weights are not initilized yet\n",
        "# net.get_weights()"
      ],
      "execution_count": 97,
      "outputs": []
    },
    {
      "cell_type": "code",
      "metadata": {
        "colab": {
          "base_uri": "https://localhost:8080/"
        },
        "id": "L7zdzIErj3sH",
        "outputId": "30625d5a-3e1b-46e8-e4d2-c110376ad970"
      },
      "source": [
        "X = tf.random.uniform((2,20))\n",
        "net(X)\n",
        "[w.shape for w in net.get_weights()]"
      ],
      "execution_count": 98,
      "outputs": [
        {
          "output_type": "execute_result",
          "data": {
            "text/plain": [
              "[(20, 256), (256,), (256, 10), (10,)]"
            ]
          },
          "metadata": {
            "tags": []
          },
          "execution_count": 98
        }
      ]
    },
    {
      "cell_type": "code",
      "metadata": {
        "id": "YdyN3Lr6DdsK"
      },
      "source": [
        "### Custom Layers\n",
        "class CenteredLayer(tf.keras.Model):\n",
        "    def __init__(self):\n",
        "        super().__init__()\n",
        "\n",
        "    def call(self, inputs):\n",
        "        return inputs - tf.reduce_mean(inputs)"
      ],
      "execution_count": 99,
      "outputs": []
    },
    {
      "cell_type": "code",
      "metadata": {
        "colab": {
          "base_uri": "https://localhost:8080/"
        },
        "id": "8caLfqJzESKT",
        "outputId": "c1a22889-2e85-4c4b-e34d-72614d1eac44"
      },
      "source": [
        "layer = CenteredLayer()\n",
        "layer(tf.constant([1,2,3,4]))"
      ],
      "execution_count": 100,
      "outputs": [
        {
          "output_type": "execute_result",
          "data": {
            "text/plain": [
              "<tf.Tensor: shape=(4,), dtype=int32, numpy=array([-1,  0,  1,  2], dtype=int32)>"
            ]
          },
          "metadata": {
            "tags": []
          },
          "execution_count": 100
        }
      ]
    },
    {
      "cell_type": "code",
      "metadata": {
        "id": "KCSD2NYSFVsr"
      },
      "source": [
        "net = tf.keras.Sequential([tf.keras.layers.Dense(10), CenteredLayer()])"
      ],
      "execution_count": 101,
      "outputs": []
    },
    {
      "cell_type": "code",
      "metadata": {
        "colab": {
          "base_uri": "https://localhost:8080/"
        },
        "id": "S82_p5XKF82f",
        "outputId": "d8bf2cc1-4363-4ed4-be0e-2694f63126ca"
      },
      "source": [
        "Y = net(tf.random.uniform((4,20)))\n",
        "tf.reduce_mean(Y)"
      ],
      "execution_count": 102,
      "outputs": [
        {
          "output_type": "execute_result",
          "data": {
            "text/plain": [
              "<tf.Tensor: shape=(), dtype=float32, numpy=1.1920929e-08>"
            ]
          },
          "metadata": {
            "tags": []
          },
          "execution_count": 102
        }
      ]
    },
    {
      "cell_type": "code",
      "metadata": {
        "id": "KLg0PhG7G08e"
      },
      "source": [
        "### Linear layer from scratch\n",
        "class MyDense(tf.keras.Model):\n",
        "    def __init__(self, out_units):\n",
        "        super().__init__()\n",
        "        self.out_units = out_units\n",
        "\n",
        "    def build(self, X_shape):\n",
        "        self.weight = self.add_weight(name='weight',\n",
        "            shape=[X_shape[-1], self.out_units],\n",
        "            initializer=tf.random_normal_initializer())\n",
        "        self.bias = self.add_weight(\n",
        "            name='bias', shape=[self.out_units],\n",
        "            initializer=tf.zeros_initializer())\n",
        "\n",
        "    def call(self, X):\n",
        "        linear = tf.matmul(X, self.weight) + self.bias\n",
        "        return tf.nn.relu(linear)"
      ],
      "execution_count": 103,
      "outputs": []
    },
    {
      "cell_type": "code",
      "metadata": {
        "colab": {
          "base_uri": "https://localhost:8080/"
        },
        "id": "y8f_4yzeal6G",
        "outputId": "ebb3d966-1198-43e9-fde1-ef97e6c90321"
      },
      "source": [
        "dense = MyDense(3)\n",
        "dense(tf.random.uniform((2, 5)))\n",
        "dense.get_weights()"
      ],
      "execution_count": 104,
      "outputs": [
        {
          "output_type": "execute_result",
          "data": {
            "text/plain": [
              "[array([[ 0.00663937, -0.03279245, -0.05857573],\n",
              "        [-0.08733882,  0.00432103,  0.07845158],\n",
              "        [-0.00502899,  0.03129234, -0.04915142],\n",
              "        [ 0.00672116, -0.04013789, -0.06891046],\n",
              "        [-0.12798248,  0.02999985, -0.01782634]], dtype=float32),\n",
              " array([0., 0., 0.], dtype=float32)]"
            ]
          },
          "metadata": {
            "tags": []
          },
          "execution_count": 104
        }
      ]
    },
    {
      "cell_type": "code",
      "metadata": {
        "colab": {
          "base_uri": "https://localhost:8080/"
        },
        "id": "ix66IpJmbylG",
        "outputId": "84c44a54-ad3e-4dba-9144-da2aefbaba98"
      },
      "source": [
        "dense(tf.random.uniform((2, 5)))"
      ],
      "execution_count": 105,
      "outputs": [
        {
          "output_type": "execute_result",
          "data": {
            "text/plain": [
              "<tf.Tensor: shape=(2, 3), dtype=float32, numpy=\n",
              "array([[0.        , 0.        , 0.        ],\n",
              "       [0.        , 0.01689125, 0.        ]], dtype=float32)>"
            ]
          },
          "metadata": {
            "tags": []
          },
          "execution_count": 105
        }
      ]
    },
    {
      "cell_type": "code",
      "metadata": {
        "colab": {
          "base_uri": "https://localhost:8080/"
        },
        "id": "SGL7bRCRb26i",
        "outputId": "83e660e1-08b1-48ed-c225-9eec58628c17"
      },
      "source": [
        "net = tf.keras.models.Sequential([MyDense(8), MyDense(1)])\n",
        "net(tf.random.uniform((2, 64)))"
      ],
      "execution_count": 106,
      "outputs": [
        {
          "output_type": "execute_result",
          "data": {
            "text/plain": [
              "<tf.Tensor: shape=(2, 1), dtype=float32, numpy=\n",
              "array([[0.],\n",
              "       [0.]], dtype=float32)>"
            ]
          },
          "metadata": {
            "tags": []
          },
          "execution_count": 106
        }
      ]
    }
  ]
}