{
  "nbformat": 4,
  "nbformat_minor": 0,
  "metadata": {
    "colab": {
      "name": "TensorFlow_Blocks_and_Layesr.ipynb",
      "provenance": [],
      "collapsed_sections": [],
      "authorship_tag": "ABX9TyP1EKqPNU7G2X7fyEJvDMkA",
      "include_colab_link": true
    },
    "kernelspec": {
      "name": "python3",
      "display_name": "Python 3"
    }
  },
  "cells": [
    {
      "cell_type": "markdown",
      "metadata": {
        "id": "view-in-github",
        "colab_type": "text"
      },
      "source": [
        "<a href=\"https://colab.research.google.com/github/Dmitri9149/TensorFlow-PyTorch-basics/blob/master/TensorFlow_Blocks_and_Layesr.ipynb\" target=\"_parent\"><img src=\"https://colab.research.google.com/assets/colab-badge.svg\" alt=\"Open In Colab\"/></a>"
      ]
    },
    {
      "cell_type": "code",
      "metadata": {
        "id": "46ijud10VqoX"
      },
      "source": [
        "import tensorflow as tf"
      ],
      "execution_count": 59,
      "outputs": []
    },
    {
      "cell_type": "markdown",
      "metadata": {
        "id": "5gjeDxwD3hTg"
      },
      "source": [
        "The code is based on the d2l.ai book http://d2l.ai/"
      ]
    },
    {
      "cell_type": "code",
      "metadata": {
        "id": "FbspDGOOU-iN"
      },
      "source": [
        "### the code is based on d2l.ai book "
      ],
      "execution_count": 60,
      "outputs": []
    },
    {
      "cell_type": "code",
      "metadata": {
        "colab": {
          "base_uri": "https://localhost:8080/"
        },
        "id": "VZ-VVwTfWskj",
        "outputId": "06de8cf2-e3f0-4573-f939-d5b35233a83b"
      },
      "source": [
        "### sequence of models , Dense with relu is the first in the chain\n",
        "net = tf.keras.models.Sequential([\n",
        "  tf.keras.layers.Dense(256,activation=tf.nn.relu),\n",
        "  tf.keras.layers.Dense(10)\n",
        "])\n",
        "\n",
        "X=tf.random.uniform((2,20))\n",
        "net(X)"
      ],
      "execution_count": 61,
      "outputs": [
        {
          "output_type": "execute_result",
          "data": {
            "text/plain": [
              "<tf.Tensor: shape=(2, 10), dtype=float32, numpy=\n",
              "array([[-0.19088091, -0.24548021, -0.07908687,  0.30984086,  0.17110598,\n",
              "         0.4218282 ,  0.12295652, -0.00994178,  0.21269724, -0.17230819],\n",
              "       [-0.54047906, -0.04464073, -0.02348679,  0.13853593,  0.45006043,\n",
              "         0.24140987,  0.397393  ,  0.02918926,  0.2661298 , -0.10237794]],\n",
              "      dtype=float32)>"
            ]
          },
          "metadata": {
            "tags": []
          },
          "execution_count": 61
        }
      ]
    },
    {
      "cell_type": "code",
      "metadata": {
        "colab": {
          "base_uri": "https://localhost:8080/"
        },
        "id": "W9JqpdcWYkq3",
        "outputId": "d24bc907-608c-4e43-fe38-a16815e8217c"
      },
      "source": [
        "net.call(X)"
      ],
      "execution_count": 62,
      "outputs": [
        {
          "output_type": "execute_result",
          "data": {
            "text/plain": [
              "<tf.Tensor: shape=(2, 10), dtype=float32, numpy=\n",
              "array([[-0.19088091, -0.24548021, -0.07908687,  0.30984086,  0.17110598,\n",
              "         0.4218282 ,  0.12295652, -0.00994178,  0.21269724, -0.17230819],\n",
              "       [-0.54047906, -0.04464073, -0.02348679,  0.13853593,  0.45006043,\n",
              "         0.24140987,  0.397393  ,  0.02918926,  0.2661298 , -0.10237794]],\n",
              "      dtype=float32)>"
            ]
          },
          "metadata": {
            "tags": []
          },
          "execution_count": 62
        }
      ]
    },
    {
      "cell_type": "code",
      "metadata": {
        "id": "qLSzxDFKVK-k"
      },
      "source": [
        "### Custom Block"
      ],
      "execution_count": 63,
      "outputs": []
    },
    {
      "cell_type": "code",
      "metadata": {
        "id": "7zvVfoKSVRS0"
      },
      "source": [
        "class MLP(tf.keras.Model):\n",
        "  def __init__(self):\n",
        "    super().__init__()\n",
        "\n",
        "    self.hidden=tf.keras.layers.Dense(units=256,activation=tf.nn.relu)\n",
        "    self.out = tf.keras.layers.Dense(units=10)\n",
        "\n",
        "  def call(self, X):\n",
        "    return self.out(self.hidden((X)))"
      ],
      "execution_count": 64,
      "outputs": []
    },
    {
      "cell_type": "code",
      "metadata": {
        "colab": {
          "base_uri": "https://localhost:8080/"
        },
        "id": "M03aou37WIxc",
        "outputId": "e1a0a804-1984-4379-eac5-42a07fcd2e79"
      },
      "source": [
        "net=MLP()\n",
        "net(X)"
      ],
      "execution_count": 65,
      "outputs": [
        {
          "output_type": "execute_result",
          "data": {
            "text/plain": [
              "<tf.Tensor: shape=(2, 10), dtype=float32, numpy=\n",
              "array([[ 0.1754027 ,  0.31547168,  0.02665147,  0.01312544, -0.02628017,\n",
              "         0.2227064 , -0.2057536 ,  0.1793164 ,  0.00335142, -0.07642411],\n",
              "       [-0.11393467,  0.22491458,  0.09532176,  0.04753569, -0.0741464 ,\n",
              "        -0.03588762, -0.12225104,  0.0785155 ,  0.10170905, -0.3811512 ]],\n",
              "      dtype=float32)>"
            ]
          },
          "metadata": {
            "tags": []
          },
          "execution_count": 65
        }
      ]
    },
    {
      "cell_type": "code",
      "metadata": {
        "id": "IN6R0b4bmsD_"
      },
      "source": [
        "class MySequential(tf.keras.Model):\n",
        "  def __init__(self, *args):\n",
        "    super().__init__()\n",
        "    self.modules = []\n",
        "    for block in args:\n",
        "      self.modules.append(block)\n",
        "\n",
        "  def call(self,X):\n",
        "    for module in self.modules:\n",
        "      X=module(X)\n",
        "    return(X)\n"
      ],
      "execution_count": 66,
      "outputs": []
    },
    {
      "cell_type": "code",
      "metadata": {
        "colab": {
          "base_uri": "https://localhost:8080/"
        },
        "id": "K5f364x5oLPu",
        "outputId": "f1867ff4-ab52-4217-bd6b-6268a3cba232"
      },
      "source": [
        "net = MySequential(\n",
        "    tf.keras.layers.Dense(units=256, activation=tf.nn.relu),\n",
        "    tf.keras.layers.Dense(10))\n",
        "net(X)"
      ],
      "execution_count": 67,
      "outputs": [
        {
          "output_type": "execute_result",
          "data": {
            "text/plain": [
              "<tf.Tensor: shape=(2, 10), dtype=float32, numpy=\n",
              "array([[ 0.28162202, -0.04371443, -0.36139762,  0.47881842, -0.43754348,\n",
              "        -0.29503652, -0.11193667,  0.30781952, -0.17923781,  0.25773805],\n",
              "       [ 0.40401274, -0.17486447, -0.1706396 ,  0.32672796, -0.5723637 ,\n",
              "        -0.2388013 , -0.09565606,  0.2968222 ,  0.01969995,  0.2901539 ]],\n",
              "      dtype=float32)>"
            ]
          },
          "metadata": {
            "tags": []
          },
          "execution_count": 67
        }
      ]
    },
    {
      "cell_type": "markdown",
      "metadata": {
        "id": "v965wwvi4vMh"
      },
      "source": [
        "Below the Module is constructed where several models are applied in parallel on the same input data and the results are concatenated. It is intended to use the code in multihead attention in Transformers."
      ]
    },
    {
      "cell_type": "code",
      "metadata": {
        "id": "kKhqLfYO5GcP"
      },
      "source": [
        "#initialize the list of n models which is constructed from the same model\n",
        "#\n",
        "def list_of_models(model, n):\n",
        "  return [model]*n\n"
      ],
      "execution_count": 68,
      "outputs": []
    },
    {
      "cell_type": "code",
      "metadata": {
        "id": "h_jo2m73zZnD"
      },
      "source": [
        "list_models = [tf.keras.layers.Dense(10)]*3\n",
        "arg_list = list_of_models(tf.keras.layers.Dense(10),3)"
      ],
      "execution_count": 69,
      "outputs": []
    },
    {
      "cell_type": "code",
      "metadata": {
        "id": "nkQXTMh3og87"
      },
      "source": [
        "### use *args to supply a list of models of variable length \n",
        "class MyParallel(tf.keras.Model):\n",
        "  def __init__(self, *args):\n",
        "    super().__init__()\n",
        "    self.modules = []\n",
        "    for block in args:\n",
        "      self.modules.append(block)\n",
        "\n",
        "  def call(self,X):\n",
        "    list_res= []\n",
        "    for module in self.modules:\n",
        "      list_res.append(module(X))\n",
        "      print(len(list_res))\n",
        "    print(list_res)\n",
        "    concat_final= tf.concat(list_res, -1)\n",
        "    return(concat_final)"
      ],
      "execution_count": 70,
      "outputs": []
    },
    {
      "cell_type": "code",
      "metadata": {
        "colab": {
          "base_uri": "https://localhost:8080/"
        },
        "id": "9qVuatMBqKpE",
        "outputId": "4cc913f5-8449-45a2-a589-6ae2c477dba9"
      },
      "source": [
        "net = MyParallel(tf.keras.layers.Dense(10), tf.keras.layers.Dense(10), tf.keras.layers.Dense(10))\n",
        "X = tf.random.uniform((2,10))\n",
        "net(X)"
      ],
      "execution_count": 71,
      "outputs": [
        {
          "output_type": "stream",
          "text": [
            "1\n",
            "2\n",
            "3\n",
            "[<tf.Tensor: shape=(2, 10), dtype=float32, numpy=\n",
            "array([[ 0.14490095,  0.0794435 ,  0.50017166, -0.6986517 ,  0.43846303,\n",
            "         0.1231045 , -0.4789162 ,  0.00637756, -0.08736229, -1.2559376 ],\n",
            "       [ 0.36836153, -0.55994344,  0.45377174, -0.6980738 ,  0.14614522,\n",
            "        -0.43536675, -0.6988557 ,  0.6581564 ,  0.05491114, -1.1397681 ]],\n",
            "      dtype=float32)>, <tf.Tensor: shape=(2, 10), dtype=float32, numpy=\n",
            "array([[ 0.01551464,  0.17690885, -0.68878347, -0.44795692,  0.9871354 ,\n",
            "         0.6054845 , -1.1978846 ,  0.45840088,  1.1669436 , -0.322392  ],\n",
            "       [ 0.22445709, -0.1715191 , -0.35252792, -1.0359576 ,  1.0006998 ,\n",
            "        -0.21304247, -1.0277196 ,  0.32946795,  1.2782837 , -0.5108025 ]],\n",
            "      dtype=float32)>, <tf.Tensor: shape=(2, 10), dtype=float32, numpy=\n",
            "array([[ 0.0067856 , -0.11662714,  0.54036695, -1.3106878 ,  0.3843606 ,\n",
            "        -0.5279068 , -0.42929056,  1.0044799 , -0.79400826,  0.04439169],\n",
            "       [ 0.15591703, -0.82232916, -0.09704366, -1.4714411 ,  0.81369925,\n",
            "        -0.5280976 , -0.14407334,  0.9664606 , -1.4289265 , -0.06384918]],\n",
            "      dtype=float32)>]\n"
          ],
          "name": "stdout"
        },
        {
          "output_type": "execute_result",
          "data": {
            "text/plain": [
              "<tf.Tensor: shape=(2, 30), dtype=float32, numpy=\n",
              "array([[ 0.14490095,  0.0794435 ,  0.50017166, -0.6986517 ,  0.43846303,\n",
              "         0.1231045 , -0.4789162 ,  0.00637756, -0.08736229, -1.2559376 ,\n",
              "         0.01551464,  0.17690885, -0.68878347, -0.44795692,  0.9871354 ,\n",
              "         0.6054845 , -1.1978846 ,  0.45840088,  1.1669436 , -0.322392  ,\n",
              "         0.0067856 , -0.11662714,  0.54036695, -1.3106878 ,  0.3843606 ,\n",
              "        -0.5279068 , -0.42929056,  1.0044799 , -0.79400826,  0.04439169],\n",
              "       [ 0.36836153, -0.55994344,  0.45377174, -0.6980738 ,  0.14614522,\n",
              "        -0.43536675, -0.6988557 ,  0.6581564 ,  0.05491114, -1.1397681 ,\n",
              "         0.22445709, -0.1715191 , -0.35252792, -1.0359576 ,  1.0006998 ,\n",
              "        -0.21304247, -1.0277196 ,  0.32946795,  1.2782837 , -0.5108025 ,\n",
              "         0.15591703, -0.82232916, -0.09704366, -1.4714411 ,  0.81369925,\n",
              "        -0.5280976 , -0.14407334,  0.9664606 , -1.4289265 , -0.06384918]],\n",
              "      dtype=float32)>"
            ]
          },
          "metadata": {
            "tags": []
          },
          "execution_count": 71
        }
      ]
    },
    {
      "cell_type": "code",
      "metadata": {
        "colab": {
          "base_uri": "https://localhost:8080/"
        },
        "id": "WN6a5o0TzqzN",
        "outputId": "3f3ec3b7-d8b4-4f3f-d9fb-9a838668a94e"
      },
      "source": [
        "### to use the list_models (which is a list) we have to unpack it\n",
        "net = MyParallel(*list_models)\n",
        "X = tf.random.uniform((2,10))\n",
        "net(X)"
      ],
      "execution_count": 72,
      "outputs": [
        {
          "output_type": "stream",
          "text": [
            "1\n",
            "2\n",
            "3\n",
            "[<tf.Tensor: shape=(2, 10), dtype=float32, numpy=\n",
            "array([[-0.2037656 ,  0.22916558,  0.70216995, -0.09731835, -0.32109368,\n",
            "         0.7234111 , -0.088953  ,  0.41940314, -0.03820773,  0.11949056],\n",
            "       [ 0.29042464,  0.70398897,  0.21444193, -0.34612215,  0.37787506,\n",
            "         0.3378849 , -0.3878733 ,  0.12061216, -0.0404951 , -0.12163115]],\n",
            "      dtype=float32)>, <tf.Tensor: shape=(2, 10), dtype=float32, numpy=\n",
            "array([[-0.2037656 ,  0.22916558,  0.70216995, -0.09731835, -0.32109368,\n",
            "         0.7234111 , -0.088953  ,  0.41940314, -0.03820773,  0.11949056],\n",
            "       [ 0.29042464,  0.70398897,  0.21444193, -0.34612215,  0.37787506,\n",
            "         0.3378849 , -0.3878733 ,  0.12061216, -0.0404951 , -0.12163115]],\n",
            "      dtype=float32)>, <tf.Tensor: shape=(2, 10), dtype=float32, numpy=\n",
            "array([[-0.2037656 ,  0.22916558,  0.70216995, -0.09731835, -0.32109368,\n",
            "         0.7234111 , -0.088953  ,  0.41940314, -0.03820773,  0.11949056],\n",
            "       [ 0.29042464,  0.70398897,  0.21444193, -0.34612215,  0.37787506,\n",
            "         0.3378849 , -0.3878733 ,  0.12061216, -0.0404951 , -0.12163115]],\n",
            "      dtype=float32)>]\n"
          ],
          "name": "stdout"
        },
        {
          "output_type": "execute_result",
          "data": {
            "text/plain": [
              "<tf.Tensor: shape=(2, 30), dtype=float32, numpy=\n",
              "array([[-0.2037656 ,  0.22916558,  0.70216995, -0.09731835, -0.32109368,\n",
              "         0.7234111 , -0.088953  ,  0.41940314, -0.03820773,  0.11949056,\n",
              "        -0.2037656 ,  0.22916558,  0.70216995, -0.09731835, -0.32109368,\n",
              "         0.7234111 , -0.088953  ,  0.41940314, -0.03820773,  0.11949056,\n",
              "        -0.2037656 ,  0.22916558,  0.70216995, -0.09731835, -0.32109368,\n",
              "         0.7234111 , -0.088953  ,  0.41940314, -0.03820773,  0.11949056],\n",
              "       [ 0.29042464,  0.70398897,  0.21444193, -0.34612215,  0.37787506,\n",
              "         0.3378849 , -0.3878733 ,  0.12061216, -0.0404951 , -0.12163115,\n",
              "         0.29042464,  0.70398897,  0.21444193, -0.34612215,  0.37787506,\n",
              "         0.3378849 , -0.3878733 ,  0.12061216, -0.0404951 , -0.12163115,\n",
              "         0.29042464,  0.70398897,  0.21444193, -0.34612215,  0.37787506,\n",
              "         0.3378849 , -0.3878733 ,  0.12061216, -0.0404951 , -0.12163115]],\n",
              "      dtype=float32)>"
            ]
          },
          "metadata": {
            "tags": []
          },
          "execution_count": 72
        }
      ]
    },
    {
      "cell_type": "code",
      "metadata": {
        "colab": {
          "base_uri": "https://localhost:8080/"
        },
        "id": "jxCVpOA36QnL",
        "outputId": "884b3cf8-ad5f-4ec6-d982-526b41090393"
      },
      "source": [
        "net = MyParallel(*arg_list)\n",
        "X = tf.random.uniform((2,10))\n",
        "net(X)"
      ],
      "execution_count": 73,
      "outputs": [
        {
          "output_type": "stream",
          "text": [
            "1\n",
            "2\n",
            "3\n",
            "[<tf.Tensor: shape=(2, 10), dtype=float32, numpy=\n",
            "array([[ 0.5911249 , -0.52441454, -0.74450433,  0.7025785 ,  0.68058085,\n",
            "        -0.20715527,  1.1025208 ,  0.9896529 ,  0.02379379, -0.5977524 ],\n",
            "       [ 0.47362876, -0.99836683, -0.28144085,  1.1753883 ,  0.47592038,\n",
            "         0.13608164,  0.89621174,  0.80639285,  0.01752793, -0.07582149]],\n",
            "      dtype=float32)>, <tf.Tensor: shape=(2, 10), dtype=float32, numpy=\n",
            "array([[ 0.5911249 , -0.52441454, -0.74450433,  0.7025785 ,  0.68058085,\n",
            "        -0.20715527,  1.1025208 ,  0.9896529 ,  0.02379379, -0.5977524 ],\n",
            "       [ 0.47362876, -0.99836683, -0.28144085,  1.1753883 ,  0.47592038,\n",
            "         0.13608164,  0.89621174,  0.80639285,  0.01752793, -0.07582149]],\n",
            "      dtype=float32)>, <tf.Tensor: shape=(2, 10), dtype=float32, numpy=\n",
            "array([[ 0.5911249 , -0.52441454, -0.74450433,  0.7025785 ,  0.68058085,\n",
            "        -0.20715527,  1.1025208 ,  0.9896529 ,  0.02379379, -0.5977524 ],\n",
            "       [ 0.47362876, -0.99836683, -0.28144085,  1.1753883 ,  0.47592038,\n",
            "         0.13608164,  0.89621174,  0.80639285,  0.01752793, -0.07582149]],\n",
            "      dtype=float32)>]\n"
          ],
          "name": "stdout"
        },
        {
          "output_type": "execute_result",
          "data": {
            "text/plain": [
              "<tf.Tensor: shape=(2, 30), dtype=float32, numpy=\n",
              "array([[ 0.5911249 , -0.52441454, -0.74450433,  0.7025785 ,  0.68058085,\n",
              "        -0.20715527,  1.1025208 ,  0.9896529 ,  0.02379379, -0.5977524 ,\n",
              "         0.5911249 , -0.52441454, -0.74450433,  0.7025785 ,  0.68058085,\n",
              "        -0.20715527,  1.1025208 ,  0.9896529 ,  0.02379379, -0.5977524 ,\n",
              "         0.5911249 , -0.52441454, -0.74450433,  0.7025785 ,  0.68058085,\n",
              "        -0.20715527,  1.1025208 ,  0.9896529 ,  0.02379379, -0.5977524 ],\n",
              "       [ 0.47362876, -0.99836683, -0.28144085,  1.1753883 ,  0.47592038,\n",
              "         0.13608164,  0.89621174,  0.80639285,  0.01752793, -0.07582149,\n",
              "         0.47362876, -0.99836683, -0.28144085,  1.1753883 ,  0.47592038,\n",
              "         0.13608164,  0.89621174,  0.80639285,  0.01752793, -0.07582149,\n",
              "         0.47362876, -0.99836683, -0.28144085,  1.1753883 ,  0.47592038,\n",
              "         0.13608164,  0.89621174,  0.80639285,  0.01752793, -0.07582149]],\n",
              "      dtype=float32)>"
            ]
          },
          "metadata": {
            "tags": []
          },
          "execution_count": 73
        }
      ]
    },
    {
      "cell_type": "code",
      "metadata": {
        "id": "LwZ-JbDvUJuj"
      },
      "source": [
        "### Nested Models \n",
        "class NestedBlocks(tf.keras.Model):\n",
        "  def __init__(self):\n",
        "    super().__init__()\n",
        "    self.net=tf.keras.Sequential()\n",
        "    self.net.add(tf.keras.layers.Dense(20,activation = tf.nn.relu))\n",
        "    self.net.add(tf.keras.layers.Dense(20,activation = tf.nn.relu))\n",
        "    self.dense = tf.keras.layers.Dense(20,activation = tf.nn.relu)\n",
        "\n",
        "  def call(self, inputs):\n",
        "    return self.dense(self.net(inputs))\n",
        "\n"
      ],
      "execution_count": 74,
      "outputs": []
    },
    {
      "cell_type": "code",
      "metadata": {
        "colab": {
          "base_uri": "https://localhost:8080/"
        },
        "id": "biCwieTmWYEi",
        "outputId": "8140cd1b-7f99-4024-dd4d-962c7d9304ae"
      },
      "source": [
        "net = NestedBlocks()\n",
        "X = tf.random.uniform((2, 20))\n",
        "net(X)"
      ],
      "execution_count": 75,
      "outputs": [
        {
          "output_type": "execute_result",
          "data": {
            "text/plain": [
              "<tf.Tensor: shape=(2, 20), dtype=float32, numpy=\n",
              "array([[0.03311471, 0.        , 0.15942249, 0.        , 0.08883218,\n",
              "        0.22490145, 0.        , 0.21377383, 0.03714283, 0.        ,\n",
              "        0.        , 0.        , 0.1599341 , 0.10077477, 0.        ,\n",
              "        0.17028964, 0.        , 0.30675215, 0.10723516, 0.        ],\n",
              "       [0.        , 0.15211217, 0.09624891, 0.        , 0.        ,\n",
              "        0.38231185, 0.        , 0.23157892, 0.01519379, 0.        ,\n",
              "        0.        , 0.00758522, 0.14658591, 0.08670777, 0.0599402 ,\n",
              "        0.28656822, 0.        , 0.31177   , 0.06682221, 0.0498123 ]],\n",
              "      dtype=float32)>"
            ]
          },
          "metadata": {
            "tags": []
          },
          "execution_count": 75
        }
      ]
    }
  ]
}