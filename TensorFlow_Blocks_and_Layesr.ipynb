{
  "nbformat": 4,
  "nbformat_minor": 0,
  "metadata": {
    "colab": {
      "name": "TensorFlow_Blocks_and_Layesr.ipynb",
      "provenance": [],
      "collapsed_sections": [],
      "authorship_tag": "ABX9TyN0cUuvg1wlROBTi0p0ZeCq",
      "include_colab_link": true
    },
    "kernelspec": {
      "name": "python3",
      "display_name": "Python 3"
    }
  },
  "cells": [
    {
      "cell_type": "markdown",
      "metadata": {
        "id": "view-in-github",
        "colab_type": "text"
      },
      "source": [
        "<a href=\"https://colab.research.google.com/github/Dmitri9149/TensorFlow-PyTorch-basics/blob/master/TensorFlow_Blocks_and_Layesr.ipynb\" target=\"_parent\"><img src=\"https://colab.research.google.com/assets/colab-badge.svg\" alt=\"Open In Colab\"/></a>"
      ]
    },
    {
      "cell_type": "code",
      "metadata": {
        "id": "46ijud10VqoX"
      },
      "source": [
        "import tensorflow as tf"
      ],
      "execution_count": 1,
      "outputs": []
    },
    {
      "cell_type": "markdown",
      "metadata": {
        "id": "5gjeDxwD3hTg"
      },
      "source": [
        "The code is based on the d2l.ai book http://d2l.ai/"
      ]
    },
    {
      "cell_type": "code",
      "metadata": {
        "id": "FbspDGOOU-iN"
      },
      "source": [
        "### the code is based on d2l.ai book "
      ],
      "execution_count": 2,
      "outputs": []
    },
    {
      "cell_type": "code",
      "metadata": {
        "colab": {
          "base_uri": "https://localhost:8080/"
        },
        "id": "VZ-VVwTfWskj",
        "outputId": "81b6ae7b-3415-4a7a-8e42-a0d0dea95059"
      },
      "source": [
        "### sequence of models , Dense with relu is the first in the chain\n",
        "net = tf.keras.models.Sequential([\n",
        "  tf.keras.layers.Dense(256,activation=tf.nn.relu),\n",
        "  tf.keras.layers.Dense(10)\n",
        "])\n",
        "\n",
        "X=tf.random.uniform((2,20))\n",
        "net(X)"
      ],
      "execution_count": 3,
      "outputs": [
        {
          "output_type": "execute_result",
          "data": {
            "text/plain": [
              "<tf.Tensor: shape=(2, 10), dtype=float32, numpy=\n",
              "array([[ 0.00909282,  0.01374975, -0.06137768,  0.2827135 ,  0.16433828,\n",
              "         0.017675  ,  0.02951406, -0.00791816, -0.01246743,  0.45645836],\n",
              "       [ 0.20786038,  0.13381454, -0.04556976,  0.1745302 ,  0.10326056,\n",
              "         0.03028696,  0.09641308, -0.15879628, -0.13908726,  0.12435369]],\n",
              "      dtype=float32)>"
            ]
          },
          "metadata": {
            "tags": []
          },
          "execution_count": 3
        }
      ]
    },
    {
      "cell_type": "code",
      "metadata": {
        "colab": {
          "base_uri": "https://localhost:8080/"
        },
        "id": "W9JqpdcWYkq3",
        "outputId": "b3646985-a6be-42aa-ef9a-3b32d658edb1"
      },
      "source": [
        "net.call(X)"
      ],
      "execution_count": 4,
      "outputs": [
        {
          "output_type": "execute_result",
          "data": {
            "text/plain": [
              "<tf.Tensor: shape=(2, 10), dtype=float32, numpy=\n",
              "array([[ 0.00909282,  0.01374975, -0.06137768,  0.2827135 ,  0.16433828,\n",
              "         0.017675  ,  0.02951406, -0.00791816, -0.01246743,  0.45645836],\n",
              "       [ 0.20786038,  0.13381454, -0.04556976,  0.1745302 ,  0.10326056,\n",
              "         0.03028696,  0.09641308, -0.15879628, -0.13908726,  0.12435369]],\n",
              "      dtype=float32)>"
            ]
          },
          "metadata": {
            "tags": []
          },
          "execution_count": 4
        }
      ]
    },
    {
      "cell_type": "code",
      "metadata": {
        "id": "qLSzxDFKVK-k"
      },
      "source": [
        "### Custom Block"
      ],
      "execution_count": 5,
      "outputs": []
    },
    {
      "cell_type": "code",
      "metadata": {
        "id": "7zvVfoKSVRS0"
      },
      "source": [
        "class MLP(tf.keras.Model):\n",
        "  def __init__(self):\n",
        "    super().__init__()\n",
        "\n",
        "    self.hidden=tf.keras.layers.Dense(units=256,activation=tf.nn.relu)\n",
        "    self.out = tf.keras.layers.Dense(units=10)\n",
        "\n",
        "  def call(self, X):\n",
        "    return self.out(self.hidden((X)))"
      ],
      "execution_count": 6,
      "outputs": []
    },
    {
      "cell_type": "code",
      "metadata": {
        "colab": {
          "base_uri": "https://localhost:8080/"
        },
        "id": "M03aou37WIxc",
        "outputId": "2fd4f54c-049a-4a9c-fd7d-cafec57af899"
      },
      "source": [
        "net=MLP()\n",
        "net(X)"
      ],
      "execution_count": 7,
      "outputs": [
        {
          "output_type": "execute_result",
          "data": {
            "text/plain": [
              "<tf.Tensor: shape=(2, 10), dtype=float32, numpy=\n",
              "array([[ 0.10386161,  0.14772847,  0.07590111,  0.00041206, -0.22431685,\n",
              "         0.3106515 ,  0.34962907,  0.09930101, -0.28804976,  0.3125234 ],\n",
              "       [ 0.029401  , -0.04084022,  0.27908334,  0.00829339, -0.29578227,\n",
              "         0.06364293,  0.14512315,  0.06512737, -0.26229063,  0.2610535 ]],\n",
              "      dtype=float32)>"
            ]
          },
          "metadata": {
            "tags": []
          },
          "execution_count": 7
        }
      ]
    },
    {
      "cell_type": "code",
      "metadata": {
        "id": "IN6R0b4bmsD_"
      },
      "source": [
        "class MySequential(tf.keras.Model):\n",
        "  def __init__(self, *args):\n",
        "    super().__init__()\n",
        "    self.modules = []\n",
        "    for block in args:\n",
        "      self.modules.append(block)\n",
        "\n",
        "  def call(self,X):\n",
        "    for module in self.modules:\n",
        "      X=module(X)\n",
        "    return(X)\n"
      ],
      "execution_count": 8,
      "outputs": []
    },
    {
      "cell_type": "code",
      "metadata": {
        "colab": {
          "base_uri": "https://localhost:8080/"
        },
        "id": "K5f364x5oLPu",
        "outputId": "a4669e9a-8cc5-4840-f2e6-b62da7bfde89"
      },
      "source": [
        "net = MySequential(\n",
        "    tf.keras.layers.Dense(units=256, activation=tf.nn.relu),\n",
        "    tf.keras.layers.Dense(10))\n",
        "net(X)"
      ],
      "execution_count": 9,
      "outputs": [
        {
          "output_type": "execute_result",
          "data": {
            "text/plain": [
              "<tf.Tensor: shape=(2, 10), dtype=float32, numpy=\n",
              "array([[ 0.16804029, -0.2983359 , -0.3905234 , -0.04714135, -0.06045905,\n",
              "        -0.12263326,  0.06957128, -0.0960879 ,  0.15386027, -0.21005443],\n",
              "       [ 0.10792722, -0.22052994, -0.14740622, -0.09415362, -0.1607841 ,\n",
              "        -0.24880883,  0.20358746, -0.04025194,  0.11634333, -0.02602224]],\n",
              "      dtype=float32)>"
            ]
          },
          "metadata": {
            "tags": []
          },
          "execution_count": 9
        }
      ]
    },
    {
      "cell_type": "markdown",
      "metadata": {
        "id": "v965wwvi4vMh"
      },
      "source": [
        "Below the Module is constructed where several models are applied in parallel on the same input data and the results are concatenated. It is intended to use the code in multihead attention in Transformers."
      ]
    },
    {
      "cell_type": "code",
      "metadata": {
        "id": "kKhqLfYO5GcP"
      },
      "source": [
        "#initialize the list of n models which is constructed from the same model\n",
        "#\n",
        "def list_of_models(model, n):\n",
        "  return [model]*n\n"
      ],
      "execution_count": 10,
      "outputs": []
    },
    {
      "cell_type": "code",
      "metadata": {
        "id": "h_jo2m73zZnD"
      },
      "source": [
        "list_models = [tf.keras.layers.Dense(10)]*3\n",
        "arg_list = list_of_models(tf.keras.layers.Dense(10),3)"
      ],
      "execution_count": 11,
      "outputs": []
    },
    {
      "cell_type": "code",
      "metadata": {
        "id": "nkQXTMh3og87"
      },
      "source": [
        "### use *args to supply a list of models of variable length \n",
        "class MyParallel(tf.keras.Model):\n",
        "  def __init__(self, *args):\n",
        "    super().__init__()\n",
        "    self.modules = []\n",
        "    for block in args:\n",
        "      self.modules.append(block)\n",
        "\n",
        "  def call(self,X):\n",
        "    list_res= []\n",
        "    for module in self.modules:\n",
        "      list_res.append(module(X))\n",
        "#      print(len(list_res))\n",
        "#    print(list_res)\n",
        "    concat_final= tf.concat(list_res, -1)\n",
        "    return(concat_final)"
      ],
      "execution_count": 12,
      "outputs": []
    },
    {
      "cell_type": "code",
      "metadata": {
        "colab": {
          "base_uri": "https://localhost:8080/"
        },
        "id": "9qVuatMBqKpE",
        "outputId": "dcd2fc60-80f3-44fa-e5df-2fa122a35f0c"
      },
      "source": [
        "net = MyParallel(tf.keras.layers.Dense(10), tf.keras.layers.Dense(10), tf.keras.layers.Dense(10))\n",
        "X = tf.random.uniform((2,10))\n",
        "net(X)"
      ],
      "execution_count": 13,
      "outputs": [
        {
          "output_type": "execute_result",
          "data": {
            "text/plain": [
              "<tf.Tensor: shape=(2, 30), dtype=float32, numpy=\n",
              "array([[-0.56124824, -0.38891086,  0.35382545, -0.9906275 , -0.5402892 ,\n",
              "         0.49451846,  0.19466962,  0.21224272, -1.0865588 ,  0.7103232 ,\n",
              "         0.02705622, -0.08997977, -0.37342167,  0.625508  ,  0.07295603,\n",
              "        -0.65145755, -0.08856682, -0.3422256 , -1.2647176 , -0.5413022 ,\n",
              "        -0.10384612, -0.4562428 , -0.6272959 , -0.34211698, -0.2750854 ,\n",
              "         0.94105494,  0.18589485, -0.07349542,  0.22988643,  0.96972764],\n",
              "       [-0.36661115, -0.4719828 ,  0.06597181, -0.8355848 , -0.58647263,\n",
              "         0.64303195,  0.03227372,  0.4768671 , -0.8007686 ,  0.35421258,\n",
              "         0.06726015,  0.07977167,  0.10896739,  0.52407306,  0.5189501 ,\n",
              "        -1.0372953 , -0.18133628, -0.20285854, -1.3682258 , -0.62451136,\n",
              "        -0.01978788, -0.4696629 , -0.22328262, -0.13282071, -0.9338706 ,\n",
              "         0.9689894 ,  0.18261452,  0.22877276,  0.68559885,  0.30046397]],\n",
              "      dtype=float32)>"
            ]
          },
          "metadata": {
            "tags": []
          },
          "execution_count": 13
        }
      ]
    },
    {
      "cell_type": "code",
      "metadata": {
        "colab": {
          "base_uri": "https://localhost:8080/"
        },
        "id": "WN6a5o0TzqzN",
        "outputId": "8dbaf03e-4543-4bef-ecfc-ceb39b819629"
      },
      "source": [
        "### to use the list_models (which is a list) we have to unpack it\n",
        "net = MyParallel(*list_models)\n",
        "X = tf.random.uniform((2,10))\n",
        "net(X)"
      ],
      "execution_count": 14,
      "outputs": [
        {
          "output_type": "execute_result",
          "data": {
            "text/plain": [
              "<tf.Tensor: shape=(2, 30), dtype=float32, numpy=\n",
              "array([[ 1.1712143 ,  0.35506618,  0.27431348, -0.48405725,  0.51399314,\n",
              "        -0.38894856, -1.0032334 ,  1.0930847 ,  0.6921097 ,  1.5358344 ,\n",
              "         1.1712143 ,  0.35506618,  0.27431348, -0.48405725,  0.51399314,\n",
              "        -0.38894856, -1.0032334 ,  1.0930847 ,  0.6921097 ,  1.5358344 ,\n",
              "         1.1712143 ,  0.35506618,  0.27431348, -0.48405725,  0.51399314,\n",
              "        -0.38894856, -1.0032334 ,  1.0930847 ,  0.6921097 ,  1.5358344 ],\n",
              "       [ 1.0266249 ,  0.04710215,  0.2816203 , -0.07991627,  0.2037133 ,\n",
              "        -0.5349076 , -0.9093189 ,  1.0602528 ,  0.6188585 ,  0.53985655,\n",
              "         1.0266249 ,  0.04710215,  0.2816203 , -0.07991627,  0.2037133 ,\n",
              "        -0.5349076 , -0.9093189 ,  1.0602528 ,  0.6188585 ,  0.53985655,\n",
              "         1.0266249 ,  0.04710215,  0.2816203 , -0.07991627,  0.2037133 ,\n",
              "        -0.5349076 , -0.9093189 ,  1.0602528 ,  0.6188585 ,  0.53985655]],\n",
              "      dtype=float32)>"
            ]
          },
          "metadata": {
            "tags": []
          },
          "execution_count": 14
        }
      ]
    },
    {
      "cell_type": "code",
      "metadata": {
        "colab": {
          "base_uri": "https://localhost:8080/"
        },
        "id": "jxCVpOA36QnL",
        "outputId": "254f1160-52f7-4d34-e012-51187e061a09"
      },
      "source": [
        "net = MyParallel(*arg_list)\n",
        "X = tf.random.uniform((2,10))\n",
        "net(X)"
      ],
      "execution_count": 15,
      "outputs": [
        {
          "output_type": "execute_result",
          "data": {
            "text/plain": [
              "<tf.Tensor: shape=(2, 30), dtype=float32, numpy=\n",
              "array([[-1.0047772 ,  0.34146777, -0.59281015,  0.29828238,  0.03776546,\n",
              "        -0.18795398,  0.14842464,  0.4939804 , -0.4818945 , -0.46737397,\n",
              "        -1.0047772 ,  0.34146777, -0.59281015,  0.29828238,  0.03776546,\n",
              "        -0.18795398,  0.14842464,  0.4939804 , -0.4818945 , -0.46737397,\n",
              "        -1.0047772 ,  0.34146777, -0.59281015,  0.29828238,  0.03776546,\n",
              "        -0.18795398,  0.14842464,  0.4939804 , -0.4818945 , -0.46737397],\n",
              "       [-0.59279555,  0.03367037, -1.0668515 ,  0.13989648,  0.10434949,\n",
              "         0.34627205,  0.4655439 ,  0.34844258,  0.19958179, -0.2087093 ,\n",
              "        -0.59279555,  0.03367037, -1.0668515 ,  0.13989648,  0.10434949,\n",
              "         0.34627205,  0.4655439 ,  0.34844258,  0.19958179, -0.2087093 ,\n",
              "        -0.59279555,  0.03367037, -1.0668515 ,  0.13989648,  0.10434949,\n",
              "         0.34627205,  0.4655439 ,  0.34844258,  0.19958179, -0.2087093 ]],\n",
              "      dtype=float32)>"
            ]
          },
          "metadata": {
            "tags": []
          },
          "execution_count": 15
        }
      ]
    },
    {
      "cell_type": "code",
      "metadata": {
        "id": "LwZ-JbDvUJuj"
      },
      "source": [
        "### Nested Models \n",
        "class NestedBlocks(tf.keras.Model):\n",
        "  def __init__(self):\n",
        "    super().__init__()\n",
        "    self.net=tf.keras.Sequential()\n",
        "    self.net.add(tf.keras.layers.Dense(20,activation = tf.nn.relu))\n",
        "    self.net.add(tf.keras.layers.Dense(20,activation = tf.nn.relu))\n",
        "    self.dense = tf.keras.layers.Dense(20,activation = tf.nn.relu)\n",
        "\n",
        "  def call(self, inputs):\n",
        "    return self.dense(self.net(inputs))\n",
        "\n"
      ],
      "execution_count": 16,
      "outputs": []
    },
    {
      "cell_type": "code",
      "metadata": {
        "colab": {
          "base_uri": "https://localhost:8080/"
        },
        "id": "biCwieTmWYEi",
        "outputId": "e0039b9a-379f-4720-c64e-f710840fc41e"
      },
      "source": [
        "net = NestedBlocks()\n",
        "X = tf.random.uniform((2, 20))\n",
        "net(X)"
      ],
      "execution_count": 17,
      "outputs": [
        {
          "output_type": "execute_result",
          "data": {
            "text/plain": [
              "<tf.Tensor: shape=(2, 20), dtype=float32, numpy=\n",
              "array([[0.        , 0.        , 0.04393809, 0.        , 0.00760015,\n",
              "        0.11003554, 0.        , 0.04990879, 0.10807315, 0.        ,\n",
              "        0.        , 0.        , 0.04251675, 0.        , 0.        ,\n",
              "        0.        , 0.2316497 , 0.22356923, 0.        , 0.        ],\n",
              "       [0.        , 0.        , 0.        , 0.        , 0.22502428,\n",
              "        0.        , 0.        , 0.31385317, 0.18847409, 0.18041375,\n",
              "        0.        , 0.04677206, 0.        , 0.        , 0.        ,\n",
              "        0.        , 0.38573745, 0.05432643, 0.        , 0.        ]],\n",
              "      dtype=float32)>"
            ]
          },
          "metadata": {
            "tags": []
          },
          "execution_count": 17
        }
      ]
    },
    {
      "cell_type": "markdown",
      "metadata": {
        "id": "323VZoHSWU1P"
      },
      "source": [
        "Parameter access"
      ]
    },
    {
      "cell_type": "code",
      "metadata": {
        "colab": {
          "base_uri": "https://localhost:8080/"
        },
        "id": "TY1f8fCoWnC9",
        "outputId": "58ca4a47-8ee7-4a38-a185-f51274303efa"
      },
      "source": [
        "import numpy as np\n",
        "\n",
        "net = tf.keras.models.Sequential([\n",
        "    tf.keras.layers.Flatten(),\n",
        "    tf.keras.layers.Dense(4, activation=tf.nn.relu),\n",
        "    tf.keras.layers.Dense(1)\n",
        "])\n",
        "\n",
        "X = tf.random.uniform((2, 4))\n",
        "net(X)"
      ],
      "execution_count": 18,
      "outputs": [
        {
          "output_type": "execute_result",
          "data": {
            "text/plain": [
              "<tf.Tensor: shape=(2, 1), dtype=float32, numpy=\n",
              "array([[ 0.        ],\n",
              "       [-0.00472663]], dtype=float32)>"
            ]
          },
          "metadata": {
            "tags": []
          },
          "execution_count": 18
        }
      ]
    },
    {
      "cell_type": "code",
      "metadata": {
        "colab": {
          "base_uri": "https://localhost:8080/"
        },
        "id": "I898wmQbX5yl",
        "outputId": "c8a2ee69-0fca-4d09-e53b-fee121ff8130"
      },
      "source": [
        "print(net.layers[2].weights)"
      ],
      "execution_count": 19,
      "outputs": [
        {
          "output_type": "stream",
          "text": [
            "[<tf.Variable 'dense_15/kernel:0' shape=(4, 1) dtype=float32, numpy=\n",
            "array([[-0.35243016],\n",
            "       [-0.13560206],\n",
            "       [-0.02524698],\n",
            "       [ 0.673424  ]], dtype=float32)>, <tf.Variable 'dense_15/bias:0' shape=(1,) dtype=float32, numpy=array([0.], dtype=float32)>]\n"
          ],
          "name": "stdout"
        }
      ]
    },
    {
      "cell_type": "code",
      "metadata": {
        "colab": {
          "base_uri": "https://localhost:8080/"
        },
        "id": "JxjWkJDqZPUk",
        "outputId": "3e5dd9e6-067a-4e06-a2de-5cbb71a1c44f"
      },
      "source": [
        "print(type(net.layers[2].weights[1]))\n",
        "print(net.layers[2].weights[1])\n",
        "print(tf.convert_to_tensor(net.layers[2].weights[1]))"
      ],
      "execution_count": 20,
      "outputs": [
        {
          "output_type": "stream",
          "text": [
            "<class 'tensorflow.python.ops.resource_variable_ops.ResourceVariable'>\n",
            "<tf.Variable 'dense_15/bias:0' shape=(1,) dtype=float32, numpy=array([0.], dtype=float32)>\n",
            "tf.Tensor([0.], shape=(1,), dtype=float32)\n"
          ],
          "name": "stdout"
        }
      ]
    },
    {
      "cell_type": "code",
      "metadata": {
        "colab": {
          "base_uri": "https://localhost:8080/"
        },
        "id": "K2HY5chlacBf",
        "outputId": "0af412ef-82de-412f-d44d-a6ead02ea4b3"
      },
      "source": [
        "print(net.layers[1].weights)\n",
        "print(net.get_weights())"
      ],
      "execution_count": 21,
      "outputs": [
        {
          "output_type": "stream",
          "text": [
            "[<tf.Variable 'dense_14/kernel:0' shape=(4, 4) dtype=float32, numpy=\n",
            "array([[-0.5817772 , -0.44365552, -0.6431604 , -0.7945558 ],\n",
            "       [-0.3782673 ,  0.12490118, -0.3444708 ,  0.10040689],\n",
            "       [ 0.34444815,  0.10886186,  0.29199153, -0.75480783],\n",
            "       [ 0.00362861, -0.8353254 ,  0.80649513, -0.54661834]],\n",
            "      dtype=float32)>, <tf.Variable 'dense_14/bias:0' shape=(4,) dtype=float32, numpy=array([0., 0., 0., 0.], dtype=float32)>]\n",
            "[array([[-0.5817772 , -0.44365552, -0.6431604 , -0.7945558 ],\n",
            "       [-0.3782673 ,  0.12490118, -0.3444708 ,  0.10040689],\n",
            "       [ 0.34444815,  0.10886186,  0.29199153, -0.75480783],\n",
            "       [ 0.00362861, -0.8353254 ,  0.80649513, -0.54661834]],\n",
            "      dtype=float32), array([0., 0., 0., 0.], dtype=float32), array([[-0.35243016],\n",
            "       [-0.13560206],\n",
            "       [-0.02524698],\n",
            "       [ 0.673424  ]], dtype=float32), array([0.], dtype=float32)]\n"
          ],
          "name": "stdout"
        }
      ]
    },
    {
      "cell_type": "code",
      "metadata": {
        "colab": {
          "base_uri": "https://localhost:8080/"
        },
        "id": "17aEY8l8ancj",
        "outputId": "7decae0a-1649-4f3d-e357-69f6f5eea729"
      },
      "source": [
        "net.get_weights()[1]"
      ],
      "execution_count": 22,
      "outputs": [
        {
          "output_type": "execute_result",
          "data": {
            "text/plain": [
              "array([0., 0., 0., 0.], dtype=float32)"
            ]
          },
          "metadata": {
            "tags": []
          },
          "execution_count": 22
        }
      ]
    },
    {
      "cell_type": "code",
      "metadata": {
        "colab": {
          "base_uri": "https://localhost:8080/"
        },
        "id": "bNGHRk_NcV-N",
        "outputId": "63b8d1f6-661c-45d0-bb03-8396b301f6b8"
      },
      "source": [
        "### collecting parameters from nested blocks\n",
        "def block1(name):\n",
        "    return tf.keras.Sequential([\n",
        "        tf.keras.layers.Flatten(),\n",
        "        tf.keras.layers.Dense(4, activation=tf.nn.relu)],\n",
        "        name=name)\n",
        "\n",
        "def block2():\n",
        "    net = tf.keras.Sequential()\n",
        "    for i in range(4):\n",
        "        # Nested here\n",
        "        net.add(block1(name=f'block-{i}'))\n",
        "    return net\n",
        "\n",
        "rgnet = tf.keras.Sequential()\n",
        "rgnet.add(block2())\n",
        "rgnet.add(tf.keras.layers.Dense(1))\n",
        "rgnet(X)"
      ],
      "execution_count": 23,
      "outputs": [
        {
          "output_type": "execute_result",
          "data": {
            "text/plain": [
              "<tf.Tensor: shape=(2, 1), dtype=float32, numpy=\n",
              "array([[-0.00672365],\n",
              "       [-0.02152235]], dtype=float32)>"
            ]
          },
          "metadata": {
            "tags": []
          },
          "execution_count": 23
        }
      ]
    },
    {
      "cell_type": "code",
      "metadata": {
        "colab": {
          "base_uri": "https://localhost:8080/"
        },
        "id": "A8XJIQ8Zfc2g",
        "outputId": "9bdc12f2-9f2b-475b-ede0-b84c0a64b8ce"
      },
      "source": [
        "print(rgnet.summary())"
      ],
      "execution_count": 24,
      "outputs": [
        {
          "output_type": "stream",
          "text": [
            "Model: \"sequential_3\"\n",
            "_________________________________________________________________\n",
            "Layer (type)                 Output Shape              Param #   \n",
            "=================================================================\n",
            "sequential_4 (Sequential)    (2, 4)                    80        \n",
            "_________________________________________________________________\n",
            "dense_20 (Dense)             (2, 1)                    5         \n",
            "=================================================================\n",
            "Total params: 85\n",
            "Trainable params: 85\n",
            "Non-trainable params: 0\n",
            "_________________________________________________________________\n",
            "None\n"
          ],
          "name": "stdout"
        }
      ]
    },
    {
      "cell_type": "code",
      "metadata": {
        "colab": {
          "base_uri": "https://localhost:8080/"
        },
        "id": "YyuvTRMbj-l8",
        "outputId": "882c0f73-a9d4-474b-f5b9-26f9b6008206"
      },
      "source": [
        "rgnet.layers[0].layers[1].layers[1].weights[1]"
      ],
      "execution_count": 25,
      "outputs": [
        {
          "output_type": "execute_result",
          "data": {
            "text/plain": [
              "<tf.Variable 'sequential_4/block-1/dense_17/bias:0' shape=(4,) dtype=float32, numpy=array([0., 0., 0., 0.], dtype=float32)>"
            ]
          },
          "metadata": {
            "tags": []
          },
          "execution_count": 25
        }
      ]
    },
    {
      "cell_type": "code",
      "metadata": {
        "colab": {
          "base_uri": "https://localhost:8080/"
        },
        "id": "5doUcFSEtQVF",
        "outputId": "00ca8936-c95c-4cbc-800f-e414f064f922"
      },
      "source": [
        "net_prl = MyParallel(tf.keras.layers.Dense(4), tf.keras.layers.Dense(4), tf.keras.layers.Dense(4))\n",
        "X = tf.random.uniform((1,4))\n",
        "net_prl(X)"
      ],
      "execution_count": 26,
      "outputs": [
        {
          "output_type": "execute_result",
          "data": {
            "text/plain": [
              "<tf.Tensor: shape=(1, 12), dtype=float32, numpy=\n",
              "array([[ 0.81099457,  0.19220386,  0.16658069, -0.07737514,  0.28590167,\n",
              "         0.5230656 , -0.4353081 , -0.03039999, -0.09708518, -0.36586413,\n",
              "        -0.3536003 ,  0.10420385]], dtype=float32)>"
            ]
          },
          "metadata": {
            "tags": []
          },
          "execution_count": 26
        }
      ]
    },
    {
      "cell_type": "code",
      "metadata": {
        "colab": {
          "base_uri": "https://localhost:8080/"
        },
        "id": "vHbpoigVtZLZ",
        "outputId": "9f7b5ad9-dff6-4cfa-c3c6-cacbd5586140"
      },
      "source": [
        "print(net_prl.summary())"
      ],
      "execution_count": 27,
      "outputs": [
        {
          "output_type": "stream",
          "text": [
            "Model: \"my_parallel_3\"\n",
            "_________________________________________________________________\n",
            "Layer (type)                 Output Shape              Param #   \n",
            "=================================================================\n",
            "dense_21 (Dense)             multiple                  20        \n",
            "_________________________________________________________________\n",
            "dense_22 (Dense)             multiple                  20        \n",
            "_________________________________________________________________\n",
            "dense_23 (Dense)             multiple                  20        \n",
            "=================================================================\n",
            "Total params: 60\n",
            "Trainable params: 60\n",
            "Non-trainable params: 0\n",
            "_________________________________________________________________\n",
            "None\n"
          ],
          "name": "stdout"
        }
      ]
    },
    {
      "cell_type": "code",
      "metadata": {
        "colab": {
          "base_uri": "https://localhost:8080/"
        },
        "id": "oXccmjShyDDS",
        "outputId": "88f48bae-4b92-49b2-ac9b-78e42c4ba354"
      },
      "source": [
        "net = tf.keras.models.Sequential([\n",
        "  tf.keras.layers.Flatten(),\n",
        "  tf.keras.layers.Dense(\n",
        "      4, activation = tf.nn.relu, \n",
        "      kernel_initializer = tf.random_normal_initializer(mean=0, stddev=0.01),\n",
        "      bias_initializer=tf.zeros_initializer()\n",
        "  ),\n",
        "  tf.keras.layers.Dense(1)                                  \n",
        "])\n",
        "net(X)\n",
        "net.weights"
      ],
      "execution_count": 28,
      "outputs": [
        {
          "output_type": "execute_result",
          "data": {
            "text/plain": [
              "[<tf.Variable 'dense_24/kernel:0' shape=(4, 4) dtype=float32, numpy=\n",
              " array([[ 0.02035885,  0.01135421, -0.00145491,  0.00264139],\n",
              "        [-0.00676935,  0.00625156,  0.00262907, -0.0159021 ],\n",
              "        [-0.00916125,  0.01898468, -0.00277208, -0.01571836],\n",
              "        [-0.00306712,  0.00142435,  0.00065452, -0.00520501]],\n",
              "       dtype=float32)>,\n",
              " <tf.Variable 'dense_24/bias:0' shape=(4,) dtype=float32, numpy=array([0., 0., 0., 0.], dtype=float32)>,\n",
              " <tf.Variable 'dense_25/kernel:0' shape=(4, 1) dtype=float32, numpy=\n",
              " array([[ 0.10517943],\n",
              "        [ 1.0334432 ],\n",
              "        [-1.0305837 ],\n",
              "        [-0.74189115]], dtype=float32)>,\n",
              " <tf.Variable 'dense_25/bias:0' shape=(1,) dtype=float32, numpy=array([0.], dtype=float32)>]"
            ]
          },
          "metadata": {
            "tags": []
          },
          "execution_count": 28
        }
      ]
    },
    {
      "cell_type": "code",
      "metadata": {
        "colab": {
          "base_uri": "https://localhost:8080/"
        },
        "id": "EzQSa9JezlrH",
        "outputId": "e5550f11-4de6-4b5e-d7a3-22b00a911906"
      },
      "source": [
        "net = tf.keras.models.Sequential([\n",
        "    tf.keras.layers.Flatten(),\n",
        "    tf.keras.layers.Dense(\n",
        "        4, activation=tf.nn.relu,\n",
        "        kernel_initializer=tf.keras.initializers.Constant(1),\n",
        "        bias_initializer=tf.zeros_initializer()),\n",
        "    tf.keras.layers.Dense(1),\n",
        "])\n",
        "\n",
        "net(X)\n",
        "net.weights[0], net.weights[1]"
      ],
      "execution_count": 29,
      "outputs": [
        {
          "output_type": "execute_result",
          "data": {
            "text/plain": [
              "(<tf.Variable 'dense_26/kernel:0' shape=(4, 4) dtype=float32, numpy=\n",
              " array([[1., 1., 1., 1.],\n",
              "        [1., 1., 1., 1.],\n",
              "        [1., 1., 1., 1.],\n",
              "        [1., 1., 1., 1.]], dtype=float32)>,\n",
              " <tf.Variable 'dense_26/bias:0' shape=(4,) dtype=float32, numpy=array([0., 0., 0., 0.], dtype=float32)>)"
            ]
          },
          "metadata": {
            "tags": []
          },
          "execution_count": 29
        }
      ]
    },
    {
      "cell_type": "code",
      "metadata": {
        "colab": {
          "base_uri": "https://localhost:8080/"
        },
        "id": "rI815Psbz3cl",
        "outputId": "12d2111a-2e83-428a-e4b1-e525088e41f2"
      },
      "source": [
        "net = tf.keras.models.Sequential([\n",
        "    tf.keras.layers.Flatten(),\n",
        "    tf.keras.layers.Dense(\n",
        "        4,\n",
        "        activation=tf.nn.relu,\n",
        "        kernel_initializer=tf.keras.initializers.GlorotUniform()),\n",
        "    tf.keras.layers.Dense(\n",
        "        1, kernel_initializer=tf.keras.initializers.Constant(1)),\n",
        "])\n",
        "\n",
        "net(X)\n",
        "print(net.layers[1].weights[0])\n",
        "print(net.layers[2].weights[0])"
      ],
      "execution_count": 30,
      "outputs": [
        {
          "output_type": "stream",
          "text": [
            "<tf.Variable 'dense_28/kernel:0' shape=(4, 4) dtype=float32, numpy=\n",
            "array([[ 0.4765696 , -0.69300777, -0.16482627, -0.4676735 ],\n",
            "       [ 0.23094362,  0.65221995, -0.635887  ,  0.04500878],\n",
            "       [-0.21136963,  0.49000472, -0.08565372,  0.15789896],\n",
            "       [ 0.46441942, -0.5388297 ,  0.00678027,  0.3247164 ]],\n",
            "      dtype=float32)>\n",
            "<tf.Variable 'dense_29/kernel:0' shape=(4, 1) dtype=float32, numpy=\n",
            "array([[1.],\n",
            "       [1.],\n",
            "       [1.],\n",
            "       [1.]], dtype=float32)>\n"
          ],
          "name": "stdout"
        }
      ]
    },
    {
      "cell_type": "code",
      "metadata": {
        "colab": {
          "base_uri": "https://localhost:8080/"
        },
        "id": "--vXHGAs1B59",
        "outputId": "b42bd1a3-d4ff-4d4f-fb70-9f47bfddb448"
      },
      "source": [
        "class MyInit(tf.keras.initializers.Initializer):\n",
        "  def __init__(self,shape, dtype=None):\n",
        "    data = tf.random.uniform(shape, -10,10,dtype=dtype)\n",
        "    factor=(tf.abs.data >=5)\n",
        "    factor=tf.cast(factor, tf.float32)\n",
        "    return factor*data\n",
        "\n",
        "net(X)\n",
        "net.layers[1].weights"
      ],
      "execution_count": 31,
      "outputs": [
        {
          "output_type": "execute_result",
          "data": {
            "text/plain": [
              "[<tf.Variable 'dense_28/kernel:0' shape=(4, 4) dtype=float32, numpy=\n",
              " array([[ 0.4765696 , -0.69300777, -0.16482627, -0.4676735 ],\n",
              "        [ 0.23094362,  0.65221995, -0.635887  ,  0.04500878],\n",
              "        [-0.21136963,  0.49000472, -0.08565372,  0.15789896],\n",
              "        [ 0.46441942, -0.5388297 ,  0.00678027,  0.3247164 ]],\n",
              "       dtype=float32)>,\n",
              " <tf.Variable 'dense_28/bias:0' shape=(4,) dtype=float32, numpy=array([0., 0., 0., 0.], dtype=float32)>]"
            ]
          },
          "metadata": {
            "tags": []
          },
          "execution_count": 31
        }
      ]
    },
    {
      "cell_type": "code",
      "metadata": {
        "colab": {
          "base_uri": "https://localhost:8080/"
        },
        "id": "NjfUeMnA22Ex",
        "outputId": "814c1304-e6fe-4eef-b881-9ab4b4e825a9"
      },
      "source": [
        "### assign parameters\n",
        "net.layers[1].weights[0][:].assign(net.layers[1].weights[0] + 1)\n",
        "net.layers[1].weights[0][0, 0].assign(42)\n",
        "net.layers[1].weights[0]"
      ],
      "execution_count": 32,
      "outputs": [
        {
          "output_type": "execute_result",
          "data": {
            "text/plain": [
              "<tf.Variable 'dense_28/kernel:0' shape=(4, 4) dtype=float32, numpy=\n",
              "array([[42.        ,  0.30699223,  0.8351737 ,  0.53232646],\n",
              "       [ 1.2309437 ,  1.65222   ,  0.36411297,  1.0450088 ],\n",
              "       [ 0.78863037,  1.4900048 ,  0.9143463 ,  1.1578989 ],\n",
              "       [ 1.4644194 ,  0.46117032,  1.0067803 ,  1.3247163 ]],\n",
              "      dtype=float32)>"
            ]
          },
          "metadata": {
            "tags": []
          },
          "execution_count": 32
        }
      ]
    },
    {
      "cell_type": "code",
      "metadata": {
        "id": "ptVWzwzt3EuU",
        "colab": {
          "base_uri": "https://localhost:8080/"
        },
        "outputId": "2b81b970-eb58-420a-b28f-9e93bf742888"
      },
      "source": [
        "# tf.keras behaves a bit differently. It removes the duplicate layer\n",
        "# automatically\n",
        "shared = tf.keras.layers.Dense(4, activation=tf.nn.relu)\n",
        "net = tf.keras.models.Sequential([\n",
        "    tf.keras.layers.Flatten(),\n",
        "    shared,\n",
        "    shared,\n",
        "    tf.keras.layers.Dense(1),\n",
        "])\n",
        "\n",
        "net(X)\n",
        "# Check whether the parameters are different\n",
        "print(len(net.layers) == 3)"
      ],
      "execution_count": 33,
      "outputs": [
        {
          "output_type": "stream",
          "text": [
            "True\n"
          ],
          "name": "stdout"
        }
      ]
    },
    {
      "cell_type": "code",
      "metadata": {
        "id": "gCCFVC3ehxZW"
      },
      "source": [
        "### Deffered Initialization\n",
        "net = tf.keras.models.Sequential([\n",
        "  tf.keras.layers.Dense(256, activation=tf.nn.relu),\n",
        "  tf.keras.layers.Dense(10)                                  \n",
        "])"
      ],
      "execution_count": 39,
      "outputs": []
    },
    {
      "cell_type": "code",
      "metadata": {
        "colab": {
          "base_uri": "https://localhost:8080/"
        },
        "id": "t7jgZWZbjNMD",
        "outputId": "014e5309-06c4-4840-8959-211f5e19c67f"
      },
      "source": [
        "### layers are empty\n",
        "[net.layers[i].get_weights() for i in range(len(net.layers))]"
      ],
      "execution_count": 41,
      "outputs": [
        {
          "output_type": "execute_result",
          "data": {
            "text/plain": [
              "[[], []]"
            ]
          },
          "metadata": {
            "tags": []
          },
          "execution_count": 41
        }
      ]
    },
    {
      "cell_type": "code",
      "metadata": {
        "id": "uGRKdsQBjYxY"
      },
      "source": [
        "### this code gives error because net the weights are not initilized yet\n",
        "# net.get_weights()"
      ],
      "execution_count": 44,
      "outputs": []
    },
    {
      "cell_type": "code",
      "metadata": {
        "colab": {
          "base_uri": "https://localhost:8080/"
        },
        "id": "L7zdzIErj3sH",
        "outputId": "f4e9c45f-c6bc-4e45-8768-ec3b584435cb"
      },
      "source": [
        "X = tf.random.uniform((2,20))\n",
        "net(X)\n",
        "[w.shape for w in net.get_weights()]"
      ],
      "execution_count": 45,
      "outputs": [
        {
          "output_type": "execute_result",
          "data": {
            "text/plain": [
              "[(20, 256), (256,), (256, 10), (10,)]"
            ]
          },
          "metadata": {
            "tags": []
          },
          "execution_count": 45
        }
      ]
    }
  ]
}