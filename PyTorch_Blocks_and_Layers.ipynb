{
  "nbformat": 4,
  "nbformat_minor": 0,
  "metadata": {
    "colab": {
      "name": "PyTorch_Blocks_and_Layers.ipynb",
      "provenance": [],
      "collapsed_sections": [],
      "authorship_tag": "ABX9TyMjOI8CLDCxwDi5LYCWVdRs",
      "include_colab_link": true
    },
    "kernelspec": {
      "name": "python3",
      "display_name": "Python 3"
    },
    "accelerator": "GPU"
  },
  "cells": [
    {
      "cell_type": "markdown",
      "metadata": {
        "id": "view-in-github",
        "colab_type": "text"
      },
      "source": [
        "<a href=\"https://colab.research.google.com/github/Dmitri9149/TensorFlow-PyTorch-basics/blob/master/PyTorch_Blocks_and_Layers.ipynb\" target=\"_parent\"><img src=\"https://colab.research.google.com/assets/colab-badge.svg\" alt=\"Open In Colab\"/></a>"
      ]
    },
    {
      "cell_type": "code",
      "metadata": {
        "id": "tNXZO8ckVz9c"
      },
      "source": [
        "import torch\n",
        "from torch import nn\n",
        "from torch.nn import functional as F"
      ],
      "execution_count": 169,
      "outputs": []
    },
    {
      "cell_type": "markdown",
      "metadata": {
        "id": "Jz7s0w4o34iS"
      },
      "source": [
        "Some part of the code is based on d2l.ai book: http://d2l.ai/"
      ]
    },
    {
      "cell_type": "code",
      "metadata": {
        "id": "k4spfMK9X5a0"
      },
      "source": [
        "### basing on the d2l.ai book "
      ],
      "execution_count": 170,
      "outputs": []
    },
    {
      "cell_type": "code",
      "metadata": {
        "colab": {
          "base_uri": "https://localhost:8080/"
        },
        "id": "H8vqrvMFZK0F",
        "outputId": "bb970293-1b49-4833-8dec-388c6989336f"
      },
      "source": [
        "net = nn.Sequential(nn.Linear(20,256), nn.ReLU(), nn.Linear(256,10))\n",
        "\n",
        "X=torch.rand(2,20)\n",
        "net(X)"
      ],
      "execution_count": 171,
      "outputs": [
        {
          "output_type": "execute_result",
          "data": {
            "text/plain": [
              "tensor([[ 0.0237,  0.0474,  0.0385,  0.1019,  0.1441,  0.0250, -0.0526,  0.0707,\n",
              "         -0.0800, -0.1745],\n",
              "        [ 0.0633, -0.0320,  0.0300, -0.0549, -0.0336, -0.0589, -0.0714,  0.0758,\n",
              "         -0.0505, -0.0735]], grad_fn=<AddmmBackward>)"
            ]
          },
          "metadata": {
            "tags": []
          },
          "execution_count": 171
        }
      ]
    },
    {
      "cell_type": "code",
      "metadata": {
        "colab": {
          "base_uri": "https://localhost:8080/"
        },
        "id": "RWOcWWhTZtLj",
        "outputId": "76e84084-1452-47e8-8509-bdc4e5baae4d"
      },
      "source": [
        "net.forward(X)"
      ],
      "execution_count": 172,
      "outputs": [
        {
          "output_type": "execute_result",
          "data": {
            "text/plain": [
              "tensor([[ 0.0237,  0.0474,  0.0385,  0.1019,  0.1441,  0.0250, -0.0526,  0.0707,\n",
              "         -0.0800, -0.1745],\n",
              "        [ 0.0633, -0.0320,  0.0300, -0.0549, -0.0336, -0.0589, -0.0714,  0.0758,\n",
              "         -0.0505, -0.0735]], grad_fn=<AddmmBackward>)"
            ]
          },
          "metadata": {
            "tags": []
          },
          "execution_count": 172
        }
      ]
    },
    {
      "cell_type": "code",
      "metadata": {
        "id": "2o-ZWGHzYMeC"
      },
      "source": [
        "class MLP(nn.Module):\n",
        "\n",
        "    def __init__(self):\n",
        "        super().__init__()\n",
        "        self.hidden = nn.Linear(20, 256)  # Hidden layer\n",
        "        self.out = nn.Linear(256, 10)  # Output layer\n",
        "\n",
        "    def forward(self, X):\n",
        "        return self.out(F.relu(self.hidden(X)))\n"
      ],
      "execution_count": 173,
      "outputs": []
    },
    {
      "cell_type": "code",
      "metadata": {
        "colab": {
          "base_uri": "https://localhost:8080/"
        },
        "id": "Mfl8Vjz4ZOCU",
        "outputId": "4f5fefa0-5609-4e97-ea6a-5d70dafc51d5"
      },
      "source": [
        "net = MLP()\n",
        "net(X)"
      ],
      "execution_count": 174,
      "outputs": [
        {
          "output_type": "execute_result",
          "data": {
            "text/plain": [
              "tensor([[-0.0248,  0.0502,  0.0443,  0.0466, -0.0601, -0.1229, -0.1250,  0.1480,\n",
              "         -0.2301, -0.0225],\n",
              "        [-0.0716,  0.2107, -0.0651,  0.1048,  0.0715, -0.0720, -0.1693,  0.1391,\n",
              "         -0.2616, -0.1163]], grad_fn=<AddmmBackward>)"
            ]
          },
          "metadata": {
            "tags": []
          },
          "execution_count": 174
        }
      ]
    },
    {
      "cell_type": "code",
      "metadata": {
        "id": "5uZcmYXtat1q"
      },
      "source": [
        "### Custom Sequential Block"
      ],
      "execution_count": 175,
      "outputs": []
    },
    {
      "cell_type": "code",
      "metadata": {
        "id": "CYv1v61faxw5"
      },
      "source": [
        "class MySequential(nn.Module):\n",
        "    def __init__(self, *args):\n",
        "        super().__init__()\n",
        "        for block in args:\n",
        "            # Here, `block` is an instance of a `Module` subclass. We save it\n",
        "            # in the member variable `_modules` of the `Module` class, and its\n",
        "            # type is OrderedDict\n",
        "            self._modules[block] = block\n",
        "\n",
        "    def forward(self, X):\n",
        "        # OrderedDict guarantees that members will be traversed in the order\n",
        "        # they were added\n",
        "        for block in self._modules.values():\n",
        "            X = block(X)\n",
        "        return X\n",
        "\n"
      ],
      "execution_count": 176,
      "outputs": []
    },
    {
      "cell_type": "code",
      "metadata": {
        "colab": {
          "base_uri": "https://localhost:8080/"
        },
        "id": "594p1h-OjPWt",
        "outputId": "3bc0eb7e-688b-468b-e5f7-c5b09f422df2"
      },
      "source": [
        "net = MySequential(nn.Linear(20, 256), nn.ReLU(), nn.Linear(256, 10))\n",
        "net(X)"
      ],
      "execution_count": 177,
      "outputs": [
        {
          "output_type": "execute_result",
          "data": {
            "text/plain": [
              "tensor([[-0.0182, -0.1181,  0.2365, -0.1026, -0.0590, -0.1144,  0.0104,  0.0275,\n",
              "          0.2318,  0.0266],\n",
              "        [-0.1175,  0.0118,  0.2307,  0.0053,  0.0411, -0.2913, -0.0477, -0.0288,\n",
              "          0.0823,  0.0643]], grad_fn=<AddmmBackward>)"
            ]
          },
          "metadata": {
            "tags": []
          },
          "execution_count": 177
        }
      ]
    },
    {
      "cell_type": "markdown",
      "metadata": {
        "id": "cbVgUwWC53nU"
      },
      "source": [
        "MyParallel model: several models use the same input, executed in paralle and the results of the models are concatenated in one output."
      ]
    },
    {
      "cell_type": "code",
      "metadata": {
        "id": "mA5lR60X6p0O"
      },
      "source": [
        "class MyParallel(nn.Module):\n",
        "    def __init__(self, *args):\n",
        "        super().__init__()\n",
        "        for block in args:\n",
        "            # Here, `block` is an instance of a `Module` subclass. We save it\n",
        "            # in the member variable `_modules` of the `Module` class, and its\n",
        "            # type is OrderedDict\n",
        "            self._modules[block] = block\n",
        "\n",
        "    def forward(self, X):\n",
        "        # OrderedDict guarantees that members will be traversed in the order\n",
        "        # they were added\n",
        "        list_res=[]\n",
        "        for block in self._modules.values():\n",
        "          list_res.append(block(X))\n",
        "        concat_fin=torch.cat(list_res, dim = -1)\n",
        "        return concat_fin\n",
        "\n"
      ],
      "execution_count": 178,
      "outputs": []
    },
    {
      "cell_type": "code",
      "metadata": {
        "id": "2C91jHLAJMQ6"
      },
      "source": [
        "list_models = [nn.Linear(20,20),nn.Linear(20,20),nn.Linear(20,20)]"
      ],
      "execution_count": 179,
      "outputs": []
    },
    {
      "cell_type": "code",
      "metadata": {
        "colab": {
          "base_uri": "https://localhost:8080/"
        },
        "id": "y3fpmo-kI-xj",
        "outputId": "5f804c9e-9107-434e-82b0-0b440d69346e"
      },
      "source": [
        "net = MyParallel(nn.Linear(20,20),nn.Linear(20,20),nn.Linear(20,20))\n",
        "#X = torch.tensor([1,10])\n",
        "net(X)"
      ],
      "execution_count": 180,
      "outputs": [
        {
          "output_type": "execute_result",
          "data": {
            "text/plain": [
              "tensor([[ 0.1293,  0.3620, -0.2750,  0.3550,  0.1753,  0.2276, -0.0453,  0.3909,\n",
              "          0.3101,  0.1720, -0.2783, -0.1499,  0.2624, -0.2230, -0.0739, -0.5524,\n",
              "          0.0153,  0.4702,  0.0078, -0.2402, -0.0538, -0.1591, -0.2021,  0.3624,\n",
              "          0.2835, -0.3667, -0.1555,  0.0529,  0.4494, -0.3535, -0.2167,  0.1674,\n",
              "          0.3753,  0.3594, -0.1101, -0.0159,  0.1857,  0.4056,  0.3484,  0.2011,\n",
              "         -0.8248,  0.4090, -0.0222, -0.0134, -0.2785, -0.0625, -0.4550,  0.4799,\n",
              "          0.0025,  0.3386, -0.4627,  0.0014, -0.1049, -0.0839,  0.0616, -0.0263,\n",
              "         -0.0181, -0.2403,  0.7301, -0.1425],\n",
              "        [ 0.1376,  0.3970, -0.0365,  0.6587, -0.0906,  0.2326, -0.3146, -0.0177,\n",
              "          0.2065,  0.1578,  0.0982, -0.0815,  0.1859, -0.1964, -0.4040, -0.2211,\n",
              "         -0.1409,  0.2076, -0.1940, -0.4306, -0.3078, -0.0205, -0.2873, -0.1400,\n",
              "          0.1774, -0.0252,  0.1238,  0.1058,  0.4679,  0.2104, -0.1621,  0.1129,\n",
              "          0.3291,  0.7106, -0.0405,  0.0251,  0.3324,  0.3404,  0.2194,  0.2771,\n",
              "         -0.6008,  0.3528,  0.2361,  0.0142, -0.1978, -0.0385, -0.5918, -0.0883,\n",
              "          0.2495, -0.0254, -0.5782, -0.2856, -0.2023, -0.0829, -0.2092, -0.4522,\n",
              "         -0.1244, -0.0906,  0.4925,  0.1666]], grad_fn=<CatBackward>)"
            ]
          },
          "metadata": {
            "tags": []
          },
          "execution_count": 180
        }
      ]
    },
    {
      "cell_type": "code",
      "metadata": {
        "colab": {
          "base_uri": "https://localhost:8080/"
        },
        "id": "LP-xKOUCOPmN",
        "outputId": "5d8c2ed0-70ed-4721-df25-92f24217c8a4"
      },
      "source": [
        "net = MyParallel(*list_models)\n",
        "net(X)"
      ],
      "execution_count": 181,
      "outputs": [
        {
          "output_type": "execute_result",
          "data": {
            "text/plain": [
              "tensor([[-0.0414,  0.1768, -0.2009,  0.2508,  0.3385,  0.7083,  0.2919,  0.0889,\n",
              "          0.2914, -0.6532, -0.5163, -0.1289, -1.0221,  0.3668, -0.1724,  0.3483,\n",
              "          0.0373,  0.3762,  0.0551,  0.2034,  0.2387,  0.2787,  0.5693, -0.2542,\n",
              "         -0.2130, -0.7880,  0.0790,  0.0994, -0.1545,  0.5005, -0.2365, -0.0567,\n",
              "         -0.6380,  0.5348,  0.3780,  0.0419,  0.5773,  0.0337,  0.0403, -0.4502,\n",
              "         -0.3470,  0.1956, -0.1440, -0.0644, -0.4514, -0.3856, -0.2550,  0.1978,\n",
              "          0.3300,  0.1284, -0.5059,  0.3016,  0.1725, -0.3960, -0.5497, -0.8357,\n",
              "         -0.5133,  0.2965, -0.0821, -0.0141],\n",
              "        [ 0.1638,  0.1156,  0.0209,  0.4286,  0.5214,  0.5983,  0.5789,  0.1002,\n",
              "          0.6894, -0.7016, -0.6722, -0.0029, -1.2186,  0.1583, -0.1656,  0.7432,\n",
              "          0.2936,  0.4025, -0.0087,  0.1440,  0.0942,  0.2580,  0.8077, -0.3458,\n",
              "         -0.2411, -0.2847,  0.2503, -0.0695,  0.1638,  0.3611, -0.2980, -0.0682,\n",
              "         -0.1518,  0.4896,  0.4077,  0.1814,  0.4822,  0.2675,  0.0495, -0.4701,\n",
              "         -0.0671,  0.1289, -0.0952,  0.0494, -0.2946, -0.7075,  0.0410, -0.0904,\n",
              "         -0.0356,  0.1603, -0.7640,  0.2025,  0.3314, -0.8867, -0.3040, -0.5638,\n",
              "         -0.1541,  0.2377, -0.1570,  0.2498]], grad_fn=<CatBackward>)"
            ]
          },
          "metadata": {
            "tags": []
          },
          "execution_count": 181
        }
      ]
    },
    {
      "cell_type": "code",
      "metadata": {
        "id": "Dnr94UYgR7bK"
      },
      "source": [
        "##### Nesting Modules\n",
        "class NestedBlocks(nn.Module):\n",
        "  def __init__(self,*args):\n",
        "    super().__init__()\n",
        "    self.net = nn.Sequential(nn.Linear(20,20),nn.Linear(20,20))\n",
        "    self.linear = nn.Linear(20,20)\n",
        "\n",
        "  def forward(self, X):\n",
        "    return self.linear(self.net(X))\n",
        "\n"
      ],
      "execution_count": 182,
      "outputs": []
    },
    {
      "cell_type": "code",
      "metadata": {
        "colab": {
          "base_uri": "https://localhost:8080/"
        },
        "id": "FO6PLJdlTkkB",
        "outputId": "bcee544c-5cb4-4adc-b50e-fd5c2fb7d83b"
      },
      "source": [
        "tensor = torch.ones([2,20])\n",
        "net = NestedBlocks()\n",
        "net(X)"
      ],
      "execution_count": 183,
      "outputs": [
        {
          "output_type": "execute_result",
          "data": {
            "text/plain": [
              "tensor([[ 0.0937, -0.1466,  0.3278,  0.1944, -0.0631, -0.2502,  0.0113, -0.1054,\n",
              "          0.1111,  0.0151, -0.0034,  0.0767,  0.2366, -0.1687, -0.1052,  0.1522,\n",
              "          0.4037, -0.1529, -0.0058, -0.2199],\n",
              "        [-0.0887, -0.3235,  0.3774,  0.3524,  0.0164, -0.2565, -0.0706, -0.1376,\n",
              "          0.1584, -0.0275,  0.0340, -0.0673,  0.2173, -0.1887, -0.0955,  0.0606,\n",
              "          0.2554, -0.1287, -0.0249, -0.1184]], grad_fn=<AddmmBackward>)"
            ]
          },
          "metadata": {
            "tags": []
          },
          "execution_count": 183
        }
      ]
    },
    {
      "cell_type": "markdown",
      "metadata": {
        "id": "MPvHAsxNknIY"
      },
      "source": [
        "Parameters access"
      ]
    },
    {
      "cell_type": "code",
      "metadata": {
        "colab": {
          "base_uri": "https://localhost:8080/"
        },
        "id": "DlqLfDIbkXZE",
        "outputId": "50ee50f2-18b6-4e75-937f-29b624003ae0"
      },
      "source": [
        "net = nn.Sequential(nn.Linear(4, 8), nn.ReLU(), nn.Linear(8, 1))\n",
        "X=torch.rand((2,4))\n",
        "net(X)"
      ],
      "execution_count": 184,
      "outputs": [
        {
          "output_type": "execute_result",
          "data": {
            "text/plain": [
              "tensor([[-0.4657],\n",
              "        [-0.3875]], grad_fn=<AddmmBackward>)"
            ]
          },
          "metadata": {
            "tags": []
          },
          "execution_count": 184
        }
      ]
    },
    {
      "cell_type": "code",
      "metadata": {
        "colab": {
          "base_uri": "https://localhost:8080/"
        },
        "id": "guv1hQXlk_i-",
        "outputId": "e814bdf9-80ea-4492-e072-148e388b8a40"
      },
      "source": [
        "print(net[2].state_dict())"
      ],
      "execution_count": 185,
      "outputs": [
        {
          "output_type": "stream",
          "text": [
            "OrderedDict([('weight', tensor([[-0.0403, -0.2438, -0.2953,  0.0009,  0.0137, -0.0172, -0.1540, -0.2843]])), ('bias', tensor([-0.3019]))])\n"
          ],
          "name": "stdout"
        }
      ]
    },
    {
      "cell_type": "code",
      "metadata": {
        "colab": {
          "base_uri": "https://localhost:8080/"
        },
        "id": "n0YHZGzFlYvz",
        "outputId": "da009cd7-834e-45b4-9ded-20932c0e09a4"
      },
      "source": [
        "print(type(net[2].bias))\n",
        "print(net[2].bias)\n",
        "print(net[2].bias.data)"
      ],
      "execution_count": 186,
      "outputs": [
        {
          "output_type": "stream",
          "text": [
            "<class 'torch.nn.parameter.Parameter'>\n",
            "Parameter containing:\n",
            "tensor([-0.3019], requires_grad=True)\n",
            "tensor([-0.3019])\n"
          ],
          "name": "stdout"
        }
      ]
    },
    {
      "cell_type": "code",
      "metadata": {
        "colab": {
          "base_uri": "https://localhost:8080/"
        },
        "id": "oI6qIMm5luDT",
        "outputId": "349fa2f7-0d2d-4db7-a511-78f023c7ab0b"
      },
      "source": [
        "net[2].weight.grad == True"
      ],
      "execution_count": 187,
      "outputs": [
        {
          "output_type": "execute_result",
          "data": {
            "text/plain": [
              "False"
            ]
          },
          "metadata": {
            "tags": []
          },
          "execution_count": 187
        }
      ]
    },
    {
      "cell_type": "code",
      "metadata": {
        "colab": {
          "base_uri": "https://localhost:8080/"
        },
        "id": "3gIuKUD7mwED",
        "outputId": "36e77f6d-02e5-4a86-b8c5-88f342474269"
      },
      "source": [
        "print(*[(name, param.shape) for name, param in net[0].named_parameters()])\n",
        "print(*[(name, param.shape) for name, param in net.named_parameters()])"
      ],
      "execution_count": 188,
      "outputs": [
        {
          "output_type": "stream",
          "text": [
            "('weight', torch.Size([8, 4])) ('bias', torch.Size([8]))\n",
            "('0.weight', torch.Size([8, 4])) ('0.bias', torch.Size([8])) ('2.weight', torch.Size([1, 8])) ('2.bias', torch.Size([1]))\n"
          ],
          "name": "stdout"
        }
      ]
    },
    {
      "cell_type": "code",
      "metadata": {
        "colab": {
          "base_uri": "https://localhost:8080/"
        },
        "id": "4sLqUg75noO8",
        "outputId": "08a6180e-aa9a-4c50-cf9c-1b2e458f79a3"
      },
      "source": [
        "net.state_dict()['0.weight'].data"
      ],
      "execution_count": 189,
      "outputs": [
        {
          "output_type": "execute_result",
          "data": {
            "text/plain": [
              "tensor([[-0.0208,  0.3736,  0.1639, -0.2877],\n",
              "        [-0.2837,  0.1746,  0.3658, -0.3744],\n",
              "        [-0.4959, -0.0830, -0.4249, -0.1329],\n",
              "        [ 0.0738, -0.3496,  0.0964, -0.3045],\n",
              "        [-0.1577,  0.4065,  0.2789,  0.3619],\n",
              "        [ 0.2017, -0.2920, -0.3666, -0.4722],\n",
              "        [-0.2690, -0.0681, -0.3297,  0.4311],\n",
              "        [ 0.2925, -0.3944, -0.2464,  0.2031]])"
            ]
          },
          "metadata": {
            "tags": []
          },
          "execution_count": 189
        }
      ]
    },
    {
      "cell_type": "code",
      "metadata": {
        "colab": {
          "base_uri": "https://localhost:8080/"
        },
        "id": "sKbmhThkopB8",
        "outputId": "04679db4-6662-4b4f-8288-b9c58b6357d8"
      },
      "source": [
        "def block1():\n",
        "  return nn.Sequential(nn.Linear(4, 8), nn.ReLU(),\n",
        "                        nn.Linear(8, 4), nn.ReLU())\n",
        "\n",
        "def block2():\n",
        "  net = nn.Sequential()\n",
        "  for i in range(4):\n",
        "    net.add_module(f'block {i}', block1())\n",
        "  return net\n",
        "\n",
        "rgnet = nn.Sequential(block2(), nn.Linear(4,1))\n",
        "rgnet(X)"
      ],
      "execution_count": 190,
      "outputs": [
        {
          "output_type": "execute_result",
          "data": {
            "text/plain": [
              "tensor([[-0.1365],\n",
              "        [-0.1365]], grad_fn=<AddmmBackward>)"
            ]
          },
          "metadata": {
            "tags": []
          },
          "execution_count": 190
        }
      ]
    },
    {
      "cell_type": "code",
      "metadata": {
        "colab": {
          "base_uri": "https://localhost:8080/"
        },
        "id": "9be5jbkUqau7",
        "outputId": "22639238-d01b-4080-db28-415e6d474878"
      },
      "source": [
        "print(rgnet)"
      ],
      "execution_count": 191,
      "outputs": [
        {
          "output_type": "stream",
          "text": [
            "Sequential(\n",
            "  (0): Sequential(\n",
            "    (block 0): Sequential(\n",
            "      (0): Linear(in_features=4, out_features=8, bias=True)\n",
            "      (1): ReLU()\n",
            "      (2): Linear(in_features=8, out_features=4, bias=True)\n",
            "      (3): ReLU()\n",
            "    )\n",
            "    (block 1): Sequential(\n",
            "      (0): Linear(in_features=4, out_features=8, bias=True)\n",
            "      (1): ReLU()\n",
            "      (2): Linear(in_features=8, out_features=4, bias=True)\n",
            "      (3): ReLU()\n",
            "    )\n",
            "    (block 2): Sequential(\n",
            "      (0): Linear(in_features=4, out_features=8, bias=True)\n",
            "      (1): ReLU()\n",
            "      (2): Linear(in_features=8, out_features=4, bias=True)\n",
            "      (3): ReLU()\n",
            "    )\n",
            "    (block 3): Sequential(\n",
            "      (0): Linear(in_features=4, out_features=8, bias=True)\n",
            "      (1): ReLU()\n",
            "      (2): Linear(in_features=8, out_features=4, bias=True)\n",
            "      (3): ReLU()\n",
            "    )\n",
            "  )\n",
            "  (1): Linear(in_features=4, out_features=1, bias=True)\n",
            ")\n"
          ],
          "name": "stdout"
        }
      ]
    },
    {
      "cell_type": "code",
      "metadata": {
        "colab": {
          "base_uri": "https://localhost:8080/",
          "height": 35
        },
        "id": "5IWOaB7Gqq6i",
        "outputId": "6aef1d9f-f082-49aa-8ada-74d0c4fb5e22"
      },
      "source": [
        "\"\"\"\n",
        "net_prl = MyParallel(nn.Linear(4,4),nn.Linear(4,4),nn.Linear(4,4))\n",
        "X=torch.rand(1,4)\n",
        "net_prl(X)\n",
        "print(net_prl)\n",
        "\"\"\""
      ],
      "execution_count": 192,
      "outputs": [
        {
          "output_type": "execute_result",
          "data": {
            "application/vnd.google.colaboratory.intrinsic+json": {
              "type": "string"
            },
            "text/plain": [
              "'\\nnet_prl = MyParallel(nn.Linear(4,4),nn.Linear(4,4),nn.Linear(4,4))\\nX=torch.rand(1,4)\\nnet_prl(X)\\nprint(net_prl)\\n'"
            ]
          },
          "metadata": {
            "tags": []
          },
          "execution_count": 192
        }
      ]
    },
    {
      "cell_type": "code",
      "metadata": {
        "colab": {
          "base_uri": "https://localhost:8080/"
        },
        "id": "QRswNBEqvG1r",
        "outputId": "d663b1ef-1bdc-423e-9e9e-d4c9cc9ce161"
      },
      "source": [
        "rgnet[0][1][0].bias.data"
      ],
      "execution_count": 193,
      "outputs": [
        {
          "output_type": "execute_result",
          "data": {
            "text/plain": [
              "tensor([ 0.2354,  0.1424, -0.2331,  0.0673, -0.3973, -0.3581,  0.3154,  0.1150])"
            ]
          },
          "metadata": {
            "tags": []
          },
          "execution_count": 193
        }
      ]
    },
    {
      "cell_type": "markdown",
      "metadata": {
        "id": "yOtkQLd_m2Sb"
      },
      "source": [
        "Parameter Initialization"
      ]
    },
    {
      "cell_type": "code",
      "metadata": {
        "colab": {
          "base_uri": "https://localhost:8080/"
        },
        "id": "CpRTu6m9m0Lt",
        "outputId": "4e58b886-6df4-4a30-ab0b-21d6b507a062"
      },
      "source": [
        "def init_normal(m):\n",
        "  if type(m)==nn.Linear:\n",
        "    nn.init.normal_(m.weight, mean=0, std=0.01)\n",
        "    nn.init.zeros_(m.bias)\n",
        "\n",
        "net.apply(init_normal)\n",
        "net[0].weight.data , net[0].bias.data"
      ],
      "execution_count": 194,
      "outputs": [
        {
          "output_type": "execute_result",
          "data": {
            "text/plain": [
              "(tensor([[-0.0076, -0.0019, -0.0037, -0.0075],\n",
              "         [-0.0152,  0.0067, -0.0066, -0.0058],\n",
              "         [-0.0119, -0.0104,  0.0149,  0.0007],\n",
              "         [-0.0150, -0.0013,  0.0046, -0.0057],\n",
              "         [-0.0088, -0.0161,  0.0025,  0.0009],\n",
              "         [-0.0004,  0.0104,  0.0252,  0.0083],\n",
              "         [ 0.0017,  0.0016,  0.0121,  0.0024],\n",
              "         [ 0.0004,  0.0177, -0.0004,  0.0069]]),\n",
              " tensor([0., 0., 0., 0., 0., 0., 0., 0.]))"
            ]
          },
          "metadata": {
            "tags": []
          },
          "execution_count": 194
        }
      ]
    },
    {
      "cell_type": "code",
      "metadata": {
        "colab": {
          "base_uri": "https://localhost:8080/"
        },
        "id": "MK-YkMQVpPQi",
        "outputId": "662d5bf1-fd98-426f-821d-41405c1b4665"
      },
      "source": [
        "def xavier(m):\n",
        "    if type(m) == nn.Linear:\n",
        "        torch.nn.init.xavier_uniform_(m.weight)\n",
        "def init_42(m):\n",
        "    if type(m) == nn.Linear:\n",
        "        torch.nn.init.constant_(m.weight, 42)\n",
        "\n",
        "net[0].apply(xavier)\n",
        "net[2].apply(init_42)\n",
        "print(net[0].weight.data)\n",
        "print(net[2].weight.data)"
      ],
      "execution_count": 195,
      "outputs": [
        {
          "output_type": "stream",
          "text": [
            "tensor([[-0.4120, -0.3794, -0.0735, -0.6707],\n",
            "        [-0.0843, -0.0587, -0.6795, -0.5272],\n",
            "        [-0.1224,  0.0148, -0.1513, -0.3396],\n",
            "        [-0.0338, -0.3446,  0.0796, -0.5932],\n",
            "        [ 0.1550,  0.4798,  0.1734,  0.2339],\n",
            "        [-0.1635,  0.1171, -0.0360,  0.4638],\n",
            "        [-0.0273,  0.0631,  0.1151, -0.2536],\n",
            "        [-0.0516, -0.3743,  0.5188, -0.1587]])\n",
            "tensor([[42., 42., 42., 42., 42., 42., 42., 42.]])\n"
          ],
          "name": "stdout"
        }
      ]
    },
    {
      "cell_type": "code",
      "metadata": {
        "colab": {
          "base_uri": "https://localhost:8080/"
        },
        "id": "mt080AcEuCnB",
        "outputId": "ee1fb456-beff-4991-e008-dc0b125b7417"
      },
      "source": [
        "def my_init(m):\n",
        "    if type(m) == nn.Linear:\n",
        "        print(\"Init\", *[(name, param.shape)\n",
        "                        for name, param in m.named_parameters()][0])\n",
        "        nn.init.uniform_(m.weight, -10, 10)\n",
        "        m.weight.data *= m.weight.data.abs() >= 5\n",
        "\n",
        "net.apply(my_init)\n",
        "net[0].weight"
      ],
      "execution_count": 196,
      "outputs": [
        {
          "output_type": "stream",
          "text": [
            "Init weight torch.Size([8, 4])\n",
            "Init weight torch.Size([1, 8])\n"
          ],
          "name": "stdout"
        },
        {
          "output_type": "execute_result",
          "data": {
            "text/plain": [
              "Parameter containing:\n",
              "tensor([[-0.0000, -0.0000,  0.0000,  0.0000],\n",
              "        [-9.2048, -0.0000, -9.7863,  0.0000],\n",
              "        [-6.2107, -0.0000,  0.0000, -9.1236],\n",
              "        [-5.0346, -0.0000, -0.0000,  6.1767],\n",
              "        [-5.8910, -0.0000, -7.3705,  0.0000],\n",
              "        [ 0.0000,  0.0000, -7.6496,  5.9479],\n",
              "        [-9.5257, -0.0000,  0.0000,  8.3728],\n",
              "        [-0.0000, -9.1081, -0.0000,  6.8390]], requires_grad=True)"
            ]
          },
          "metadata": {
            "tags": []
          },
          "execution_count": 196
        }
      ]
    },
    {
      "cell_type": "code",
      "metadata": {
        "colab": {
          "base_uri": "https://localhost:8080/"
        },
        "id": "EN_5-wOyvoxU",
        "outputId": "a7d4eebf-3362-49d2-8ec2-cf25474c9e36"
      },
      "source": [
        "### we can set parameters\n",
        "net[0].weight.data[:] += 1\n",
        "net[0].weight.data[0, 0] = 42\n",
        "net[0].weight.data[0]"
      ],
      "execution_count": 197,
      "outputs": [
        {
          "output_type": "execute_result",
          "data": {
            "text/plain": [
              "tensor([42.,  1.,  1.,  1.])"
            ]
          },
          "metadata": {
            "tags": []
          },
          "execution_count": 197
        }
      ]
    },
    {
      "cell_type": "code",
      "metadata": {
        "colab": {
          "base_uri": "https://localhost:8080/"
        },
        "id": "b9AvZkz8wVSo",
        "outputId": "52c18600-c2d8-4368-f209-a953933ffa3f"
      },
      "source": [
        "### shared layers \n",
        "### give a name\n",
        "shared = nn.Linear(8,8)\n",
        "net = nn.Sequential(nn.Linear(4, 8), nn.ReLU(),\n",
        "                    shared, nn.ReLU(),\n",
        "                    shared, nn.ReLU(),\n",
        "                    nn.Linear(8, 1))\n",
        "### has same value\n",
        "print(net[2].weight.data[0] == net[4].weight.data[0])"
      ],
      "execution_count": 198,
      "outputs": [
        {
          "output_type": "stream",
          "text": [
            "tensor([True, True, True, True, True, True, True, True])\n"
          ],
          "name": "stdout"
        }
      ]
    },
    {
      "cell_type": "code",
      "metadata": {
        "colab": {
          "base_uri": "https://localhost:8080/"
        },
        "id": "_mM6zTvFw-CJ",
        "outputId": "0ecea9f7-a5ef-4a36-d9a3-3830b165e46d"
      },
      "source": [
        "### actually same objects\n",
        "net[2].weight.data[0, 0] = 100\n",
        "print(net[2].weight.data[0] == net[4].weight.data[0])"
      ],
      "execution_count": 199,
      "outputs": [
        {
          "output_type": "stream",
          "text": [
            "tensor([True, True, True, True, True, True, True, True])\n"
          ],
          "name": "stdout"
        }
      ]
    },
    {
      "cell_type": "code",
      "metadata": {
        "id": "PC_c5gF5m4td"
      },
      "source": [
        "### without parameters\n",
        "class CenteredLayer(nn.Module):\n",
        "  def __init__(self):\n",
        "    super().__init__()\n",
        "\n",
        "  def forward(self,X):\n",
        "    return (X-X.mean())\n"
      ],
      "execution_count": 200,
      "outputs": []
    },
    {
      "cell_type": "code",
      "metadata": {
        "colab": {
          "base_uri": "https://localhost:8080/"
        },
        "id": "Ks2Q9C9hnlyD",
        "outputId": "54d2d52f-4c9c-4055-dacc-b0a0bc4ab595"
      },
      "source": [
        "layer = CenteredLayer()\n",
        "layer(torch.FloatTensor([1,2,3,4,5,6]))"
      ],
      "execution_count": 201,
      "outputs": [
        {
          "output_type": "execute_result",
          "data": {
            "text/plain": [
              "tensor([-2.5000, -1.5000, -0.5000,  0.5000,  1.5000,  2.5000])"
            ]
          },
          "metadata": {
            "tags": []
          },
          "execution_count": 201
        }
      ]
    },
    {
      "cell_type": "code",
      "metadata": {
        "colab": {
          "base_uri": "https://localhost:8080/"
        },
        "id": "wO95gEqYoKA7",
        "outputId": "95bd5c73-c596-4dc9-8dea-c6bca43ed7c2"
      },
      "source": [
        "net = nn.Sequential(nn.Linear(5,5), CenteredLayer())\n",
        "Y = net(torch.rand(2,5))\n",
        "Y.mean()"
      ],
      "execution_count": 202,
      "outputs": [
        {
          "output_type": "execute_result",
          "data": {
            "text/plain": [
              "tensor(1.4901e-09, grad_fn=<MeanBackward0>)"
            ]
          },
          "metadata": {
            "tags": []
          },
          "execution_count": 202
        }
      ]
    },
    {
      "cell_type": "code",
      "metadata": {
        "id": "Fiundh6zp_VR"
      },
      "source": [
        "### Linear from scratch\n",
        "class MyLinear(nn.Module):\n",
        "  def __init__(self, in_units, out_units):\n",
        "    super().__init__()\n",
        "    self.weight=nn.Parameter(torch.randn(in_units, out_units))\n",
        "    self.bias = nn.Parameter(torch.randn(out_units))\n",
        "\n",
        "  def forward(self,X):\n",
        "    linear = torch.matmul(X, self.weight.data)+ self.bias.data\n",
        "    return F.relu(linear)\n"
      ],
      "execution_count": 203,
      "outputs": []
    },
    {
      "cell_type": "code",
      "metadata": {
        "colab": {
          "base_uri": "https://localhost:8080/"
        },
        "id": "WSL_b2lxtxAN",
        "outputId": "10638e7f-379c-4a23-8b96-800b35f8bcb1"
      },
      "source": [
        "dense = MyLinear(5,3)\n",
        "dense(torch.randn(2,5))"
      ],
      "execution_count": 204,
      "outputs": [
        {
          "output_type": "execute_result",
          "data": {
            "text/plain": [
              "tensor([[2.2841, 0.0000, 0.0000],\n",
              "        [0.0000, 3.2201, 1.6283]])"
            ]
          },
          "metadata": {
            "tags": []
          },
          "execution_count": 204
        }
      ]
    },
    {
      "cell_type": "code",
      "metadata": {
        "colab": {
          "base_uri": "https://localhost:8080/"
        },
        "id": "iiOnTMfXuDk1",
        "outputId": "67e56c2c-fd6f-4728-aa2e-aa470fb3dd93"
      },
      "source": [
        "net = nn.Sequential(MyLinear(10,5), MyLinear(5,3))\n",
        "net(torch.randn(2,10))"
      ],
      "execution_count": 205,
      "outputs": [
        {
          "output_type": "execute_result",
          "data": {
            "text/plain": [
              "tensor([[0., 0., 0.],\n",
              "        [0., 0., 0.]])"
            ]
          },
          "metadata": {
            "tags": []
          },
          "execution_count": 205
        }
      ]
    },
    {
      "cell_type": "code",
      "metadata": {
        "id": "x34xRlds36Ay"
      },
      "source": [
        "#### saving results into  file \n",
        "x = torch.arange(5)\n",
        "torch.save(x, 'x_file')"
      ],
      "execution_count": 206,
      "outputs": []
    },
    {
      "cell_type": "code",
      "metadata": {
        "colab": {
          "base_uri": "https://localhost:8080/"
        },
        "id": "5dvobXcs4K0Q",
        "outputId": "83742e8b-9b16-410c-99b1-939571a6f903"
      },
      "source": [
        "x2 = torch.load('x_file')\n",
        "x2"
      ],
      "execution_count": 207,
      "outputs": [
        {
          "output_type": "execute_result",
          "data": {
            "text/plain": [
              "tensor([0, 1, 2, 3, 4])"
            ]
          },
          "metadata": {
            "tags": []
          },
          "execution_count": 207
        }
      ]
    },
    {
      "cell_type": "code",
      "metadata": {
        "id": "LwgYwkXB4gFI"
      },
      "source": [
        "y = torch.zeros(4)\n",
        "torch.save([x,y], 'x_file')"
      ],
      "execution_count": 208,
      "outputs": []
    },
    {
      "cell_type": "code",
      "metadata": {
        "colab": {
          "base_uri": "https://localhost:8080/"
        },
        "id": "pZgE8GmN4saA",
        "outputId": "b6811f3a-4fc8-43ee-f22e-b0cd29f5170f"
      },
      "source": [
        "l,m = torch.load('x_file')\n",
        "(l,m)"
      ],
      "execution_count": 209,
      "outputs": [
        {
          "output_type": "execute_result",
          "data": {
            "text/plain": [
              "(tensor([0, 1, 2, 3, 4]), tensor([0., 0., 0., 0.]))"
            ]
          },
          "metadata": {
            "tags": []
          },
          "execution_count": 209
        }
      ]
    },
    {
      "cell_type": "code",
      "metadata": {
        "colab": {
          "base_uri": "https://localhost:8080/"
        },
        "id": "KfLRajcg5B6M",
        "outputId": "0bdfb00d-2e84-4709-ce36-1aece58bafd3"
      },
      "source": [
        "### read write from dict\n",
        "myDict = {'x':x, 'y':y}\n",
        "torch.save(myDict, 'mydict')\n",
        "mydict2 = torch.load('mydict')\n",
        "mydict2\n"
      ],
      "execution_count": 210,
      "outputs": [
        {
          "output_type": "execute_result",
          "data": {
            "text/plain": [
              "{'x': tensor([0, 1, 2, 3, 4]), 'y': tensor([0., 0., 0., 0.])}"
            ]
          },
          "metadata": {
            "tags": []
          },
          "execution_count": 210
        }
      ]
    },
    {
      "cell_type": "code",
      "metadata": {
        "id": "oEh1ZHzZ6Isn"
      },
      "source": [
        "### save model parameters\n",
        "class MLP(nn.Module):\n",
        "    def __init__(self):\n",
        "        super().__init__()\n",
        "        self.hidden = nn.Linear(20, 256)\n",
        "        self.output = nn.Linear(256, 10)\n",
        "\n",
        "    def forward(self, x):\n",
        "        return self.output(F.relu(self.hidden(x)))\n",
        "\n",
        "net = MLP()\n",
        "X = torch.randn(size=(2, 20))\n",
        "Y = net(X)"
      ],
      "execution_count": 211,
      "outputs": []
    },
    {
      "cell_type": "code",
      "metadata": {
        "id": "Zzu8k09l6Nsl"
      },
      "source": [
        "torch.save(net.state_dict(), 'mlp.params')"
      ],
      "execution_count": 212,
      "outputs": []
    },
    {
      "cell_type": "code",
      "metadata": {
        "colab": {
          "base_uri": "https://localhost:8080/"
        },
        "id": "0Fs6qgfR6mtP",
        "outputId": "727b98f0-6ce5-4386-ea75-e0483fd248df"
      },
      "source": [
        "### clone model and load params to the clone\n",
        "clone = MLP()\n",
        "clone.load_state_dict(torch.load('mlp.params'))"
      ],
      "execution_count": 213,
      "outputs": [
        {
          "output_type": "execute_result",
          "data": {
            "text/plain": [
              "<All keys matched successfully>"
            ]
          },
          "metadata": {
            "tags": []
          },
          "execution_count": 213
        }
      ]
    },
    {
      "cell_type": "code",
      "metadata": {
        "colab": {
          "base_uri": "https://localhost:8080/"
        },
        "id": "FqRhxGlL7SmQ",
        "outputId": "7a57da8e-a0e7-475e-c1bc-6ab5c3338a5c"
      },
      "source": [
        "clone.eval()"
      ],
      "execution_count": 214,
      "outputs": [
        {
          "output_type": "execute_result",
          "data": {
            "text/plain": [
              "MLP(\n",
              "  (hidden): Linear(in_features=20, out_features=256, bias=True)\n",
              "  (output): Linear(in_features=256, out_features=10, bias=True)\n",
              ")"
            ]
          },
          "metadata": {
            "tags": []
          },
          "execution_count": 214
        }
      ]
    },
    {
      "cell_type": "code",
      "metadata": {
        "colab": {
          "base_uri": "https://localhost:8080/"
        },
        "id": "QTp0Rq5t7iL9",
        "outputId": "30b2b325-5609-4373-8503-99aeaa5f48c1"
      },
      "source": [
        "Y_clone = clone(X)\n",
        "Y_clone == Y"
      ],
      "execution_count": 215,
      "outputs": [
        {
          "output_type": "execute_result",
          "data": {
            "text/plain": [
              "tensor([[True, True, True, True, True, True, True, True, True, True],\n",
              "        [True, True, True, True, True, True, True, True, True, True]])"
            ]
          },
          "metadata": {
            "tags": []
          },
          "execution_count": 215
        }
      ]
    },
    {
      "cell_type": "code",
      "metadata": {
        "colab": {
          "base_uri": "https://localhost:8080/"
        },
        "id": "92YFvGbc_f2o",
        "outputId": "0c1f3119-a10d-4fbf-abda-6087e2a6fbb8"
      },
      "source": [
        "!nvidia-smi"
      ],
      "execution_count": 216,
      "outputs": [
        {
          "output_type": "stream",
          "text": [
            "Wed Dec  2 15:39:17 2020       \n",
            "+-----------------------------------------------------------------------------+\n",
            "| NVIDIA-SMI 455.38       Driver Version: 418.67       CUDA Version: 10.1     |\n",
            "|-------------------------------+----------------------+----------------------+\n",
            "| GPU  Name        Persistence-M| Bus-Id        Disp.A | Volatile Uncorr. ECC |\n",
            "| Fan  Temp  Perf  Pwr:Usage/Cap|         Memory-Usage | GPU-Util  Compute M. |\n",
            "|                               |                      |               MIG M. |\n",
            "|===============================+======================+======================|\n",
            "|   0  Tesla K80           Off  | 00000000:00:04.0 Off |                    0 |\n",
            "| N/A   51C    P0    58W / 149W |    395MiB / 11441MiB |      0%      Default |\n",
            "|                               |                      |                 ERR! |\n",
            "+-------------------------------+----------------------+----------------------+\n",
            "                                                                               \n",
            "+-----------------------------------------------------------------------------+\n",
            "| Processes:                                                                  |\n",
            "|  GPU   GI   CI        PID   Type   Process name                  GPU Memory |\n",
            "|        ID   ID                                                   Usage      |\n",
            "|=============================================================================|\n",
            "|  No running processes found                                                 |\n",
            "+-----------------------------------------------------------------------------+\n"
          ],
          "name": "stdout"
        }
      ]
    },
    {
      "cell_type": "code",
      "metadata": {
        "colab": {
          "base_uri": "https://localhost:8080/"
        },
        "id": "vi6WyPrKAa72",
        "outputId": "0820c13f-009b-45d7-8388-2f3e8159faad"
      },
      "source": [
        "torch.device('cpu'), torch.cuda.device('cuda'), torch.cuda.device('cuda:1')"
      ],
      "execution_count": 217,
      "outputs": [
        {
          "output_type": "execute_result",
          "data": {
            "text/plain": [
              "(device(type='cpu'),\n",
              " <torch.cuda.device at 0x7fb50cde0908>,\n",
              " <torch.cuda.device at 0x7fb50cde0940>)"
            ]
          },
          "metadata": {
            "tags": []
          },
          "execution_count": 217
        }
      ]
    },
    {
      "cell_type": "code",
      "metadata": {
        "colab": {
          "base_uri": "https://localhost:8080/"
        },
        "id": "Fcx0k9LwA5wP",
        "outputId": "c101fd41-d94a-4150-dfe4-8d7d7be60966"
      },
      "source": [
        "torch.cuda.device_count()"
      ],
      "execution_count": 218,
      "outputs": [
        {
          "output_type": "execute_result",
          "data": {
            "text/plain": [
              "1"
            ]
          },
          "metadata": {
            "tags": []
          },
          "execution_count": 218
        }
      ]
    },
    {
      "cell_type": "code",
      "metadata": {
        "id": "-vVopQsWBe2Y"
      },
      "source": [
        "def try_gpu(i=0):\n",
        "  if torch.cuda.device_count() >= i+1:\n",
        "    return torch.device(f'cuda:{i}')\n",
        "  return torch.device('cpu')\n",
        "\n",
        "def try_all_gpus():\n",
        "  devices = [torch.device(f'cuda:{i}') \n",
        "            for i  in range (torch.cuda.device_count())]\n",
        "  return devices if devices else [torch.device('cpu')]\n",
        "\n",
        "  try_gpu(), try_gpu(2), try_all_gpus()"
      ],
      "execution_count": 219,
      "outputs": []
    },
    {
      "cell_type": "code",
      "metadata": {
        "colab": {
          "base_uri": "https://localhost:8080/"
        },
        "id": "qcWv9z-DEBSn",
        "outputId": "0a8cb37d-5f55-4e24-a2e1-33d0c5c954b5"
      },
      "source": [
        "x= torch.tensor([1,2,3])\n",
        "x.device"
      ],
      "execution_count": 220,
      "outputs": [
        {
          "output_type": "execute_result",
          "data": {
            "text/plain": [
              "device(type='cpu')"
            ]
          },
          "metadata": {
            "tags": []
          },
          "execution_count": 220
        }
      ]
    },
    {
      "cell_type": "code",
      "metadata": {
        "colab": {
          "base_uri": "https://localhost:8080/"
        },
        "id": "bSohK2SIEg6f",
        "outputId": "22ee5ae6-9def-42ee-8049-886b3f6e43c0"
      },
      "source": [
        "X = torch.ones(2,3, device = try_gpu())\n",
        "X"
      ],
      "execution_count": 221,
      "outputs": [
        {
          "output_type": "execute_result",
          "data": {
            "text/plain": [
              "tensor([[1., 1., 1.],\n",
              "        [1., 1., 1.]], device='cuda:0')"
            ]
          },
          "metadata": {
            "tags": []
          },
          "execution_count": 221
        }
      ]
    },
    {
      "cell_type": "code",
      "metadata": {
        "colab": {
          "base_uri": "https://localhost:8080/"
        },
        "id": "DU66HSr6E-5t",
        "outputId": "65b60553-357e-4a7b-d0dd-fca9b4d86b1b"
      },
      "source": [
        "Y = torch.rand(2, 3, device=try_gpu(0))\n",
        "Y"
      ],
      "execution_count": 222,
      "outputs": [
        {
          "output_type": "execute_result",
          "data": {
            "text/plain": [
              "tensor([[0.6576, 0.0485, 0.3303],\n",
              "        [0.2826, 0.6320, 0.7394]], device='cuda:0')"
            ]
          },
          "metadata": {
            "tags": []
          },
          "execution_count": 222
        }
      ]
    },
    {
      "cell_type": "code",
      "metadata": {
        "colab": {
          "base_uri": "https://localhost:8080/"
        },
        "id": "EN-_zbekFXlH",
        "outputId": "8d723874-cffe-4d2f-875c-a39860f7142b"
      },
      "source": [
        "Z = X.cuda(0)\n",
        "print(X)\n",
        "print(Z)"
      ],
      "execution_count": 223,
      "outputs": [
        {
          "output_type": "stream",
          "text": [
            "tensor([[1., 1., 1.],\n",
            "        [1., 1., 1.]], device='cuda:0')\n",
            "tensor([[1., 1., 1.],\n",
            "        [1., 1., 1.]], device='cuda:0')\n"
          ],
          "name": "stdout"
        }
      ]
    },
    {
      "cell_type": "code",
      "metadata": {
        "colab": {
          "base_uri": "https://localhost:8080/"
        },
        "id": "W6xUGgc6Fain",
        "outputId": "78828107-7e3a-42a2-f697-f57b3fdbb755"
      },
      "source": [
        "Y + Z"
      ],
      "execution_count": 224,
      "outputs": [
        {
          "output_type": "execute_result",
          "data": {
            "text/plain": [
              "tensor([[1.6576, 1.0485, 1.3303],\n",
              "        [1.2826, 1.6320, 1.7394]], device='cuda:0')"
            ]
          },
          "metadata": {
            "tags": []
          },
          "execution_count": 224
        }
      ]
    }
  ]
}