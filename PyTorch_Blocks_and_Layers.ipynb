{
  "nbformat": 4,
  "nbformat_minor": 0,
  "metadata": {
    "colab": {
      "name": "PyTorch_Blocks_and_Layers.ipynb",
      "provenance": [],
      "collapsed_sections": [],
      "authorship_tag": "ABX9TyMt5WA33rqo5RlForGK+XHE",
      "include_colab_link": true
    },
    "kernelspec": {
      "name": "python3",
      "display_name": "Python 3"
    },
    "accelerator": "GPU"
  },
  "cells": [
    {
      "cell_type": "markdown",
      "metadata": {
        "id": "view-in-github",
        "colab_type": "text"
      },
      "source": [
        "<a href=\"https://colab.research.google.com/github/Dmitri9149/TensorFlow-PyTorch-basics/blob/master/PyTorch_Blocks_and_Layers.ipynb\" target=\"_parent\"><img src=\"https://colab.research.google.com/assets/colab-badge.svg\" alt=\"Open In Colab\"/></a>"
      ]
    },
    {
      "cell_type": "code",
      "metadata": {
        "id": "tNXZO8ckVz9c"
      },
      "source": [
        "import torch\n",
        "from torch import nn\n",
        "from torch.nn import functional as F"
      ],
      "execution_count": 111,
      "outputs": []
    },
    {
      "cell_type": "markdown",
      "metadata": {
        "id": "Jz7s0w4o34iS"
      },
      "source": [
        "Some part of the code is based on d2l.ai book: http://d2l.ai/"
      ]
    },
    {
      "cell_type": "code",
      "metadata": {
        "id": "k4spfMK9X5a0"
      },
      "source": [
        "### basing on the d2l.ai book "
      ],
      "execution_count": 112,
      "outputs": []
    },
    {
      "cell_type": "code",
      "metadata": {
        "colab": {
          "base_uri": "https://localhost:8080/"
        },
        "id": "H8vqrvMFZK0F",
        "outputId": "b2541e79-0dfe-4873-8016-ab9c5f0cd717"
      },
      "source": [
        "net = nn.Sequential(nn.Linear(20,256), nn.ReLU(), nn.Linear(256,10))\n",
        "\n",
        "X=torch.rand(2,20)\n",
        "net(X)"
      ],
      "execution_count": 113,
      "outputs": [
        {
          "output_type": "execute_result",
          "data": {
            "text/plain": [
              "tensor([[ 0.1106, -0.2005, -0.2262, -0.0749,  0.0932, -0.0685, -0.2020,  0.1098,\n",
              "         -0.0752,  0.0607],\n",
              "        [ 0.2265, -0.1281, -0.2485, -0.0545,  0.2051,  0.0194, -0.1619,  0.2062,\n",
              "         -0.1254,  0.0996]], grad_fn=<AddmmBackward>)"
            ]
          },
          "metadata": {
            "tags": []
          },
          "execution_count": 113
        }
      ]
    },
    {
      "cell_type": "code",
      "metadata": {
        "colab": {
          "base_uri": "https://localhost:8080/"
        },
        "id": "RWOcWWhTZtLj",
        "outputId": "57b0872c-b148-44d7-bcac-b3fc772ced06"
      },
      "source": [
        "net.forward(X)"
      ],
      "execution_count": 114,
      "outputs": [
        {
          "output_type": "execute_result",
          "data": {
            "text/plain": [
              "tensor([[ 0.1106, -0.2005, -0.2262, -0.0749,  0.0932, -0.0685, -0.2020,  0.1098,\n",
              "         -0.0752,  0.0607],\n",
              "        [ 0.2265, -0.1281, -0.2485, -0.0545,  0.2051,  0.0194, -0.1619,  0.2062,\n",
              "         -0.1254,  0.0996]], grad_fn=<AddmmBackward>)"
            ]
          },
          "metadata": {
            "tags": []
          },
          "execution_count": 114
        }
      ]
    },
    {
      "cell_type": "code",
      "metadata": {
        "id": "2o-ZWGHzYMeC"
      },
      "source": [
        "class MLP(nn.Module):\n",
        "\n",
        "    def __init__(self):\n",
        "        super().__init__()\n",
        "        self.hidden = nn.Linear(20, 256)  # Hidden layer\n",
        "        self.out = nn.Linear(256, 10)  # Output layer\n",
        "\n",
        "    def forward(self, X):\n",
        "        return self.out(F.relu(self.hidden(X)))\n"
      ],
      "execution_count": 115,
      "outputs": []
    },
    {
      "cell_type": "code",
      "metadata": {
        "colab": {
          "base_uri": "https://localhost:8080/"
        },
        "id": "Mfl8Vjz4ZOCU",
        "outputId": "b286822c-7478-4aed-e146-ed8e084e5617"
      },
      "source": [
        "net = MLP()\n",
        "net(X)"
      ],
      "execution_count": 116,
      "outputs": [
        {
          "output_type": "execute_result",
          "data": {
            "text/plain": [
              "tensor([[ 0.1888,  0.0744,  0.0015, -0.3400, -0.1124,  0.3220, -0.1478, -0.0683,\n",
              "         -0.4799, -0.1417],\n",
              "        [ 0.3230, -0.0487, -0.1456, -0.2915,  0.0356,  0.2518, -0.1758, -0.1725,\n",
              "         -0.3961, -0.0694]], grad_fn=<AddmmBackward>)"
            ]
          },
          "metadata": {
            "tags": []
          },
          "execution_count": 116
        }
      ]
    },
    {
      "cell_type": "code",
      "metadata": {
        "id": "5uZcmYXtat1q"
      },
      "source": [
        "### Custom Sequential Block"
      ],
      "execution_count": 117,
      "outputs": []
    },
    {
      "cell_type": "code",
      "metadata": {
        "id": "CYv1v61faxw5"
      },
      "source": [
        "class MySequential(nn.Module):\n",
        "    def __init__(self, *args):\n",
        "        super().__init__()\n",
        "        for block in args:\n",
        "            # Here, `block` is an instance of a `Module` subclass. We save it\n",
        "            # in the member variable `_modules` of the `Module` class, and its\n",
        "            # type is OrderedDict\n",
        "            self._modules[block] = block\n",
        "\n",
        "    def forward(self, X):\n",
        "        # OrderedDict guarantees that members will be traversed in the order\n",
        "        # they were added\n",
        "        for block in self._modules.values():\n",
        "            X = block(X)\n",
        "        return X\n",
        "\n"
      ],
      "execution_count": 118,
      "outputs": []
    },
    {
      "cell_type": "code",
      "metadata": {
        "colab": {
          "base_uri": "https://localhost:8080/"
        },
        "id": "594p1h-OjPWt",
        "outputId": "2fa56a2d-0719-42b3-cde1-d13ad6db216b"
      },
      "source": [
        "net = MySequential(nn.Linear(20, 256), nn.ReLU(), nn.Linear(256, 10))\n",
        "net(X)"
      ],
      "execution_count": 119,
      "outputs": [
        {
          "output_type": "execute_result",
          "data": {
            "text/plain": [
              "tensor([[ 0.1074, -0.0912, -0.0485, -0.1502, -0.0150, -0.0216, -0.0244,  0.0261,\n",
              "          0.1816,  0.0262],\n",
              "        [ 0.0684, -0.0322, -0.0415, -0.3788,  0.0702,  0.0496, -0.0231, -0.0662,\n",
              "          0.2251,  0.0856]], grad_fn=<AddmmBackward>)"
            ]
          },
          "metadata": {
            "tags": []
          },
          "execution_count": 119
        }
      ]
    },
    {
      "cell_type": "markdown",
      "metadata": {
        "id": "cbVgUwWC53nU"
      },
      "source": [
        "MyParallel model: several models use the same input, executed in paralle and the results of the models are concatenated in one output."
      ]
    },
    {
      "cell_type": "code",
      "metadata": {
        "id": "mA5lR60X6p0O"
      },
      "source": [
        "class MyParallel(nn.Module):\n",
        "    def __init__(self, *args):\n",
        "        super().__init__()\n",
        "        for block in args:\n",
        "            # Here, `block` is an instance of a `Module` subclass. We save it\n",
        "            # in the member variable `_modules` of the `Module` class, and its\n",
        "            # type is OrderedDict\n",
        "            self._modules[block] = block\n",
        "\n",
        "    def forward(self, X):\n",
        "        # OrderedDict guarantees that members will be traversed in the order\n",
        "        # they were added\n",
        "        list_res=[]\n",
        "        for block in self._modules.values():\n",
        "          list_res.append(block(X))\n",
        "        concat_fin=torch.cat(list_res, dim = -1)\n",
        "        return concat_fin\n",
        "\n"
      ],
      "execution_count": 120,
      "outputs": []
    },
    {
      "cell_type": "code",
      "metadata": {
        "id": "2C91jHLAJMQ6"
      },
      "source": [
        "list_models = [nn.Linear(20,20),nn.Linear(20,20),nn.Linear(20,20)]"
      ],
      "execution_count": 121,
      "outputs": []
    },
    {
      "cell_type": "code",
      "metadata": {
        "colab": {
          "base_uri": "https://localhost:8080/"
        },
        "id": "y3fpmo-kI-xj",
        "outputId": "87c9a5af-5e0b-4d63-d1de-1c828118f373"
      },
      "source": [
        "net = MyParallel(nn.Linear(20,20),nn.Linear(20,20),nn.Linear(20,20))\n",
        "#X = torch.tensor([1,10])\n",
        "net(X)"
      ],
      "execution_count": 122,
      "outputs": [
        {
          "output_type": "execute_result",
          "data": {
            "text/plain": [
              "tensor([[ 0.1923,  0.2258,  0.1898,  0.2642,  0.2004, -0.0909, -0.2042, -0.1412,\n",
              "          0.1317, -0.2715,  0.2821,  0.4190,  0.6813, -0.4344,  0.0928, -0.3547,\n",
              "          0.0122,  0.0991,  0.1898,  0.1494, -0.3297,  0.2229, -0.5338,  0.3309,\n",
              "         -0.2210, -0.0264, -0.2882,  0.1691, -0.3489, -0.2488,  0.4319,  0.1940,\n",
              "         -0.1779, -0.2231,  0.0658, -0.0994, -0.6673, -0.2304, -0.4316, -0.1863,\n",
              "         -0.1186,  0.3782, -0.0417, -0.1541, -0.1510, -0.3058, -0.4940,  0.2463,\n",
              "         -0.3656, -0.2574, -0.0481,  0.1883, -0.3006, -0.4774, -0.5792,  0.0095,\n",
              "          0.4843, -0.4632, -0.0968,  0.0272],\n",
              "        [ 0.4254,  0.3969,  0.3384,  0.3011, -0.3866, -0.0576,  0.4332, -0.2993,\n",
              "          0.1407, -0.0052,  0.0026,  0.3481,  0.6104,  0.2126,  0.4411, -0.1735,\n",
              "         -0.2814,  0.2015,  0.2099, -0.3457, -0.3032,  0.3520, -0.2476,  0.3115,\n",
              "         -0.0617, -0.3468, -0.4630,  0.3803, -0.1313, -0.2815,  0.6259,  0.3856,\n",
              "          0.5596, -0.2938, -0.4867, -0.0782, -0.4699, -0.3038, -0.2055,  0.0152,\n",
              "         -0.1433, -0.0715, -0.3888, -0.1242,  0.2002, -0.6353, -0.4341,  0.1143,\n",
              "         -0.4645, -0.1494, -0.0735,  0.1861, -0.5116, -0.4111, -0.3730, -0.1706,\n",
              "          0.0943, -0.5165, -0.1821, -0.0201]], grad_fn=<CatBackward>)"
            ]
          },
          "metadata": {
            "tags": []
          },
          "execution_count": 122
        }
      ]
    },
    {
      "cell_type": "code",
      "metadata": {
        "colab": {
          "base_uri": "https://localhost:8080/"
        },
        "id": "LP-xKOUCOPmN",
        "outputId": "adb16227-ffe8-47cb-da1c-9df80d4e6a45"
      },
      "source": [
        "net = MyParallel(*list_models)\n",
        "net(X)"
      ],
      "execution_count": 123,
      "outputs": [
        {
          "output_type": "execute_result",
          "data": {
            "text/plain": [
              "tensor([[-0.1204, -0.2920, -0.0623, -0.4878, -0.3302,  0.3158, -0.0724, -0.1158,\n",
              "         -0.2227,  0.0530, -0.2092, -0.1539, -0.2671,  0.1320,  0.3627, -0.1159,\n",
              "         -0.0620, -0.0320,  0.1773, -0.3923, -0.4581, -0.1511,  0.2418,  0.2011,\n",
              "          0.3295,  0.0913, -0.4311, -0.0856,  0.3938,  0.0336,  0.0906, -0.1785,\n",
              "          0.0094, -0.2646,  0.2886,  0.1088,  0.2273,  0.1946, -0.1451,  0.6433,\n",
              "         -0.1227,  0.1299, -0.1769, -0.3649,  0.3594, -0.3428,  0.1507, -0.2257,\n",
              "          0.0494, -0.0955,  0.0323,  0.0241,  0.3599,  0.2588,  0.4581,  0.0395,\n",
              "          0.1803, -0.2136,  0.0401,  0.1895],\n",
              "        [-0.3141, -0.0586, -0.0623, -0.4458, -0.5648,  0.1986, -0.1087,  0.1572,\n",
              "         -0.2329, -0.2689, -0.2439, -0.1724, -0.4542, -0.2692,  0.7372, -0.2114,\n",
              "          0.1729, -0.0716,  0.4312, -0.4330, -0.3447, -0.2541,  0.2147,  0.1597,\n",
              "         -0.0640,  0.1332, -0.1593, -0.1152,  0.4951, -0.1745, -0.1297,  0.3757,\n",
              "          0.0518, -0.4908,  0.0824,  0.1834,  0.1530,  0.5988, -0.0336,  0.5561,\n",
              "         -0.2070,  0.4183, -0.1848, -0.0096, -0.1868, -0.3306,  0.2116, -0.1920,\n",
              "          0.2382, -0.0300, -0.5610, -0.0540,  0.3530, -0.0128,  0.2935, -0.0036,\n",
              "         -0.1888, -0.0240,  0.0857, -0.0844]], grad_fn=<CatBackward>)"
            ]
          },
          "metadata": {
            "tags": []
          },
          "execution_count": 123
        }
      ]
    },
    {
      "cell_type": "code",
      "metadata": {
        "id": "Dnr94UYgR7bK"
      },
      "source": [
        "##### Nesting Modules\n",
        "class NestedBlocks(nn.Module):\n",
        "  def __init__(self,*args):\n",
        "    super().__init__()\n",
        "    self.net = nn.Sequential(nn.Linear(20,20),nn.Linear(20,20))\n",
        "    self.linear = nn.Linear(20,20)\n",
        "\n",
        "  def forward(self, X):\n",
        "    return self.linear(self.net(X))\n",
        "\n"
      ],
      "execution_count": 124,
      "outputs": []
    },
    {
      "cell_type": "code",
      "metadata": {
        "colab": {
          "base_uri": "https://localhost:8080/"
        },
        "id": "FO6PLJdlTkkB",
        "outputId": "a4d607fc-5d48-44e0-8d4b-07bb42ebdb11"
      },
      "source": [
        "tensor = torch.ones([2,20])\n",
        "net = NestedBlocks()\n",
        "net(X)"
      ],
      "execution_count": 125,
      "outputs": [
        {
          "output_type": "execute_result",
          "data": {
            "text/plain": [
              "tensor([[ 0.0610, -0.2520,  0.1329,  0.0371,  0.3479, -0.1735,  0.0097, -0.2523,\n",
              "         -0.1039,  0.0919, -0.1871, -0.0748,  0.1762,  0.2347, -0.0625, -0.0698,\n",
              "         -0.0890, -0.0582,  0.2888, -0.0354],\n",
              "        [-0.0218, -0.3319,  0.1095,  0.0659,  0.3214, -0.1340, -0.0255, -0.1419,\n",
              "         -0.1811, -0.0065, -0.1440, -0.0008,  0.1270,  0.1667,  0.0367,  0.0794,\n",
              "         -0.0456,  0.0038,  0.1505, -0.0351]], grad_fn=<AddmmBackward>)"
            ]
          },
          "metadata": {
            "tags": []
          },
          "execution_count": 125
        }
      ]
    },
    {
      "cell_type": "markdown",
      "metadata": {
        "id": "MPvHAsxNknIY"
      },
      "source": [
        "Parameters access"
      ]
    },
    {
      "cell_type": "code",
      "metadata": {
        "colab": {
          "base_uri": "https://localhost:8080/"
        },
        "id": "DlqLfDIbkXZE",
        "outputId": "474ae784-3f2f-4f7e-d178-60359bec1229"
      },
      "source": [
        "net = nn.Sequential(nn.Linear(4, 8), nn.ReLU(), nn.Linear(8, 1))\n",
        "X=torch.rand((2,4))\n",
        "net(X)"
      ],
      "execution_count": 126,
      "outputs": [
        {
          "output_type": "execute_result",
          "data": {
            "text/plain": [
              "tensor([[0.3906],\n",
              "        [0.3706]], grad_fn=<AddmmBackward>)"
            ]
          },
          "metadata": {
            "tags": []
          },
          "execution_count": 126
        }
      ]
    },
    {
      "cell_type": "code",
      "metadata": {
        "colab": {
          "base_uri": "https://localhost:8080/"
        },
        "id": "guv1hQXlk_i-",
        "outputId": "fae4dccd-5bf8-47f9-ca8f-f56eb0c60c65"
      },
      "source": [
        "print(net[2].state_dict())"
      ],
      "execution_count": 127,
      "outputs": [
        {
          "output_type": "stream",
          "text": [
            "OrderedDict([('weight', tensor([[ 0.2218,  0.2367, -0.0600,  0.2221,  0.0228,  0.3415,  0.2662,  0.0893]])), ('bias', tensor([0.2046]))])\n"
          ],
          "name": "stdout"
        }
      ]
    },
    {
      "cell_type": "code",
      "metadata": {
        "colab": {
          "base_uri": "https://localhost:8080/"
        },
        "id": "n0YHZGzFlYvz",
        "outputId": "d463cb0e-1820-4d05-ed20-765b9479beea"
      },
      "source": [
        "print(type(net[2].bias))\n",
        "print(net[2].bias)\n",
        "print(net[2].bias.data)"
      ],
      "execution_count": 128,
      "outputs": [
        {
          "output_type": "stream",
          "text": [
            "<class 'torch.nn.parameter.Parameter'>\n",
            "Parameter containing:\n",
            "tensor([0.2046], requires_grad=True)\n",
            "tensor([0.2046])\n"
          ],
          "name": "stdout"
        }
      ]
    },
    {
      "cell_type": "code",
      "metadata": {
        "colab": {
          "base_uri": "https://localhost:8080/"
        },
        "id": "oI6qIMm5luDT",
        "outputId": "a177b883-7fe9-413b-ed81-793c33cb07b1"
      },
      "source": [
        "net[2].weight.grad == True"
      ],
      "execution_count": 129,
      "outputs": [
        {
          "output_type": "execute_result",
          "data": {
            "text/plain": [
              "False"
            ]
          },
          "metadata": {
            "tags": []
          },
          "execution_count": 129
        }
      ]
    },
    {
      "cell_type": "code",
      "metadata": {
        "colab": {
          "base_uri": "https://localhost:8080/"
        },
        "id": "3gIuKUD7mwED",
        "outputId": "5ca5c5ad-c028-425b-b6f9-92dfea8679fe"
      },
      "source": [
        "print(*[(name, param.shape) for name, param in net[0].named_parameters()])\n",
        "print(*[(name, param.shape) for name, param in net.named_parameters()])"
      ],
      "execution_count": 130,
      "outputs": [
        {
          "output_type": "stream",
          "text": [
            "('weight', torch.Size([8, 4])) ('bias', torch.Size([8]))\n",
            "('0.weight', torch.Size([8, 4])) ('0.bias', torch.Size([8])) ('2.weight', torch.Size([1, 8])) ('2.bias', torch.Size([1]))\n"
          ],
          "name": "stdout"
        }
      ]
    },
    {
      "cell_type": "code",
      "metadata": {
        "colab": {
          "base_uri": "https://localhost:8080/"
        },
        "id": "4sLqUg75noO8",
        "outputId": "461f7486-f3b4-4a8a-dccb-7fe34c35b39e"
      },
      "source": [
        "net.state_dict()['0.weight'].data"
      ],
      "execution_count": 131,
      "outputs": [
        {
          "output_type": "execute_result",
          "data": {
            "text/plain": [
              "tensor([[ 0.3187, -0.3985, -0.2992, -0.0261],\n",
              "        [ 0.2790,  0.2470, -0.0362, -0.3362],\n",
              "        [ 0.2414,  0.0762, -0.4562, -0.3007],\n",
              "        [-0.2526, -0.3404,  0.4320,  0.2884],\n",
              "        [-0.0526,  0.3814,  0.1113, -0.2992],\n",
              "        [-0.3442, -0.3710,  0.1772, -0.3697],\n",
              "        [ 0.2905,  0.4822,  0.1832, -0.3166],\n",
              "        [-0.0612, -0.3098, -0.1377, -0.2571]])"
            ]
          },
          "metadata": {
            "tags": []
          },
          "execution_count": 131
        }
      ]
    },
    {
      "cell_type": "code",
      "metadata": {
        "colab": {
          "base_uri": "https://localhost:8080/"
        },
        "id": "sKbmhThkopB8",
        "outputId": "e4b65e25-46cb-40a9-bff5-5e35f7c8da54"
      },
      "source": [
        "def block1():\n",
        "  return nn.Sequential(nn.Linear(4, 8), nn.ReLU(),\n",
        "                        nn.Linear(8, 4), nn.ReLU())\n",
        "\n",
        "def block2():\n",
        "  net = nn.Sequential()\n",
        "  for i in range(4):\n",
        "    net.add_module(f'block {i}', block1())\n",
        "  return net\n",
        "\n",
        "rgnet = nn.Sequential(block2(), nn.Linear(4,1))\n",
        "rgnet(X)"
      ],
      "execution_count": 132,
      "outputs": [
        {
          "output_type": "execute_result",
          "data": {
            "text/plain": [
              "tensor([[-0.3675],\n",
              "        [-0.3675]], grad_fn=<AddmmBackward>)"
            ]
          },
          "metadata": {
            "tags": []
          },
          "execution_count": 132
        }
      ]
    },
    {
      "cell_type": "code",
      "metadata": {
        "colab": {
          "base_uri": "https://localhost:8080/"
        },
        "id": "9be5jbkUqau7",
        "outputId": "be2cfa34-e8d0-4695-fc0f-3d21015ae471"
      },
      "source": [
        "print(rgnet)"
      ],
      "execution_count": 133,
      "outputs": [
        {
          "output_type": "stream",
          "text": [
            "Sequential(\n",
            "  (0): Sequential(\n",
            "    (block 0): Sequential(\n",
            "      (0): Linear(in_features=4, out_features=8, bias=True)\n",
            "      (1): ReLU()\n",
            "      (2): Linear(in_features=8, out_features=4, bias=True)\n",
            "      (3): ReLU()\n",
            "    )\n",
            "    (block 1): Sequential(\n",
            "      (0): Linear(in_features=4, out_features=8, bias=True)\n",
            "      (1): ReLU()\n",
            "      (2): Linear(in_features=8, out_features=4, bias=True)\n",
            "      (3): ReLU()\n",
            "    )\n",
            "    (block 2): Sequential(\n",
            "      (0): Linear(in_features=4, out_features=8, bias=True)\n",
            "      (1): ReLU()\n",
            "      (2): Linear(in_features=8, out_features=4, bias=True)\n",
            "      (3): ReLU()\n",
            "    )\n",
            "    (block 3): Sequential(\n",
            "      (0): Linear(in_features=4, out_features=8, bias=True)\n",
            "      (1): ReLU()\n",
            "      (2): Linear(in_features=8, out_features=4, bias=True)\n",
            "      (3): ReLU()\n",
            "    )\n",
            "  )\n",
            "  (1): Linear(in_features=4, out_features=1, bias=True)\n",
            ")\n"
          ],
          "name": "stdout"
        }
      ]
    },
    {
      "cell_type": "code",
      "metadata": {
        "colab": {
          "base_uri": "https://localhost:8080/",
          "height": 35
        },
        "id": "5IWOaB7Gqq6i",
        "outputId": "5d47b48a-a6e0-46e4-9d05-b23056d887df"
      },
      "source": [
        "\"\"\"\n",
        "net_prl = MyParallel(nn.Linear(4,4),nn.Linear(4,4),nn.Linear(4,4))\n",
        "X=torch.rand(1,4)\n",
        "net_prl(X)\n",
        "print(net_prl)\n",
        "\"\"\""
      ],
      "execution_count": 134,
      "outputs": [
        {
          "output_type": "execute_result",
          "data": {
            "application/vnd.google.colaboratory.intrinsic+json": {
              "type": "string"
            },
            "text/plain": [
              "'\\nnet_prl = MyParallel(nn.Linear(4,4),nn.Linear(4,4),nn.Linear(4,4))\\nX=torch.rand(1,4)\\nnet_prl(X)\\nprint(net_prl)\\n'"
            ]
          },
          "metadata": {
            "tags": []
          },
          "execution_count": 134
        }
      ]
    },
    {
      "cell_type": "code",
      "metadata": {
        "colab": {
          "base_uri": "https://localhost:8080/"
        },
        "id": "QRswNBEqvG1r",
        "outputId": "26dc8cdb-4e4a-45cd-df0b-068db1233fe1"
      },
      "source": [
        "rgnet[0][1][0].bias.data"
      ],
      "execution_count": 135,
      "outputs": [
        {
          "output_type": "execute_result",
          "data": {
            "text/plain": [
              "tensor([ 0.3724,  0.2752,  0.1944, -0.1234, -0.1653, -0.0567, -0.1002,  0.4584])"
            ]
          },
          "metadata": {
            "tags": []
          },
          "execution_count": 135
        }
      ]
    },
    {
      "cell_type": "markdown",
      "metadata": {
        "id": "yOtkQLd_m2Sb"
      },
      "source": [
        "Parameter Initialization"
      ]
    },
    {
      "cell_type": "code",
      "metadata": {
        "colab": {
          "base_uri": "https://localhost:8080/"
        },
        "id": "CpRTu6m9m0Lt",
        "outputId": "83f20bf1-ab77-449f-cd42-8951bd85dea4"
      },
      "source": [
        "def init_normal(m):\n",
        "  if type(m)==nn.Linear:\n",
        "    nn.init.normal_(m.weight, mean=0, std=0.01)\n",
        "    nn.init.zeros_(m.bias)\n",
        "\n",
        "net.apply(init_normal)\n",
        "net[0].weight.data , net[0].bias.data"
      ],
      "execution_count": 136,
      "outputs": [
        {
          "output_type": "execute_result",
          "data": {
            "text/plain": [
              "(tensor([[ 0.0157,  0.0146,  0.0066,  0.0244],\n",
              "         [-0.0174,  0.0065, -0.0129, -0.0065],\n",
              "         [-0.0080,  0.0068,  0.0051, -0.0046],\n",
              "         [ 0.0124,  0.0016,  0.0095,  0.0040],\n",
              "         [ 0.0073,  0.0034,  0.0104, -0.0138],\n",
              "         [ 0.0168, -0.0027, -0.0075, -0.0061],\n",
              "         [ 0.0042, -0.0087,  0.0013, -0.0102],\n",
              "         [-0.0068,  0.0079, -0.0198, -0.0149]]),\n",
              " tensor([0., 0., 0., 0., 0., 0., 0., 0.]))"
            ]
          },
          "metadata": {
            "tags": []
          },
          "execution_count": 136
        }
      ]
    },
    {
      "cell_type": "code",
      "metadata": {
        "colab": {
          "base_uri": "https://localhost:8080/"
        },
        "id": "MK-YkMQVpPQi",
        "outputId": "46d538c0-7a33-44a5-82a8-370e6d456f51"
      },
      "source": [
        "def xavier(m):\n",
        "    if type(m) == nn.Linear:\n",
        "        torch.nn.init.xavier_uniform_(m.weight)\n",
        "def init_42(m):\n",
        "    if type(m) == nn.Linear:\n",
        "        torch.nn.init.constant_(m.weight, 42)\n",
        "\n",
        "net[0].apply(xavier)\n",
        "net[2].apply(init_42)\n",
        "print(net[0].weight.data)\n",
        "print(net[2].weight.data)"
      ],
      "execution_count": 137,
      "outputs": [
        {
          "output_type": "stream",
          "text": [
            "tensor([[ 0.5803,  0.4351, -0.6788, -0.3046],\n",
            "        [ 0.4326, -0.4754,  0.0225,  0.6407],\n",
            "        [ 0.1709,  0.1537, -0.1345,  0.0276],\n",
            "        [ 0.6532,  0.6273,  0.0218,  0.6854],\n",
            "        [-0.5859,  0.6882, -0.0395, -0.6106],\n",
            "        [-0.6374, -0.3182,  0.3199,  0.5407],\n",
            "        [-0.4909,  0.1160, -0.3721,  0.4885],\n",
            "        [-0.0929,  0.6909, -0.4167, -0.4498]])\n",
            "tensor([[42., 42., 42., 42., 42., 42., 42., 42.]])\n"
          ],
          "name": "stdout"
        }
      ]
    },
    {
      "cell_type": "code",
      "metadata": {
        "colab": {
          "base_uri": "https://localhost:8080/"
        },
        "id": "mt080AcEuCnB",
        "outputId": "6a4972fa-0e96-4be9-f9e7-19aa7364e41b"
      },
      "source": [
        "def my_init(m):\n",
        "    if type(m) == nn.Linear:\n",
        "        print(\"Init\", *[(name, param.shape)\n",
        "                        for name, param in m.named_parameters()][0])\n",
        "        nn.init.uniform_(m.weight, -10, 10)\n",
        "        m.weight.data *= m.weight.data.abs() >= 5\n",
        "\n",
        "net.apply(my_init)\n",
        "net[0].weight"
      ],
      "execution_count": 138,
      "outputs": [
        {
          "output_type": "stream",
          "text": [
            "Init weight torch.Size([8, 4])\n",
            "Init weight torch.Size([1, 8])\n"
          ],
          "name": "stdout"
        },
        {
          "output_type": "execute_result",
          "data": {
            "text/plain": [
              "Parameter containing:\n",
              "tensor([[ 0.0000,  0.0000,  0.0000,  9.5537],\n",
              "        [ 0.0000, -8.2329,  9.2167,  6.4254],\n",
              "        [ 0.0000, -8.9256, -0.0000, -5.2472],\n",
              "        [-0.0000,  5.0122, -0.0000,  7.2561],\n",
              "        [-5.9313, -0.0000,  0.0000,  0.0000],\n",
              "        [-0.0000,  9.9074,  0.0000,  9.9065],\n",
              "        [ 0.0000,  7.3966,  7.3591, -0.0000],\n",
              "        [ 7.0495,  6.8960,  0.0000, -6.8345]], requires_grad=True)"
            ]
          },
          "metadata": {
            "tags": []
          },
          "execution_count": 138
        }
      ]
    },
    {
      "cell_type": "code",
      "metadata": {
        "colab": {
          "base_uri": "https://localhost:8080/"
        },
        "id": "EN_5-wOyvoxU",
        "outputId": "cb8d0bed-0259-4eed-a002-0ac0a49e537d"
      },
      "source": [
        "### we can set parameters\n",
        "net[0].weight.data[:] += 1\n",
        "net[0].weight.data[0, 0] = 42\n",
        "net[0].weight.data[0]"
      ],
      "execution_count": 139,
      "outputs": [
        {
          "output_type": "execute_result",
          "data": {
            "text/plain": [
              "tensor([42.0000,  1.0000,  1.0000, 10.5537])"
            ]
          },
          "metadata": {
            "tags": []
          },
          "execution_count": 139
        }
      ]
    },
    {
      "cell_type": "code",
      "metadata": {
        "colab": {
          "base_uri": "https://localhost:8080/"
        },
        "id": "b9AvZkz8wVSo",
        "outputId": "fff1117f-c758-4c78-b81e-1f2d971cddb7"
      },
      "source": [
        "### shared layers \n",
        "### give a name\n",
        "shared = nn.Linear(8,8)\n",
        "net = nn.Sequential(nn.Linear(4, 8), nn.ReLU(),\n",
        "                    shared, nn.ReLU(),\n",
        "                    shared, nn.ReLU(),\n",
        "                    nn.Linear(8, 1))\n",
        "### has same value\n",
        "print(net[2].weight.data[0] == net[4].weight.data[0])"
      ],
      "execution_count": 140,
      "outputs": [
        {
          "output_type": "stream",
          "text": [
            "tensor([True, True, True, True, True, True, True, True])\n"
          ],
          "name": "stdout"
        }
      ]
    },
    {
      "cell_type": "code",
      "metadata": {
        "colab": {
          "base_uri": "https://localhost:8080/"
        },
        "id": "_mM6zTvFw-CJ",
        "outputId": "dfeb9e31-95f3-4ba5-9571-6248099ebdde"
      },
      "source": [
        "### actually same objects\n",
        "net[2].weight.data[0, 0] = 100\n",
        "print(net[2].weight.data[0] == net[4].weight.data[0])"
      ],
      "execution_count": 141,
      "outputs": [
        {
          "output_type": "stream",
          "text": [
            "tensor([True, True, True, True, True, True, True, True])\n"
          ],
          "name": "stdout"
        }
      ]
    },
    {
      "cell_type": "code",
      "metadata": {
        "id": "PC_c5gF5m4td"
      },
      "source": [
        "### without parameters\n",
        "class CenteredLayer(nn.Module):\n",
        "  def __init__(self):\n",
        "    super().__init__()\n",
        "\n",
        "  def forward(self,X):\n",
        "    return (X-X.mean())\n"
      ],
      "execution_count": 142,
      "outputs": []
    },
    {
      "cell_type": "code",
      "metadata": {
        "colab": {
          "base_uri": "https://localhost:8080/"
        },
        "id": "Ks2Q9C9hnlyD",
        "outputId": "2eb6ab06-ac73-46ae-916a-7e09251bf389"
      },
      "source": [
        "layer = CenteredLayer()\n",
        "layer(torch.FloatTensor([1,2,3,4,5,6]))"
      ],
      "execution_count": 143,
      "outputs": [
        {
          "output_type": "execute_result",
          "data": {
            "text/plain": [
              "tensor([-2.5000, -1.5000, -0.5000,  0.5000,  1.5000,  2.5000])"
            ]
          },
          "metadata": {
            "tags": []
          },
          "execution_count": 143
        }
      ]
    },
    {
      "cell_type": "code",
      "metadata": {
        "colab": {
          "base_uri": "https://localhost:8080/"
        },
        "id": "wO95gEqYoKA7",
        "outputId": "2a2258a0-292f-49f9-9fcc-a3fee927e950"
      },
      "source": [
        "net = nn.Sequential(nn.Linear(5,5), CenteredLayer())\n",
        "Y = net(torch.rand(2,5))\n",
        "Y.mean()"
      ],
      "execution_count": 144,
      "outputs": [
        {
          "output_type": "execute_result",
          "data": {
            "text/plain": [
              "tensor(1.1921e-08, grad_fn=<MeanBackward0>)"
            ]
          },
          "metadata": {
            "tags": []
          },
          "execution_count": 144
        }
      ]
    },
    {
      "cell_type": "code",
      "metadata": {
        "id": "Fiundh6zp_VR"
      },
      "source": [
        "### Linear from scratch\n",
        "class MyLinear(nn.Module):\n",
        "  def __init__(self, in_units, out_units):\n",
        "    super().__init__()\n",
        "    self.weight=nn.Parameter(torch.randn(in_units, out_units))\n",
        "    self.bias = nn.Parameter(torch.randn(out_units))\n",
        "\n",
        "  def forward(self,X):\n",
        "    linear = torch.matmul(X, self.weight.data)+ self.bias.data\n",
        "    return F.relu(linear)\n"
      ],
      "execution_count": 145,
      "outputs": []
    },
    {
      "cell_type": "code",
      "metadata": {
        "colab": {
          "base_uri": "https://localhost:8080/"
        },
        "id": "WSL_b2lxtxAN",
        "outputId": "68bef665-4a48-46c8-dca1-0c3bad8fb771"
      },
      "source": [
        "dense = MyLinear(5,3)\n",
        "dense(torch.randn(2,5))"
      ],
      "execution_count": 146,
      "outputs": [
        {
          "output_type": "execute_result",
          "data": {
            "text/plain": [
              "tensor([[1.8346, 0.1467, 3.9852],\n",
              "        [5.8476, 0.0000, 3.2564]])"
            ]
          },
          "metadata": {
            "tags": []
          },
          "execution_count": 146
        }
      ]
    },
    {
      "cell_type": "code",
      "metadata": {
        "colab": {
          "base_uri": "https://localhost:8080/"
        },
        "id": "iiOnTMfXuDk1",
        "outputId": "146ae0c2-b5da-4536-abad-de9d42e4972e"
      },
      "source": [
        "net = nn.Sequential(MyLinear(10,5), MyLinear(5,3))\n",
        "net(torch.randn(2,10))"
      ],
      "execution_count": 147,
      "outputs": [
        {
          "output_type": "execute_result",
          "data": {
            "text/plain": [
              "tensor([[0.0000, 1.6558, 0.0000],\n",
              "        [0.0000, 0.0000, 1.1756]])"
            ]
          },
          "metadata": {
            "tags": []
          },
          "execution_count": 147
        }
      ]
    },
    {
      "cell_type": "code",
      "metadata": {
        "id": "x34xRlds36Ay"
      },
      "source": [
        "#### saving results into  file \n",
        "x = torch.arange(5)\n",
        "torch.save(x, 'x_file')"
      ],
      "execution_count": 148,
      "outputs": []
    },
    {
      "cell_type": "code",
      "metadata": {
        "colab": {
          "base_uri": "https://localhost:8080/"
        },
        "id": "5dvobXcs4K0Q",
        "outputId": "d5d1fd3d-7667-48a1-9d0d-f828f921bf57"
      },
      "source": [
        "x2 = torch.load('x_file')\n",
        "x2"
      ],
      "execution_count": 149,
      "outputs": [
        {
          "output_type": "execute_result",
          "data": {
            "text/plain": [
              "tensor([0, 1, 2, 3, 4])"
            ]
          },
          "metadata": {
            "tags": []
          },
          "execution_count": 149
        }
      ]
    },
    {
      "cell_type": "code",
      "metadata": {
        "id": "LwgYwkXB4gFI"
      },
      "source": [
        "y = torch.zeros(4)\n",
        "torch.save([x,y], 'x_file')"
      ],
      "execution_count": 150,
      "outputs": []
    },
    {
      "cell_type": "code",
      "metadata": {
        "colab": {
          "base_uri": "https://localhost:8080/"
        },
        "id": "pZgE8GmN4saA",
        "outputId": "6e073f70-0aa6-460d-b6d2-59c0d6b1b51e"
      },
      "source": [
        "l,m = torch.load('x_file')\n",
        "(l,m)"
      ],
      "execution_count": 151,
      "outputs": [
        {
          "output_type": "execute_result",
          "data": {
            "text/plain": [
              "(tensor([0, 1, 2, 3, 4]), tensor([0., 0., 0., 0.]))"
            ]
          },
          "metadata": {
            "tags": []
          },
          "execution_count": 151
        }
      ]
    },
    {
      "cell_type": "code",
      "metadata": {
        "colab": {
          "base_uri": "https://localhost:8080/"
        },
        "id": "KfLRajcg5B6M",
        "outputId": "4afcdaf2-1a56-4a2c-ec9f-3dd78d20e49e"
      },
      "source": [
        "### read write from dict\n",
        "myDict = {'x':x, 'y':y}\n",
        "torch.save(myDict, 'mydict')\n",
        "mydict2 = torch.load('mydict')\n",
        "mydict2\n"
      ],
      "execution_count": 152,
      "outputs": [
        {
          "output_type": "execute_result",
          "data": {
            "text/plain": [
              "{'x': tensor([0, 1, 2, 3, 4]), 'y': tensor([0., 0., 0., 0.])}"
            ]
          },
          "metadata": {
            "tags": []
          },
          "execution_count": 152
        }
      ]
    },
    {
      "cell_type": "code",
      "metadata": {
        "id": "oEh1ZHzZ6Isn"
      },
      "source": [
        "### save model parameters\n",
        "class MLP(nn.Module):\n",
        "    def __init__(self):\n",
        "        super().__init__()\n",
        "        self.hidden = nn.Linear(20, 256)\n",
        "        self.output = nn.Linear(256, 10)\n",
        "\n",
        "    def forward(self, x):\n",
        "        return self.output(F.relu(self.hidden(x)))\n",
        "\n",
        "net = MLP()\n",
        "X = torch.randn(size=(2, 20))\n",
        "Y = net(X)"
      ],
      "execution_count": 153,
      "outputs": []
    },
    {
      "cell_type": "code",
      "metadata": {
        "id": "Zzu8k09l6Nsl"
      },
      "source": [
        "torch.save(net.state_dict(), 'mlp.params')"
      ],
      "execution_count": 154,
      "outputs": []
    },
    {
      "cell_type": "code",
      "metadata": {
        "colab": {
          "base_uri": "https://localhost:8080/"
        },
        "id": "0Fs6qgfR6mtP",
        "outputId": "64646bbf-f5c3-4bdb-daf9-825ae264ab5c"
      },
      "source": [
        "### clone model and load params to the clone\n",
        "clone = MLP()\n",
        "clone.load_state_dict(torch.load('mlp.params'))"
      ],
      "execution_count": 155,
      "outputs": [
        {
          "output_type": "execute_result",
          "data": {
            "text/plain": [
              "<All keys matched successfully>"
            ]
          },
          "metadata": {
            "tags": []
          },
          "execution_count": 155
        }
      ]
    },
    {
      "cell_type": "code",
      "metadata": {
        "colab": {
          "base_uri": "https://localhost:8080/"
        },
        "id": "FqRhxGlL7SmQ",
        "outputId": "2f6ba401-9acd-44be-a7f8-8e9d6642b968"
      },
      "source": [
        "clone.eval()"
      ],
      "execution_count": 156,
      "outputs": [
        {
          "output_type": "execute_result",
          "data": {
            "text/plain": [
              "MLP(\n",
              "  (hidden): Linear(in_features=20, out_features=256, bias=True)\n",
              "  (output): Linear(in_features=256, out_features=10, bias=True)\n",
              ")"
            ]
          },
          "metadata": {
            "tags": []
          },
          "execution_count": 156
        }
      ]
    },
    {
      "cell_type": "code",
      "metadata": {
        "colab": {
          "base_uri": "https://localhost:8080/"
        },
        "id": "QTp0Rq5t7iL9",
        "outputId": "310ed1ab-47d4-4355-e950-11e70e80f0ce"
      },
      "source": [
        "Y_clone = clone(X)\n",
        "Y_clone == Y"
      ],
      "execution_count": 157,
      "outputs": [
        {
          "output_type": "execute_result",
          "data": {
            "text/plain": [
              "tensor([[True, True, True, True, True, True, True, True, True, True],\n",
              "        [True, True, True, True, True, True, True, True, True, True]])"
            ]
          },
          "metadata": {
            "tags": []
          },
          "execution_count": 157
        }
      ]
    },
    {
      "cell_type": "code",
      "metadata": {
        "colab": {
          "base_uri": "https://localhost:8080/"
        },
        "id": "92YFvGbc_f2o",
        "outputId": "3bf62da1-a42d-48f6-844e-7936cf43dd8c"
      },
      "source": [
        "!nvidia-smi"
      ],
      "execution_count": 158,
      "outputs": [
        {
          "output_type": "stream",
          "text": [
            "Wed Dec  2 15:33:44 2020       \n",
            "+-----------------------------------------------------------------------------+\n",
            "| NVIDIA-SMI 455.38       Driver Version: 418.67       CUDA Version: 10.1     |\n",
            "|-------------------------------+----------------------+----------------------+\n",
            "| GPU  Name        Persistence-M| Bus-Id        Disp.A | Volatile Uncorr. ECC |\n",
            "| Fan  Temp  Perf  Pwr:Usage/Cap|         Memory-Usage | GPU-Util  Compute M. |\n",
            "|                               |                      |               MIG M. |\n",
            "|===============================+======================+======================|\n",
            "|   0  Tesla K80           Off  | 00000000:00:04.0 Off |                    0 |\n",
            "| N/A   48C    P0    60W / 149W |    395MiB / 11441MiB |      0%      Default |\n",
            "|                               |                      |                 ERR! |\n",
            "+-------------------------------+----------------------+----------------------+\n",
            "                                                                               \n",
            "+-----------------------------------------------------------------------------+\n",
            "| Processes:                                                                  |\n",
            "|  GPU   GI   CI        PID   Type   Process name                  GPU Memory |\n",
            "|        ID   ID                                                   Usage      |\n",
            "|=============================================================================|\n",
            "|  No running processes found                                                 |\n",
            "+-----------------------------------------------------------------------------+\n"
          ],
          "name": "stdout"
        }
      ]
    },
    {
      "cell_type": "code",
      "metadata": {
        "colab": {
          "base_uri": "https://localhost:8080/"
        },
        "id": "vi6WyPrKAa72",
        "outputId": "28e51329-2434-44b9-9f4c-82fffa8a4ed2"
      },
      "source": [
        "torch.device('cpu'), torch.cuda.device('cuda'), torch.cuda.device('cuda:1')"
      ],
      "execution_count": 159,
      "outputs": [
        {
          "output_type": "execute_result",
          "data": {
            "text/plain": [
              "(device(type='cpu'),\n",
              " <torch.cuda.device at 0x7fb50cdc15c0>,\n",
              " <torch.cuda.device at 0x7fb50cdc1390>)"
            ]
          },
          "metadata": {
            "tags": []
          },
          "execution_count": 159
        }
      ]
    },
    {
      "cell_type": "code",
      "metadata": {
        "colab": {
          "base_uri": "https://localhost:8080/"
        },
        "id": "Fcx0k9LwA5wP",
        "outputId": "795fae18-eb4d-413d-e665-192ea582203f"
      },
      "source": [
        "torch.cuda.device_count()"
      ],
      "execution_count": 160,
      "outputs": [
        {
          "output_type": "execute_result",
          "data": {
            "text/plain": [
              "1"
            ]
          },
          "metadata": {
            "tags": []
          },
          "execution_count": 160
        }
      ]
    },
    {
      "cell_type": "code",
      "metadata": {
        "colab": {
          "base_uri": "https://localhost:8080/"
        },
        "id": "-vVopQsWBe2Y",
        "outputId": "54899514-25d2-46e4-8dab-71bda6e04515"
      },
      "source": [
        "def try_gpu(i=0):\n",
        "  if torch.cuda.device_count() >= i+1:\n",
        "    return torch.device(f'cuda:{i}')\n",
        "  return torch.device('cpu')\n",
        "\n",
        "def try_all_gpus():\n",
        "  devices = [torch.device(f'cuda:{i}') \n",
        "            for i  in range (torch.cuda.device_count())]\n",
        "  return devices if devices else [torch.device('cpu')]\n",
        "\n",
        "try_gpu(), try_gpu(2), try_all_gpus()"
      ],
      "execution_count": 161,
      "outputs": [
        {
          "output_type": "execute_result",
          "data": {
            "text/plain": [
              "(device(type='cuda', index=0),\n",
              " device(type='cpu'),\n",
              " [device(type='cuda', index=0)])"
            ]
          },
          "metadata": {
            "tags": []
          },
          "execution_count": 161
        }
      ]
    },
    {
      "cell_type": "code",
      "metadata": {
        "colab": {
          "base_uri": "https://localhost:8080/"
        },
        "id": "qcWv9z-DEBSn",
        "outputId": "a89d6927-71ca-46f8-8d6e-4da24ba1fd80"
      },
      "source": [
        "x= torch.tensor([1,2,3])\n",
        "x.device"
      ],
      "execution_count": 162,
      "outputs": [
        {
          "output_type": "execute_result",
          "data": {
            "text/plain": [
              "device(type='cpu')"
            ]
          },
          "metadata": {
            "tags": []
          },
          "execution_count": 162
        }
      ]
    },
    {
      "cell_type": "code",
      "metadata": {
        "colab": {
          "base_uri": "https://localhost:8080/"
        },
        "id": "bSohK2SIEg6f",
        "outputId": "28833ed1-db2b-43b1-d9cd-8cc23c63b0b5"
      },
      "source": [
        "X = torch.ones(2,3, device = try_gpu())\n",
        "X"
      ],
      "execution_count": 163,
      "outputs": [
        {
          "output_type": "execute_result",
          "data": {
            "text/plain": [
              "tensor([[1., 1., 1.],\n",
              "        [1., 1., 1.]], device='cuda:0')"
            ]
          },
          "metadata": {
            "tags": []
          },
          "execution_count": 163
        }
      ]
    },
    {
      "cell_type": "code",
      "metadata": {
        "colab": {
          "base_uri": "https://localhost:8080/"
        },
        "id": "DU66HSr6E-5t",
        "outputId": "ccad70ec-db02-445f-dfe4-a33330062342"
      },
      "source": [
        "Y = torch.rand(2, 3, device=try_gpu(0))\n",
        "Y"
      ],
      "execution_count": 164,
      "outputs": [
        {
          "output_type": "execute_result",
          "data": {
            "text/plain": [
              "tensor([[0.9233, 0.4022, 0.5094],\n",
              "        [0.6596, 0.2509, 0.3599]], device='cuda:0')"
            ]
          },
          "metadata": {
            "tags": []
          },
          "execution_count": 164
        }
      ]
    },
    {
      "cell_type": "code",
      "metadata": {
        "colab": {
          "base_uri": "https://localhost:8080/"
        },
        "id": "EN-_zbekFXlH",
        "outputId": "8f9244e3-21aa-4048-9999-e8498b601f09"
      },
      "source": [
        "Z = X.cuda(0)\n",
        "print(X)\n",
        "print(Z)"
      ],
      "execution_count": 165,
      "outputs": [
        {
          "output_type": "stream",
          "text": [
            "tensor([[1., 1., 1.],\n",
            "        [1., 1., 1.]], device='cuda:0')\n",
            "tensor([[1., 1., 1.],\n",
            "        [1., 1., 1.]], device='cuda:0')\n"
          ],
          "name": "stdout"
        }
      ]
    },
    {
      "cell_type": "code",
      "metadata": {
        "colab": {
          "base_uri": "https://localhost:8080/"
        },
        "id": "W6xUGgc6Fain",
        "outputId": "b9c36bfc-8d34-4609-edda-2d69d1960d45"
      },
      "source": [
        "Y + Z"
      ],
      "execution_count": 166,
      "outputs": [
        {
          "output_type": "execute_result",
          "data": {
            "text/plain": [
              "tensor([[1.9233, 1.4022, 1.5094],\n",
              "        [1.6596, 1.2509, 1.3599]], device='cuda:0')"
            ]
          },
          "metadata": {
            "tags": []
          },
          "execution_count": 166
        }
      ]
    }
  ]
}