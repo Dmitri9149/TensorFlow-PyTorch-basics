{
  "nbformat": 4,
  "nbformat_minor": 0,
  "metadata": {
    "colab": {
      "name": "PyTorch_Blocks_and_Layers.ipynb",
      "provenance": [],
      "collapsed_sections": [],
      "authorship_tag": "ABX9TyOl/icxL5u95NFKa9RvjdUQ",
      "include_colab_link": true
    },
    "kernelspec": {
      "name": "python3",
      "display_name": "Python 3"
    }
  },
  "cells": [
    {
      "cell_type": "markdown",
      "metadata": {
        "id": "view-in-github",
        "colab_type": "text"
      },
      "source": [
        "<a href=\"https://colab.research.google.com/github/Dmitri9149/TensorFlow-PyTorch-basics/blob/master/PyTorch_Blocks_and_Layers.ipynb\" target=\"_parent\"><img src=\"https://colab.research.google.com/assets/colab-badge.svg\" alt=\"Open In Colab\"/></a>"
      ]
    },
    {
      "cell_type": "code",
      "metadata": {
        "id": "tNXZO8ckVz9c"
      },
      "source": [
        "import torch\n",
        "from torch import nn\n",
        "from torch.nn import functional as F"
      ],
      "execution_count": 138,
      "outputs": []
    },
    {
      "cell_type": "markdown",
      "metadata": {
        "id": "Jz7s0w4o34iS"
      },
      "source": [
        "Some part of the code is based on d2l.ai book: http://d2l.ai/"
      ]
    },
    {
      "cell_type": "code",
      "metadata": {
        "id": "k4spfMK9X5a0"
      },
      "source": [
        "### basing on the d2l.ai book "
      ],
      "execution_count": 139,
      "outputs": []
    },
    {
      "cell_type": "code",
      "metadata": {
        "colab": {
          "base_uri": "https://localhost:8080/"
        },
        "id": "H8vqrvMFZK0F",
        "outputId": "5ae9d26f-f40f-4f88-9051-c78b95abbcb1"
      },
      "source": [
        "net = nn.Sequential(nn.Linear(20,256), nn.ReLU(), nn.Linear(256,10))\n",
        "\n",
        "X=torch.rand(2,20)\n",
        "net(X)"
      ],
      "execution_count": 140,
      "outputs": [
        {
          "output_type": "execute_result",
          "data": {
            "text/plain": [
              "tensor([[ 0.2053, -0.0780,  0.2956,  0.0752, -0.1628,  0.1194,  0.1436,  0.1265,\n",
              "          0.2637, -0.0179],\n",
              "        [ 0.1205, -0.0068,  0.1768,  0.0200, -0.0235,  0.1234,  0.1002,  0.0918,\n",
              "          0.1005, -0.0028]], grad_fn=<AddmmBackward>)"
            ]
          },
          "metadata": {
            "tags": []
          },
          "execution_count": 140
        }
      ]
    },
    {
      "cell_type": "code",
      "metadata": {
        "colab": {
          "base_uri": "https://localhost:8080/"
        },
        "id": "RWOcWWhTZtLj",
        "outputId": "6b78cd51-091e-44db-a5bd-032b25777251"
      },
      "source": [
        "net.forward(X)"
      ],
      "execution_count": 141,
      "outputs": [
        {
          "output_type": "execute_result",
          "data": {
            "text/plain": [
              "tensor([[ 0.2053, -0.0780,  0.2956,  0.0752, -0.1628,  0.1194,  0.1436,  0.1265,\n",
              "          0.2637, -0.0179],\n",
              "        [ 0.1205, -0.0068,  0.1768,  0.0200, -0.0235,  0.1234,  0.1002,  0.0918,\n",
              "          0.1005, -0.0028]], grad_fn=<AddmmBackward>)"
            ]
          },
          "metadata": {
            "tags": []
          },
          "execution_count": 141
        }
      ]
    },
    {
      "cell_type": "code",
      "metadata": {
        "id": "2o-ZWGHzYMeC"
      },
      "source": [
        "class MLP(nn.Module):\n",
        "\n",
        "    def __init__(self):\n",
        "        super().__init__()\n",
        "        self.hidden = nn.Linear(20, 256)  # Hidden layer\n",
        "        self.out = nn.Linear(256, 10)  # Output layer\n",
        "\n",
        "    def forward(self, X):\n",
        "        return self.out(F.relu(self.hidden(X)))\n"
      ],
      "execution_count": 142,
      "outputs": []
    },
    {
      "cell_type": "code",
      "metadata": {
        "colab": {
          "base_uri": "https://localhost:8080/"
        },
        "id": "Mfl8Vjz4ZOCU",
        "outputId": "6be220ff-2307-421b-c031-669dd74b0230"
      },
      "source": [
        "net = MLP()\n",
        "net(X)"
      ],
      "execution_count": 143,
      "outputs": [
        {
          "output_type": "execute_result",
          "data": {
            "text/plain": [
              "tensor([[ 0.0605, -0.2953,  0.1275, -0.0947, -0.1352, -0.0898,  0.0836, -0.0462,\n",
              "         -0.1664,  0.0900],\n",
              "        [ 0.0755, -0.0501, -0.0735,  0.0169, -0.0793,  0.0262,  0.0168, -0.0598,\n",
              "         -0.0496,  0.0173]], grad_fn=<AddmmBackward>)"
            ]
          },
          "metadata": {
            "tags": []
          },
          "execution_count": 143
        }
      ]
    },
    {
      "cell_type": "code",
      "metadata": {
        "id": "5uZcmYXtat1q"
      },
      "source": [
        "### Custom Sequential Block"
      ],
      "execution_count": 144,
      "outputs": []
    },
    {
      "cell_type": "code",
      "metadata": {
        "id": "CYv1v61faxw5"
      },
      "source": [
        "class MySequential(nn.Module):\n",
        "    def __init__(self, *args):\n",
        "        super().__init__()\n",
        "        for block in args:\n",
        "            # Here, `block` is an instance of a `Module` subclass. We save it\n",
        "            # in the member variable `_modules` of the `Module` class, and its\n",
        "            # type is OrderedDict\n",
        "            self._modules[block] = block\n",
        "\n",
        "    def forward(self, X):\n",
        "        # OrderedDict guarantees that members will be traversed in the order\n",
        "        # they were added\n",
        "        for block in self._modules.values():\n",
        "            X = block(X)\n",
        "        return X\n",
        "\n"
      ],
      "execution_count": 145,
      "outputs": []
    },
    {
      "cell_type": "code",
      "metadata": {
        "colab": {
          "base_uri": "https://localhost:8080/"
        },
        "id": "594p1h-OjPWt",
        "outputId": "8434d3d5-9a18-45f8-c41a-6ae3caa0ed4d"
      },
      "source": [
        "net = MySequential(nn.Linear(20, 256), nn.ReLU(), nn.Linear(256, 10))\n",
        "net(X)"
      ],
      "execution_count": 146,
      "outputs": [
        {
          "output_type": "execute_result",
          "data": {
            "text/plain": [
              "tensor([[ 0.0691,  0.0445,  0.0539, -0.1580,  0.0480,  0.0225,  0.0473, -0.0732,\n",
              "         -0.0636,  0.1307],\n",
              "        [ 0.0958,  0.0267,  0.0650, -0.0870,  0.0343,  0.0545, -0.0105, -0.0932,\n",
              "         -0.0481,  0.2366]], grad_fn=<AddmmBackward>)"
            ]
          },
          "metadata": {
            "tags": []
          },
          "execution_count": 146
        }
      ]
    },
    {
      "cell_type": "markdown",
      "metadata": {
        "id": "cbVgUwWC53nU"
      },
      "source": [
        "MyParallel model: several models use the same input, executed in paralle and the results of the models are concatenated in one output."
      ]
    },
    {
      "cell_type": "code",
      "metadata": {
        "id": "mA5lR60X6p0O"
      },
      "source": [
        "class MyParallel(nn.Module):\n",
        "    def __init__(self, *args):\n",
        "        super().__init__()\n",
        "        for block in args:\n",
        "            # Here, `block` is an instance of a `Module` subclass. We save it\n",
        "            # in the member variable `_modules` of the `Module` class, and its\n",
        "            # type is OrderedDict\n",
        "            self._modules[block] = block\n",
        "\n",
        "    def forward(self, X):\n",
        "        # OrderedDict guarantees that members will be traversed in the order\n",
        "        # they were added\n",
        "        list_res=[]\n",
        "        for block in self._modules.values():\n",
        "          list_res.append(block(X))\n",
        "        concat_fin=torch.cat(list_res, dim = -1)\n",
        "        return concat_fin\n",
        "\n"
      ],
      "execution_count": 147,
      "outputs": []
    },
    {
      "cell_type": "code",
      "metadata": {
        "id": "2C91jHLAJMQ6"
      },
      "source": [
        "list_models = [nn.Linear(20,20),nn.Linear(20,20),nn.Linear(20,20)]"
      ],
      "execution_count": 148,
      "outputs": []
    },
    {
      "cell_type": "code",
      "metadata": {
        "colab": {
          "base_uri": "https://localhost:8080/"
        },
        "id": "y3fpmo-kI-xj",
        "outputId": "6d61afa7-6312-4f2d-c9e7-960a14b09d11"
      },
      "source": [
        "net = MyParallel(nn.Linear(20,20),nn.Linear(20,20),nn.Linear(20,20))\n",
        "#X = torch.tensor([1,10])\n",
        "net(X)"
      ],
      "execution_count": 149,
      "outputs": [
        {
          "output_type": "execute_result",
          "data": {
            "text/plain": [
              "tensor([[-1.1848e-01,  9.6248e-02, -7.2014e-02, -1.4919e-01,  2.7896e-01,\n",
              "         -1.0053e-01, -7.0866e-02, -2.2127e-01, -4.5754e-02, -5.2559e-01,\n",
              "         -2.8104e-02,  9.4862e-02,  1.9360e-01, -6.2016e-01, -1.7451e-01,\n",
              "          2.0395e-01,  3.5301e-01, -4.0789e-01,  6.2535e-01,  5.9400e-01,\n",
              "          3.8014e-01,  6.0317e-02,  3.3547e-01, -1.0027e-03, -7.7176e-01,\n",
              "         -2.8620e-02,  1.1855e-01, -5.9530e-01, -3.9230e-01,  2.8650e-02,\n",
              "          1.2174e-01, -3.0434e-01, -6.4093e-01, -2.1674e-01,  4.0402e-01,\n",
              "          1.1588e-01,  1.2176e-01,  1.0792e-01,  3.8749e-01, -8.1887e-02,\n",
              "         -5.4010e-01,  1.3976e-01, -1.5026e-01, -5.3061e-03,  5.9215e-01,\n",
              "          1.3909e-02, -4.3555e-02, -2.7411e-01, -2.6447e-01, -4.3167e-01,\n",
              "         -2.8847e-01, -1.0698e-01,  1.5624e-01, -9.1585e-02,  3.0593e-01,\n",
              "         -6.2571e-01, -5.9629e-01, -1.2142e-01, -5.3871e-04, -6.4772e-02],\n",
              "        [ 2.2551e-03,  1.5969e-01, -2.2191e-01, -2.5465e-01,  4.1350e-01,\n",
              "         -5.1248e-01, -8.8826e-02,  1.5671e-02, -9.6791e-02, -7.6663e-01,\n",
              "         -1.7088e-01, -3.9126e-02,  2.2665e-02, -6.3538e-01,  8.9118e-03,\n",
              "          4.5058e-01, -9.5460e-02, -1.9994e-01,  4.9322e-01,  7.4127e-01,\n",
              "          1.5170e-01, -7.6064e-02,  3.9985e-01, -2.0553e-01, -5.0197e-01,\n",
              "         -6.9676e-02,  5.8485e-01, -2.2043e-01,  6.0084e-02, -1.6401e-01,\n",
              "         -5.0576e-02,  1.3447e-01, -6.2572e-01, -2.3142e-01,  2.2526e-01,\n",
              "          1.0109e-01,  1.4454e-01,  1.0618e-01,  1.5494e-01, -2.2703e-01,\n",
              "          1.0140e-01,  1.5233e-01,  2.7955e-01,  1.9882e-01,  3.4296e-01,\n",
              "         -4.5468e-04,  1.2667e-01, -8.8462e-02, -3.1180e-01, -4.6691e-01,\n",
              "         -1.6033e-01, -2.3621e-02,  3.0972e-01, -6.0260e-03,  9.1928e-02,\n",
              "         -1.3731e-01, -4.8987e-01, -1.7080e-01,  2.0440e-01,  1.4213e-01]],\n",
              "       grad_fn=<CatBackward>)"
            ]
          },
          "metadata": {
            "tags": []
          },
          "execution_count": 149
        }
      ]
    },
    {
      "cell_type": "code",
      "metadata": {
        "colab": {
          "base_uri": "https://localhost:8080/"
        },
        "id": "LP-xKOUCOPmN",
        "outputId": "3e700b15-24fe-446a-8837-df86a26e3762"
      },
      "source": [
        "net = MyParallel(*list_models)\n",
        "net(X)"
      ],
      "execution_count": 150,
      "outputs": [
        {
          "output_type": "execute_result",
          "data": {
            "text/plain": [
              "tensor([[-0.2311, -0.0309, -0.7510,  0.1089,  0.0248,  0.2849, -0.8855, -0.3234,\n",
              "          0.5289,  0.2630,  0.1437, -0.3050, -0.1439, -0.0525, -0.0218, -0.0265,\n",
              "         -0.4360,  0.0345, -0.6121,  0.1411, -0.2548,  0.5737, -0.0676, -0.0858,\n",
              "          0.1464,  0.0964, -0.3200, -0.1280,  0.1782,  0.3212, -0.1296, -0.3389,\n",
              "         -0.2955, -0.4324, -0.1240,  0.4445,  0.5183, -0.5171, -0.2992,  0.4316,\n",
              "         -0.2818,  0.4209,  0.0264,  0.1579,  0.0814, -0.2396,  0.5301, -0.3905,\n",
              "         -0.8701,  0.0459,  0.4915,  0.4948,  0.2061,  0.2438, -1.2019, -0.2246,\n",
              "          0.2842, -0.5115,  0.1536,  0.9394],\n",
              "        [-0.2008,  0.1675, -0.2907, -0.2443,  0.0224,  0.4226, -0.6740, -0.0297,\n",
              "          0.5525, -0.0342,  0.0708,  0.1115, -0.1151,  0.0762,  0.2159, -0.2396,\n",
              "         -0.1335, -0.0377, -0.4472,  0.1241, -0.0731,  0.3364, -0.2730, -0.3445,\n",
              "          0.2489,  0.3478,  0.0337, -0.0782, -0.0653,  0.2543, -0.0677, -0.4176,\n",
              "         -0.2699, -0.4913, -0.0248,  0.3552,  0.3232, -0.2185, -0.2111,  0.2220,\n",
              "         -0.1235,  0.5436, -0.1076,  0.1448,  0.1546, -0.4220,  0.3998, -0.2091,\n",
              "         -0.7017, -0.0573,  0.4441,  0.5782,  0.4042, -0.0293, -1.1128,  0.1648,\n",
              "          0.2416, -0.2757, -0.3216,  0.6492]], grad_fn=<CatBackward>)"
            ]
          },
          "metadata": {
            "tags": []
          },
          "execution_count": 150
        }
      ]
    },
    {
      "cell_type": "code",
      "metadata": {
        "id": "Dnr94UYgR7bK"
      },
      "source": [
        "##### Nesting Modules\n",
        "class NestedBlocks(nn.Module):\n",
        "  def __init__(self,*args):\n",
        "    super().__init__()\n",
        "    self.net = nn.Sequential(nn.Linear(20,20),nn.Linear(20,20))\n",
        "    self.linear = nn.Linear(20,20)\n",
        "\n",
        "  def forward(self, X):\n",
        "    return self.linear(self.net(X))\n",
        "\n"
      ],
      "execution_count": 151,
      "outputs": []
    },
    {
      "cell_type": "code",
      "metadata": {
        "colab": {
          "base_uri": "https://localhost:8080/"
        },
        "id": "FO6PLJdlTkkB",
        "outputId": "2d8a38b6-e903-451e-dac6-e649059e81e7"
      },
      "source": [
        "tensor = torch.ones([2,20])\n",
        "net = NestedBlocks()\n",
        "net(X)"
      ],
      "execution_count": 152,
      "outputs": [
        {
          "output_type": "execute_result",
          "data": {
            "text/plain": [
              "tensor([[ 0.0022, -0.2893,  0.1272, -0.1774,  0.0964,  0.1834,  0.2761, -0.0332,\n",
              "         -0.1781, -0.0951, -0.0307,  0.0023,  0.2043,  0.1889, -0.1677,  0.1902,\n",
              "          0.0659, -0.2028,  0.0066,  0.0882],\n",
              "        [-0.0857, -0.2546,  0.0276, -0.1063,  0.0867,  0.1727,  0.2861, -0.1362,\n",
              "         -0.1554, -0.0907, -0.0385, -0.0193,  0.2191,  0.2416, -0.2133,  0.2442,\n",
              "          0.0915, -0.2315, -0.0415,  0.0713]], grad_fn=<AddmmBackward>)"
            ]
          },
          "metadata": {
            "tags": []
          },
          "execution_count": 152
        }
      ]
    },
    {
      "cell_type": "markdown",
      "metadata": {
        "id": "MPvHAsxNknIY"
      },
      "source": [
        "Parameters access"
      ]
    },
    {
      "cell_type": "code",
      "metadata": {
        "colab": {
          "base_uri": "https://localhost:8080/"
        },
        "id": "DlqLfDIbkXZE",
        "outputId": "49e64fd9-d0a1-49a7-bfe3-635a8ee911ae"
      },
      "source": [
        "net = nn.Sequential(nn.Linear(4, 8), nn.ReLU(), nn.Linear(8, 1))\n",
        "X=torch.rand((2,4))\n",
        "net(X)"
      ],
      "execution_count": 153,
      "outputs": [
        {
          "output_type": "execute_result",
          "data": {
            "text/plain": [
              "tensor([[0.0255],\n",
              "        [0.0777]], grad_fn=<AddmmBackward>)"
            ]
          },
          "metadata": {
            "tags": []
          },
          "execution_count": 153
        }
      ]
    },
    {
      "cell_type": "code",
      "metadata": {
        "colab": {
          "base_uri": "https://localhost:8080/"
        },
        "id": "guv1hQXlk_i-",
        "outputId": "b9108bf2-07df-4668-e046-1b62aece30d7"
      },
      "source": [
        "print(net[2].state_dict())"
      ],
      "execution_count": 154,
      "outputs": [
        {
          "output_type": "stream",
          "text": [
            "OrderedDict([('weight', tensor([[-0.3165,  0.0533,  0.1218,  0.2320, -0.2555,  0.1020,  0.0360, -0.2844]])), ('bias', tensor([0.0698]))])\n"
          ],
          "name": "stdout"
        }
      ]
    },
    {
      "cell_type": "code",
      "metadata": {
        "colab": {
          "base_uri": "https://localhost:8080/"
        },
        "id": "n0YHZGzFlYvz",
        "outputId": "cde47346-17a7-4027-f25e-e3a10c2e6fb0"
      },
      "source": [
        "print(type(net[2].bias))\n",
        "print(net[2].bias)\n",
        "print(net[2].bias.data)"
      ],
      "execution_count": 155,
      "outputs": [
        {
          "output_type": "stream",
          "text": [
            "<class 'torch.nn.parameter.Parameter'>\n",
            "Parameter containing:\n",
            "tensor([0.0698], requires_grad=True)\n",
            "tensor([0.0698])\n"
          ],
          "name": "stdout"
        }
      ]
    },
    {
      "cell_type": "code",
      "metadata": {
        "colab": {
          "base_uri": "https://localhost:8080/"
        },
        "id": "oI6qIMm5luDT",
        "outputId": "1ca2708a-0324-40fc-8e3c-117322a06d41"
      },
      "source": [
        "net[2].weight.grad == True"
      ],
      "execution_count": 156,
      "outputs": [
        {
          "output_type": "execute_result",
          "data": {
            "text/plain": [
              "False"
            ]
          },
          "metadata": {
            "tags": []
          },
          "execution_count": 156
        }
      ]
    },
    {
      "cell_type": "code",
      "metadata": {
        "colab": {
          "base_uri": "https://localhost:8080/"
        },
        "id": "3gIuKUD7mwED",
        "outputId": "ac2e19b2-5749-4246-8965-458af3cf58ee"
      },
      "source": [
        "print(*[(name, param.shape) for name, param in net[0].named_parameters()])\n",
        "print(*[(name, param.shape) for name, param in net.named_parameters()])"
      ],
      "execution_count": 157,
      "outputs": [
        {
          "output_type": "stream",
          "text": [
            "('weight', torch.Size([8, 4])) ('bias', torch.Size([8]))\n",
            "('0.weight', torch.Size([8, 4])) ('0.bias', torch.Size([8])) ('2.weight', torch.Size([1, 8])) ('2.bias', torch.Size([1]))\n"
          ],
          "name": "stdout"
        }
      ]
    },
    {
      "cell_type": "code",
      "metadata": {
        "colab": {
          "base_uri": "https://localhost:8080/"
        },
        "id": "4sLqUg75noO8",
        "outputId": "5d7ac01e-4fb7-4efa-9d23-e8705aab4c13"
      },
      "source": [
        "net.state_dict()['0.weight'].data"
      ],
      "execution_count": 158,
      "outputs": [
        {
          "output_type": "execute_result",
          "data": {
            "text/plain": [
              "tensor([[-0.2776,  0.4534, -0.1428, -0.4177],\n",
              "        [-0.2472, -0.4615,  0.0412,  0.2970],\n",
              "        [-0.4229, -0.0335,  0.2253, -0.3036],\n",
              "        [-0.0279,  0.2890, -0.1575, -0.2650],\n",
              "        [-0.4184, -0.2219,  0.2052, -0.1971],\n",
              "        [-0.1780, -0.1081,  0.0046, -0.3658],\n",
              "        [-0.3883,  0.0334,  0.1440,  0.0272],\n",
              "        [ 0.1154,  0.4347,  0.0013, -0.1815]])"
            ]
          },
          "metadata": {
            "tags": []
          },
          "execution_count": 158
        }
      ]
    },
    {
      "cell_type": "code",
      "metadata": {
        "colab": {
          "base_uri": "https://localhost:8080/"
        },
        "id": "sKbmhThkopB8",
        "outputId": "045d67a7-8e4e-4278-f3ad-de5acb50da6f"
      },
      "source": [
        "def block1():\n",
        "  return nn.Sequential(nn.Linear(4, 8), nn.ReLU(),\n",
        "                        nn.Linear(8, 4), nn.ReLU())\n",
        "\n",
        "def block2():\n",
        "  net = nn.Sequential()\n",
        "  for i in range(4):\n",
        "    net.add_module(f'block {i}', block1())\n",
        "  return net\n",
        "\n",
        "rgnet = nn.Sequential(block2(), nn.Linear(4,1))\n",
        "rgnet(X)"
      ],
      "execution_count": 159,
      "outputs": [
        {
          "output_type": "execute_result",
          "data": {
            "text/plain": [
              "tensor([[0.1538],\n",
              "        [0.1538]], grad_fn=<AddmmBackward>)"
            ]
          },
          "metadata": {
            "tags": []
          },
          "execution_count": 159
        }
      ]
    },
    {
      "cell_type": "code",
      "metadata": {
        "colab": {
          "base_uri": "https://localhost:8080/"
        },
        "id": "9be5jbkUqau7",
        "outputId": "7bf81f38-d1bd-419b-b734-cee94a86a9d9"
      },
      "source": [
        "print(rgnet)"
      ],
      "execution_count": 160,
      "outputs": [
        {
          "output_type": "stream",
          "text": [
            "Sequential(\n",
            "  (0): Sequential(\n",
            "    (block 0): Sequential(\n",
            "      (0): Linear(in_features=4, out_features=8, bias=True)\n",
            "      (1): ReLU()\n",
            "      (2): Linear(in_features=8, out_features=4, bias=True)\n",
            "      (3): ReLU()\n",
            "    )\n",
            "    (block 1): Sequential(\n",
            "      (0): Linear(in_features=4, out_features=8, bias=True)\n",
            "      (1): ReLU()\n",
            "      (2): Linear(in_features=8, out_features=4, bias=True)\n",
            "      (3): ReLU()\n",
            "    )\n",
            "    (block 2): Sequential(\n",
            "      (0): Linear(in_features=4, out_features=8, bias=True)\n",
            "      (1): ReLU()\n",
            "      (2): Linear(in_features=8, out_features=4, bias=True)\n",
            "      (3): ReLU()\n",
            "    )\n",
            "    (block 3): Sequential(\n",
            "      (0): Linear(in_features=4, out_features=8, bias=True)\n",
            "      (1): ReLU()\n",
            "      (2): Linear(in_features=8, out_features=4, bias=True)\n",
            "      (3): ReLU()\n",
            "    )\n",
            "  )\n",
            "  (1): Linear(in_features=4, out_features=1, bias=True)\n",
            ")\n"
          ],
          "name": "stdout"
        }
      ]
    },
    {
      "cell_type": "code",
      "metadata": {
        "colab": {
          "base_uri": "https://localhost:8080/",
          "height": 35
        },
        "id": "5IWOaB7Gqq6i",
        "outputId": "751a175a-7101-413d-d9e3-bc193a55a827"
      },
      "source": [
        "\"\"\"\n",
        "net_prl = MyParallel(nn.Linear(4,4),nn.Linear(4,4),nn.Linear(4,4))\n",
        "X=torch.rand(1,4)\n",
        "net_prl(X)\n",
        "print(net_prl)\n",
        "\"\"\""
      ],
      "execution_count": 161,
      "outputs": [
        {
          "output_type": "execute_result",
          "data": {
            "application/vnd.google.colaboratory.intrinsic+json": {
              "type": "string"
            },
            "text/plain": [
              "'\\nnet_prl = MyParallel(nn.Linear(4,4),nn.Linear(4,4),nn.Linear(4,4))\\nX=torch.rand(1,4)\\nnet_prl(X)\\nprint(net_prl)\\n'"
            ]
          },
          "metadata": {
            "tags": []
          },
          "execution_count": 161
        }
      ]
    },
    {
      "cell_type": "code",
      "metadata": {
        "colab": {
          "base_uri": "https://localhost:8080/"
        },
        "id": "QRswNBEqvG1r",
        "outputId": "5d3c1536-1a50-4d8e-bbba-e9a3e558465f"
      },
      "source": [
        "rgnet[0][1][0].bias.data"
      ],
      "execution_count": 162,
      "outputs": [
        {
          "output_type": "execute_result",
          "data": {
            "text/plain": [
              "tensor([ 0.2787,  0.2905,  0.1926, -0.4774, -0.4306, -0.3149, -0.4255,  0.3073])"
            ]
          },
          "metadata": {
            "tags": []
          },
          "execution_count": 162
        }
      ]
    }
  ]
}