{
  "nbformat": 4,
  "nbformat_minor": 0,
  "metadata": {
    "colab": {
      "name": "PyTorch_Blocks_and_Layers.ipynb",
      "provenance": [],
      "collapsed_sections": [],
      "authorship_tag": "ABX9TyMVDL6Wl7MGdJVBdKy0lKVd",
      "include_colab_link": true
    },
    "kernelspec": {
      "name": "python3",
      "display_name": "Python 3"
    }
  },
  "cells": [
    {
      "cell_type": "markdown",
      "metadata": {
        "id": "view-in-github",
        "colab_type": "text"
      },
      "source": [
        "<a href=\"https://colab.research.google.com/github/Dmitri9149/TensorFlow-PyTorch-basics/blob/master/PyTorch_Blocks_and_Layers.ipynb\" target=\"_parent\"><img src=\"https://colab.research.google.com/assets/colab-badge.svg\" alt=\"Open In Colab\"/></a>"
      ]
    },
    {
      "cell_type": "code",
      "metadata": {
        "id": "tNXZO8ckVz9c"
      },
      "source": [
        "import torch\n",
        "from torch import nn\n",
        "from torch.nn import functional as F"
      ],
      "execution_count": 44,
      "outputs": []
    },
    {
      "cell_type": "markdown",
      "metadata": {
        "id": "Jz7s0w4o34iS"
      },
      "source": [
        "Some part of the code is based on d2l.ai book: http://d2l.ai/"
      ]
    },
    {
      "cell_type": "code",
      "metadata": {
        "id": "k4spfMK9X5a0"
      },
      "source": [
        "### basing on the d2l.ai book "
      ],
      "execution_count": 45,
      "outputs": []
    },
    {
      "cell_type": "code",
      "metadata": {
        "colab": {
          "base_uri": "https://localhost:8080/"
        },
        "id": "H8vqrvMFZK0F",
        "outputId": "99447990-4744-4ac1-bf85-ea8d75194de0"
      },
      "source": [
        "net = nn.Sequential(nn.Linear(20,256), nn.ReLU(), nn.Linear(256,10))\n",
        "\n",
        "X=torch.rand(2,20)\n",
        "net(X)"
      ],
      "execution_count": 46,
      "outputs": [
        {
          "output_type": "execute_result",
          "data": {
            "text/plain": [
              "tensor([[-0.2804, -0.4991, -0.0462,  0.0339, -0.1904, -0.2431,  0.0452, -0.0949,\n",
              "         -0.0366, -0.1548],\n",
              "        [-0.1632, -0.3695, -0.0969, -0.0072, -0.1748, -0.1524, -0.0425, -0.0961,\n",
              "         -0.0575, -0.2525]], grad_fn=<AddmmBackward>)"
            ]
          },
          "metadata": {
            "tags": []
          },
          "execution_count": 46
        }
      ]
    },
    {
      "cell_type": "code",
      "metadata": {
        "colab": {
          "base_uri": "https://localhost:8080/"
        },
        "id": "RWOcWWhTZtLj",
        "outputId": "e328eb1c-93e8-45f2-b9fb-d8a535fd0ffe"
      },
      "source": [
        "net.forward(X)"
      ],
      "execution_count": 47,
      "outputs": [
        {
          "output_type": "execute_result",
          "data": {
            "text/plain": [
              "tensor([[-0.2804, -0.4991, -0.0462,  0.0339, -0.1904, -0.2431,  0.0452, -0.0949,\n",
              "         -0.0366, -0.1548],\n",
              "        [-0.1632, -0.3695, -0.0969, -0.0072, -0.1748, -0.1524, -0.0425, -0.0961,\n",
              "         -0.0575, -0.2525]], grad_fn=<AddmmBackward>)"
            ]
          },
          "metadata": {
            "tags": []
          },
          "execution_count": 47
        }
      ]
    },
    {
      "cell_type": "code",
      "metadata": {
        "id": "2o-ZWGHzYMeC"
      },
      "source": [
        "class MLP(nn.Module):\n",
        "\n",
        "    def __init__(self):\n",
        "        super().__init__()\n",
        "        self.hidden = nn.Linear(20, 256)  # Hidden layer\n",
        "        self.out = nn.Linear(256, 10)  # Output layer\n",
        "\n",
        "    def forward(self, X):\n",
        "        return self.out(F.relu(self.hidden(X)))\n"
      ],
      "execution_count": 48,
      "outputs": []
    },
    {
      "cell_type": "code",
      "metadata": {
        "colab": {
          "base_uri": "https://localhost:8080/"
        },
        "id": "Mfl8Vjz4ZOCU",
        "outputId": "18a8df5d-b50d-4dd5-f0b0-c79ba7b82f6e"
      },
      "source": [
        "net = MLP()\n",
        "net(X)"
      ],
      "execution_count": 49,
      "outputs": [
        {
          "output_type": "execute_result",
          "data": {
            "text/plain": [
              "tensor([[ 0.0216, -0.1294,  0.0151, -0.1098,  0.1248,  0.0929,  0.2009, -0.0610,\n",
              "         -0.0437,  0.2804],\n",
              "        [-0.0483, -0.1203, -0.1449, -0.2851,  0.0821, -0.0248,  0.2308, -0.0995,\n",
              "         -0.0713,  0.2215]], grad_fn=<AddmmBackward>)"
            ]
          },
          "metadata": {
            "tags": []
          },
          "execution_count": 49
        }
      ]
    },
    {
      "cell_type": "code",
      "metadata": {
        "id": "5uZcmYXtat1q"
      },
      "source": [
        "### Custom Sequential Block"
      ],
      "execution_count": 50,
      "outputs": []
    },
    {
      "cell_type": "code",
      "metadata": {
        "id": "CYv1v61faxw5"
      },
      "source": [
        "class MySequential(nn.Module):\n",
        "    def __init__(self, *args):\n",
        "        super().__init__()\n",
        "        for block in args:\n",
        "            # Here, `block` is an instance of a `Module` subclass. We save it\n",
        "            # in the member variable `_modules` of the `Module` class, and its\n",
        "            # type is OrderedDict\n",
        "            self._modules[block] = block\n",
        "\n",
        "    def forward(self, X):\n",
        "        # OrderedDict guarantees that members will be traversed in the order\n",
        "        # they were added\n",
        "        for block in self._modules.values():\n",
        "            X = block(X)\n",
        "        return X\n",
        "\n"
      ],
      "execution_count": 51,
      "outputs": []
    },
    {
      "cell_type": "code",
      "metadata": {
        "colab": {
          "base_uri": "https://localhost:8080/"
        },
        "id": "594p1h-OjPWt",
        "outputId": "aee7b444-02dd-4e28-be74-47da394a7c97"
      },
      "source": [
        "net = MySequential(nn.Linear(20, 256), nn.ReLU(), nn.Linear(256, 10))\n",
        "net(X)"
      ],
      "execution_count": 52,
      "outputs": [
        {
          "output_type": "execute_result",
          "data": {
            "text/plain": [
              "tensor([[-0.2161, -0.0770, -0.2236,  0.1901,  0.1085,  0.0229,  0.1257,  0.0318,\n",
              "          0.0776,  0.0261],\n",
              "        [-0.1836, -0.0067, -0.0548,  0.1798,  0.1161,  0.0805,  0.0320, -0.0351,\n",
              "         -0.0265,  0.0089]], grad_fn=<AddmmBackward>)"
            ]
          },
          "metadata": {
            "tags": []
          },
          "execution_count": 52
        }
      ]
    },
    {
      "cell_type": "markdown",
      "metadata": {
        "id": "cbVgUwWC53nU"
      },
      "source": [
        "MyParallel model: several models use the same input, executed in paralle and the results of the models are concatenated in one output."
      ]
    },
    {
      "cell_type": "code",
      "metadata": {
        "id": "mA5lR60X6p0O"
      },
      "source": [
        "class MyParallel(nn.Module):\n",
        "    def __init__(self, *args):\n",
        "        super().__init__()\n",
        "        for block in args:\n",
        "            # Here, `block` is an instance of a `Module` subclass. We save it\n",
        "            # in the member variable `_modules` of the `Module` class, and its\n",
        "            # type is OrderedDict\n",
        "            self._modules[block] = block\n",
        "\n",
        "    def forward(self, X):\n",
        "        # OrderedDict guarantees that members will be traversed in the order\n",
        "        # they were added\n",
        "        list_res=[]\n",
        "        for block in self._modules.values():\n",
        "          list_res.append(block(X))\n",
        "        concat_fin=torch.cat(list_res, dim = -1)\n",
        "        return concat_fin\n",
        "\n"
      ],
      "execution_count": 53,
      "outputs": []
    },
    {
      "cell_type": "code",
      "metadata": {
        "id": "2C91jHLAJMQ6"
      },
      "source": [
        "list_models = [nn.Linear(20,20),nn.Linear(20,20),nn.Linear(20,20)]"
      ],
      "execution_count": 54,
      "outputs": []
    },
    {
      "cell_type": "code",
      "metadata": {
        "colab": {
          "base_uri": "https://localhost:8080/"
        },
        "id": "y3fpmo-kI-xj",
        "outputId": "1f26efa9-99fb-48c6-8096-b3a5571a94ee"
      },
      "source": [
        "net = MyParallel(nn.Linear(20,20),nn.Linear(20,20),nn.Linear(20,20))\n",
        "#X = torch.tensor([1,10])\n",
        "net(X)"
      ],
      "execution_count": 55,
      "outputs": [
        {
          "output_type": "execute_result",
          "data": {
            "text/plain": [
              "tensor([[-0.1381, -0.9186,  0.1384, -0.3595,  0.1742, -0.1128,  0.0997, -0.1331,\n",
              "         -0.1417, -0.0759,  0.0179, -0.0372, -0.1960,  0.1404, -0.2755, -0.7322,\n",
              "         -0.1157,  0.5080,  0.2541,  0.0569,  0.0549, -0.5127,  0.4420,  0.2128,\n",
              "          0.0402,  0.1178,  0.0161,  0.0668, -0.2954, -0.1269,  0.0177, -0.1807,\n",
              "         -0.1120,  0.0484, -0.5433,  0.0505,  0.3008, -0.1256,  0.0512,  0.1543,\n",
              "          0.1877,  0.4995, -0.0361,  0.0569, -0.2941,  0.5504, -0.1185,  0.1001,\n",
              "         -0.2737,  0.3776, -0.4990,  0.7391, -0.7186, -0.2338,  0.4472, -0.6493,\n",
              "         -0.1084, -0.0411, -0.4154,  0.1256],\n",
              "        [-0.2359, -0.4456,  0.1814, -0.3587,  0.0990, -0.1007,  0.1236,  0.0292,\n",
              "          0.0165, -0.0437,  0.1397,  0.0313, -0.0964,  0.2556,  0.0154, -0.6830,\n",
              "         -0.2726,  0.0542, -0.1530,  0.2660,  0.4424, -0.5897,  0.3882,  0.1908,\n",
              "         -0.2487,  0.2861, -0.1471,  0.2767, -0.3753, -0.2010,  0.0717, -0.3997,\n",
              "         -0.0498,  0.0349, -0.1984,  0.2075,  0.0664,  0.2729,  0.1167,  0.2400,\n",
              "          0.3216,  0.6185, -0.0187, -0.0802, -0.3417,  0.1504, -0.2214,  0.3489,\n",
              "          0.0106,  0.2330, -0.0199,  0.4012, -0.6146, -0.6654,  0.2795, -0.2403,\n",
              "         -0.1580,  0.0359, -0.2633, -0.0556]], grad_fn=<CatBackward>)"
            ]
          },
          "metadata": {
            "tags": []
          },
          "execution_count": 55
        }
      ]
    },
    {
      "cell_type": "code",
      "metadata": {
        "colab": {
          "base_uri": "https://localhost:8080/"
        },
        "id": "LP-xKOUCOPmN",
        "outputId": "43eef55a-3146-46be-939b-9b445b836991"
      },
      "source": [
        "net = MyParallel(*list_models)\n",
        "net(X)"
      ],
      "execution_count": 56,
      "outputs": [
        {
          "output_type": "execute_result",
          "data": {
            "text/plain": [
              "tensor([[-4.3033e-01, -3.1271e-01, -3.6080e-01,  6.1834e-01,  1.1506e-01,\n",
              "          6.7665e-02, -1.4845e-01, -9.3302e-02, -8.9880e-01,  4.1215e-01,\n",
              "          5.8891e-01,  4.6084e-01,  3.9009e-02, -1.8367e-01,  1.6854e-01,\n",
              "          5.3684e-02,  6.4910e-02,  5.4176e-01,  1.8570e-01,  2.6101e-01,\n",
              "         -4.9938e-01, -4.7961e-01, -4.2152e-01, -1.4696e-01,  3.5790e-01,\n",
              "         -5.5765e-01,  5.1654e-02,  1.7400e-01, -1.9274e-02,  2.2596e-01,\n",
              "          1.5299e-01, -1.1310e-01,  6.4203e-01, -5.5497e-01, -1.2677e-01,\n",
              "         -4.3918e-01,  4.8439e-01,  1.2280e-01, -3.7679e-01, -3.2435e-01,\n",
              "          1.8381e-01, -2.1720e-01,  2.6337e-01, -2.8383e-01,  5.6105e-01,\n",
              "         -5.2851e-01, -1.9461e-01,  1.8524e-03, -2.5237e-01,  3.1425e-01,\n",
              "         -3.7881e-01, -4.0967e-01, -8.4522e-01,  3.6736e-01, -2.4191e-01,\n",
              "         -4.1960e-01, -3.9213e-01,  1.3075e-01,  2.7511e-01, -3.4025e-01],\n",
              "        [ 3.1133e-01,  9.1769e-02, -1.9732e-01,  6.4948e-01,  7.5939e-02,\n",
              "          4.9867e-02, -9.3674e-02,  1.7384e-02, -5.3586e-01,  2.9787e-01,\n",
              "          4.2353e-01,  5.3344e-01,  2.2649e-02,  1.3377e-01,  1.5541e-01,\n",
              "         -4.4961e-04,  4.8681e-01,  3.8501e-01,  1.1109e-01,  5.0132e-01,\n",
              "         -5.8242e-01, -2.8774e-01, -3.3359e-01,  1.7737e-01,  2.0373e-01,\n",
              "         -6.6236e-01,  2.3469e-01,  3.2033e-01, -1.1371e-01,  9.8105e-02,\n",
              "          1.9934e-01, -1.7634e-01,  2.9344e-01, -7.5532e-01, -3.7820e-01,\n",
              "         -3.7336e-01,  2.2249e-01, -3.2992e-02, -3.9370e-01, -3.1076e-01,\n",
              "          4.0789e-01,  1.1731e-01, -2.1643e-01, -3.2212e-01,  2.9398e-01,\n",
              "         -1.1262e-01, -2.0129e-01,  1.1717e-01, -6.3575e-02, -1.0620e-02,\n",
              "         -1.8390e-01, -2.0120e-01, -6.1270e-01,  3.5273e-01, -5.3051e-01,\n",
              "         -6.4657e-01, -1.7045e-01, -2.7532e-01,  5.5577e-01, -5.9740e-01]],\n",
              "       grad_fn=<CatBackward>)"
            ]
          },
          "metadata": {
            "tags": []
          },
          "execution_count": 56
        }
      ]
    },
    {
      "cell_type": "code",
      "metadata": {
        "id": "Dnr94UYgR7bK"
      },
      "source": [
        "##### Nesting Modules\n",
        "class NestedBlocks(nn.Module):\n",
        "  def __init__(self,*args):\n",
        "    super().__init__()\n",
        "    self.net = nn.Sequential(nn.Linear(20,20),nn.Linear(20,20))\n",
        "    self.linear = nn.Linear(20,20)\n",
        "\n",
        "  def forward(self, X):\n",
        "    return self.linear(self.net(X))\n",
        "\n"
      ],
      "execution_count": 57,
      "outputs": []
    },
    {
      "cell_type": "code",
      "metadata": {
        "colab": {
          "base_uri": "https://localhost:8080/"
        },
        "id": "FO6PLJdlTkkB",
        "outputId": "1e9e25f3-aec6-4d84-e8d7-919f91b8a780"
      },
      "source": [
        "tensor = torch.ones([2,20])\n",
        "net = NestedBlocks()\n",
        "net(X)"
      ],
      "execution_count": 58,
      "outputs": [
        {
          "output_type": "execute_result",
          "data": {
            "text/plain": [
              "tensor([[ 0.0506, -0.3565, -0.1180,  0.0240,  0.0812, -0.0535, -0.2745, -0.4324,\n",
              "          0.1109, -0.1391,  0.1872, -0.1268, -0.0063,  0.0292, -0.0652, -0.1360,\n",
              "         -0.1183, -0.0652, -0.3360, -0.1625],\n",
              "        [ 0.0015, -0.3873, -0.0486,  0.0112, -0.0041, -0.1277, -0.2602, -0.4013,\n",
              "          0.0392, -0.1294,  0.2155, -0.1048, -0.0680,  0.1119, -0.2208, -0.1639,\n",
              "         -0.1498, -0.1305, -0.2400, -0.0779]], grad_fn=<AddmmBackward>)"
            ]
          },
          "metadata": {
            "tags": []
          },
          "execution_count": 58
        }
      ]
    },
    {
      "cell_type": "markdown",
      "metadata": {
        "id": "MPvHAsxNknIY"
      },
      "source": [
        "Parameters access"
      ]
    },
    {
      "cell_type": "code",
      "metadata": {
        "colab": {
          "base_uri": "https://localhost:8080/"
        },
        "id": "DlqLfDIbkXZE",
        "outputId": "f0cec501-60ab-4242-865a-b2339fbca123"
      },
      "source": [
        "net = nn.Sequential(nn.Linear(4, 8), nn.ReLU(), nn.Linear(8, 1))\n",
        "X=torch.rand((2,4))\n",
        "net(X)"
      ],
      "execution_count": 59,
      "outputs": [
        {
          "output_type": "execute_result",
          "data": {
            "text/plain": [
              "tensor([[-0.3345],\n",
              "        [-0.4019]], grad_fn=<AddmmBackward>)"
            ]
          },
          "metadata": {
            "tags": []
          },
          "execution_count": 59
        }
      ]
    },
    {
      "cell_type": "code",
      "metadata": {
        "colab": {
          "base_uri": "https://localhost:8080/"
        },
        "id": "guv1hQXlk_i-",
        "outputId": "88b5ed26-c60d-4d80-879d-60d9b24528c2"
      },
      "source": [
        "print(net[2].state_dict())"
      ],
      "execution_count": 60,
      "outputs": [
        {
          "output_type": "stream",
          "text": [
            "OrderedDict([('weight', tensor([[ 0.3482, -0.2223,  0.0215,  0.2871,  0.2900,  0.0554, -0.0178, -0.1432]])), ('bias', tensor([-0.3284]))])\n"
          ],
          "name": "stdout"
        }
      ]
    },
    {
      "cell_type": "code",
      "metadata": {
        "colab": {
          "base_uri": "https://localhost:8080/"
        },
        "id": "n0YHZGzFlYvz",
        "outputId": "24eedb96-2095-4122-bc29-67d5b513e41a"
      },
      "source": [
        "print(type(net[2].bias))\n",
        "print(net[2].bias)\n",
        "print(net[2].bias.data)"
      ],
      "execution_count": 61,
      "outputs": [
        {
          "output_type": "stream",
          "text": [
            "<class 'torch.nn.parameter.Parameter'>\n",
            "Parameter containing:\n",
            "tensor([-0.3284], requires_grad=True)\n",
            "tensor([-0.3284])\n"
          ],
          "name": "stdout"
        }
      ]
    },
    {
      "cell_type": "code",
      "metadata": {
        "colab": {
          "base_uri": "https://localhost:8080/"
        },
        "id": "oI6qIMm5luDT",
        "outputId": "656ea76e-90ca-4706-9893-c2cd95754c74"
      },
      "source": [
        "net[2].weight.grad == True"
      ],
      "execution_count": 62,
      "outputs": [
        {
          "output_type": "execute_result",
          "data": {
            "text/plain": [
              "False"
            ]
          },
          "metadata": {
            "tags": []
          },
          "execution_count": 62
        }
      ]
    },
    {
      "cell_type": "code",
      "metadata": {
        "colab": {
          "base_uri": "https://localhost:8080/"
        },
        "id": "3gIuKUD7mwED",
        "outputId": "cba76903-5b8c-4f36-ba13-18370ff86ff5"
      },
      "source": [
        "print(*[(name, param.shape) for name, param in net[0].named_parameters()])\n",
        "print(*[(name, param.shape) for name, param in net.named_parameters()])"
      ],
      "execution_count": 63,
      "outputs": [
        {
          "output_type": "stream",
          "text": [
            "('weight', torch.Size([8, 4])) ('bias', torch.Size([8]))\n",
            "('0.weight', torch.Size([8, 4])) ('0.bias', torch.Size([8])) ('2.weight', torch.Size([1, 8])) ('2.bias', torch.Size([1]))\n"
          ],
          "name": "stdout"
        }
      ]
    },
    {
      "cell_type": "code",
      "metadata": {
        "colab": {
          "base_uri": "https://localhost:8080/"
        },
        "id": "4sLqUg75noO8",
        "outputId": "1b051300-7495-4d94-85a1-8cecc1e5a3d6"
      },
      "source": [
        "net.state_dict()['0.weight'].data"
      ],
      "execution_count": 64,
      "outputs": [
        {
          "output_type": "execute_result",
          "data": {
            "text/plain": [
              "tensor([[-0.3192, -0.0769, -0.2671,  0.4910],\n",
              "        [ 0.1247,  0.3919,  0.0449, -0.1196],\n",
              "        [-0.2766,  0.2767,  0.4941, -0.4080],\n",
              "        [ 0.4813, -0.1165,  0.1303, -0.4229],\n",
              "        [ 0.3512, -0.3629,  0.3730,  0.4921],\n",
              "        [ 0.4711,  0.3425, -0.4567, -0.3472],\n",
              "        [-0.3913, -0.4363, -0.0530, -0.0809],\n",
              "        [-0.2796, -0.2863,  0.1906, -0.4907]])"
            ]
          },
          "metadata": {
            "tags": []
          },
          "execution_count": 64
        }
      ]
    },
    {
      "cell_type": "code",
      "metadata": {
        "colab": {
          "base_uri": "https://localhost:8080/"
        },
        "id": "sKbmhThkopB8",
        "outputId": "82e9613c-9fbd-40b1-e379-ace95d76612d"
      },
      "source": [
        "def block1():\n",
        "  return nn.Sequential(nn.Linear(4, 8), nn.ReLU(),\n",
        "                        nn.Linear(8, 4), nn.ReLU())\n",
        "\n",
        "def block2():\n",
        "  net = nn.Sequential()\n",
        "  for i in range(4):\n",
        "    net.add_module(f'block {i}', block1())\n",
        "  return net\n",
        "\n",
        "rgnet = nn.Sequential(block2(), nn.Linear(4,1))\n",
        "rgnet(X)"
      ],
      "execution_count": 65,
      "outputs": [
        {
          "output_type": "execute_result",
          "data": {
            "text/plain": [
              "tensor([[0.2429],\n",
              "        [0.2429]], grad_fn=<AddmmBackward>)"
            ]
          },
          "metadata": {
            "tags": []
          },
          "execution_count": 65
        }
      ]
    },
    {
      "cell_type": "code",
      "metadata": {
        "colab": {
          "base_uri": "https://localhost:8080/"
        },
        "id": "9be5jbkUqau7",
        "outputId": "de34189c-d74d-450d-eb1d-e6b2180b7c2a"
      },
      "source": [
        "print(rgnet)"
      ],
      "execution_count": 66,
      "outputs": [
        {
          "output_type": "stream",
          "text": [
            "Sequential(\n",
            "  (0): Sequential(\n",
            "    (block 0): Sequential(\n",
            "      (0): Linear(in_features=4, out_features=8, bias=True)\n",
            "      (1): ReLU()\n",
            "      (2): Linear(in_features=8, out_features=4, bias=True)\n",
            "      (3): ReLU()\n",
            "    )\n",
            "    (block 1): Sequential(\n",
            "      (0): Linear(in_features=4, out_features=8, bias=True)\n",
            "      (1): ReLU()\n",
            "      (2): Linear(in_features=8, out_features=4, bias=True)\n",
            "      (3): ReLU()\n",
            "    )\n",
            "    (block 2): Sequential(\n",
            "      (0): Linear(in_features=4, out_features=8, bias=True)\n",
            "      (1): ReLU()\n",
            "      (2): Linear(in_features=8, out_features=4, bias=True)\n",
            "      (3): ReLU()\n",
            "    )\n",
            "    (block 3): Sequential(\n",
            "      (0): Linear(in_features=4, out_features=8, bias=True)\n",
            "      (1): ReLU()\n",
            "      (2): Linear(in_features=8, out_features=4, bias=True)\n",
            "      (3): ReLU()\n",
            "    )\n",
            "  )\n",
            "  (1): Linear(in_features=4, out_features=1, bias=True)\n",
            ")\n"
          ],
          "name": "stdout"
        }
      ]
    },
    {
      "cell_type": "code",
      "metadata": {
        "colab": {
          "base_uri": "https://localhost:8080/",
          "height": 35
        },
        "id": "5IWOaB7Gqq6i",
        "outputId": "030afcfd-36dd-4e25-c8db-baf1e2b1039f"
      },
      "source": [
        "\"\"\"\n",
        "net_prl = MyParallel(nn.Linear(4,4),nn.Linear(4,4),nn.Linear(4,4))\n",
        "X=torch.rand(1,4)\n",
        "net_prl(X)\n",
        "print(net_prl)\n",
        "\"\"\""
      ],
      "execution_count": 67,
      "outputs": [
        {
          "output_type": "execute_result",
          "data": {
            "application/vnd.google.colaboratory.intrinsic+json": {
              "type": "string"
            },
            "text/plain": [
              "'\\nnet_prl = MyParallel(nn.Linear(4,4),nn.Linear(4,4),nn.Linear(4,4))\\nX=torch.rand(1,4)\\nnet_prl(X)\\nprint(net_prl)\\n'"
            ]
          },
          "metadata": {
            "tags": []
          },
          "execution_count": 67
        }
      ]
    },
    {
      "cell_type": "code",
      "metadata": {
        "colab": {
          "base_uri": "https://localhost:8080/"
        },
        "id": "QRswNBEqvG1r",
        "outputId": "570b47ef-94d5-440b-8f62-451725190cf4"
      },
      "source": [
        "rgnet[0][1][0].bias.data"
      ],
      "execution_count": 68,
      "outputs": [
        {
          "output_type": "execute_result",
          "data": {
            "text/plain": [
              "tensor([ 0.1703, -0.3748,  0.1369,  0.0237,  0.4212,  0.1085,  0.3136,  0.2844])"
            ]
          },
          "metadata": {
            "tags": []
          },
          "execution_count": 68
        }
      ]
    },
    {
      "cell_type": "markdown",
      "metadata": {
        "id": "yOtkQLd_m2Sb"
      },
      "source": [
        "Parameter Initialization"
      ]
    },
    {
      "cell_type": "code",
      "metadata": {
        "colab": {
          "base_uri": "https://localhost:8080/"
        },
        "id": "CpRTu6m9m0Lt",
        "outputId": "16f0bd1b-fe55-4051-e3be-99901a04219a"
      },
      "source": [
        "def init_normal(m):\n",
        "  if type(m)==nn.Linear:\n",
        "    nn.init.normal_(m.weight, mean=0, std=0.01)\n",
        "    nn.init.zeros_(m.bias)\n",
        "\n",
        "net.apply(init_normal)\n",
        "net[0].weight.data , net[0].bias.data"
      ],
      "execution_count": 69,
      "outputs": [
        {
          "output_type": "execute_result",
          "data": {
            "text/plain": [
              "(tensor([[ 0.0068, -0.0011,  0.0145,  0.0170],\n",
              "         [-0.0081,  0.0079,  0.0101, -0.0042],\n",
              "         [-0.0034, -0.0111, -0.0122,  0.0064],\n",
              "         [ 0.0046,  0.0180, -0.0065,  0.0004],\n",
              "         [-0.0114,  0.0196, -0.0120, -0.0264],\n",
              "         [ 0.0157, -0.0083,  0.0102,  0.0100],\n",
              "         [ 0.0161,  0.0110, -0.0098,  0.0022],\n",
              "         [-0.0102,  0.0005,  0.0042, -0.0065]]),\n",
              " tensor([0., 0., 0., 0., 0., 0., 0., 0.]))"
            ]
          },
          "metadata": {
            "tags": []
          },
          "execution_count": 69
        }
      ]
    },
    {
      "cell_type": "code",
      "metadata": {
        "colab": {
          "base_uri": "https://localhost:8080/"
        },
        "id": "MK-YkMQVpPQi",
        "outputId": "4d82cd6f-2e2d-4112-ef9a-8ac2673e6fef"
      },
      "source": [
        "def xavier(m):\n",
        "    if type(m) == nn.Linear:\n",
        "        torch.nn.init.xavier_uniform_(m.weight)\n",
        "def init_42(m):\n",
        "    if type(m) == nn.Linear:\n",
        "        torch.nn.init.constant_(m.weight, 42)\n",
        "\n",
        "net[0].apply(xavier)\n",
        "net[2].apply(init_42)\n",
        "print(net[0].weight.data)\n",
        "print(net[2].weight.data)"
      ],
      "execution_count": 70,
      "outputs": [
        {
          "output_type": "stream",
          "text": [
            "tensor([[-0.5383,  0.6290,  0.4848,  0.0479],\n",
            "        [ 0.0982,  0.3911,  0.3968,  0.1660],\n",
            "        [-0.2841,  0.4731,  0.4776, -0.0694],\n",
            "        [-0.5045,  0.2483, -0.3705, -0.1476],\n",
            "        [-0.4987,  0.0047, -0.2438, -0.2830],\n",
            "        [-0.4927, -0.2710, -0.4000,  0.0590],\n",
            "        [-0.6501, -0.2696, -0.1490,  0.2906],\n",
            "        [ 0.4186, -0.4583, -0.2008, -0.3266]])\n",
            "tensor([[42., 42., 42., 42., 42., 42., 42., 42.]])\n"
          ],
          "name": "stdout"
        }
      ]
    },
    {
      "cell_type": "code",
      "metadata": {
        "colab": {
          "base_uri": "https://localhost:8080/"
        },
        "id": "mt080AcEuCnB",
        "outputId": "695aaae4-f815-4cea-8fe5-77d0aea8bc17"
      },
      "source": [
        "def my_init(m):\n",
        "    if type(m) == nn.Linear:\n",
        "        print(\"Init\", *[(name, param.shape)\n",
        "                        for name, param in m.named_parameters()][0])\n",
        "        nn.init.uniform_(m.weight, -10, 10)\n",
        "        m.weight.data *= m.weight.data.abs() >= 5\n",
        "\n",
        "net.apply(my_init)\n",
        "net[0].weight"
      ],
      "execution_count": 71,
      "outputs": [
        {
          "output_type": "stream",
          "text": [
            "Init weight torch.Size([8, 4])\n",
            "Init weight torch.Size([1, 8])\n"
          ],
          "name": "stdout"
        },
        {
          "output_type": "execute_result",
          "data": {
            "text/plain": [
              "Parameter containing:\n",
              "tensor([[ 0.0000, -0.0000,  5.7957,  0.0000],\n",
              "        [-0.0000, -7.0012,  0.0000,  8.0639],\n",
              "        [-0.0000,  0.0000, -0.0000,  0.0000],\n",
              "        [ 9.7996, -0.0000, -7.3908, -9.0815],\n",
              "        [ 7.9830,  9.9064, -9.3752, -0.0000],\n",
              "        [ 0.0000, -0.0000, -6.8125, -0.0000],\n",
              "        [-9.8202, -0.0000, -0.0000,  5.0924],\n",
              "        [-0.0000,  5.4560,  0.0000, -0.0000]], requires_grad=True)"
            ]
          },
          "metadata": {
            "tags": []
          },
          "execution_count": 71
        }
      ]
    },
    {
      "cell_type": "code",
      "metadata": {
        "colab": {
          "base_uri": "https://localhost:8080/"
        },
        "id": "EN_5-wOyvoxU",
        "outputId": "ebf2a73d-8a0d-4aee-84d6-baf282a8385b"
      },
      "source": [
        "### we can set parameters\n",
        "net[0].weight.data[:] += 1\n",
        "net[0].weight.data[0, 0] = 42\n",
        "net[0].weight.data[0]"
      ],
      "execution_count": 72,
      "outputs": [
        {
          "output_type": "execute_result",
          "data": {
            "text/plain": [
              "tensor([42.0000,  1.0000,  6.7957,  1.0000])"
            ]
          },
          "metadata": {
            "tags": []
          },
          "execution_count": 72
        }
      ]
    },
    {
      "cell_type": "code",
      "metadata": {
        "colab": {
          "base_uri": "https://localhost:8080/"
        },
        "id": "b9AvZkz8wVSo",
        "outputId": "c399b59d-2ac7-49cc-827f-ceee4509c206"
      },
      "source": [
        "### shared layers \n",
        "### give a name\n",
        "shared = nn.Linear(8,8)\n",
        "net = nn.Sequential(nn.Linear(4, 8), nn.ReLU(),\n",
        "                    shared, nn.ReLU(),\n",
        "                    shared, nn.ReLU(),\n",
        "                    nn.Linear(8, 1))\n",
        "### has same value\n",
        "print(net[2].weight.data[0] == net[4].weight.data[0])"
      ],
      "execution_count": 73,
      "outputs": [
        {
          "output_type": "stream",
          "text": [
            "tensor([True, True, True, True, True, True, True, True])\n"
          ],
          "name": "stdout"
        }
      ]
    },
    {
      "cell_type": "code",
      "metadata": {
        "colab": {
          "base_uri": "https://localhost:8080/"
        },
        "id": "_mM6zTvFw-CJ",
        "outputId": "58998be0-c048-4f24-e1ca-0728be5cb293"
      },
      "source": [
        "### actually same objects\n",
        "net[2].weight.data[0, 0] = 100\n",
        "print(net[2].weight.data[0] == net[4].weight.data[0])"
      ],
      "execution_count": 74,
      "outputs": [
        {
          "output_type": "stream",
          "text": [
            "tensor([True, True, True, True, True, True, True, True])\n"
          ],
          "name": "stdout"
        }
      ]
    }
  ]
}