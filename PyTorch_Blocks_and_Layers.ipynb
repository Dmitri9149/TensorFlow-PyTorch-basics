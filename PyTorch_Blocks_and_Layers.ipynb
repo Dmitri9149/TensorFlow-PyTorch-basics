{
  "nbformat": 4,
  "nbformat_minor": 0,
  "metadata": {
    "colab": {
      "name": "PyTorch_Blocks_and_Layers.ipynb",
      "provenance": [],
      "collapsed_sections": [],
      "authorship_tag": "ABX9TyP5sYIPXenADJbulREESa1s",
      "include_colab_link": true
    },
    "kernelspec": {
      "name": "python3",
      "display_name": "Python 3"
    }
  },
  "cells": [
    {
      "cell_type": "markdown",
      "metadata": {
        "id": "view-in-github",
        "colab_type": "text"
      },
      "source": [
        "<a href=\"https://colab.research.google.com/github/Dmitri9149/TensorFlow-PyTorch-basics/blob/master/PyTorch_Blocks_and_Layers.ipynb\" target=\"_parent\"><img src=\"https://colab.research.google.com/assets/colab-badge.svg\" alt=\"Open In Colab\"/></a>"
      ]
    },
    {
      "cell_type": "code",
      "metadata": {
        "id": "tNXZO8ckVz9c"
      },
      "source": [
        "import torch\n",
        "from torch import nn\n",
        "from torch.nn import functional as F"
      ],
      "execution_count": 1,
      "outputs": []
    },
    {
      "cell_type": "markdown",
      "metadata": {
        "id": "Jz7s0w4o34iS"
      },
      "source": [
        "Some part of the code is based on d2l.ai book: http://d2l.ai/"
      ]
    },
    {
      "cell_type": "code",
      "metadata": {
        "id": "k4spfMK9X5a0"
      },
      "source": [
        "### basing on the d2l.ai book "
      ],
      "execution_count": 2,
      "outputs": []
    },
    {
      "cell_type": "code",
      "metadata": {
        "colab": {
          "base_uri": "https://localhost:8080/"
        },
        "id": "H8vqrvMFZK0F",
        "outputId": "977cf81b-ede7-4598-93e1-d855573fae8d"
      },
      "source": [
        "net = nn.Sequential(nn.Linear(20,256), nn.ReLU(), nn.Linear(256,10))\n",
        "\n",
        "X=torch.rand(2,20)\n",
        "net(X)"
      ],
      "execution_count": 3,
      "outputs": [
        {
          "output_type": "execute_result",
          "data": {
            "text/plain": [
              "tensor([[-0.1382, -0.0392,  0.1239,  0.3000,  0.0135, -0.1068, -0.2886, -0.1604,\n",
              "          0.0947,  0.0331],\n",
              "        [-0.0060,  0.0215,  0.2270,  0.2382,  0.1244, -0.0199, -0.1310,  0.0017,\n",
              "          0.1153,  0.0025]], grad_fn=<AddmmBackward>)"
            ]
          },
          "metadata": {
            "tags": []
          },
          "execution_count": 3
        }
      ]
    },
    {
      "cell_type": "code",
      "metadata": {
        "colab": {
          "base_uri": "https://localhost:8080/"
        },
        "id": "RWOcWWhTZtLj",
        "outputId": "ee42bf8e-1dfc-42d8-e480-cde8c98a7945"
      },
      "source": [
        "net.forward(X)"
      ],
      "execution_count": 4,
      "outputs": [
        {
          "output_type": "execute_result",
          "data": {
            "text/plain": [
              "tensor([[-0.1382, -0.0392,  0.1239,  0.3000,  0.0135, -0.1068, -0.2886, -0.1604,\n",
              "          0.0947,  0.0331],\n",
              "        [-0.0060,  0.0215,  0.2270,  0.2382,  0.1244, -0.0199, -0.1310,  0.0017,\n",
              "          0.1153,  0.0025]], grad_fn=<AddmmBackward>)"
            ]
          },
          "metadata": {
            "tags": []
          },
          "execution_count": 4
        }
      ]
    },
    {
      "cell_type": "code",
      "metadata": {
        "id": "2o-ZWGHzYMeC"
      },
      "source": [
        "class MLP(nn.Module):\n",
        "\n",
        "    def __init__(self):\n",
        "        super().__init__()\n",
        "        self.hidden = nn.Linear(20, 256)  # Hidden layer\n",
        "        self.out = nn.Linear(256, 10)  # Output layer\n",
        "\n",
        "    def forward(self, X):\n",
        "        return self.out(F.relu(self.hidden(X)))\n"
      ],
      "execution_count": 5,
      "outputs": []
    },
    {
      "cell_type": "code",
      "metadata": {
        "colab": {
          "base_uri": "https://localhost:8080/"
        },
        "id": "Mfl8Vjz4ZOCU",
        "outputId": "90528e53-fedb-4921-9b26-ffcc7893fa6b"
      },
      "source": [
        "net = MLP()\n",
        "net(X)"
      ],
      "execution_count": 6,
      "outputs": [
        {
          "output_type": "execute_result",
          "data": {
            "text/plain": [
              "tensor([[ 0.0030, -0.3252, -0.1235,  0.3344, -0.0870,  0.3490,  0.0889, -0.1135,\n",
              "          0.1467,  0.2245],\n",
              "        [ 0.0127, -0.3919,  0.0524,  0.2701, -0.1078,  0.2389,  0.2186,  0.0079,\n",
              "          0.1923,  0.0917]], grad_fn=<AddmmBackward>)"
            ]
          },
          "metadata": {
            "tags": []
          },
          "execution_count": 6
        }
      ]
    },
    {
      "cell_type": "code",
      "metadata": {
        "id": "5uZcmYXtat1q"
      },
      "source": [
        "### Custom Sequential Block"
      ],
      "execution_count": 7,
      "outputs": []
    },
    {
      "cell_type": "code",
      "metadata": {
        "id": "CYv1v61faxw5"
      },
      "source": [
        "class MySequential(nn.Module):\n",
        "    def __init__(self, *args):\n",
        "        super().__init__()\n",
        "        for block in args:\n",
        "            # Here, `block` is an instance of a `Module` subclass. We save it\n",
        "            # in the member variable `_modules` of the `Module` class, and its\n",
        "            # type is OrderedDict\n",
        "            self._modules[block] = block\n",
        "\n",
        "    def forward(self, X):\n",
        "        # OrderedDict guarantees that members will be traversed in the order\n",
        "        # they were added\n",
        "        for block in self._modules.values():\n",
        "            X = block(X)\n",
        "        return X\n",
        "\n"
      ],
      "execution_count": 8,
      "outputs": []
    },
    {
      "cell_type": "code",
      "metadata": {
        "colab": {
          "base_uri": "https://localhost:8080/"
        },
        "id": "594p1h-OjPWt",
        "outputId": "f91babcc-a2a6-4e1f-c7e4-edaf96d1e817"
      },
      "source": [
        "net = MySequential(nn.Linear(20, 256), nn.ReLU(), nn.Linear(256, 10))\n",
        "net(X)"
      ],
      "execution_count": 9,
      "outputs": [
        {
          "output_type": "execute_result",
          "data": {
            "text/plain": [
              "tensor([[ 0.1352,  0.0498, -0.1028, -0.2970, -0.0374, -0.1706,  0.0069, -0.0619,\n",
              "         -0.1751, -0.0243],\n",
              "        [ 0.1370,  0.0931, -0.0839, -0.2898, -0.0013, -0.2590,  0.0712,  0.0934,\n",
              "         -0.2281, -0.0223]], grad_fn=<AddmmBackward>)"
            ]
          },
          "metadata": {
            "tags": []
          },
          "execution_count": 9
        }
      ]
    }
  ]
}