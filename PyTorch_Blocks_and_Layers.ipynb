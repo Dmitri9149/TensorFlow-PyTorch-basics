{
  "nbformat": 4,
  "nbformat_minor": 0,
  "metadata": {
    "colab": {
      "name": "PyTorch_Blocks_and_Layers.ipynb",
      "provenance": [],
      "collapsed_sections": [],
      "authorship_tag": "ABX9TyNakQFBDI+8eLpwnRW7iAuV",
      "include_colab_link": true
    },
    "kernelspec": {
      "name": "python3",
      "display_name": "Python 3"
    }
  },
  "cells": [
    {
      "cell_type": "markdown",
      "metadata": {
        "id": "view-in-github",
        "colab_type": "text"
      },
      "source": [
        "<a href=\"https://colab.research.google.com/github/Dmitri9149/TensorFlow-PyTorch-basics/blob/master/PyTorch_Blocks_and_Layers.ipynb\" target=\"_parent\"><img src=\"https://colab.research.google.com/assets/colab-badge.svg\" alt=\"Open In Colab\"/></a>"
      ]
    },
    {
      "cell_type": "code",
      "metadata": {
        "id": "tNXZO8ckVz9c"
      },
      "source": [
        "import torch\n",
        "from torch import nn\n",
        "from torch.nn import functional as F"
      ],
      "execution_count": 65,
      "outputs": []
    },
    {
      "cell_type": "markdown",
      "metadata": {
        "id": "Jz7s0w4o34iS"
      },
      "source": [
        "Some part of the code is based on d2l.ai book: http://d2l.ai/"
      ]
    },
    {
      "cell_type": "code",
      "metadata": {
        "id": "k4spfMK9X5a0"
      },
      "source": [
        "### basing on the d2l.ai book "
      ],
      "execution_count": 66,
      "outputs": []
    },
    {
      "cell_type": "code",
      "metadata": {
        "colab": {
          "base_uri": "https://localhost:8080/"
        },
        "id": "H8vqrvMFZK0F",
        "outputId": "60330b45-ab6c-4d49-c609-357523171538"
      },
      "source": [
        "net = nn.Sequential(nn.Linear(20,256), nn.ReLU(), nn.Linear(256,10))\n",
        "\n",
        "X=torch.rand(2,20)\n",
        "net(X)"
      ],
      "execution_count": 67,
      "outputs": [
        {
          "output_type": "execute_result",
          "data": {
            "text/plain": [
              "tensor([[ 0.1508, -0.1937,  0.0299, -0.1798,  0.1195,  0.0633, -0.0769,  0.0463,\n",
              "          0.1490,  0.0809],\n",
              "        [ 0.1002, -0.1470, -0.1017, -0.0778,  0.0913,  0.0930, -0.0092,  0.1837,\n",
              "          0.0524,  0.1845]], grad_fn=<AddmmBackward>)"
            ]
          },
          "metadata": {
            "tags": []
          },
          "execution_count": 67
        }
      ]
    },
    {
      "cell_type": "code",
      "metadata": {
        "colab": {
          "base_uri": "https://localhost:8080/"
        },
        "id": "RWOcWWhTZtLj",
        "outputId": "04245500-7697-4503-e828-28ddb2deda73"
      },
      "source": [
        "net.forward(X)"
      ],
      "execution_count": 68,
      "outputs": [
        {
          "output_type": "execute_result",
          "data": {
            "text/plain": [
              "tensor([[ 0.1508, -0.1937,  0.0299, -0.1798,  0.1195,  0.0633, -0.0769,  0.0463,\n",
              "          0.1490,  0.0809],\n",
              "        [ 0.1002, -0.1470, -0.1017, -0.0778,  0.0913,  0.0930, -0.0092,  0.1837,\n",
              "          0.0524,  0.1845]], grad_fn=<AddmmBackward>)"
            ]
          },
          "metadata": {
            "tags": []
          },
          "execution_count": 68
        }
      ]
    },
    {
      "cell_type": "code",
      "metadata": {
        "id": "2o-ZWGHzYMeC"
      },
      "source": [
        "class MLP(nn.Module):\n",
        "\n",
        "    def __init__(self):\n",
        "        super().__init__()\n",
        "        self.hidden = nn.Linear(20, 256)  # Hidden layer\n",
        "        self.out = nn.Linear(256, 10)  # Output layer\n",
        "\n",
        "    def forward(self, X):\n",
        "        return self.out(F.relu(self.hidden(X)))\n"
      ],
      "execution_count": 69,
      "outputs": []
    },
    {
      "cell_type": "code",
      "metadata": {
        "colab": {
          "base_uri": "https://localhost:8080/"
        },
        "id": "Mfl8Vjz4ZOCU",
        "outputId": "394a46bf-e066-4bfb-c36e-b454dfe08103"
      },
      "source": [
        "net = MLP()\n",
        "net(X)"
      ],
      "execution_count": 70,
      "outputs": [
        {
          "output_type": "execute_result",
          "data": {
            "text/plain": [
              "tensor([[ 0.0216, -0.2836,  0.1034, -0.0380, -0.1550, -0.1335, -0.0258,  0.3418,\n",
              "         -0.4213, -0.3076],\n",
              "        [ 0.0489, -0.1923,  0.0660, -0.0470, -0.1569, -0.2809, -0.0202,  0.2519,\n",
              "         -0.3093, -0.2634]], grad_fn=<AddmmBackward>)"
            ]
          },
          "metadata": {
            "tags": []
          },
          "execution_count": 70
        }
      ]
    },
    {
      "cell_type": "code",
      "metadata": {
        "id": "5uZcmYXtat1q"
      },
      "source": [
        "### Custom Sequential Block"
      ],
      "execution_count": 71,
      "outputs": []
    },
    {
      "cell_type": "code",
      "metadata": {
        "id": "CYv1v61faxw5"
      },
      "source": [
        "class MySequential(nn.Module):\n",
        "    def __init__(self, *args):\n",
        "        super().__init__()\n",
        "        for block in args:\n",
        "            # Here, `block` is an instance of a `Module` subclass. We save it\n",
        "            # in the member variable `_modules` of the `Module` class, and its\n",
        "            # type is OrderedDict\n",
        "            self._modules[block] = block\n",
        "\n",
        "    def forward(self, X):\n",
        "        # OrderedDict guarantees that members will be traversed in the order\n",
        "        # they were added\n",
        "        for block in self._modules.values():\n",
        "            X = block(X)\n",
        "        return X\n",
        "\n"
      ],
      "execution_count": 72,
      "outputs": []
    },
    {
      "cell_type": "code",
      "metadata": {
        "colab": {
          "base_uri": "https://localhost:8080/"
        },
        "id": "594p1h-OjPWt",
        "outputId": "078677d5-00ab-4764-c89e-724932143ce4"
      },
      "source": [
        "net = MySequential(nn.Linear(20, 256), nn.ReLU(), nn.Linear(256, 10))\n",
        "net(X)"
      ],
      "execution_count": 73,
      "outputs": [
        {
          "output_type": "execute_result",
          "data": {
            "text/plain": [
              "tensor([[ 0.1372, -0.1042, -0.0640,  0.1020,  0.1535,  0.0882, -0.1206, -0.0757,\n",
              "          0.3468, -0.0514],\n",
              "        [ 0.1039,  0.0037, -0.0246,  0.1561,  0.1167,  0.1520, -0.1072, -0.0512,\n",
              "          0.1491, -0.0059]], grad_fn=<AddmmBackward>)"
            ]
          },
          "metadata": {
            "tags": []
          },
          "execution_count": 73
        }
      ]
    },
    {
      "cell_type": "markdown",
      "metadata": {
        "id": "cbVgUwWC53nU"
      },
      "source": [
        "MyParallel model: several models use the same input, executed in paralle and the results of the models are concatenated in one output."
      ]
    },
    {
      "cell_type": "code",
      "metadata": {
        "id": "mA5lR60X6p0O"
      },
      "source": [
        "class MyParallel(nn.Module):\n",
        "    def __init__(self, *args):\n",
        "        super().__init__()\n",
        "        for block in args:\n",
        "            # Here, `block` is an instance of a `Module` subclass. We save it\n",
        "            # in the member variable `_modules` of the `Module` class, and its\n",
        "            # type is OrderedDict\n",
        "            self._modules[block] = block\n",
        "\n",
        "    def forward(self, X):\n",
        "        # OrderedDict guarantees that members will be traversed in the order\n",
        "        # they were added\n",
        "        list_res=[]\n",
        "        for block in self._modules.values():\n",
        "          list_res.append(block(X))\n",
        "        concat_fin=torch.cat(list_res, dim = -1)\n",
        "        return concat_fin\n",
        "\n"
      ],
      "execution_count": 74,
      "outputs": []
    },
    {
      "cell_type": "code",
      "metadata": {
        "id": "2C91jHLAJMQ6"
      },
      "source": [
        "list_models = [nn.Linear(20,20),nn.Linear(20,20),nn.Linear(20,20)]"
      ],
      "execution_count": 75,
      "outputs": []
    },
    {
      "cell_type": "code",
      "metadata": {
        "colab": {
          "base_uri": "https://localhost:8080/"
        },
        "id": "y3fpmo-kI-xj",
        "outputId": "a7724fd4-eced-4103-b280-869a38b212e4"
      },
      "source": [
        "net = MyParallel(nn.Linear(20,20),nn.Linear(20,20),nn.Linear(20,20))\n",
        "#X = torch.tensor([1,10])\n",
        "net(X)"
      ],
      "execution_count": 76,
      "outputs": [
        {
          "output_type": "execute_result",
          "data": {
            "text/plain": [
              "tensor([[ 0.4196, -0.1460, -0.3654,  0.3122, -0.1946,  0.2441,  0.0153, -0.4368,\n",
              "          0.4916,  0.3368,  0.0068, -0.6394,  0.4057, -0.7122,  0.4469,  0.8249,\n",
              "         -0.1506, -0.1320, -0.5006, -0.1041, -0.1681, -0.6907, -0.5793,  0.2690,\n",
              "         -0.2322,  0.0701,  0.2385,  0.0569,  0.2528,  0.4342, -0.0402,  0.4694,\n",
              "          0.1835, -0.1803, -0.5139, -0.3105, -0.6059, -0.3592,  0.2462,  0.3861,\n",
              "          0.0352,  0.4877, -0.2610,  0.0430,  0.1298, -0.1540, -0.2390, -0.5215,\n",
              "         -0.3234, -0.3593,  0.3615, -0.2322, -0.6519,  0.2396,  0.1803, -0.2625,\n",
              "          0.0419,  0.9004,  0.0754,  0.0334],\n",
              "        [ 0.5085, -0.0698, -0.0334,  0.3177, -0.1846,  0.2379, -0.0227, -0.4316,\n",
              "          0.6455,  0.1079,  0.0677, -0.7253,  0.2702, -0.4876,  0.2787,  0.6003,\n",
              "         -0.0291, -0.0032, -0.4148, -0.2535, -0.2153, -0.6866, -0.5551,  0.3684,\n",
              "         -0.0129, -0.4252, -0.0010,  0.1776,  0.1193,  0.3327,  0.1844,  0.6265,\n",
              "          0.5831, -0.3386, -0.6703, -0.5673, -0.2399, -0.2471,  0.3188,  0.4780,\n",
              "          0.3453,  0.7841, -0.2984,  0.2266,  0.3598, -0.3506, -0.3309, -0.6069,\n",
              "          0.0315, -0.6725,  0.4876, -0.3481, -0.8043,  0.4112,  0.2805, -0.1549,\n",
              "          0.0498,  0.8934, -0.1896, -0.3287]], grad_fn=<CatBackward>)"
            ]
          },
          "metadata": {
            "tags": []
          },
          "execution_count": 76
        }
      ]
    },
    {
      "cell_type": "code",
      "metadata": {
        "colab": {
          "base_uri": "https://localhost:8080/"
        },
        "id": "LP-xKOUCOPmN",
        "outputId": "d0aadf6b-1c71-4da1-971a-3b6b518ed129"
      },
      "source": [
        "net = MyParallel(*list_models)\n",
        "net(X)"
      ],
      "execution_count": 77,
      "outputs": [
        {
          "output_type": "execute_result",
          "data": {
            "text/plain": [
              "tensor([[-0.1432,  0.1187,  0.0855,  0.0294,  0.1137, -0.3956,  0.1789, -0.4555,\n",
              "         -0.8808, -0.4197,  0.4581, -0.4608,  0.1817,  0.3451, -0.6367, -0.2924,\n",
              "         -0.3933, -0.2873, -0.1519, -1.0336, -0.0215,  0.1770, -0.4531, -0.0420,\n",
              "          0.3889,  0.0556, -0.3836,  0.0686, -0.0863, -0.2474, -0.4251, -0.1388,\n",
              "         -0.3776, -0.2114,  0.2643,  0.0231, -0.4615,  0.2453,  0.4637, -0.1754,\n",
              "         -0.2522,  0.2329, -0.0707,  0.0289, -0.6230,  0.2822,  0.1822,  0.5659,\n",
              "          0.1065, -0.0446,  0.0519, -0.6477,  0.7046,  0.0430,  0.1737, -0.2738,\n",
              "          0.1528,  0.3511,  0.0858, -0.4835],\n",
              "        [-0.3168,  0.3287, -0.2461, -0.0563, -0.0793, -0.1951,  0.1665, -0.4017,\n",
              "         -0.7182, -0.3564,  0.3560, -0.2456,  0.0190,  0.3669, -0.2081, -0.3090,\n",
              "         -0.1568, -0.3878, -0.1500, -0.9001, -0.1237,  0.1743, -0.3717,  0.2347,\n",
              "          0.4466,  0.0402, -0.1585, -0.2358, -0.6844,  0.0512, -0.3142, -0.2065,\n",
              "         -0.2740, -0.0160, -0.2677, -0.2430, -0.0750,  0.1336,  0.4149, -0.2052,\n",
              "         -0.0992,  0.3762, -0.1988, -0.3451, -0.3039, -0.0315,  0.2888,  0.7338,\n",
              "          0.4917, -0.2221, -0.1346, -0.6445,  0.7259, -0.5298,  0.1793, -0.4839,\n",
              "          0.0255,  0.1267,  0.2279, -0.1829]], grad_fn=<CatBackward>)"
            ]
          },
          "metadata": {
            "tags": []
          },
          "execution_count": 77
        }
      ]
    },
    {
      "cell_type": "code",
      "metadata": {
        "id": "Dnr94UYgR7bK"
      },
      "source": [
        "##### Nesting Modules\n",
        "class NestedBlocks(nn.Module):\n",
        "  def __init__(self,*args):\n",
        "    super().__init__()\n",
        "    self.net = nn.Sequential(nn.Linear(20,20),nn.Linear(20,20))\n",
        "    self.linear = nn.Linear(20,20)\n",
        "\n",
        "  def forward(self, X):\n",
        "    return self.linear(self.net(X))\n",
        "\n"
      ],
      "execution_count": 78,
      "outputs": []
    },
    {
      "cell_type": "code",
      "metadata": {
        "colab": {
          "base_uri": "https://localhost:8080/"
        },
        "id": "FO6PLJdlTkkB",
        "outputId": "8baffedb-cca8-4cb7-dc3a-cdc4419325af"
      },
      "source": [
        "tensor = torch.ones([2,20])\n",
        "net = NestedBlocks()\n",
        "net(X)"
      ],
      "execution_count": 79,
      "outputs": [
        {
          "output_type": "execute_result",
          "data": {
            "text/plain": [
              "tensor([[-0.0162, -0.0089, -0.2248, -0.4150, -0.0856, -0.1649,  0.1004,  0.0882,\n",
              "         -0.0928, -0.0898,  0.0828, -0.0410,  0.2575, -0.1062, -0.0780, -0.0113,\n",
              "          0.2728,  0.0405, -0.0624, -0.1912],\n",
              "        [ 0.0706, -0.0495, -0.1354, -0.3141, -0.1832, -0.1608, -0.0408,  0.1699,\n",
              "         -0.0833, -0.1034,  0.0884, -0.1836,  0.1931,  0.0606,  0.1496,  0.0304,\n",
              "          0.2806, -0.0571,  0.1744, -0.0839]], grad_fn=<AddmmBackward>)"
            ]
          },
          "metadata": {
            "tags": []
          },
          "execution_count": 79
        }
      ]
    },
    {
      "cell_type": "markdown",
      "metadata": {
        "id": "MPvHAsxNknIY"
      },
      "source": [
        "Parameters access"
      ]
    },
    {
      "cell_type": "code",
      "metadata": {
        "colab": {
          "base_uri": "https://localhost:8080/"
        },
        "id": "DlqLfDIbkXZE",
        "outputId": "832ded87-675e-4b7d-a80e-8c97e1c53117"
      },
      "source": [
        "net = nn.Sequential(nn.Linear(4, 8), nn.ReLU(), nn.Linear(8, 1))\n",
        "X=torch.rand((2,4))\n",
        "net(X)"
      ],
      "execution_count": 80,
      "outputs": [
        {
          "output_type": "execute_result",
          "data": {
            "text/plain": [
              "tensor([[-0.4814],\n",
              "        [-0.4140]], grad_fn=<AddmmBackward>)"
            ]
          },
          "metadata": {
            "tags": []
          },
          "execution_count": 80
        }
      ]
    },
    {
      "cell_type": "code",
      "metadata": {
        "colab": {
          "base_uri": "https://localhost:8080/"
        },
        "id": "guv1hQXlk_i-",
        "outputId": "1677f53f-0719-4978-88b1-4d1f48cf5105"
      },
      "source": [
        "print(net[2].state_dict())"
      ],
      "execution_count": 81,
      "outputs": [
        {
          "output_type": "stream",
          "text": [
            "OrderedDict([('weight', tensor([[ 0.0595,  0.0090, -0.3076, -0.2955, -0.1566, -0.2365, -0.2095, -0.2976]])), ('bias', tensor([-0.3114]))])\n"
          ],
          "name": "stdout"
        }
      ]
    },
    {
      "cell_type": "code",
      "metadata": {
        "colab": {
          "base_uri": "https://localhost:8080/"
        },
        "id": "n0YHZGzFlYvz",
        "outputId": "2575eb66-99b9-40b5-e128-afa4bcc73155"
      },
      "source": [
        "print(type(net[2].bias))\n",
        "print(net[2].bias)\n",
        "print(net[2].bias.data)"
      ],
      "execution_count": 82,
      "outputs": [
        {
          "output_type": "stream",
          "text": [
            "<class 'torch.nn.parameter.Parameter'>\n",
            "Parameter containing:\n",
            "tensor([-0.3114], requires_grad=True)\n",
            "tensor([-0.3114])\n"
          ],
          "name": "stdout"
        }
      ]
    },
    {
      "cell_type": "code",
      "metadata": {
        "colab": {
          "base_uri": "https://localhost:8080/"
        },
        "id": "oI6qIMm5luDT",
        "outputId": "c30c4489-13b4-43f6-9534-2be09316e037"
      },
      "source": [
        "net[2].weight.grad == True"
      ],
      "execution_count": 83,
      "outputs": [
        {
          "output_type": "execute_result",
          "data": {
            "text/plain": [
              "False"
            ]
          },
          "metadata": {
            "tags": []
          },
          "execution_count": 83
        }
      ]
    },
    {
      "cell_type": "code",
      "metadata": {
        "colab": {
          "base_uri": "https://localhost:8080/"
        },
        "id": "3gIuKUD7mwED",
        "outputId": "75d9c12a-d5dc-4afb-97e0-6e33d20d1b9b"
      },
      "source": [
        "print(*[(name, param.shape) for name, param in net[0].named_parameters()])\n",
        "print(*[(name, param.shape) for name, param in net.named_parameters()])"
      ],
      "execution_count": 84,
      "outputs": [
        {
          "output_type": "stream",
          "text": [
            "('weight', torch.Size([8, 4])) ('bias', torch.Size([8]))\n",
            "('0.weight', torch.Size([8, 4])) ('0.bias', torch.Size([8])) ('2.weight', torch.Size([1, 8])) ('2.bias', torch.Size([1]))\n"
          ],
          "name": "stdout"
        }
      ]
    },
    {
      "cell_type": "code",
      "metadata": {
        "colab": {
          "base_uri": "https://localhost:8080/"
        },
        "id": "4sLqUg75noO8",
        "outputId": "47ba176e-2a1f-4080-cb99-228bd2cd8687"
      },
      "source": [
        "net.state_dict()['0.weight'].data"
      ],
      "execution_count": 85,
      "outputs": [
        {
          "output_type": "execute_result",
          "data": {
            "text/plain": [
              "tensor([[ 0.0069,  0.0741, -0.2788, -0.3613],\n",
              "        [-0.3495, -0.3864,  0.3356,  0.4863],\n",
              "        [ 0.1468,  0.3448, -0.2169,  0.3896],\n",
              "        [-0.3947, -0.3415, -0.4206,  0.2676],\n",
              "        [-0.2347, -0.3795, -0.1329, -0.0062],\n",
              "        [ 0.4792,  0.0993,  0.0911, -0.4554],\n",
              "        [ 0.4072, -0.1371,  0.1791, -0.3076],\n",
              "        [ 0.4700, -0.2410,  0.1867,  0.2960]])"
            ]
          },
          "metadata": {
            "tags": []
          },
          "execution_count": 85
        }
      ]
    },
    {
      "cell_type": "code",
      "metadata": {
        "colab": {
          "base_uri": "https://localhost:8080/"
        },
        "id": "sKbmhThkopB8",
        "outputId": "4d708886-b07e-42b7-c1df-c026db165e25"
      },
      "source": [
        "def block1():\n",
        "  return nn.Sequential(nn.Linear(4, 8), nn.ReLU(),\n",
        "                        nn.Linear(8, 4), nn.ReLU())\n",
        "\n",
        "def block2():\n",
        "  net = nn.Sequential()\n",
        "  for i in range(4):\n",
        "    net.add_module(f'block {i}', block1())\n",
        "  return net\n",
        "\n",
        "rgnet = nn.Sequential(block2(), nn.Linear(4,1))\n",
        "rgnet(X)"
      ],
      "execution_count": 86,
      "outputs": [
        {
          "output_type": "execute_result",
          "data": {
            "text/plain": [
              "tensor([[0.6265],\n",
              "        [0.6265]], grad_fn=<AddmmBackward>)"
            ]
          },
          "metadata": {
            "tags": []
          },
          "execution_count": 86
        }
      ]
    },
    {
      "cell_type": "code",
      "metadata": {
        "colab": {
          "base_uri": "https://localhost:8080/"
        },
        "id": "9be5jbkUqau7",
        "outputId": "577dc622-8a92-44ba-c6fb-b1d663584761"
      },
      "source": [
        "print(rgnet)"
      ],
      "execution_count": 87,
      "outputs": [
        {
          "output_type": "stream",
          "text": [
            "Sequential(\n",
            "  (0): Sequential(\n",
            "    (block 0): Sequential(\n",
            "      (0): Linear(in_features=4, out_features=8, bias=True)\n",
            "      (1): ReLU()\n",
            "      (2): Linear(in_features=8, out_features=4, bias=True)\n",
            "      (3): ReLU()\n",
            "    )\n",
            "    (block 1): Sequential(\n",
            "      (0): Linear(in_features=4, out_features=8, bias=True)\n",
            "      (1): ReLU()\n",
            "      (2): Linear(in_features=8, out_features=4, bias=True)\n",
            "      (3): ReLU()\n",
            "    )\n",
            "    (block 2): Sequential(\n",
            "      (0): Linear(in_features=4, out_features=8, bias=True)\n",
            "      (1): ReLU()\n",
            "      (2): Linear(in_features=8, out_features=4, bias=True)\n",
            "      (3): ReLU()\n",
            "    )\n",
            "    (block 3): Sequential(\n",
            "      (0): Linear(in_features=4, out_features=8, bias=True)\n",
            "      (1): ReLU()\n",
            "      (2): Linear(in_features=8, out_features=4, bias=True)\n",
            "      (3): ReLU()\n",
            "    )\n",
            "  )\n",
            "  (1): Linear(in_features=4, out_features=1, bias=True)\n",
            ")\n"
          ],
          "name": "stdout"
        }
      ]
    },
    {
      "cell_type": "code",
      "metadata": {
        "colab": {
          "base_uri": "https://localhost:8080/",
          "height": 35
        },
        "id": "5IWOaB7Gqq6i",
        "outputId": "37ee1b74-b910-468d-93de-6b460b735812"
      },
      "source": [
        "\"\"\"\n",
        "net_prl = MyParallel(nn.Linear(4,4),nn.Linear(4,4),nn.Linear(4,4))\n",
        "X=torch.rand(1,4)\n",
        "net_prl(X)\n",
        "print(net_prl)\n",
        "\"\"\""
      ],
      "execution_count": 88,
      "outputs": [
        {
          "output_type": "execute_result",
          "data": {
            "application/vnd.google.colaboratory.intrinsic+json": {
              "type": "string"
            },
            "text/plain": [
              "'\\nnet_prl = MyParallel(nn.Linear(4,4),nn.Linear(4,4),nn.Linear(4,4))\\nX=torch.rand(1,4)\\nnet_prl(X)\\nprint(net_prl)\\n'"
            ]
          },
          "metadata": {
            "tags": []
          },
          "execution_count": 88
        }
      ]
    },
    {
      "cell_type": "code",
      "metadata": {
        "colab": {
          "base_uri": "https://localhost:8080/"
        },
        "id": "QRswNBEqvG1r",
        "outputId": "f36a6eed-0671-4318-a9f0-9aaa458a0c3a"
      },
      "source": [
        "rgnet[0][1][0].bias.data"
      ],
      "execution_count": 89,
      "outputs": [
        {
          "output_type": "execute_result",
          "data": {
            "text/plain": [
              "tensor([ 0.3958,  0.3020,  0.4832, -0.3507, -0.4260, -0.4477, -0.0165, -0.3638])"
            ]
          },
          "metadata": {
            "tags": []
          },
          "execution_count": 89
        }
      ]
    },
    {
      "cell_type": "markdown",
      "metadata": {
        "id": "yOtkQLd_m2Sb"
      },
      "source": [
        "Parameter Initialization"
      ]
    },
    {
      "cell_type": "code",
      "metadata": {
        "colab": {
          "base_uri": "https://localhost:8080/"
        },
        "id": "CpRTu6m9m0Lt",
        "outputId": "a2c90f95-0023-4d96-ee20-e78f8dff7385"
      },
      "source": [
        "def init_normal(m):\n",
        "  if type(m)==nn.Linear:\n",
        "    nn.init.normal_(m.weight, mean=0, std=0.01)\n",
        "    nn.init.zeros_(m.bias)\n",
        "\n",
        "net.apply(init_normal)\n",
        "net[0].weight.data , net[0].bias.data"
      ],
      "execution_count": 90,
      "outputs": [
        {
          "output_type": "execute_result",
          "data": {
            "text/plain": [
              "(tensor([[-0.0027,  0.0014,  0.0028,  0.0141],\n",
              "         [ 0.0047, -0.0120, -0.0162,  0.0010],\n",
              "         [ 0.0093, -0.0016,  0.0021, -0.0106],\n",
              "         [-0.0006,  0.0085,  0.0194,  0.0231],\n",
              "         [ 0.0054, -0.0146,  0.0278, -0.0006],\n",
              "         [-0.0056, -0.0019,  0.0048, -0.0099],\n",
              "         [-0.0082, -0.0219, -0.0035,  0.0219],\n",
              "         [-0.0071, -0.0150, -0.0040, -0.0086]]),\n",
              " tensor([0., 0., 0., 0., 0., 0., 0., 0.]))"
            ]
          },
          "metadata": {
            "tags": []
          },
          "execution_count": 90
        }
      ]
    },
    {
      "cell_type": "code",
      "metadata": {
        "colab": {
          "base_uri": "https://localhost:8080/"
        },
        "id": "MK-YkMQVpPQi",
        "outputId": "cacd1644-82dd-4da2-fa5a-acf574fd3106"
      },
      "source": [
        "def xavier(m):\n",
        "    if type(m) == nn.Linear:\n",
        "        torch.nn.init.xavier_uniform_(m.weight)\n",
        "def init_42(m):\n",
        "    if type(m) == nn.Linear:\n",
        "        torch.nn.init.constant_(m.weight, 42)\n",
        "\n",
        "net[0].apply(xavier)\n",
        "net[2].apply(init_42)\n",
        "print(net[0].weight.data)\n",
        "print(net[2].weight.data)"
      ],
      "execution_count": 91,
      "outputs": [
        {
          "output_type": "stream",
          "text": [
            "tensor([[ 0.0229, -0.5890, -0.4278, -0.1478],\n",
            "        [ 0.4840,  0.5249, -0.3299,  0.0500],\n",
            "        [ 0.5816,  0.2276, -0.4317, -0.5499],\n",
            "        [ 0.1319,  0.6717,  0.0510,  0.2633],\n",
            "        [-0.3169, -0.4108,  0.5720,  0.4838],\n",
            "        [ 0.4331,  0.2760,  0.5173, -0.5761],\n",
            "        [ 0.2639, -0.5605, -0.3684, -0.3023],\n",
            "        [ 0.2237,  0.5641, -0.3692,  0.2924]])\n",
            "tensor([[42., 42., 42., 42., 42., 42., 42., 42.]])\n"
          ],
          "name": "stdout"
        }
      ]
    },
    {
      "cell_type": "code",
      "metadata": {
        "colab": {
          "base_uri": "https://localhost:8080/"
        },
        "id": "mt080AcEuCnB",
        "outputId": "eb4e0acc-839c-4736-c2fa-6c6835965050"
      },
      "source": [
        "def my_init(m):\n",
        "    if type(m) == nn.Linear:\n",
        "        print(\"Init\", *[(name, param.shape)\n",
        "                        for name, param in m.named_parameters()][0])\n",
        "        nn.init.uniform_(m.weight, -10, 10)\n",
        "        m.weight.data *= m.weight.data.abs() >= 5\n",
        "\n",
        "net.apply(my_init)\n",
        "net[0].weight"
      ],
      "execution_count": 92,
      "outputs": [
        {
          "output_type": "stream",
          "text": [
            "Init weight torch.Size([8, 4])\n",
            "Init weight torch.Size([1, 8])\n"
          ],
          "name": "stdout"
        },
        {
          "output_type": "execute_result",
          "data": {
            "text/plain": [
              "Parameter containing:\n",
              "tensor([[ 5.1403, -7.9823,  9.1056,  0.0000],\n",
              "        [ 0.0000, -8.7479,  6.4611, -0.0000],\n",
              "        [ 0.0000,  6.2188,  0.0000, -0.0000],\n",
              "        [-0.0000,  0.0000, -0.0000, -6.9828],\n",
              "        [ 0.0000, -9.6252, -6.7095,  8.6722],\n",
              "        [-8.4292,  0.0000, -0.0000,  6.9706],\n",
              "        [ 0.0000, -5.5829, -9.1312,  8.1601],\n",
              "        [ 0.0000, -0.0000, -0.0000, -0.0000]], requires_grad=True)"
            ]
          },
          "metadata": {
            "tags": []
          },
          "execution_count": 92
        }
      ]
    },
    {
      "cell_type": "code",
      "metadata": {
        "colab": {
          "base_uri": "https://localhost:8080/"
        },
        "id": "EN_5-wOyvoxU",
        "outputId": "a12774dd-dd3c-4841-c5fa-7505160c96c2"
      },
      "source": [
        "### we can set parameters\n",
        "net[0].weight.data[:] += 1\n",
        "net[0].weight.data[0, 0] = 42\n",
        "net[0].weight.data[0]"
      ],
      "execution_count": 93,
      "outputs": [
        {
          "output_type": "execute_result",
          "data": {
            "text/plain": [
              "tensor([42.0000, -6.9823, 10.1056,  1.0000])"
            ]
          },
          "metadata": {
            "tags": []
          },
          "execution_count": 93
        }
      ]
    },
    {
      "cell_type": "code",
      "metadata": {
        "colab": {
          "base_uri": "https://localhost:8080/"
        },
        "id": "b9AvZkz8wVSo",
        "outputId": "0295a5f9-21c3-439a-93b4-63c48ee82a78"
      },
      "source": [
        "### shared layers \n",
        "### give a name\n",
        "shared = nn.Linear(8,8)\n",
        "net = nn.Sequential(nn.Linear(4, 8), nn.ReLU(),\n",
        "                    shared, nn.ReLU(),\n",
        "                    shared, nn.ReLU(),\n",
        "                    nn.Linear(8, 1))\n",
        "### has same value\n",
        "print(net[2].weight.data[0] == net[4].weight.data[0])"
      ],
      "execution_count": 94,
      "outputs": [
        {
          "output_type": "stream",
          "text": [
            "tensor([True, True, True, True, True, True, True, True])\n"
          ],
          "name": "stdout"
        }
      ]
    },
    {
      "cell_type": "code",
      "metadata": {
        "colab": {
          "base_uri": "https://localhost:8080/"
        },
        "id": "_mM6zTvFw-CJ",
        "outputId": "f3159843-02d6-45f7-f8f5-380169bd4986"
      },
      "source": [
        "### actually same objects\n",
        "net[2].weight.data[0, 0] = 100\n",
        "print(net[2].weight.data[0] == net[4].weight.data[0])"
      ],
      "execution_count": 95,
      "outputs": [
        {
          "output_type": "stream",
          "text": [
            "tensor([True, True, True, True, True, True, True, True])\n"
          ],
          "name": "stdout"
        }
      ]
    },
    {
      "cell_type": "code",
      "metadata": {
        "id": "PC_c5gF5m4td"
      },
      "source": [
        "### without parameters\n",
        "class CenteredLayer(nn.Module):\n",
        "  def __init__(self):\n",
        "    super().__init__()\n",
        "\n",
        "  def forward(self,X):\n",
        "    return (X-X.mean())\n"
      ],
      "execution_count": 96,
      "outputs": []
    },
    {
      "cell_type": "code",
      "metadata": {
        "colab": {
          "base_uri": "https://localhost:8080/"
        },
        "id": "Ks2Q9C9hnlyD",
        "outputId": "8527bea2-1e87-4987-d6af-633d99bf6420"
      },
      "source": [
        "layer = CenteredLayer()\n",
        "layer(torch.FloatTensor([1,2,3,4,5,6]))"
      ],
      "execution_count": 97,
      "outputs": [
        {
          "output_type": "execute_result",
          "data": {
            "text/plain": [
              "tensor([-2.5000, -1.5000, -0.5000,  0.5000,  1.5000,  2.5000])"
            ]
          },
          "metadata": {
            "tags": []
          },
          "execution_count": 97
        }
      ]
    },
    {
      "cell_type": "code",
      "metadata": {
        "colab": {
          "base_uri": "https://localhost:8080/"
        },
        "id": "wO95gEqYoKA7",
        "outputId": "5e9fa89d-ddcc-48b2-aa95-f9d789ccc944"
      },
      "source": [
        "net = nn.Sequential(nn.Linear(5,5), CenteredLayer())\n",
        "Y = net(torch.rand(2,5))\n",
        "Y.mean()"
      ],
      "execution_count": 98,
      "outputs": [
        {
          "output_type": "execute_result",
          "data": {
            "text/plain": [
              "tensor(3.2783e-08, grad_fn=<MeanBackward0>)"
            ]
          },
          "metadata": {
            "tags": []
          },
          "execution_count": 98
        }
      ]
    },
    {
      "cell_type": "code",
      "metadata": {
        "id": "Fiundh6zp_VR"
      },
      "source": [
        "### Linear from scratch\n",
        "class MyLinear(nn.Module):\n",
        "  def __init__(self, in_units, out_units):\n",
        "    super().__init__()\n",
        "    self.weight=nn.Parameter(torch.randn(in_units, out_units))\n",
        "    self.bias = nn.Parameter(torch.randn(out_units))\n",
        "\n",
        "  def forward(self,X):\n",
        "    linear = torch.matmul(X, self.weight.data)+ self.bias.data\n",
        "    return F.relu(linear)\n"
      ],
      "execution_count": 99,
      "outputs": []
    },
    {
      "cell_type": "code",
      "metadata": {
        "colab": {
          "base_uri": "https://localhost:8080/"
        },
        "id": "WSL_b2lxtxAN",
        "outputId": "24117630-1338-4b87-fc47-c9a21de0708d"
      },
      "source": [
        "dense = MyLinear(5,3)\n",
        "dense(torch.randn(2,5))"
      ],
      "execution_count": 100,
      "outputs": [
        {
          "output_type": "execute_result",
          "data": {
            "text/plain": [
              "tensor([[1.6766e-03, 0.0000e+00, 1.9397e+00],\n",
              "        [0.0000e+00, 0.0000e+00, 3.6342e+00]])"
            ]
          },
          "metadata": {
            "tags": []
          },
          "execution_count": 100
        }
      ]
    },
    {
      "cell_type": "code",
      "metadata": {
        "colab": {
          "base_uri": "https://localhost:8080/"
        },
        "id": "iiOnTMfXuDk1",
        "outputId": "0368ea06-241f-41ff-b52a-6c18cfa11357"
      },
      "source": [
        "net = nn.Sequential(MyLinear(10,5), MyLinear(5,3))\n",
        "net(torch.randn(2,10))"
      ],
      "execution_count": 101,
      "outputs": [
        {
          "output_type": "execute_result",
          "data": {
            "text/plain": [
              "tensor([[ 9.5071, 13.4427,  4.8041],\n",
              "        [ 6.5471, 20.8079, 10.2730]])"
            ]
          },
          "metadata": {
            "tags": []
          },
          "execution_count": 101
        }
      ]
    },
    {
      "cell_type": "code",
      "metadata": {
        "id": "x34xRlds36Ay"
      },
      "source": [
        "#### saving results into  file \n",
        "x = torch.arange(5)\n",
        "torch.save(x, 'x_file')"
      ],
      "execution_count": 102,
      "outputs": []
    },
    {
      "cell_type": "code",
      "metadata": {
        "colab": {
          "base_uri": "https://localhost:8080/"
        },
        "id": "5dvobXcs4K0Q",
        "outputId": "1292448c-8a85-46aa-e445-752e714252ab"
      },
      "source": [
        "x2 = torch.load('x_file')\n",
        "x2"
      ],
      "execution_count": 103,
      "outputs": [
        {
          "output_type": "execute_result",
          "data": {
            "text/plain": [
              "tensor([0, 1, 2, 3, 4])"
            ]
          },
          "metadata": {
            "tags": []
          },
          "execution_count": 103
        }
      ]
    },
    {
      "cell_type": "code",
      "metadata": {
        "id": "LwgYwkXB4gFI"
      },
      "source": [
        "y = torch.zeros(4)\n",
        "torch.save([x,y], 'x_file')"
      ],
      "execution_count": 104,
      "outputs": []
    },
    {
      "cell_type": "code",
      "metadata": {
        "colab": {
          "base_uri": "https://localhost:8080/"
        },
        "id": "pZgE8GmN4saA",
        "outputId": "10f8e729-daa2-4090-d382-1577660d3ecc"
      },
      "source": [
        "l,m = torch.load('x_file')\n",
        "(l,m)"
      ],
      "execution_count": 105,
      "outputs": [
        {
          "output_type": "execute_result",
          "data": {
            "text/plain": [
              "(tensor([0, 1, 2, 3, 4]), tensor([0., 0., 0., 0.]))"
            ]
          },
          "metadata": {
            "tags": []
          },
          "execution_count": 105
        }
      ]
    },
    {
      "cell_type": "code",
      "metadata": {
        "colab": {
          "base_uri": "https://localhost:8080/"
        },
        "id": "KfLRajcg5B6M",
        "outputId": "1943eb32-7010-4c31-8335-93652ac1ea4a"
      },
      "source": [
        "### read write from dict\n",
        "myDict = {'x':x, 'y':y}\n",
        "torch.save(myDict, 'mydict')\n",
        "mydict2 = torch.load('mydict')\n",
        "mydict2\n"
      ],
      "execution_count": 106,
      "outputs": [
        {
          "output_type": "execute_result",
          "data": {
            "text/plain": [
              "{'x': tensor([0, 1, 2, 3, 4]), 'y': tensor([0., 0., 0., 0.])}"
            ]
          },
          "metadata": {
            "tags": []
          },
          "execution_count": 106
        }
      ]
    },
    {
      "cell_type": "code",
      "metadata": {
        "id": "oEh1ZHzZ6Isn"
      },
      "source": [
        "### save model parameters\n",
        "class MLP(nn.Module):\n",
        "    def __init__(self):\n",
        "        super().__init__()\n",
        "        self.hidden = nn.Linear(20, 256)\n",
        "        self.output = nn.Linear(256, 10)\n",
        "\n",
        "    def forward(self, x):\n",
        "        return self.output(F.relu(self.hidden(x)))\n",
        "\n",
        "net = MLP()\n",
        "X = torch.randn(size=(2, 20))\n",
        "Y = net(X)"
      ],
      "execution_count": 107,
      "outputs": []
    },
    {
      "cell_type": "code",
      "metadata": {
        "id": "Zzu8k09l6Nsl"
      },
      "source": [
        "torch.save(net.state_dict(), 'mlp.params')"
      ],
      "execution_count": 108,
      "outputs": []
    },
    {
      "cell_type": "code",
      "metadata": {
        "colab": {
          "base_uri": "https://localhost:8080/"
        },
        "id": "0Fs6qgfR6mtP",
        "outputId": "baad936d-c0d9-48ae-ac70-807dd5e856ca"
      },
      "source": [
        "### clone model and load params to the clone\n",
        "clone = MLP()\n",
        "clone.load_state_dict(torch.load('mlp.params'))"
      ],
      "execution_count": 109,
      "outputs": [
        {
          "output_type": "execute_result",
          "data": {
            "text/plain": [
              "<All keys matched successfully>"
            ]
          },
          "metadata": {
            "tags": []
          },
          "execution_count": 109
        }
      ]
    },
    {
      "cell_type": "code",
      "metadata": {
        "colab": {
          "base_uri": "https://localhost:8080/"
        },
        "id": "FqRhxGlL7SmQ",
        "outputId": "ec2f69c0-b7b8-4092-8cff-3c8a8e0cece9"
      },
      "source": [
        "clone.eval()"
      ],
      "execution_count": 110,
      "outputs": [
        {
          "output_type": "execute_result",
          "data": {
            "text/plain": [
              "MLP(\n",
              "  (hidden): Linear(in_features=20, out_features=256, bias=True)\n",
              "  (output): Linear(in_features=256, out_features=10, bias=True)\n",
              ")"
            ]
          },
          "metadata": {
            "tags": []
          },
          "execution_count": 110
        }
      ]
    },
    {
      "cell_type": "code",
      "metadata": {
        "colab": {
          "base_uri": "https://localhost:8080/"
        },
        "id": "QTp0Rq5t7iL9",
        "outputId": "0c1e0902-ef2f-4ea5-c6ce-be8c1b46187c"
      },
      "source": [
        "Y_clone = clone(X)\n",
        "Y_clone == Y"
      ],
      "execution_count": 111,
      "outputs": [
        {
          "output_type": "execute_result",
          "data": {
            "text/plain": [
              "tensor([[True, True, True, True, True, True, True, True, True, True],\n",
              "        [True, True, True, True, True, True, True, True, True, True]])"
            ]
          },
          "metadata": {
            "tags": []
          },
          "execution_count": 111
        }
      ]
    }
  ]
}