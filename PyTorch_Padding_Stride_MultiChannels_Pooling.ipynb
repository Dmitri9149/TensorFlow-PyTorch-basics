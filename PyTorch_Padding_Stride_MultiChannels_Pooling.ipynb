{
  "nbformat": 4,
  "nbformat_minor": 0,
  "metadata": {
    "colab": {
      "name": "PyTorch_Padding_Stride_MultiChannels_Pooling.ipynb",
      "provenance": [],
      "collapsed_sections": [],
      "authorship_tag": "ABX9TyPZQF+wm4y1hAnlouMUdw0q",
      "include_colab_link": true
    },
    "kernelspec": {
      "name": "python3",
      "display_name": "Python 3"
    }
  },
  "cells": [
    {
      "cell_type": "markdown",
      "metadata": {
        "id": "view-in-github",
        "colab_type": "text"
      },
      "source": [
        "<a href=\"https://colab.research.google.com/github/Dmitri9149/TensorFlow-PyTorch-basics/blob/master/PyTorch_Padding_Stride_MultiChannels_Pooling.ipynb\" target=\"_parent\"><img src=\"https://colab.research.google.com/assets/colab-badge.svg\" alt=\"Open In Colab\"/></a>"
      ]
    },
    {
      "cell_type": "code",
      "metadata": {
        "colab": {
          "base_uri": "https://localhost:8080/"
        },
        "id": "MG1qzYNQNQKk",
        "outputId": "ca539d2a-52f8-4af9-a3a6-bcf2ee9a9fb1"
      },
      "source": [
        "# -U: Upgrade all packages to the newest available version\n",
        "!pip install -U d2l\n",
        "\n",
        "from d2l import torch as d2l\n",
        "import torch as torch\n",
        "from torch import nn\n",
        "import numpy as np"
      ],
      "execution_count": 1,
      "outputs": [
        {
          "output_type": "stream",
          "text": [
            "Collecting d2l\n",
            "\u001b[?25l  Downloading https://files.pythonhosted.org/packages/28/fd/89b6b8fd34b4e2e54fadf5de6e8f63fd96e0c14d2b6c81ba40e9edcd964a/d2l-0.15.1-py3-none-any.whl (61kB)\n",
            "\r\u001b[K     |█████▍                          | 10kB 15.1MB/s eta 0:00:01\r\u001b[K     |██████████▊                     | 20kB 20.6MB/s eta 0:00:01\r\u001b[K     |████████████████                | 30kB 14.6MB/s eta 0:00:01\r\u001b[K     |█████████████████████▍          | 40kB 11.0MB/s eta 0:00:01\r\u001b[K     |██████████████████████████▊     | 51kB 7.7MB/s eta 0:00:01\r\u001b[K     |████████████████████████████████| 61kB 4.3MB/s \n",
            "\u001b[?25hRequirement already satisfied, skipping upgrade: numpy in /usr/local/lib/python3.6/dist-packages (from d2l) (1.18.5)\n",
            "Requirement already satisfied, skipping upgrade: matplotlib in /usr/local/lib/python3.6/dist-packages (from d2l) (3.2.2)\n",
            "Requirement already satisfied, skipping upgrade: pandas in /usr/local/lib/python3.6/dist-packages (from d2l) (1.1.5)\n",
            "Requirement already satisfied, skipping upgrade: jupyter in /usr/local/lib/python3.6/dist-packages (from d2l) (1.0.0)\n",
            "Requirement already satisfied, skipping upgrade: python-dateutil>=2.1 in /usr/local/lib/python3.6/dist-packages (from matplotlib->d2l) (2.8.1)\n",
            "Requirement already satisfied, skipping upgrade: cycler>=0.10 in /usr/local/lib/python3.6/dist-packages (from matplotlib->d2l) (0.10.0)\n",
            "Requirement already satisfied, skipping upgrade: kiwisolver>=1.0.1 in /usr/local/lib/python3.6/dist-packages (from matplotlib->d2l) (1.3.1)\n",
            "Requirement already satisfied, skipping upgrade: pyparsing!=2.0.4,!=2.1.2,!=2.1.6,>=2.0.1 in /usr/local/lib/python3.6/dist-packages (from matplotlib->d2l) (2.4.7)\n",
            "Requirement already satisfied, skipping upgrade: pytz>=2017.2 in /usr/local/lib/python3.6/dist-packages (from pandas->d2l) (2018.9)\n",
            "Requirement already satisfied, skipping upgrade: ipykernel in /usr/local/lib/python3.6/dist-packages (from jupyter->d2l) (4.10.1)\n",
            "Requirement already satisfied, skipping upgrade: notebook in /usr/local/lib/python3.6/dist-packages (from jupyter->d2l) (5.3.1)\n",
            "Requirement already satisfied, skipping upgrade: nbconvert in /usr/local/lib/python3.6/dist-packages (from jupyter->d2l) (5.6.1)\n",
            "Requirement already satisfied, skipping upgrade: ipywidgets in /usr/local/lib/python3.6/dist-packages (from jupyter->d2l) (7.5.1)\n",
            "Requirement already satisfied, skipping upgrade: jupyter-console in /usr/local/lib/python3.6/dist-packages (from jupyter->d2l) (5.2.0)\n",
            "Requirement already satisfied, skipping upgrade: qtconsole in /usr/local/lib/python3.6/dist-packages (from jupyter->d2l) (5.0.1)\n",
            "Requirement already satisfied, skipping upgrade: six>=1.5 in /usr/local/lib/python3.6/dist-packages (from python-dateutil>=2.1->matplotlib->d2l) (1.15.0)\n",
            "Requirement already satisfied, skipping upgrade: ipython>=4.0.0 in /usr/local/lib/python3.6/dist-packages (from ipykernel->jupyter->d2l) (5.5.0)\n",
            "Requirement already satisfied, skipping upgrade: jupyter-client in /usr/local/lib/python3.6/dist-packages (from ipykernel->jupyter->d2l) (5.3.5)\n",
            "Requirement already satisfied, skipping upgrade: traitlets>=4.1.0 in /usr/local/lib/python3.6/dist-packages (from ipykernel->jupyter->d2l) (4.3.3)\n",
            "Requirement already satisfied, skipping upgrade: tornado>=4.0 in /usr/local/lib/python3.6/dist-packages (from ipykernel->jupyter->d2l) (5.1.1)\n",
            "Requirement already satisfied, skipping upgrade: jupyter-core>=4.4.0 in /usr/local/lib/python3.6/dist-packages (from notebook->jupyter->d2l) (4.7.0)\n",
            "Requirement already satisfied, skipping upgrade: terminado>=0.8.1 in /usr/local/lib/python3.6/dist-packages (from notebook->jupyter->d2l) (0.9.1)\n",
            "Requirement already satisfied, skipping upgrade: nbformat in /usr/local/lib/python3.6/dist-packages (from notebook->jupyter->d2l) (5.0.8)\n",
            "Requirement already satisfied, skipping upgrade: Send2Trash in /usr/local/lib/python3.6/dist-packages (from notebook->jupyter->d2l) (1.5.0)\n",
            "Requirement already satisfied, skipping upgrade: ipython-genutils in /usr/local/lib/python3.6/dist-packages (from notebook->jupyter->d2l) (0.2.0)\n",
            "Requirement already satisfied, skipping upgrade: jinja2 in /usr/local/lib/python3.6/dist-packages (from notebook->jupyter->d2l) (2.11.2)\n",
            "Requirement already satisfied, skipping upgrade: pandocfilters>=1.4.1 in /usr/local/lib/python3.6/dist-packages (from nbconvert->jupyter->d2l) (1.4.3)\n",
            "Requirement already satisfied, skipping upgrade: mistune<2,>=0.8.1 in /usr/local/lib/python3.6/dist-packages (from nbconvert->jupyter->d2l) (0.8.4)\n",
            "Requirement already satisfied, skipping upgrade: bleach in /usr/local/lib/python3.6/dist-packages (from nbconvert->jupyter->d2l) (3.2.1)\n",
            "Requirement already satisfied, skipping upgrade: entrypoints>=0.2.2 in /usr/local/lib/python3.6/dist-packages (from nbconvert->jupyter->d2l) (0.3)\n",
            "Requirement already satisfied, skipping upgrade: testpath in /usr/local/lib/python3.6/dist-packages (from nbconvert->jupyter->d2l) (0.4.4)\n",
            "Requirement already satisfied, skipping upgrade: pygments in /usr/local/lib/python3.6/dist-packages (from nbconvert->jupyter->d2l) (2.6.1)\n",
            "Requirement already satisfied, skipping upgrade: defusedxml in /usr/local/lib/python3.6/dist-packages (from nbconvert->jupyter->d2l) (0.6.0)\n",
            "Requirement already satisfied, skipping upgrade: widgetsnbextension~=3.5.0 in /usr/local/lib/python3.6/dist-packages (from ipywidgets->jupyter->d2l) (3.5.1)\n",
            "Requirement already satisfied, skipping upgrade: prompt-toolkit<2.0.0,>=1.0.0 in /usr/local/lib/python3.6/dist-packages (from jupyter-console->jupyter->d2l) (1.0.18)\n",
            "Requirement already satisfied, skipping upgrade: pyzmq>=17.1 in /usr/local/lib/python3.6/dist-packages (from qtconsole->jupyter->d2l) (20.0.0)\n",
            "Requirement already satisfied, skipping upgrade: qtpy in /usr/local/lib/python3.6/dist-packages (from qtconsole->jupyter->d2l) (1.9.0)\n",
            "Requirement already satisfied, skipping upgrade: pexpect; sys_platform != \"win32\" in /usr/local/lib/python3.6/dist-packages (from ipython>=4.0.0->ipykernel->jupyter->d2l) (4.8.0)\n",
            "Requirement already satisfied, skipping upgrade: decorator in /usr/local/lib/python3.6/dist-packages (from ipython>=4.0.0->ipykernel->jupyter->d2l) (4.4.2)\n",
            "Requirement already satisfied, skipping upgrade: setuptools>=18.5 in /usr/local/lib/python3.6/dist-packages (from ipython>=4.0.0->ipykernel->jupyter->d2l) (50.3.2)\n",
            "Requirement already satisfied, skipping upgrade: simplegeneric>0.8 in /usr/local/lib/python3.6/dist-packages (from ipython>=4.0.0->ipykernel->jupyter->d2l) (0.8.1)\n",
            "Requirement already satisfied, skipping upgrade: pickleshare in /usr/local/lib/python3.6/dist-packages (from ipython>=4.0.0->ipykernel->jupyter->d2l) (0.7.5)\n",
            "Requirement already satisfied, skipping upgrade: ptyprocess; os_name != \"nt\" in /usr/local/lib/python3.6/dist-packages (from terminado>=0.8.1->notebook->jupyter->d2l) (0.6.0)\n",
            "Requirement already satisfied, skipping upgrade: jsonschema!=2.5.0,>=2.4 in /usr/local/lib/python3.6/dist-packages (from nbformat->notebook->jupyter->d2l) (2.6.0)\n",
            "Requirement already satisfied, skipping upgrade: MarkupSafe>=0.23 in /usr/local/lib/python3.6/dist-packages (from jinja2->notebook->jupyter->d2l) (1.1.1)\n",
            "Requirement already satisfied, skipping upgrade: webencodings in /usr/local/lib/python3.6/dist-packages (from bleach->nbconvert->jupyter->d2l) (0.5.1)\n",
            "Requirement already satisfied, skipping upgrade: packaging in /usr/local/lib/python3.6/dist-packages (from bleach->nbconvert->jupyter->d2l) (20.7)\n",
            "Requirement already satisfied, skipping upgrade: wcwidth in /usr/local/lib/python3.6/dist-packages (from prompt-toolkit<2.0.0,>=1.0.0->jupyter-console->jupyter->d2l) (0.2.5)\n",
            "Installing collected packages: d2l\n",
            "Successfully installed d2l-0.15.1\n"
          ],
          "name": "stdout"
        }
      ]
    },
    {
      "cell_type": "markdown",
      "metadata": {
        "id": "C9TvMchYNY3E"
      },
      "source": [
        "Exercises and some code modification/experimentation for the d2l.ai book : http://d2l.ai/ "
      ]
    },
    {
      "cell_type": "markdown",
      "metadata": {
        "id": "beYz7EV9SVhN"
      },
      "source": [
        "Padding"
      ]
    },
    {
      "cell_type": "code",
      "metadata": {
        "colab": {
          "base_uri": "https://localhost:8080/"
        },
        "id": "E13yELE5N1ud",
        "outputId": "4afdcc58-258d-456f-df32-cdb4b89764e5"
      },
      "source": [
        "### initialize convolutional layer , make some changes in sizes of the layer \n",
        "### with the help of padding\n",
        "def comp_conv2d(conv2d, X):\n",
        "  ### (1,1) correspond to batch size and num of channels\n",
        "  X = X.reshape((1,1) +  X.shape)\n",
        "### elim dimentions we do not need\n",
        "\n",
        "  Y = conv2d(X)\n",
        "  return Y.reshape(Y.shape[2:])\n",
        "\n",
        "conv2d = nn.Conv2d(1,1,kernel_size = 3, padding = 1)\n",
        "X = torch.rand(size = (8,8))\n",
        "comp_conv2d(conv2d,X).shape\n"
      ],
      "execution_count": 2,
      "outputs": [
        {
          "output_type": "execute_result",
          "data": {
            "text/plain": [
              "torch.Size([8, 8])"
            ]
          },
          "metadata": {
            "tags": []
          },
          "execution_count": 2
        }
      ]
    },
    {
      "cell_type": "code",
      "metadata": {
        "colab": {
          "base_uri": "https://localhost:8080/"
        },
        "id": "H5BBQQsfRcbn",
        "outputId": "2dce3ab6-3d3c-4451-e1f0-e6c35bbc46cd"
      },
      "source": [
        "conc2d = nn.Conv2d(1,1, kernel_size = (5,3), padding = [2,1])\n",
        "comp_conv2d(conv2d,X).shape"
      ],
      "execution_count": 3,
      "outputs": [
        {
          "output_type": "execute_result",
          "data": {
            "text/plain": [
              "torch.Size([8, 8])"
            ]
          },
          "metadata": {
            "tags": []
          },
          "execution_count": 3
        }
      ]
    },
    {
      "cell_type": "markdown",
      "metadata": {
        "id": "7rFtBk_7NUxe"
      },
      "source": [
        "Stride"
      ]
    },
    {
      "cell_type": "code",
      "metadata": {
        "colab": {
          "base_uri": "https://localhost:8080/"
        },
        "id": "JXGr0qmYSZla",
        "outputId": "eee5a532-c38e-44de-b189-bd7066e6e9fd"
      },
      "source": [
        "conv2d = nn.Conv2d(1,1, kernel_size = 3, padding = 1, stride = 2)\n",
        "comp_conv2d(conv2d,X).shape"
      ],
      "execution_count": 4,
      "outputs": [
        {
          "output_type": "execute_result",
          "data": {
            "text/plain": [
              "torch.Size([4, 4])"
            ]
          },
          "metadata": {
            "tags": []
          },
          "execution_count": 4
        }
      ]
    },
    {
      "cell_type": "code",
      "metadata": {
        "colab": {
          "base_uri": "https://localhost:8080/"
        },
        "id": "Tv_t4pnTUT2F",
        "outputId": "6fd3a140-bc50-44b2-acb5-6d9c4486e3c6"
      },
      "source": [
        "conv2d = nn.Conv2d(1, 1, kernel_size=(3, 5), padding=(0, 1), stride=(3, 4))\n",
        "comp_conv2d(conv2d, X).shape"
      ],
      "execution_count": 5,
      "outputs": [
        {
          "output_type": "execute_result",
          "data": {
            "text/plain": [
              "torch.Size([2, 2])"
            ]
          },
          "metadata": {
            "tags": []
          },
          "execution_count": 5
        }
      ]
    },
    {
      "cell_type": "code",
      "metadata": {
        "id": "kXWG91D3nPwp"
      },
      "source": [
        "### input X and kernel K , compute cross correlation\n",
        "def corr2d(X,K):\n",
        "  reduce_sum = lambda x, *args, **kwargs: x.sum(*args, **kwargs)\n",
        "  h,w = K.shape\n",
        "  Y=torch.zeros(X.shape[0] -h + 1, X.shape[1] - w + 1)\n",
        "  for i in range(Y.shape[0]):\n",
        "    for j in range(Y.shape[1]):\n",
        "      Y[i,j]=reduce_sum((X[i:i+ h,j:j+w])*K)\n",
        "  return Y"
      ],
      "execution_count": 6,
      "outputs": []
    },
    {
      "cell_type": "markdown",
      "metadata": {
        "id": "X8Q-JpPFlmeE"
      },
      "source": [
        "MultiChannels"
      ]
    },
    {
      "cell_type": "code",
      "metadata": {
        "id": "hON4ReUCgR89"
      },
      "source": [
        "### work with multi channels\n",
        "def corr2d_multi_in(X,K):\n",
        "  ## iterate via the first dimention (channels); sum results together\n",
        "  ## zip 'list' of 2D inputs and kernels \n",
        "  corr = (corr2d(x,k) for x, k in zip(X,K))\n",
        "  return sum(corr)"
      ],
      "execution_count": 7,
      "outputs": []
    },
    {
      "cell_type": "code",
      "metadata": {
        "colab": {
          "base_uri": "https://localhost:8080/"
        },
        "id": "X6fLXI47n5TO",
        "outputId": "604785f2-59e6-46c2-f5c8-246ac5bd3a8d"
      },
      "source": [
        "X = torch.tensor([[[0.0, 3.0, 2.0], [3.0, 4.0, 5.0], [6.0, 7.0, 8.0]],\n",
        "               [[1.0, 2.0, 3.0], [4.0, 5.0, 6.0], [7.0, 8.0, 9.0]]])\n",
        "K = torch.tensor([[[0.0, 1.0], [1.0, 3.0]], [[1.0, 2.0], [3.0, 4.0]]])\n",
        "\n",
        "corr2d_multi_in(X, K)"
      ],
      "execution_count": 8,
      "outputs": [
        {
          "output_type": "execute_result",
          "data": {
            "text/plain": [
              "tensor([[ 55.,  68.],\n",
              "        [ 98., 113.]])"
            ]
          },
          "metadata": {
            "tags": []
          },
          "execution_count": 8
        }
      ]
    },
    {
      "cell_type": "code",
      "metadata": {
        "id": "_QRp1il0psg7"
      },
      "source": [
        "### multiple output and input\n",
        "### size of input is (i, h, w) size of kernel is (o,i,h_k,w_k) \n",
        "def corr2d_multi_in_out(X,K):\n",
        "## iterate via o -> first dim of kernel and at every step make cross correlation \n",
        "### with input X\n",
        "############# iterate over first dim of K \n",
        "  return torch.stack([corr2d_multi_in(X,k) for k in K ], dim = 0)"
      ],
      "execution_count": 9,
      "outputs": []
    },
    {
      "cell_type": "code",
      "metadata": {
        "colab": {
          "base_uri": "https://localhost:8080/"
        },
        "id": "qWR5cbskt2Gh",
        "outputId": "305d5c5c-efd4-46d1-af18-7a8403989dd8"
      },
      "source": [
        "K = torch.stack((K,K+1,K+2,K+3))\n",
        "K.shape"
      ],
      "execution_count": 10,
      "outputs": [
        {
          "output_type": "execute_result",
          "data": {
            "text/plain": [
              "torch.Size([4, 2, 2, 2])"
            ]
          },
          "metadata": {
            "tags": []
          },
          "execution_count": 10
        }
      ]
    },
    {
      "cell_type": "code",
      "metadata": {
        "colab": {
          "base_uri": "https://localhost:8080/"
        },
        "id": "1G44uDh5uGOz",
        "outputId": "68f2c4ed-32d4-4067-d31a-c99a97a39815"
      },
      "source": [
        "corr2d_multi_in_out(X,K)"
      ],
      "execution_count": 11,
      "outputs": [
        {
          "output_type": "execute_result",
          "data": {
            "text/plain": [
              "tensor([[[ 55.,  68.],\n",
              "         [ 98., 113.]],\n",
              "\n",
              "        [[ 77.,  98.],\n",
              "         [142., 165.]],\n",
              "\n",
              "        [[ 99., 128.],\n",
              "         [186., 217.]],\n",
              "\n",
              "        [[121., 158.],\n",
              "         [230., 269.]]])"
            ]
          },
          "metadata": {
            "tags": []
          },
          "execution_count": 11
        }
      ]
    },
    {
      "cell_type": "markdown",
      "metadata": {
        "id": "PgH1qJdHvW0-"
      },
      "source": [
        "1 x 1 Convolutional Layers"
      ]
    },
    {
      "cell_type": "code",
      "metadata": {
        "id": "Du297A53wVqh"
      },
      "source": [
        "def corr2d_multi_in_out_1x1(X,K):\n",
        "  i,h,w = X.shape\n",
        "  o = K.shape[0]\n",
        "  X = X.reshape((i,h*w))\n",
        "  K = K.reshape((o,i))\n",
        "##  mutmul in fully connected layer\n",
        "  Y = torch.matmul(K,X)\n",
        "  return Y.reshape((o,h,w))\n"
      ],
      "execution_count": 12,
      "outputs": []
    },
    {
      "cell_type": "code",
      "metadata": {
        "id": "sp9whYFPyBOH"
      },
      "source": [
        "## 2 input channels\n",
        "X = torch.normal(0, 1, (2, 3, 3)) \n",
        "### kernel will make deal with 2 inp. channels and will generate 4 outp. channels\n",
        "K = torch.normal(0, 1, (4 , 2, 1, 1))\n",
        "Y1 = corr2d_multi_in_out_1x1(X,K)\n",
        "Y2 = corr2d_multi_in_out(X, K)"
      ],
      "execution_count": 13,
      "outputs": []
    },
    {
      "cell_type": "code",
      "metadata": {
        "id": "U0s3ngqrzPlI"
      },
      "source": [
        "reduce_sum = lambda x, *args, **kwargs: x.sum(*args, **kwargs)\n",
        "assert float(reduce_sum(torch.abs(Y1-Y2))) <1e-6\n",
        "### no assertion error"
      ],
      "execution_count": 14,
      "outputs": []
    },
    {
      "cell_type": "code",
      "metadata": {
        "colab": {
          "base_uri": "https://localhost:8080/"
        },
        "id": "8dQ7qNLFv4NY",
        "outputId": "2e458b99-efaa-4911-b186-9eec5ced702d"
      },
      "source": [
        "Y1"
      ],
      "execution_count": 15,
      "outputs": [
        {
          "output_type": "execute_result",
          "data": {
            "text/plain": [
              "tensor([[[-0.0887, -0.3703, -1.5571],\n",
              "         [-0.2064,  0.2859,  0.7987],\n",
              "         [ 0.0425, -1.0824,  0.3186]],\n",
              "\n",
              "        [[-0.4925,  2.1469, -0.4046],\n",
              "         [-0.9914,  2.3095,  0.5052],\n",
              "         [-3.6363, -0.1164, -0.7965]],\n",
              "\n",
              "        [[-0.1735, -0.0382, -1.7009],\n",
              "         [-0.3786,  0.6773,  0.9210],\n",
              "         [-0.5492, -1.1554,  0.2045]],\n",
              "\n",
              "        [[ 0.7012, -4.7697, -2.7834],\n",
              "         [ 1.3484, -3.5821,  0.8826],\n",
              "         [ 6.7552, -2.2366,  2.1798]]])"
            ]
          },
          "metadata": {
            "tags": []
          },
          "execution_count": 15
        }
      ]
    },
    {
      "cell_type": "markdown",
      "metadata": {
        "id": "UrGyUPKgCfa7"
      },
      "source": [
        "Pooling"
      ]
    },
    {
      "cell_type": "code",
      "metadata": {
        "id": "r74FdXSoChdK"
      },
      "source": [
        "def pool2d(X, pool_size, mode = 'max'):\n",
        "  h,w = pool_size\n",
        "## initialize Y tenzor \n",
        "  Y = torch.zeros((X.shape[0]-h+1,X.shape[1]-w+1))\n",
        "  for i in range(Y.shape[0]):\n",
        "    for j in range(Y.shape[1]):\n",
        "      if mode == 'max':\n",
        "        Y[i,j]=X[i:i+h,j:j+w].max()\n",
        "      elif mode == 'avg':\n",
        "        Y[i,j]=X[i:i+h,j:j+w].mean()\n",
        "    return Y\n",
        "\n"
      ],
      "execution_count": 17,
      "outputs": []
    },
    {
      "cell_type": "code",
      "metadata": {
        "colab": {
          "base_uri": "https://localhost:8080/"
        },
        "id": "vJe_BoT8HKoH",
        "outputId": "08ad9a99-8c6e-4314-9740-ae83bbfb69f7"
      },
      "source": [
        "X = torch.tensor([[0.0, 1.0, 2.0], [3.0, 4.0, 5.0], [6.0, 7.0, 8.0]])\n",
        "pool2d(X, (2, 2))"
      ],
      "execution_count": 18,
      "outputs": [
        {
          "output_type": "execute_result",
          "data": {
            "text/plain": [
              "tensor([[4., 5.],\n",
              "        [0., 0.]])"
            ]
          },
          "metadata": {
            "tags": []
          },
          "execution_count": 18
        }
      ]
    },
    {
      "cell_type": "code",
      "metadata": {
        "colab": {
          "base_uri": "https://localhost:8080/"
        },
        "id": "g9c1GphxHaEO",
        "outputId": "8fba510d-2474-4f6a-ab7a-b1d62985e2bf"
      },
      "source": [
        "pool2d(X, (2, 2), 'avg')"
      ],
      "execution_count": 19,
      "outputs": [
        {
          "output_type": "execute_result",
          "data": {
            "text/plain": [
              "tensor([[2., 3.],\n",
              "        [0., 0.]])"
            ]
          },
          "metadata": {
            "tags": []
          },
          "execution_count": 19
        }
      ]
    },
    {
      "cell_type": "code",
      "metadata": {
        "colab": {
          "base_uri": "https://localhost:8080/"
        },
        "id": "ZTXB-dLYIHu2",
        "outputId": "fafda3af-19e3-49b6-e02e-6216f4dbc22a"
      },
      "source": [
        "## generate 1d tensor, fill with increasing numbers , reshape to  4 dim input \n",
        "X = d2l.reshape(torch.arange(start = 0, end = 32, step = 2, dtype=torch.float32), (1, 1, 4, 4))\n",
        "X"
      ],
      "execution_count": 21,
      "outputs": [
        {
          "output_type": "execute_result",
          "data": {
            "text/plain": [
              "tensor([[[[ 0.,  2.,  4.,  6.],\n",
              "          [ 8., 10., 12., 14.],\n",
              "          [16., 18., 20., 22.],\n",
              "          [24., 26., 28., 30.]]]])"
            ]
          },
          "metadata": {
            "tags": []
          },
          "execution_count": 21
        }
      ]
    },
    {
      "cell_type": "code",
      "metadata": {
        "colab": {
          "base_uri": "https://localhost:8080/"
        },
        "id": "GES3FhTvIzrh",
        "outputId": "1e9fe0c1-9987-4dcc-a9ca-a1d04c40bba4"
      },
      "source": [
        "## by default in MaxPool2d pooling layer stride = 1\n",
        "pool2d = nn.MaxPool2d(3)\n",
        "pool2d(X)"
      ],
      "execution_count": 22,
      "outputs": [
        {
          "output_type": "execute_result",
          "data": {
            "text/plain": [
              "tensor([[[[20.]]]])"
            ]
          },
          "metadata": {
            "tags": []
          },
          "execution_count": 22
        }
      ]
    },
    {
      "cell_type": "code",
      "metadata": {
        "colab": {
          "base_uri": "https://localhost:8080/"
        },
        "id": "SPIg02eHJZMv",
        "outputId": "88228465-598e-45f1-dd88-9f21ef104f6e"
      },
      "source": [
        "## stride and padding can be manually adjusted \n",
        "pool2d = nn.MaxPool2d(3, padding=1, stride=2)\n",
        "pool2d(X)\n"
      ],
      "execution_count": 23,
      "outputs": [
        {
          "output_type": "execute_result",
          "data": {
            "text/plain": [
              "tensor([[[[10., 14.],\n",
              "          [26., 30.]]]])"
            ]
          },
          "metadata": {
            "tags": []
          },
          "execution_count": 23
        }
      ]
    },
    {
      "cell_type": "code",
      "metadata": {
        "colab": {
          "base_uri": "https://localhost:8080/"
        },
        "id": "wcudVu6dJz3t",
        "outputId": "d947e40b-c4aa-4c04-c91f-ac2fa75756b2"
      },
      "source": [
        "pool2d = nn.MaxPool2d((2, 3), padding=(1, 1), stride=(2, 3))\n",
        "pool2d(X)"
      ],
      "execution_count": 24,
      "outputs": [
        {
          "output_type": "execute_result",
          "data": {
            "text/plain": [
              "tensor([[[[ 2.,  6.],\n",
              "          [18., 22.],\n",
              "          [26., 30.]]]])"
            ]
          },
          "metadata": {
            "tags": []
          },
          "execution_count": 24
        }
      ]
    },
    {
      "cell_type": "markdown",
      "metadata": {
        "id": "ZG3Zx-hbKkgd"
      },
      "source": [
        "Multiple channels : pooling pools each input channel separatelly, number of channels is not changing."
      ]
    },
    {
      "cell_type": "code",
      "metadata": {
        "colab": {
          "base_uri": "https://localhost:8080/"
        },
        "id": "ASeXZg9sK3eM",
        "outputId": "23227861-18c7-45e6-e887-f7522f12a3f0"
      },
      "source": [
        "## cat 3 tensors within dim = 1, channel dimention ( dim = 0 -> batches)\n",
        "Y = torch.cat((X,X-1,X+2),1)\n",
        "Y"
      ],
      "execution_count": 26,
      "outputs": [
        {
          "output_type": "execute_result",
          "data": {
            "text/plain": [
              "tensor([[[[ 0.,  2.,  4.,  6.],\n",
              "          [ 8., 10., 12., 14.],\n",
              "          [16., 18., 20., 22.],\n",
              "          [24., 26., 28., 30.]],\n",
              "\n",
              "         [[-1.,  1.,  3.,  5.],\n",
              "          [ 7.,  9., 11., 13.],\n",
              "          [15., 17., 19., 21.],\n",
              "          [23., 25., 27., 29.]],\n",
              "\n",
              "         [[ 2.,  4.,  6.,  8.],\n",
              "          [10., 12., 14., 16.],\n",
              "          [18., 20., 22., 24.],\n",
              "          [26., 28., 30., 32.]]]])"
            ]
          },
          "metadata": {
            "tags": []
          },
          "execution_count": 26
        }
      ]
    },
    {
      "cell_type": "code",
      "metadata": {
        "colab": {
          "base_uri": "https://localhost:8080/"
        },
        "id": "3F3M46W_LfNP",
        "outputId": "f0c51581-0ba9-49d9-8faa-f34407774c82"
      },
      "source": [
        "pool2d = nn.MaxPool2d(3, padding=1, stride=2)\n",
        "pool2d(Y)"
      ],
      "execution_count": 27,
      "outputs": [
        {
          "output_type": "execute_result",
          "data": {
            "text/plain": [
              "tensor([[[[10., 14.],\n",
              "          [26., 30.]],\n",
              "\n",
              "         [[ 9., 13.],\n",
              "          [25., 29.]],\n",
              "\n",
              "         [[12., 16.],\n",
              "          [28., 32.]]]])"
            ]
          },
          "metadata": {
            "tags": []
          },
          "execution_count": 27
        }
      ]
    }
  ]
}