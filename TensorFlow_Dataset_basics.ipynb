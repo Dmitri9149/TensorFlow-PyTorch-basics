{
  "nbformat": 4,
  "nbformat_minor": 0,
  "metadata": {
    "colab": {
      "name": "TensorFlow_Dataset_basics.ipynb",
      "provenance": [],
      "collapsed_sections": [],
      "authorship_tag": "ABX9TyOJ5FIwJZKltl2Q95Ko9eqb",
      "include_colab_link": true
    },
    "kernelspec": {
      "name": "python3",
      "display_name": "Python 3"
    }
  },
  "cells": [
    {
      "cell_type": "markdown",
      "metadata": {
        "id": "view-in-github",
        "colab_type": "text"
      },
      "source": [
        "<a href=\"https://colab.research.google.com/github/Dmitri9149/TensorFlow-PyTorch-basics/blob/master/TensorFlow_Dataset_basics.ipynb\" target=\"_parent\"><img src=\"https://colab.research.google.com/assets/colab-badge.svg\" alt=\"Open In Colab\"/></a>"
      ]
    },
    {
      "cell_type": "markdown",
      "metadata": {
        "id": "o24InIrzWLHr"
      },
      "source": [
        "### The bsics of working with Datasets in Tensorflow\n",
        "The work is based on the official: https://www.tensorflow.org/api_docs/python/tf/data/Dataset"
      ]
    },
    {
      "cell_type": "code",
      "metadata": {
        "id": "QqqxzTpIXoVa"
      },
      "source": [
        "import tensorflow as tf"
      ],
      "execution_count": null,
      "outputs": []
    },
    {
      "cell_type": "code",
      "metadata": {
        "id": "jz6IY6VNWzXm"
      },
      "source": [
        "### tf.data.Dataset all is starting from data\n",
        "### this is also the most diverse part of the work\n",
        "### this part needs specail attention\n",
        "## tf.data.Dataset(\n",
        "##     variant_tensor\n",
        "## )"
      ],
      "execution_count": null,
      "outputs": []
    },
    {
      "cell_type": "code",
      "metadata": {
        "colab": {
          "base_uri": "https://localhost:8080/"
        },
        "id": "RHBjSL_GX4Zy",
        "outputId": "2fffa2bf-f21d-4ef9-e267-36000a250369"
      },
      "source": [
        "dataset_str = tf.data.Dataset.from_tensor_slices([\"one\", \"two\", \"three\"])\n",
        "for element in dataset_str:\n",
        "  print(element)"
      ],
      "execution_count": null,
      "outputs": [
        {
          "output_type": "stream",
          "text": [
            "tf.Tensor(b'one', shape=(), dtype=string)\n",
            "tf.Tensor(b'two', shape=(), dtype=string)\n",
            "tf.Tensor(b'three', shape=(), dtype=string)\n"
          ],
          "name": "stdout"
        }
      ]
    },
    {
      "cell_type": "code",
      "metadata": {
        "colab": {
          "base_uri": "https://localhost:8080/"
        },
        "id": "GXkf7amhYpqA",
        "outputId": "50321c34-177d-4cfe-9273-6af825e4ae76"
      },
      "source": [
        "dataset = tf.data.Dataset.from_tensor_slices([1,2,3])\n",
        "for element in dataset:\n",
        "  print(element)"
      ],
      "execution_count": null,
      "outputs": [
        {
          "output_type": "stream",
          "text": [
            "tf.Tensor(1, shape=(), dtype=int32)\n",
            "tf.Tensor(2, shape=(), dtype=int32)\n",
            "tf.Tensor(3, shape=(), dtype=int32)\n"
          ],
          "name": "stdout"
        }
      ]
    },
    {
      "cell_type": "code",
      "metadata": {
        "colab": {
          "base_uri": "https://localhost:8080/"
        },
        "id": "AaOyFWfefamM",
        "outputId": "058a5b40-3676-42ee-a33f-97cb21715d0f"
      },
      "source": [
        "### as_numpy_iterator : return iterator which convert all elts to numpy\n",
        "dataset = tf.data.Dataset.from_tensor_slices([1,2,3])\n",
        "for element in dataset.as_numpy_iterator():\n",
        "  print(element)"
      ],
      "execution_count": null,
      "outputs": [
        {
          "output_type": "stream",
          "text": [
            "1\n",
            "2\n",
            "3\n"
          ],
          "name": "stdout"
        }
      ]
    },
    {
      "cell_type": "code",
      "metadata": {
        "colab": {
          "base_uri": "https://localhost:8080/"
        },
        "id": "GhCo1EGlaeJv",
        "outputId": "c757e9b3-7f58-4596-a13d-c31349cc5be9"
      },
      "source": [
        "dataset = dataset.map(lambda x: x**2)\n",
        "list(dataset.as_numpy_iterator())"
      ],
      "execution_count": null,
      "outputs": [
        {
          "output_type": "execute_result",
          "data": {
            "text/plain": [
              "[1, 4, 9]"
            ]
          },
          "metadata": {
            "tags": []
          },
          "execution_count": 133
        }
      ]
    },
    {
      "cell_type": "code",
      "metadata": {
        "colab": {
          "base_uri": "https://localhost:8080/"
        },
        "id": "vv1OugaWeao1",
        "outputId": "61ac109d-748e-4deb-eb30-aaf620c80907"
      },
      "source": [
        "dataset = tf.data.Dataset.range(100)\n",
        "print(dataset.element_spec)\n",
        "def dataset_fn(ds):\n",
        "  return ds.filter(lambda x: x < 10)\n",
        "dataset = dataset.apply(dataset_fn)\n",
        "list(dataset.as_numpy_iterator())"
      ],
      "execution_count": null,
      "outputs": [
        {
          "output_type": "stream",
          "text": [
            "TensorSpec(shape=(), dtype=tf.int64, name=None)\n"
          ],
          "name": "stdout"
        },
        {
          "output_type": "execute_result",
          "data": {
            "text/plain": [
              "[0, 1, 2, 3, 4, 5, 6, 7, 8, 9]"
            ]
          },
          "metadata": {
            "tags": []
          },
          "execution_count": 134
        }
      ]
    },
    {
      "cell_type": "code",
      "metadata": {
        "id": "V2KsMDFqChe9"
      },
      "source": [
        "import collections\n",
        "from collections import namedtuple\n",
        "### Element : the output from next() method on dataset iterator; \n",
        "### component -> the leaf in  the nested structure of element\n",
        "a = 1 # Integer element\n",
        "b = 2.0 # Float element\n",
        "c = (1, 2) # Tuple element with 2 components\n",
        "d = {\"a\": (2, 2), \"b\": 3} # Dict element with 3 components\n",
        "Point = collections.namedtuple(\"Point\", [\"x\", \"y\"]) # doctest: +SKIP\n",
        "e = Point(1, 2) # Named tuple # doctest: +SKIP\n",
        "f = tf.data.Dataset.range(10) # Dataset element"
      ],
      "execution_count": null,
      "outputs": []
    },
    {
      "cell_type": "code",
      "metadata": {
        "colab": {
          "base_uri": "https://localhost:8080/"
        },
        "id": "Bd-b1kSwDsWf",
        "outputId": "d77c4d62-362c-4041-df4b-b91791896eac"
      },
      "source": [
        "dataset = tf.data.Dataset.range(9)\n",
        "dataset = dataset.batch(3)\n",
        "list(dataset.as_numpy_iterator())"
      ],
      "execution_count": null,
      "outputs": [
        {
          "output_type": "execute_result",
          "data": {
            "text/plain": [
              "[array([0, 1, 2]), array([3, 4, 5]), array([6, 7, 8])]"
            ]
          },
          "metadata": {
            "tags": []
          },
          "execution_count": 136
        }
      ]
    },
    {
      "cell_type": "code",
      "metadata": {
        "colab": {
          "base_uri": "https://localhost:8080/"
        },
        "id": "l8n3CEsrFaWg",
        "outputId": "f6f9220b-f8bd-4066-cefe-9e781f295ca7"
      },
      "source": [
        "dataset = tf.data.Dataset.range(11)\n",
        "dataset = dataset.batch(3)\n",
        "list(dataset.as_numpy_iterator())"
      ],
      "execution_count": null,
      "outputs": [
        {
          "output_type": "execute_result",
          "data": {
            "text/plain": [
              "[array([0, 1, 2]), array([3, 4, 5]), array([6, 7, 8]), array([ 9, 10])]"
            ]
          },
          "metadata": {
            "tags": []
          },
          "execution_count": 137
        }
      ]
    },
    {
      "cell_type": "code",
      "metadata": {
        "colab": {
          "base_uri": "https://localhost:8080/"
        },
        "id": "D8doVoRgFfOf",
        "outputId": "f21ec740-6d60-415f-af08-dda4efc02d1d"
      },
      "source": [
        "dataset = tf.data.Dataset.range(9)\n",
        "dataset = dataset.batch(3)\n",
        "dataset.cache()\n",
        "### dataset = dataset.cache(\"/path/to/file\") can cache to file \n",
        "list(dataset.as_numpy_iterator())\n",
        "####  read from cache()\n",
        "list(dataset.as_numpy_iterator())\n"
      ],
      "execution_count": null,
      "outputs": [
        {
          "output_type": "execute_result",
          "data": {
            "text/plain": [
              "[array([0, 1, 2]), array([3, 4, 5]), array([6, 7, 8])]"
            ]
          },
          "metadata": {
            "tags": []
          },
          "execution_count": 138
        }
      ]
    },
    {
      "cell_type": "code",
      "metadata": {
        "colab": {
          "base_uri": "https://localhost:8080/"
        },
        "id": "1HTVXBWWGrJN",
        "outputId": "a6a1b2ef-f77b-4943-a59f-8ae41431a337"
      },
      "source": [
        "dataset.cardinality()"
      ],
      "execution_count": null,
      "outputs": [
        {
          "output_type": "execute_result",
          "data": {
            "text/plain": [
              "<tf.Tensor: shape=(), dtype=int64, numpy=3>"
            ]
          },
          "metadata": {
            "tags": []
          },
          "execution_count": 139
        }
      ]
    },
    {
      "cell_type": "code",
      "metadata": {
        "colab": {
          "base_uri": "https://localhost:8080/"
        },
        "id": "OUml1RaQIZ-r",
        "outputId": "ba2e103d-bd31-4bbc-e8bb-8c9cfd32ac06"
      },
      "source": [
        "a=tf.data.Dataset.range(4,9)\n",
        "a.element_spec\n",
        "for element in a:\n",
        "  print(element)\n"
      ],
      "execution_count": null,
      "outputs": [
        {
          "output_type": "stream",
          "text": [
            "tf.Tensor(4, shape=(), dtype=int64)\n",
            "tf.Tensor(5, shape=(), dtype=int64)\n",
            "tf.Tensor(6, shape=(), dtype=int64)\n",
            "tf.Tensor(7, shape=(), dtype=int64)\n",
            "tf.Tensor(8, shape=(), dtype=int64)\n"
          ],
          "name": "stdout"
        }
      ]
    },
    {
      "cell_type": "code",
      "metadata": {
        "colab": {
          "base_uri": "https://localhost:8080/"
        },
        "id": "4gODR6MFKPO1",
        "outputId": "58d723b8-6c5a-4693-8dc0-ac840445d120"
      },
      "source": [
        "a.element_spec"
      ],
      "execution_count": null,
      "outputs": [
        {
          "output_type": "execute_result",
          "data": {
            "text/plain": [
              "TensorSpec(shape=(), dtype=tf.int64, name=None)"
            ]
          },
          "metadata": {
            "tags": []
          },
          "execution_count": 141
        }
      ]
    },
    {
      "cell_type": "code",
      "metadata": {
        "colab": {
          "base_uri": "https://localhost:8080/"
        },
        "id": "AhKUFJ2EKZWt",
        "outputId": "3c1c830e-2a9b-4ce0-fd0f-6602303a0f46"
      },
      "source": [
        "a=tf.data.Dataset.range(4,9)\n",
        "b=tf.data.Dataset.range(3,11)\n",
        "c=a.concatenate(b)\n",
        "c.element_spec\n"
      ],
      "execution_count": null,
      "outputs": [
        {
          "output_type": "execute_result",
          "data": {
            "text/plain": [
              "TensorSpec(shape=(), dtype=tf.int64, name=None)"
            ]
          },
          "metadata": {
            "tags": []
          },
          "execution_count": 142
        }
      ]
    },
    {
      "cell_type": "code",
      "metadata": {
        "colab": {
          "base_uri": "https://localhost:8080/"
        },
        "id": "Jl58c0UhL1fN",
        "outputId": "97772c55-cd23-4f91-9fe5-2b1010ee2c48"
      },
      "source": [
        "dataset = tf.data.Dataset.from_tensor_slices([(3,4),(1,2),(5,4)])\n",
        "dataset=dataset.enumerate()\n",
        "for element in dataset.as_numpy_iterator():\n",
        "  print(element)\n"
      ],
      "execution_count": null,
      "outputs": [
        {
          "output_type": "stream",
          "text": [
            "(0, array([3, 4], dtype=int32))\n",
            "(1, array([1, 2], dtype=int32))\n",
            "(2, array([5, 4], dtype=int32))\n"
          ],
          "name": "stdout"
        }
      ]
    },
    {
      "cell_type": "code",
      "metadata": {
        "colab": {
          "base_uri": "https://localhost:8080/"
        },
        "id": "aKV2oFIPM9Hy",
        "outputId": "c1072c64-fa3d-4797-b70b-8866599aa9bb"
      },
      "source": [
        "# The nested structure of the input dataset determines the structure of\n",
        "# elements in the resulting dataset.\n",
        "dataset = tf.data.Dataset.from_tensor_slices([(7, 8), (9, 10)])\n",
        "dataset = dataset.enumerate()\n",
        "for element in dataset.as_numpy_iterator():\n",
        "  print(element)"
      ],
      "execution_count": null,
      "outputs": [
        {
          "output_type": "stream",
          "text": [
            "(0, array([7, 8], dtype=int32))\n",
            "(1, array([ 9, 10], dtype=int32))\n"
          ],
          "name": "stdout"
        }
      ]
    },
    {
      "cell_type": "code",
      "metadata": {
        "colab": {
          "base_uri": "https://localhost:8080/"
        },
        "id": "RwzhwgSIOgsU",
        "outputId": "49c4e9f6-5a7c-467f-d484-0d319e881c6b"
      },
      "source": [
        "### filter()\n",
        "dataset = tf.data.Dataset.from_tensor_slices([1,1,1,2,3,4,5])\n",
        "def filter_fn(x):\n",
        "  return tf.math.equal(x,1)\n",
        "\n",
        "dataset=dataset.filter(filter_fn)\n",
        "list(dataset.as_numpy_iterator())\n"
      ],
      "execution_count": null,
      "outputs": [
        {
          "output_type": "execute_result",
          "data": {
            "text/plain": [
              "[1, 1, 1]"
            ]
          },
          "metadata": {
            "tags": []
          },
          "execution_count": 145
        }
      ]
    },
    {
      "cell_type": "code",
      "metadata": {
        "colab": {
          "base_uri": "https://localhost:8080/"
        },
        "id": "-SZ0df5rQUQW",
        "outputId": "f61f211f-a95e-473e-9720-1a2c9f3c8770"
      },
      "source": [
        "dataset= tf.data.Dataset.from_tensor_slices([[1,2,3],[3,4,5],[5,6,7]])\n",
        "list(dataset)"
      ],
      "execution_count": null,
      "outputs": [
        {
          "output_type": "execute_result",
          "data": {
            "text/plain": [
              "[<tf.Tensor: shape=(3,), dtype=int32, numpy=array([1, 2, 3], dtype=int32)>,\n",
              " <tf.Tensor: shape=(3,), dtype=int32, numpy=array([3, 4, 5], dtype=int32)>,\n",
              " <tf.Tensor: shape=(3,), dtype=int32, numpy=array([5, 6, 7], dtype=int32)>]"
            ]
          },
          "metadata": {
            "tags": []
          },
          "execution_count": 146
        }
      ]
    },
    {
      "cell_type": "code",
      "metadata": {
        "colab": {
          "base_uri": "https://localhost:8080/"
        },
        "id": "kgKyDuL7RPrs",
        "outputId": "9052f118-e383-4842-d7ae-cb61eb2365c5"
      },
      "source": [
        "dataset.element_spec"
      ],
      "execution_count": null,
      "outputs": [
        {
          "output_type": "execute_result",
          "data": {
            "text/plain": [
              "TensorSpec(shape=(3,), dtype=tf.int32, name=None)"
            ]
          },
          "metadata": {
            "tags": []
          },
          "execution_count": 147
        }
      ]
    },
    {
      "cell_type": "code",
      "metadata": {
        "colab": {
          "base_uri": "https://localhost:8080/"
        },
        "id": "m1q4V7BvSKRa",
        "outputId": "d2de0a81-676e-4537-e925-8d73c0a967fb"
      },
      "source": [
        "dataset=dataset.flat_map(lambda x: tf.data.Dataset.from_tensor_slices(x))\n",
        "list(dataset.as_numpy_iterator())"
      ],
      "execution_count": null,
      "outputs": [
        {
          "output_type": "execute_result",
          "data": {
            "text/plain": [
              "[1, 2, 3, 3, 4, 5, 5, 6, 7]"
            ]
          },
          "metadata": {
            "tags": []
          },
          "execution_count": 148
        }
      ]
    },
    {
      "cell_type": "code",
      "metadata": {
        "colab": {
          "base_uri": "https://localhost:8080/"
        },
        "id": "oZEOUomjUJSy",
        "outputId": "655c15a6-75c6-4dcb-896c-3d9194208592"
      },
      "source": [
        "# Slicing a tuple of 1D tensors produces tuple elements containing\n",
        "# scalar tensors.\n",
        "dataset = tf.data.Dataset.from_tensor_slices(([1, 2], [3, 4], [5, 6]))\n",
        "list(dataset.as_numpy_iterator())"
      ],
      "execution_count": null,
      "outputs": [
        {
          "output_type": "execute_result",
          "data": {
            "text/plain": [
              "[(1, 3, 5), (2, 4, 6)]"
            ]
          },
          "metadata": {
            "tags": []
          },
          "execution_count": 149
        }
      ]
    },
    {
      "cell_type": "code",
      "metadata": {
        "colab": {
          "base_uri": "https://localhost:8080/"
        },
        "id": "jT2WltUPWAPB",
        "outputId": "efc38d00-91ba-4245-8434-275e9ec48f77"
      },
      "source": [
        "dataset=tf.data.Dataset.from_tensors([1,2,3,4])\n",
        "list(dataset.as_numpy_iterator())\n"
      ],
      "execution_count": null,
      "outputs": [
        {
          "output_type": "execute_result",
          "data": {
            "text/plain": [
              "[array([1, 2, 3, 4], dtype=int32)]"
            ]
          },
          "metadata": {
            "tags": []
          },
          "execution_count": 150
        }
      ]
    },
    {
      "cell_type": "code",
      "metadata": {
        "colab": {
          "base_uri": "https://localhost:8080/"
        },
        "id": "hJE6rnIYWNLq",
        "outputId": "f340d2eb-5df6-4f41-d1c9-2330a7a0c188"
      },
      "source": [
        "dataset=tf.data.Dataset.from_tensors([1,2,3,4]).repeat(2)\n",
        "list(dataset.as_numpy_iterator())"
      ],
      "execution_count": null,
      "outputs": [
        {
          "output_type": "execute_result",
          "data": {
            "text/plain": [
              "[array([1, 2, 3, 4], dtype=int32), array([1, 2, 3, 4], dtype=int32)]"
            ]
          },
          "metadata": {
            "tags": []
          },
          "execution_count": 151
        }
      ]
    },
    {
      "cell_type": "code",
      "metadata": {
        "colab": {
          "base_uri": "https://localhost:8080/"
        },
        "id": "A4-bTgxWZtAG",
        "outputId": "60231dff-7b84-46a5-97b1-2170bf3a4e5f"
      },
      "source": [
        "### Note that irrespective of the context in which map_func is defined \n",
        "### (eager vs. graph), tf.data traces the function and executes it as a graph.\n",
        "dataset=tf.data.Dataset.range(1,8)\n",
        "dataset=dataset.map(lambda x: x+1)\n",
        "list(dataset.as_numpy_iterator())"
      ],
      "execution_count": null,
      "outputs": [
        {
          "output_type": "execute_result",
          "data": {
            "text/plain": [
              "[2, 3, 4, 5, 6, 7, 8]"
            ]
          },
          "metadata": {
            "tags": []
          },
          "execution_count": 152
        }
      ]
    },
    {
      "cell_type": "code",
      "metadata": {
        "colab": {
          "base_uri": "https://localhost:8080/"
        },
        "id": "8EZfuKsGYhQ1",
        "outputId": "7687e093-8e5f-4e63-81d4-4e44bd6b3a7e"
      },
      "source": [
        "dataset=tf.data.Dataset.range(1,8)\n",
        "dataset=dataset.map(lambda x: (x-1,x))\n",
        "list(dataset.as_numpy_iterator())\n"
      ],
      "execution_count": null,
      "outputs": [
        {
          "output_type": "execute_result",
          "data": {
            "text/plain": [
              "[(0, 1), (1, 2), (2, 3), (3, 4), (4, 5), (5, 6), (6, 7)]"
            ]
          },
          "metadata": {
            "tags": []
          },
          "execution_count": 153
        }
      ]
    },
    {
      "cell_type": "code",
      "metadata": {
        "colab": {
          "base_uri": "https://localhost:8080/"
        },
        "id": "-DhxuQXFbV4m",
        "outputId": "22c609e4-0b29-4ed5-9010-7ad0fea82873"
      },
      "source": [
        "### tf.py_function and tf.numpy_function\n",
        "d = tf.data.Dataset.from_tensor_slices(['hällö', 'wörld'])\n",
        "# transform a string tensor to upper case string using a Python function\n",
        "def up_trans(t:tf.Tensor):\n",
        "  return t.numpy().decode('utf-8').upper()\n",
        "d=d.map(lambda x: tf.py_function(func=up_trans, inp=[x], Tout=tf.string))\n",
        "list(d.as_numpy_iterator())\n"
      ],
      "execution_count": null,
      "outputs": [
        {
          "output_type": "execute_result",
          "data": {
            "text/plain": [
              "[b'H\\xc3\\x84LL\\xc3\\x96', b'W\\xc3\\x96RLD']"
            ]
          },
          "metadata": {
            "tags": []
          },
          "execution_count": 154
        }
      ]
    },
    {
      "cell_type": "code",
      "metadata": {
        "colab": {
          "base_uri": "https://localhost:8080/"
        },
        "id": "GHxjIkkueijR",
        "outputId": "ce33c0c6-2c8e-462f-b9b3-29b7bd300a65"
      },
      "source": [
        "d = tf.data.Dataset.from_tensor_slices(['hällö', 'wörld'])\n",
        "list(d)"
      ],
      "execution_count": null,
      "outputs": [
        {
          "output_type": "execute_result",
          "data": {
            "text/plain": [
              "[<tf.Tensor: shape=(), dtype=string, numpy=b'h\\xc3\\xa4ll\\xc3\\xb6'>,\n",
              " <tf.Tensor: shape=(), dtype=string, numpy=b'w\\xc3\\xb6rld'>]"
            ]
          },
          "metadata": {
            "tags": []
          },
          "execution_count": 155
        }
      ]
    },
    {
      "cell_type": "code",
      "metadata": {
        "colab": {
          "base_uri": "https://localhost:8080/"
        },
        "id": "a5ECluzSexaz",
        "outputId": "89b36788-c68f-4d6d-e495-a8908359a2c4"
      },
      "source": [
        "import numpy as np\n",
        "d = tf.data.Dataset.from_tensor_slices(['hällö', 'wörld'])\n",
        "def upper_case_fn(t: np.ndarray):\n",
        "  return t.decode('utf-8').upper()\n",
        "d = d.map(lambda x: tf.numpy_function(func=upper_case_fn,\n",
        "          inp=[x], Tout=tf.string))\n",
        "list(d.as_numpy_iterator())"
      ],
      "execution_count": null,
      "outputs": [
        {
          "output_type": "execute_result",
          "data": {
            "text/plain": [
              "[b'H\\xc3\\x84LL\\xc3\\x96', b'W\\xc3\\x96RLD']"
            ]
          },
          "metadata": {
            "tags": []
          },
          "execution_count": 156
        }
      ]
    },
    {
      "cell_type": "code",
      "metadata": {
        "colab": {
          "base_uri": "https://localhost:8080/"
        },
        "id": "uhXnDKdkfLFd",
        "outputId": "298551ab-7026-4940-a8e0-5767d51c1bdf"
      },
      "source": [
        "d = tf.data.Dataset.from_tensor_slices(['hällö', 'wörld'])\n",
        "d.options()"
      ],
      "execution_count": null,
      "outputs": [
        {
          "output_type": "execute_result",
          "data": {
            "text/plain": [
              "<tensorflow.python.data.ops.dataset_ops.Options at 0x7f57a8d0e710>"
            ]
          },
          "metadata": {
            "tags": []
          },
          "execution_count": 157
        }
      ]
    },
    {
      "cell_type": "code",
      "metadata": {
        "colab": {
          "base_uri": "https://localhost:8080/"
        },
        "id": "Pul1z7C_gzo6",
        "outputId": "f7d6864a-9ec6-4b46-c665-1e56e5191135"
      },
      "source": [
        "dataset = tf.data.Dataset.range(3)\n",
        "dataset = dataset.prefetch(2)\n",
        "list(dataset.as_numpy_iterator())"
      ],
      "execution_count": null,
      "outputs": [
        {
          "output_type": "execute_result",
          "data": {
            "text/plain": [
              "[0, 1, 2]"
            ]
          },
          "metadata": {
            "tags": []
          },
          "execution_count": 158
        }
      ]
    },
    {
      "cell_type": "code",
      "metadata": {
        "colab": {
          "base_uri": "https://localhost:8080/"
        },
        "id": "lmTlIgqYhHeg",
        "outputId": "bffb4cb7-9d72-4bf9-c71b-f92f16d9b613"
      },
      "source": [
        "print(list(tf.data.Dataset.range(1, 5, -2).as_numpy_iterator()))\n",
        "print(list(tf.data.Dataset.range(5, 1).as_numpy_iterator()))\n",
        "list(tf.data.Dataset.range(5, 1, -2).as_numpy_iterator())"
      ],
      "execution_count": null,
      "outputs": [
        {
          "output_type": "stream",
          "text": [
            "[]\n",
            "[]\n"
          ],
          "name": "stdout"
        },
        {
          "output_type": "execute_result",
          "data": {
            "text/plain": [
              "[5, 3]"
            ]
          },
          "metadata": {
            "tags": []
          },
          "execution_count": 159
        }
      ]
    },
    {
      "cell_type": "code",
      "metadata": {
        "colab": {
          "base_uri": "https://localhost:8080/"
        },
        "id": "c_OXiSksibWh",
        "outputId": "ef0b68cf-0df2-490c-be2d-39c490482de5"
      },
      "source": [
        "tf.data.Dataset.range(5).reduce(np.int64(0), lambda x, y: x+y).numpy()"
      ],
      "execution_count": null,
      "outputs": [
        {
          "output_type": "execute_result",
          "data": {
            "text/plain": [
              "10"
            ]
          },
          "metadata": {
            "tags": []
          },
          "execution_count": 160
        }
      ]
    },
    {
      "cell_type": "code",
      "metadata": {
        "colab": {
          "base_uri": "https://localhost:8080/"
        },
        "id": "NBe-SS4FjpWd",
        "outputId": "1f87fb02-e14a-45a8-a4f7-55e3d4ffed04"
      },
      "source": [
        "### Repeats this dataset so each original value is seen count times.\n",
        "dataset = tf.data.Dataset.from_tensor_slices([1, 2, 3])\n",
        "dataset = dataset.repeat(3)\n",
        "list(dataset.as_numpy_iterator())"
      ],
      "execution_count": null,
      "outputs": [
        {
          "output_type": "execute_result",
          "data": {
            "text/plain": [
              "[1, 2, 3, 1, 2, 3, 1, 2, 3]"
            ]
          },
          "metadata": {
            "tags": []
          },
          "execution_count": 161
        }
      ]
    },
    {
      "cell_type": "code",
      "metadata": {
        "colab": {
          "base_uri": "https://localhost:8080/"
        },
        "id": "fjIfuXbSkrbC",
        "outputId": "6fc648fb-a71f-477f-daac-83469f66a5e5"
      },
      "source": [
        "dataset = tf.data.Dataset.range(3)\n",
        "dataset = dataset.shuffle(3, reshuffle_each_iteration=True)\n",
        "list(dataset.as_numpy_iterator())  # doctest: +SKIP"
      ],
      "execution_count": null,
      "outputs": [
        {
          "output_type": "execute_result",
          "data": {
            "text/plain": [
              "[1, 0, 2]"
            ]
          },
          "metadata": {
            "tags": []
          },
          "execution_count": 162
        }
      ]
    },
    {
      "cell_type": "code",
      "metadata": {
        "colab": {
          "base_uri": "https://localhost:8080/"
        },
        "id": "zxzmMktrkvmz",
        "outputId": "67f140ed-3daa-4616-da8a-e324d8cdbc5a"
      },
      "source": [
        "list(dataset.as_numpy_iterator())  # doctest: +SKIP"
      ],
      "execution_count": null,
      "outputs": [
        {
          "output_type": "execute_result",
          "data": {
            "text/plain": [
              "[0, 1, 2]"
            ]
          },
          "metadata": {
            "tags": []
          },
          "execution_count": 163
        }
      ]
    },
    {
      "cell_type": "code",
      "metadata": {
        "colab": {
          "base_uri": "https://localhost:8080/"
        },
        "id": "hziWTdwsk0vV",
        "outputId": "a237f1f3-f9ca-4b86-8f25-f6e4fc221ee3"
      },
      "source": [
        "dataset = tf.data.Dataset.range(3)\n",
        "dataset = dataset.shuffle(3, reshuffle_each_iteration=False)\n",
        "list(dataset.as_numpy_iterator())  # doctest: +SKIP"
      ],
      "execution_count": null,
      "outputs": [
        {
          "output_type": "execute_result",
          "data": {
            "text/plain": [
              "[2, 1, 0]"
            ]
          },
          "metadata": {
            "tags": []
          },
          "execution_count": 164
        }
      ]
    },
    {
      "cell_type": "code",
      "metadata": {
        "colab": {
          "base_uri": "https://localhost:8080/"
        },
        "id": "PXHSeyO4k4nD",
        "outputId": "c94e7b6e-0820-421e-ffa1-544af27813bd"
      },
      "source": [
        "list(dataset.as_numpy_iterator())  # doctest: +SKIP"
      ],
      "execution_count": null,
      "outputs": [
        {
          "output_type": "execute_result",
          "data": {
            "text/plain": [
              "[2, 1, 0]"
            ]
          },
          "metadata": {
            "tags": []
          },
          "execution_count": 165
        }
      ]
    },
    {
      "cell_type": "code",
      "metadata": {
        "colab": {
          "base_uri": "https://localhost:8080/"
        },
        "id": "b73W6aB-lB5L",
        "outputId": "dad2ecbf-a409-483f-b316-25342c05b802"
      },
      "source": [
        "dataset = tf.data.Dataset.range(10)\n",
        "dataset = dataset.skip(7)\n",
        "list(dataset.as_numpy_iterator())"
      ],
      "execution_count": null,
      "outputs": [
        {
          "output_type": "execute_result",
          "data": {
            "text/plain": [
              "[7, 8, 9]"
            ]
          },
          "metadata": {
            "tags": []
          },
          "execution_count": 166
        }
      ]
    },
    {
      "cell_type": "code",
      "metadata": {
        "colab": {
          "base_uri": "https://localhost:8080/"
        },
        "id": "cXMbC5NblIgz",
        "outputId": "f240d306-e1f4-4cd1-e99f-4baf6515dd3c"
      },
      "source": [
        "dataset = tf.data.Dataset.range(10)\n",
        "dataset = dataset.take(3)\n",
        "list(dataset.as_numpy_iterator())"
      ],
      "execution_count": null,
      "outputs": [
        {
          "output_type": "execute_result",
          "data": {
            "text/plain": [
              "[0, 1, 2]"
            ]
          },
          "metadata": {
            "tags": []
          },
          "execution_count": 167
        }
      ]
    },
    {
      "cell_type": "code",
      "metadata": {
        "colab": {
          "base_uri": "https://localhost:8080/"
        },
        "id": "YxqHuBTflwhI",
        "outputId": "a483e87f-135e-4d3a-f686-65df6084547b"
      },
      "source": [
        "# The nested structure of the `datasets` argument determines the\n",
        "# structure of elements in the resulting dataset.\n",
        "a = tf.data.Dataset.range(1, 4)  # ==> [ 1, 2, 3 ]\n",
        "b = tf.data.Dataset.range(4, 7)  # ==> [ 4, 5, 6 ]\n",
        "ds = tf.data.Dataset.zip((a, b))\n",
        "list(ds.as_numpy_iterator())"
      ],
      "execution_count": null,
      "outputs": [
        {
          "output_type": "execute_result",
          "data": {
            "text/plain": [
              "[(1, 4), (2, 5), (3, 6)]"
            ]
          },
          "metadata": {
            "tags": []
          },
          "execution_count": 168
        }
      ]
    },
    {
      "cell_type": "code",
      "metadata": {
        "colab": {
          "base_uri": "https://localhost:8080/"
        },
        "id": "d5mKOPe9l1IL",
        "outputId": "593bf92c-d1bf-4dd9-b947-d6f59a9a8a07"
      },
      "source": [
        "ds = tf.data.Dataset.zip((b, a))\n",
        "list(ds.as_numpy_iterator())"
      ],
      "execution_count": null,
      "outputs": [
        {
          "output_type": "execute_result",
          "data": {
            "text/plain": [
              "[(4, 1), (5, 2), (6, 3)]"
            ]
          },
          "metadata": {
            "tags": []
          },
          "execution_count": 169
        }
      ]
    }
  ]
}