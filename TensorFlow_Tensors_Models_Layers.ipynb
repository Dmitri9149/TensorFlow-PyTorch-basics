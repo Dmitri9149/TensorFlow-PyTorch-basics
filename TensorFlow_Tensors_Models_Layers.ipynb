{
  "nbformat": 4,
  "nbformat_minor": 0,
  "metadata": {
    "colab": {
      "name": "TensorFlow_Tensors_Models_Layers.ipynb",
      "provenance": [],
      "collapsed_sections": [],
      "authorship_tag": "ABX9TyO9pTQ7/YkuzNaZA0JoJu7a",
      "include_colab_link": true
    },
    "kernelspec": {
      "name": "python3",
      "display_name": "Python 3"
    }
  },
  "cells": [
    {
      "cell_type": "markdown",
      "metadata": {
        "id": "view-in-github",
        "colab_type": "text"
      },
      "source": [
        "<a href=\"https://colab.research.google.com/github/Dmitri9149/TensorFlow-PyTorch-basics/blob/master/TensorFlow_Tensors_Models_Layers.ipynb\" target=\"_parent\"><img src=\"https://colab.research.google.com/assets/colab-badge.svg\" alt=\"Open In Colab\"/></a>"
      ]
    },
    {
      "cell_type": "code",
      "metadata": {
        "id": "tEO859bVE84h"
      },
      "source": [
        "import tensorflow as tf\n"
      ],
      "execution_count": null,
      "outputs": []
    },
    {
      "cell_type": "code",
      "metadata": {
        "id": "r_Ixeg1DGJ4m"
      },
      "source": [
        "### basing on https://www.tensorflow.org/tutorials"
      ],
      "execution_count": null,
      "outputs": []
    },
    {
      "cell_type": "code",
      "metadata": {
        "colab": {
          "base_uri": "https://localhost:8080/"
        },
        "id": "JKe-YQIURPKa",
        "outputId": "1d2ed755-dc68-4d4e-aa1b-64cea7fcad20"
      },
      "source": [
        "print(tf.add([1, 2], [3, 4]))\n",
        "print(tf.reduce_logsumexp([1.,2.,3.,4.,5.]))"
      ],
      "execution_count": null,
      "outputs": [
        {
          "output_type": "stream",
          "text": [
            "tf.Tensor([4 6], shape=(2,), dtype=int32)\n",
            "tf.Tensor(5.4519143, shape=(), dtype=float32)\n"
          ],
          "name": "stdout"
        }
      ]
    },
    {
      "cell_type": "code",
      "metadata": {
        "colab": {
          "base_uri": "https://localhost:8080/"
        },
        "id": "_AmdEfK3R8Hq",
        "outputId": "e5e77021-8cca-4d97-b2da-f35eaf68c597"
      },
      "source": [
        "x = tf.matmul([[2]], [[3,4]])\n",
        "print(x.shape)\n",
        "print(x.dtype)"
      ],
      "execution_count": null,
      "outputs": [
        {
          "output_type": "stream",
          "text": [
            "(1, 2)\n",
            "<dtype: 'int32'>\n"
          ],
          "name": "stdout"
        }
      ]
    },
    {
      "cell_type": "code",
      "metadata": {
        "colab": {
          "base_uri": "https://localhost:8080/"
        },
        "id": "6Lc0J8ppSjoX",
        "outputId": "8aadf893-dee0-4382-9147-3a0294651820"
      },
      "source": [
        "x = tf.convert_to_tensor([1,2,3,4,5])\n",
        "print(x.shape)\n",
        "print(x.dtype)\n",
        "print(x)\n",
        "x.shape"
      ],
      "execution_count": null,
      "outputs": [
        {
          "output_type": "stream",
          "text": [
            "(5,)\n",
            "<dtype: 'int32'>\n",
            "tf.Tensor([1 2 3 4 5], shape=(5,), dtype=int32)\n"
          ],
          "name": "stdout"
        },
        {
          "output_type": "execute_result",
          "data": {
            "text/plain": [
              "TensorShape([5])"
            ]
          },
          "metadata": {
            "tags": []
          },
          "execution_count": 136
        }
      ]
    },
    {
      "cell_type": "code",
      "metadata": {
        "colab": {
          "base_uri": "https://localhost:8080/"
        },
        "id": "yG3iHCxUT8hj",
        "outputId": "1a5ed2be-025e-4749-d2ae-ce167fd0c20d"
      },
      "source": [
        "x = tf.convert_to_tensor([[1,2,3,4,5]])\n",
        "print(x.shape)\n",
        "print(x.dtype)\n",
        "print(x)\n",
        "x.shape"
      ],
      "execution_count": null,
      "outputs": [
        {
          "output_type": "stream",
          "text": [
            "(1, 5)\n",
            "<dtype: 'int32'>\n",
            "tf.Tensor([[1 2 3 4 5]], shape=(1, 5), dtype=int32)\n"
          ],
          "name": "stdout"
        },
        {
          "output_type": "execute_result",
          "data": {
            "text/plain": [
              "TensorShape([1, 5])"
            ]
          },
          "metadata": {
            "tags": []
          },
          "execution_count": 137
        }
      ]
    },
    {
      "cell_type": "code",
      "metadata": {
        "id": "Hvwpqn_DUiKw"
      },
      "source": [
        "import numpy as np"
      ],
      "execution_count": null,
      "outputs": []
    },
    {
      "cell_type": "code",
      "metadata": {
        "id": "FWeE5SHHUmMa"
      },
      "source": [
        "array = np.ones([4,6])"
      ],
      "execution_count": null,
      "outputs": []
    },
    {
      "cell_type": "code",
      "metadata": {
        "colab": {
          "base_uri": "https://localhost:8080/"
        },
        "id": "pdTJfpqLU31P",
        "outputId": "db7c1950-9e7f-4f52-9bbd-481837a6ca7b"
      },
      "source": [
        "print(tf.multiply(array,10))"
      ],
      "execution_count": null,
      "outputs": [
        {
          "output_type": "stream",
          "text": [
            "tf.Tensor(\n",
            "[[10. 10. 10. 10. 10. 10.]\n",
            " [10. 10. 10. 10. 10. 10.]\n",
            " [10. 10. 10. 10. 10. 10.]\n",
            " [10. 10. 10. 10. 10. 10.]], shape=(4, 6), dtype=float64)\n"
          ],
          "name": "stdout"
        }
      ]
    },
    {
      "cell_type": "code",
      "metadata": {
        "colab": {
          "base_uri": "https://localhost:8080/"
        },
        "id": "YCa_vDExU_Yo",
        "outputId": "922f80e5-0425-49e9-cbc9-57982d6f7937"
      },
      "source": [
        "tensor = tf.add(np.ones([2,3]), 5)\n",
        "print(tensor.numpy())"
      ],
      "execution_count": null,
      "outputs": [
        {
          "output_type": "stream",
          "text": [
            "[[6. 6. 6.]\n",
            " [6. 6. 6.]]\n"
          ],
          "name": "stdout"
        }
      ]
    },
    {
      "cell_type": "code",
      "metadata": {
        "colab": {
          "base_uri": "https://localhost:8080/"
        },
        "id": "HpM-_VKJXVO3",
        "outputId": "d57e1586-50f8-401f-acd5-868b54bd1c61"
      },
      "source": [
        "tf.random.uniform([3,4])\n",
        "print(tf.config.experimental.list_physical_devices())\n",
        "print(x.device.endswith('GPU:0'))"
      ],
      "execution_count": null,
      "outputs": [
        {
          "output_type": "stream",
          "text": [
            "[PhysicalDevice(name='/physical_device:CPU:0', device_type='CPU'), PhysicalDevice(name='/physical_device:XLA_CPU:0', device_type='XLA_CPU')]\n",
            "False\n"
          ],
          "name": "stdout"
        }
      ]
    },
    {
      "cell_type": "code",
      "metadata": {
        "colab": {
          "base_uri": "https://localhost:8080/"
        },
        "id": "8T8Mp8dIYauN",
        "outputId": "6e6f744d-9200-43ed-ec9d-044bdbc7e9c2"
      },
      "source": [
        "import time\n",
        "\n",
        "def time_mult(x):\n",
        "  start = time.time()\n",
        "  for loop in range(100):\n",
        "    x=tf.matmul(x,x)\n",
        "\n",
        "  result = time.time() - start\n",
        "  print('1000 loops with time {:10.2}'.format(result*1000))\n",
        "\n",
        "# execute on CPU\n",
        "print('On CPU')\n",
        "with tf.device('CPU'):\n",
        "  x=tf.random.uniform([1000,1000])\n",
        "  assert x.device.endswith('CPU:0')\n",
        "  time_mult(x)\n",
        "\n",
        "\n",
        "# execute on GPU\n",
        "if tf.config.experimental.list_physical_devices('GPU'):\n",
        "  print('On GPU')\n",
        "  with tf.device('CPU'):\n",
        "    x=tf.random.uniform([1000,1000])\n",
        "    assert x.device.endswith('GPU:0')\n",
        "    time_mult(x)\n",
        "\n",
        "\n",
        "\n",
        "\n",
        "\n"
      ],
      "execution_count": null,
      "outputs": [
        {
          "output_type": "stream",
          "text": [
            "On CPU\n",
            "1000 loops with time    3.3e+03\n"
          ],
          "name": "stdout"
        }
      ]
    },
    {
      "cell_type": "code",
      "metadata": {
        "id": "rRr3M8vafRm_"
      },
      "source": [
        "#### Datasets\n",
        "ds_tensors = tf.data.Dataset.from_tensor_slices([1,2,3,4,5,6])\n",
        "\n",
        "## Create a CSV file\n",
        "\n",
        "import tempfile\n",
        "\n",
        "_, filename = tempfile.mkstemp()\n",
        "\n",
        "with open(filename, 'w') as f:\n",
        "  f.write(\"\"\" Line1\n",
        "  Line2\n",
        "  Line3\n",
        "  Line4\n",
        "  Line5\n",
        "  Line6\n",
        "  Line7\n",
        "  \"\"\")\n",
        "\n",
        "ds_file = tf.data.TextLineDataset(filename)\n",
        "\n"
      ],
      "execution_count": null,
      "outputs": []
    },
    {
      "cell_type": "code",
      "metadata": {
        "id": "LUgPfSPWhmAL"
      },
      "source": [
        "ds_tensors = ds_tensors.map(tf.square).shuffle(2).batch(2)\n",
        "ds_file = ds_file.batch(3)"
      ],
      "execution_count": null,
      "outputs": []
    },
    {
      "cell_type": "code",
      "metadata": {
        "colab": {
          "base_uri": "https://localhost:8080/"
        },
        "id": "ofgto3uWh_f0",
        "outputId": "3e0ab6dc-7b12-4268-84b6-437132039544"
      },
      "source": [
        "for x in ds_tensors:\n",
        "  print(x)"
      ],
      "execution_count": null,
      "outputs": [
        {
          "output_type": "stream",
          "text": [
            "tf.Tensor([4 1], shape=(2,), dtype=int32)\n",
            "tf.Tensor([ 9 25], shape=(2,), dtype=int32)\n",
            "tf.Tensor([36 16], shape=(2,), dtype=int32)\n"
          ],
          "name": "stdout"
        }
      ]
    },
    {
      "cell_type": "code",
      "metadata": {
        "colab": {
          "base_uri": "https://localhost:8080/"
        },
        "id": "PbjS3pyxiMJ-",
        "outputId": "42e3931f-3bfb-462f-a1f0-5e78860dd11a"
      },
      "source": [
        "for x in ds_file:\n",
        "  print(x)"
      ],
      "execution_count": null,
      "outputs": [
        {
          "output_type": "stream",
          "text": [
            "tf.Tensor([b' Line1' b'  Line2' b'  Line3'], shape=(3,), dtype=string)\n",
            "tf.Tensor([b'  Line4' b'  Line5' b'  Line6'], shape=(3,), dtype=string)\n",
            "tf.Tensor([b'  Line7' b'  '], shape=(2,), dtype=string)\n"
          ],
          "name": "stdout"
        }
      ]
    },
    {
      "cell_type": "code",
      "metadata": {
        "id": "J94lrSEDiXHZ"
      },
      "source": [
        "######## Layers"
      ],
      "execution_count": null,
      "outputs": []
    },
    {
      "cell_type": "code",
      "metadata": {
        "id": "DKZ07yGLoY9e"
      },
      "source": [
        "layer = tf.keras.layers.Dense(10, input_shape =(None, 5))"
      ],
      "execution_count": null,
      "outputs": []
    },
    {
      "cell_type": "code",
      "metadata": {
        "colab": {
          "base_uri": "https://localhost:8080/"
        },
        "id": "cb7q6zlAoxIk",
        "outputId": "e3e892e7-6a94-4b8b-f51e-13b4df4d536a"
      },
      "source": [
        "### in the result 7 is batch size abd 10 is the output dimention \n",
        "layer(tf.zeros([7,5]))"
      ],
      "execution_count": null,
      "outputs": [
        {
          "output_type": "execute_result",
          "data": {
            "text/plain": [
              "<tf.Tensor: shape=(7, 10), dtype=float32, numpy=\n",
              "array([[0., 0., 0., 0., 0., 0., 0., 0., 0., 0.],\n",
              "       [0., 0., 0., 0., 0., 0., 0., 0., 0., 0.],\n",
              "       [0., 0., 0., 0., 0., 0., 0., 0., 0., 0.],\n",
              "       [0., 0., 0., 0., 0., 0., 0., 0., 0., 0.],\n",
              "       [0., 0., 0., 0., 0., 0., 0., 0., 0., 0.],\n",
              "       [0., 0., 0., 0., 0., 0., 0., 0., 0., 0.],\n",
              "       [0., 0., 0., 0., 0., 0., 0., 0., 0., 0.]], dtype=float32)>"
            ]
          },
          "metadata": {
            "tags": []
          },
          "execution_count": 150
        }
      ]
    },
    {
      "cell_type": "code",
      "metadata": {
        "colab": {
          "base_uri": "https://localhost:8080/"
        },
        "id": "h-RNX8-1qLCS",
        "outputId": "8c8c739f-ba71-4e0a-8af5-de422f5ade2f"
      },
      "source": [
        "layer.variables"
      ],
      "execution_count": null,
      "outputs": [
        {
          "output_type": "execute_result",
          "data": {
            "text/plain": [
              "[<tf.Variable 'dense_2/kernel:0' shape=(5, 10) dtype=float32, numpy=\n",
              " array([[-0.2738239 , -0.20546424, -0.60897404, -0.3014058 , -0.0491333 ,\n",
              "          0.5836747 ,  0.19301206,  0.20641315, -0.3399754 ,  0.12718248],\n",
              "        [ 0.40244645,  0.11178511,  0.3685543 ,  0.0652442 ,  0.37434798,\n",
              "         -0.07283461,  0.2242375 , -0.2978989 , -0.48586088,  0.13517088],\n",
              "        [-0.17718917,  0.3749066 , -0.09735745,  0.34146547,  0.2566344 ,\n",
              "          0.50554806, -0.46402782,  0.05010617,  0.51790565,  0.46498066],\n",
              "        [-0.47309732,  0.40424985,  0.33884114,  0.28004694,  0.50177723,\n",
              "         -0.46575403,  0.32815802, -0.32384336, -0.58772904,  0.20688558],\n",
              "        [-0.4555123 , -0.4154502 , -0.10926872, -0.40989977,  0.50052315,\n",
              "         -0.4582755 ,  0.38584608, -0.48580718, -0.12694865,  0.12728053]],\n",
              "       dtype=float32)>,\n",
              " <tf.Variable 'dense_2/bias:0' shape=(10,) dtype=float32, numpy=array([0., 0., 0., 0., 0., 0., 0., 0., 0., 0.], dtype=float32)>]"
            ]
          },
          "metadata": {
            "tags": []
          },
          "execution_count": 151
        }
      ]
    },
    {
      "cell_type": "code",
      "metadata": {
        "colab": {
          "base_uri": "https://localhost:8080/"
        },
        "id": "iD7nNWJgqWWK",
        "outputId": "68d5bb2d-7e18-4d03-bd54-081774ce092e"
      },
      "source": [
        "layer.kernel"
      ],
      "execution_count": null,
      "outputs": [
        {
          "output_type": "execute_result",
          "data": {
            "text/plain": [
              "<tf.Variable 'dense_2/kernel:0' shape=(5, 10) dtype=float32, numpy=\n",
              "array([[-0.2738239 , -0.20546424, -0.60897404, -0.3014058 , -0.0491333 ,\n",
              "         0.5836747 ,  0.19301206,  0.20641315, -0.3399754 ,  0.12718248],\n",
              "       [ 0.40244645,  0.11178511,  0.3685543 ,  0.0652442 ,  0.37434798,\n",
              "        -0.07283461,  0.2242375 , -0.2978989 , -0.48586088,  0.13517088],\n",
              "       [-0.17718917,  0.3749066 , -0.09735745,  0.34146547,  0.2566344 ,\n",
              "         0.50554806, -0.46402782,  0.05010617,  0.51790565,  0.46498066],\n",
              "       [-0.47309732,  0.40424985,  0.33884114,  0.28004694,  0.50177723,\n",
              "        -0.46575403,  0.32815802, -0.32384336, -0.58772904,  0.20688558],\n",
              "       [-0.4555123 , -0.4154502 , -0.10926872, -0.40989977,  0.50052315,\n",
              "        -0.4582755 ,  0.38584608, -0.48580718, -0.12694865,  0.12728053]],\n",
              "      dtype=float32)>"
            ]
          },
          "metadata": {
            "tags": []
          },
          "execution_count": 152
        }
      ]
    },
    {
      "cell_type": "code",
      "metadata": {
        "colab": {
          "base_uri": "https://localhost:8080/"
        },
        "id": "KAXxwLCLqZky",
        "outputId": "aee8443f-8d84-4c6a-c081-951df7104ab4"
      },
      "source": [
        "layer.bias"
      ],
      "execution_count": null,
      "outputs": [
        {
          "output_type": "execute_result",
          "data": {
            "text/plain": [
              "<tf.Variable 'dense_2/bias:0' shape=(10,) dtype=float32, numpy=array([0., 0., 0., 0., 0., 0., 0., 0., 0., 0.], dtype=float32)>"
            ]
          },
          "metadata": {
            "tags": []
          },
          "execution_count": 153
        }
      ]
    },
    {
      "cell_type": "code",
      "metadata": {
        "id": "m6LvPzXGys7v"
      },
      "source": [
        "#### Custom Layer"
      ],
      "execution_count": null,
      "outputs": []
    },
    {
      "cell_type": "code",
      "metadata": {
        "id": "3A81k0-LyviT"
      },
      "source": [
        "class MyDenseLayer(tf.keras.layers.Layer):\n",
        "  def __init__(self, num_outputs):\n",
        "    super(MyDenseLayer, self).__init__()\n",
        "    self.num_outputs = num_outputs\n",
        "\n",
        "  def build(self, input_shape):\n",
        "    self.kernel = self.add_weight(\"kernel\",\n",
        "                                  shape=[int(input_shape[-1]),\n",
        "                                         self.num_outputs])\n",
        "\n",
        "  def call(self, input):\n",
        "    return tf.matmul(input, self.kernel)\n",
        "\n",
        "layer = MyDenseLayer(10)"
      ],
      "execution_count": null,
      "outputs": []
    },
    {
      "cell_type": "code",
      "metadata": {
        "id": "muVFYS-a2sY7"
      },
      "source": [
        "layer = MyDenseLayer(10)"
      ],
      "execution_count": null,
      "outputs": []
    },
    {
      "cell_type": "code",
      "metadata": {
        "colab": {
          "base_uri": "https://localhost:8080/"
        },
        "id": "K6ENjlPrFSsU",
        "outputId": "fee1f3e2-4e2f-4a63-9c2a-a37d159e4ea5"
      },
      "source": [
        "layer.trainable_variables"
      ],
      "execution_count": null,
      "outputs": [
        {
          "output_type": "execute_result",
          "data": {
            "text/plain": [
              "[]"
            ]
          },
          "metadata": {
            "tags": []
          },
          "execution_count": 157
        }
      ]
    },
    {
      "cell_type": "code",
      "metadata": {
        "id": "MT8LkCXo7CPm"
      },
      "source": [
        "xx = layer(tf.zeros([10, 5])) # Calling the layer `.builds` it."
      ],
      "execution_count": null,
      "outputs": []
    },
    {
      "cell_type": "code",
      "metadata": {
        "colab": {
          "base_uri": "https://localhost:8080/"
        },
        "id": "FrK_Dlog7It1",
        "outputId": "d2e8d543-5e31-44af-ffad-d9c7652bd609"
      },
      "source": [
        "layer.trainable_variables"
      ],
      "execution_count": null,
      "outputs": [
        {
          "output_type": "execute_result",
          "data": {
            "text/plain": [
              "[<tf.Variable 'my_dense_layer_7/kernel:0' shape=(5, 10) dtype=float32, numpy=\n",
              " array([[-0.11522007, -0.1855245 , -0.353973  , -0.07279921, -0.15556827,\n",
              "          0.4458229 , -0.17800191, -0.1662826 ,  0.00814772,  0.52057165],\n",
              "        [-0.17124173, -0.59773254, -0.02089834,  0.54924303,  0.25403464,\n",
              "         -0.5671085 ,  0.3639536 , -0.25701693, -0.07156575, -0.13934276],\n",
              "        [ 0.6304669 ,  0.19899571, -0.5380819 , -0.38546968,  0.16092879,\n",
              "          0.20993274, -0.0415085 , -0.27472907, -0.49744117,  0.23949617],\n",
              "        [-0.3512187 ,  0.42951006, -0.00515443, -0.5235942 , -0.3807916 ,\n",
              "         -0.43796858,  0.04748201, -0.32922474,  0.50242025,  0.2028811 ],\n",
              "        [-0.17407143,  0.00988936,  0.28068238,  0.49765366, -0.19382104,\n",
              "          0.50951713, -0.16435549, -0.4622969 ,  0.35464007, -0.323334  ]],\n",
              "       dtype=float32)>]"
            ]
          },
          "metadata": {
            "tags": []
          },
          "execution_count": 159
        }
      ]
    },
    {
      "cell_type": "code",
      "metadata": {
        "colab": {
          "base_uri": "https://localhost:8080/"
        },
        "id": "eA6IsjNS83vM",
        "outputId": "85c3a39e-b63e-4815-a368-8579f8837b11"
      },
      "source": [
        "print([var.name for var in layer.trainable_variables])"
      ],
      "execution_count": null,
      "outputs": [
        {
          "output_type": "stream",
          "text": [
            "['my_dense_layer_7/kernel:0']\n"
          ],
          "name": "stdout"
        }
      ]
    },
    {
      "cell_type": "code",
      "metadata": {
        "colab": {
          "base_uri": "https://localhost:8080/"
        },
        "id": "-I9ZKYVP8p6p",
        "outputId": "3f7792a1-cb6b-45c9-ef39-74f4606d8717"
      },
      "source": [
        "print(var.name for var in layer.trainable_variables)"
      ],
      "execution_count": null,
      "outputs": [
        {
          "output_type": "stream",
          "text": [
            "<generator object <genexpr> at 0x7febe31fc258>\n"
          ],
          "name": "stdout"
        }
      ]
    },
    {
      "cell_type": "code",
      "metadata": {
        "colab": {
          "base_uri": "https://localhost:8080/"
        },
        "id": "CxvNot2BE_Ip",
        "outputId": "921e455b-2efb-4186-b659-bdb44697c630"
      },
      "source": [
        "layer.kernel"
      ],
      "execution_count": null,
      "outputs": [
        {
          "output_type": "execute_result",
          "data": {
            "text/plain": [
              "<tf.Variable 'my_dense_layer_7/kernel:0' shape=(5, 10) dtype=float32, numpy=\n",
              "array([[-0.11522007, -0.1855245 , -0.353973  , -0.07279921, -0.15556827,\n",
              "         0.4458229 , -0.17800191, -0.1662826 ,  0.00814772,  0.52057165],\n",
              "       [-0.17124173, -0.59773254, -0.02089834,  0.54924303,  0.25403464,\n",
              "        -0.5671085 ,  0.3639536 , -0.25701693, -0.07156575, -0.13934276],\n",
              "       [ 0.6304669 ,  0.19899571, -0.5380819 , -0.38546968,  0.16092879,\n",
              "         0.20993274, -0.0415085 , -0.27472907, -0.49744117,  0.23949617],\n",
              "       [-0.3512187 ,  0.42951006, -0.00515443, -0.5235942 , -0.3807916 ,\n",
              "        -0.43796858,  0.04748201, -0.32922474,  0.50242025,  0.2028811 ],\n",
              "       [-0.17407143,  0.00988936,  0.28068238,  0.49765366, -0.19382104,\n",
              "         0.50951713, -0.16435549, -0.4622969 ,  0.35464007, -0.323334  ]],\n",
              "      dtype=float32)>"
            ]
          },
          "metadata": {
            "tags": []
          },
          "execution_count": 162
        }
      ]
    },
    {
      "cell_type": "code",
      "metadata": {
        "id": "psz5aDLfM9tD"
      },
      "source": [
        "#### Models"
      ],
      "execution_count": null,
      "outputs": []
    },
    {
      "cell_type": "code",
      "metadata": {
        "id": "MlxAR-_DNAR1"
      },
      "source": [
        "class ResnetIdentityBlock(tf.keras.Model):\n",
        "  def __init__(self, kernel_size, filters):\n",
        "    super(ResnetIdentityBlock, self).__init__(name='')\n",
        "    filters1, filters2, filters3 = filters\n",
        "\n",
        "    self.conv2a = tf.keras.layers.Conv2D(filters1, (1, 1))\n",
        "    self.bn2a = tf.keras.layers.BatchNormalization()\n",
        "\n",
        "    self.conv2b = tf.keras.layers.Conv2D(filters2, kernel_size, padding='same')\n",
        "    self.bn2b = tf.keras.layers.BatchNormalization()\n",
        "\n",
        "    self.conv2c = tf.keras.layers.Conv2D(filters3, (1, 1))\n",
        "    self.bn2c = tf.keras.layers.BatchNormalization()\n",
        "\n",
        "  def call(self, input_tensor, training=False):\n",
        "    x = self.conv2a(input_tensor)\n",
        "    x = self.bn2a(x, training=training)\n",
        "    x = tf.nn.relu(x)\n",
        "\n",
        "    x = self.conv2b(x)\n",
        "    x = self.bn2b(x, training=training)\n",
        "    x = tf.nn.relu(x)\n",
        "\n",
        "    x = self.conv2c(x)\n",
        "    x = self.bn2c(x, training=training)\n",
        "\n",
        "    x += input_tensor\n",
        "    return tf.nn.relu(x)\n",
        "\n",
        "\n",
        "block = ResnetIdentityBlock(1, [1, 2, 3])"
      ],
      "execution_count": null,
      "outputs": []
    },
    {
      "cell_type": "code",
      "metadata": {
        "id": "T9byJOXEPKzn"
      },
      "source": [
        "_ = block(tf.zeros([1, 2, 3, 3]))"
      ],
      "execution_count": null,
      "outputs": []
    },
    {
      "cell_type": "code",
      "metadata": {
        "colab": {
          "base_uri": "https://localhost:8080/"
        },
        "id": "WnjG8ljcPMOA",
        "outputId": "1208bbfe-1097-4889-da5f-8df6af26b808"
      },
      "source": [
        "block.layers"
      ],
      "execution_count": null,
      "outputs": [
        {
          "output_type": "execute_result",
          "data": {
            "text/plain": [
              "[<tensorflow.python.keras.layers.convolutional.Conv2D at 0x7febe5715cc0>,\n",
              " <tensorflow.python.keras.layers.normalization_v2.BatchNormalization at 0x7febe320a400>,\n",
              " <tensorflow.python.keras.layers.convolutional.Conv2D at 0x7febe320a630>,\n",
              " <tensorflow.python.keras.layers.normalization_v2.BatchNormalization at 0x7febe320a8d0>,\n",
              " <tensorflow.python.keras.layers.convolutional.Conv2D at 0x7febe320ab00>,\n",
              " <tensorflow.python.keras.layers.normalization_v2.BatchNormalization at 0x7febe320ada0>]"
            ]
          },
          "metadata": {
            "tags": []
          },
          "execution_count": 166
        }
      ]
    },
    {
      "cell_type": "code",
      "metadata": {
        "colab": {
          "base_uri": "https://localhost:8080/"
        },
        "id": "FwLhKuc6PVFX",
        "outputId": "786888d2-aae0-41e0-e805-486e1d258034"
      },
      "source": [
        "block.summary()"
      ],
      "execution_count": null,
      "outputs": [
        {
          "output_type": "stream",
          "text": [
            "Model: \"resnet_identity_block_1\"\n",
            "_________________________________________________________________\n",
            "Layer (type)                 Output Shape              Param #   \n",
            "=================================================================\n",
            "conv2d_6 (Conv2D)            multiple                  4         \n",
            "_________________________________________________________________\n",
            "batch_normalization_6 (Batch multiple                  4         \n",
            "_________________________________________________________________\n",
            "conv2d_7 (Conv2D)            multiple                  4         \n",
            "_________________________________________________________________\n",
            "batch_normalization_7 (Batch multiple                  8         \n",
            "_________________________________________________________________\n",
            "conv2d_8 (Conv2D)            multiple                  9         \n",
            "_________________________________________________________________\n",
            "batch_normalization_8 (Batch multiple                  12        \n",
            "=================================================================\n",
            "Total params: 41\n",
            "Trainable params: 29\n",
            "Non-trainable params: 12\n",
            "_________________________________________________________________\n"
          ],
          "name": "stdout"
        }
      ]
    },
    {
      "cell_type": "code",
      "metadata": {
        "colab": {
          "base_uri": "https://localhost:8080/"
        },
        "id": "bxhIBZkPPZ0b",
        "outputId": "1a65be4d-e6f1-42a8-9c9e-226e1f46ebf4"
      },
      "source": [
        "##### using Sequantial\n",
        "my_seq = tf.keras.Sequential([tf.keras.layers.Conv2D(1, (1, 1),\n",
        "                                                    input_shape=(\n",
        "                                                        None, None, 3)),\n",
        "                             tf.keras.layers.BatchNormalization(),\n",
        "                             tf.keras.layers.Conv2D(2, 1,\n",
        "                                                    padding='same'),\n",
        "                             tf.keras.layers.BatchNormalization(),\n",
        "                             tf.keras.layers.Conv2D(3, (1, 1)),\n",
        "                             tf.keras.layers.BatchNormalization()])\n",
        "my_seq(tf.zeros([1, 2, 3, 3]))"
      ],
      "execution_count": null,
      "outputs": [
        {
          "output_type": "execute_result",
          "data": {
            "text/plain": [
              "<tf.Tensor: shape=(1, 2, 3, 3), dtype=float32, numpy=\n",
              "array([[[[0., 0., 0.],\n",
              "         [0., 0., 0.],\n",
              "         [0., 0., 0.]],\n",
              "\n",
              "        [[0., 0., 0.],\n",
              "         [0., 0., 0.],\n",
              "         [0., 0., 0.]]]], dtype=float32)>"
            ]
          },
          "metadata": {
            "tags": []
          },
          "execution_count": 168
        }
      ]
    },
    {
      "cell_type": "code",
      "metadata": {
        "colab": {
          "base_uri": "https://localhost:8080/"
        },
        "id": "dnX37VEtPmNB",
        "outputId": "31e88d51-2767-42f1-f9d5-f57e60cfd177"
      },
      "source": [
        "my_seq.summary()"
      ],
      "execution_count": null,
      "outputs": [
        {
          "output_type": "stream",
          "text": [
            "Model: \"sequential_1\"\n",
            "_________________________________________________________________\n",
            "Layer (type)                 Output Shape              Param #   \n",
            "=================================================================\n",
            "conv2d_9 (Conv2D)            (None, None, None, 1)     4         \n",
            "_________________________________________________________________\n",
            "batch_normalization_9 (Batch (None, None, None, 1)     4         \n",
            "_________________________________________________________________\n",
            "conv2d_10 (Conv2D)           (None, None, None, 2)     4         \n",
            "_________________________________________________________________\n",
            "batch_normalization_10 (Batc (None, None, None, 2)     8         \n",
            "_________________________________________________________________\n",
            "conv2d_11 (Conv2D)           (None, None, None, 3)     9         \n",
            "_________________________________________________________________\n",
            "batch_normalization_11 (Batc (None, None, None, 3)     12        \n",
            "=================================================================\n",
            "Total params: 41\n",
            "Trainable params: 29\n",
            "Non-trainable params: 12\n",
            "_________________________________________________________________\n"
          ],
          "name": "stdout"
        }
      ]
    }
  ]
}